{
  "nbformat": 4,
  "nbformat_minor": 0,
  "metadata": {
    "colab": {
      "name": "Module 1 & 2.ipynb",
      "provenance": [],
      "collapsed_sections": [],
      "authorship_tag": "ABX9TyPpKn1ESbNuHQRHshrpVrt6",
      "include_colab_link": true
    },
    "kernelspec": {
      "name": "python3",
      "display_name": "Python 3"
    },
    "language_info": {
      "name": "python"
    }
  },
  "cells": [
    {
      "cell_type": "markdown",
      "metadata": {
        "id": "view-in-github",
        "colab_type": "text"
      },
      "source": [
        "<a href=\"https://colab.research.google.com/github/parment1/Project-M1-M2/blob/main/Module_1_%26_2.ipynb\" target=\"_parent\"><img src=\"https://colab.research.google.com/assets/colab-badge.svg\" alt=\"Open In Colab\"/></a>"
      ]
    },
    {
      "cell_type": "code",
      "metadata": {
        "id": "5CPb224WUH0c"
      },
      "source": [
        "import pandas as pd\n",
        "import os\n",
        "import numpy as np\n",
        "import requests\n",
        "import matplotlib.pyplot as plt\n",
        "import seaborn as sns\n",
        "import scipy.stats\n",
        "\n",
        "pd.set_option('display.max_rows',300)\n",
        "\n"
      ],
      "execution_count": 2,
      "outputs": []
    },
    {
      "cell_type": "markdown",
      "metadata": {
        "id": "_Cf3BrF67K12"
      },
      "source": [
        "Part I : Data acquisition, formating and cleaning "
      ]
    },
    {
      "cell_type": "markdown",
      "metadata": {
        "id": "wosUaq2-UZkh"
      },
      "source": [
        "**PART I project: Data acquisition, formating and cleaning**\n",
        "\n",
        "Dataset 1: Download the time series available on NASDAQ website for the Nasdaq Composite index, max history 2011\n",
        "https://www.nasdaq.com/market-activity/index/ndx/historical\n",
        "\n",
        "Dataset 2:\n",
        "\n",
        "-**GDP**:  We use GGP in percent change from preceding Period, Quarterly, Seasonally Adjusted Annual Rate: Source: https://fred.stlouisfed.org/tags/series?t=quarterly\n",
        "\n",
        "-**CPI** (consumer price inflation): Consumer Price Index: Growth Rate Same Period Previous Year, Quarterly, Not Seasonally Adjusted. Source: https://fred.stlouisfed.org/tags/series?t=quarterly\n",
        "\n",
        "-**US Interest rates**: Effective Federal Funds Rate, Percent, Monthly, Not Seasonally Adjusted. Source: https://fred.stlouisfed.org/series/FEDFUNDS\n",
        "\n",
        "-**US Unemployment rate** Unemployment Rate, Percent, Monthly, Seasonally Adjusted. Source: https://fred.stlouisfed.org/series/UNRATE\n",
        "\n",
        "**Problem**: Do we see a relationship between the stock market and macroeconomic variables "
      ]
    },
    {
      "cell_type": "code",
      "metadata": {
        "id": "yD4EBxAyeMDr"
      },
      "source": [
        "#Open each xls/csv\n",
        "Nasdaq = pd.read_excel('/content/Nasdaq composite index.xlsx')\n",
        "#CPI = Consumer price index\n",
        "CPI = pd.read_excel('/content/Consumer price index.xls')\n",
        "#Interest_rate = fed fund rate\n",
        "Interest_rate = pd.read_excel('/content/Fed fund.xls')\n",
        "GDP = pd.read_excel('/content/GDP.xls')\n",
        "Unemployment = pd.read_excel('/content/Unemployment.xls')\n",
        "\n",
        "\n"
      ],
      "execution_count": 13,
      "outputs": []
    },
    {
      "cell_type": "code",
      "metadata": {
        "id": "JBxJ4dQu9APR"
      },
      "source": [
        ""
      ],
      "execution_count": 8,
      "outputs": []
    }
  ]
}
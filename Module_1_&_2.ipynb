{
  "nbformat": 4,
  "nbformat_minor": 0,
  "metadata": {
    "colab": {
      "name": "Module 1 & 2.ipynb",
      "provenance": [],
      "collapsed_sections": [],
      "authorship_tag": "ABX9TyMtubsy6GDemVLsOAXKlvQq",
      "include_colab_link": true
    },
    "kernelspec": {
      "name": "python3",
      "display_name": "Python 3"
    },
    "language_info": {
      "name": "python"
    }
  },
  "cells": [
    {
      "cell_type": "markdown",
      "metadata": {
        "id": "view-in-github",
        "colab_type": "text"
      },
      "source": [
        "<a href=\"https://colab.research.google.com/github/parment1/Project-M1-M2/blob/main/Module_1_%26_2.ipynb\" target=\"_parent\"><img src=\"https://colab.research.google.com/assets/colab-badge.svg\" alt=\"Open In Colab\"/></a>"
      ]
    },
    {
      "cell_type": "code",
      "metadata": {
        "id": "5CPb224WUH0c"
      },
      "source": [
        "import pandas as pd\n",
        "import os\n",
        "import numpy as np\n",
        "import requests\n",
        "import matplotlib.pyplot as plt\n",
        "import seaborn as sns\n",
        "import scipy.stats\n",
        "\n",
        "pd.set_option('display.max_rows',300)\n",
        "\n"
      ],
      "execution_count": 23,
      "outputs": []
    },
    {
      "cell_type": "markdown",
      "metadata": {
        "id": "_Cf3BrF67K12"
      },
      "source": [
        "Part I : Data acquisition, formating and cleaning "
      ]
    },
    {
      "cell_type": "markdown",
      "metadata": {
        "id": "wosUaq2-UZkh"
      },
      "source": [
        "**PART I project: Data acquisition, formating and cleaning**\n",
        "\n",
        "Dataset 1: Download the time series available on NASDAQ website for the Nasdaq Composite index, max history 2011\n",
        "https://www.nasdaq.com/market-activity/index/ndx/historical\n",
        "\n",
        "Dataset 2:\n",
        "\n",
        "-**GDP**:  We use GGP in percent change from preceding Period, Quarterly, Seasonally Adjusted Annual Rate: Source: https://fred.stlouisfed.org/tags/series?t=quarterly\n",
        "\n",
        "-**CPI** (consumer price inflation): Consumer Price Index: Growth Rate Same Period Previous Year, Quarterly, Not Seasonally Adjusted. Source: https://fred.stlouisfed.org/tags/series?t=quarterly\n",
        "\n",
        "-**US Interest rates**: Effective Federal Funds Rate, Percent, Monthly, Not Seasonally Adjusted. Source: https://fred.stlouisfed.org/series/FEDFUNDS\n",
        "\n",
        "-**US Unemployment rate** Unemployment Rate, Percent, Monthly, Seasonally Adjusted. Source: https://fred.stlouisfed.org/series/UNRATE\n",
        "\n",
        "**Problem**: Do we see a relationship between the stock market and macroeconomic variables "
      ]
    },
    {
      "cell_type": "code",
      "metadata": {
        "id": "yD4EBxAyeMDr"
      },
      "source": [
        "#Open each xls/csv\n",
        "Nasdaq = pd.read_excel('/content/Nasdaq composite index.xlsx')\n",
        "#CPI = Consumer price index\n",
        "CPI = pd.read_excel('/content/Consumer price index.xls')\n",
        "#Interest_rate = fed fund rate\n",
        "Interest_rate = pd.read_excel('/content/Fed fund.xls')\n",
        "GDP = pd.read_excel('/content/GDP.xls')\n",
        "Unemployment = pd.read_excel('/content/Unemployment.xls')"
      ],
      "execution_count": 24,
      "outputs": []
    },
    {
      "cell_type": "markdown",
      "metadata": {
        "id": "M-fPh9K3_vJG"
      },
      "source": [
        ""
      ]
    },
    {
      "cell_type": "markdown",
      "metadata": {
        "id": "p36DyuyO_UCN"
      },
      "source": [
        "Explore the strucutre of the different datasets. They all have different shape."
      ]
    },
    {
      "cell_type": "code",
      "metadata": {
        "colab": {
          "base_uri": "https://localhost:8080/"
        },
        "id": "JBxJ4dQu9APR",
        "outputId": "5e9b9985-9d74-4388-bf00-5f531fd88447"
      },
      "source": [
        "#check size of each dataset\n",
        "print([Nasdaq.shape,CPI.shape,Interest_rate.shape,GDP.shape,Unemployment.shape])"
      ],
      "execution_count": 25,
      "outputs": [
        {
          "output_type": "stream",
          "name": "stdout",
          "text": [
            "[(2557, 6), (246, 2), (806, 2), (297, 2), (884, 2)]\n"
          ]
        }
      ]
    },
    {
      "cell_type": "code",
      "metadata": {
        "colab": {
          "base_uri": "https://localhost:8080/",
          "height": 206
        },
        "id": "QIfhUZz__kJs",
        "outputId": "2b8163e5-6985-4f9f-c3fe-7d45e5354443"
      },
      "source": [
        "#Align the column name for all data set\n",
        "Nasdaq = Nasdaq.rename(columns={'Date': 'observation_date'})\n",
        "\n",
        "#Select columns Date & Close/Last date from Nasdaq dataset\n",
        "Nasdaq = Nasdaq[['observation_date','Close/Last']]\n",
        "display(Nasdaq.head(5))"
      ],
      "execution_count": 28,
      "outputs": [
        {
          "output_type": "display_data",
          "data": {
            "text/html": [
              "<div>\n",
              "<style scoped>\n",
              "    .dataframe tbody tr th:only-of-type {\n",
              "        vertical-align: middle;\n",
              "    }\n",
              "\n",
              "    .dataframe tbody tr th {\n",
              "        vertical-align: top;\n",
              "    }\n",
              "\n",
              "    .dataframe thead th {\n",
              "        text-align: right;\n",
              "    }\n",
              "</style>\n",
              "<table border=\"1\" class=\"dataframe\">\n",
              "  <thead>\n",
              "    <tr style=\"text-align: right;\">\n",
              "      <th></th>\n",
              "      <th>observation_date</th>\n",
              "      <th>Close/Last</th>\n",
              "    </tr>\n",
              "  </thead>\n",
              "  <tbody>\n",
              "    <tr>\n",
              "      <th>0</th>\n",
              "      <td>2021-09-10</td>\n",
              "      <td>15440.75</td>\n",
              "    </tr>\n",
              "    <tr>\n",
              "      <th>1</th>\n",
              "      <td>2021-09-09</td>\n",
              "      <td>15561.05</td>\n",
              "    </tr>\n",
              "    <tr>\n",
              "      <th>2</th>\n",
              "      <td>2021-09-08</td>\n",
              "      <td>15620.85</td>\n",
              "    </tr>\n",
              "    <tr>\n",
              "      <th>3</th>\n",
              "      <td>2021-09-07</td>\n",
              "      <td>15675.76</td>\n",
              "    </tr>\n",
              "    <tr>\n",
              "      <th>4</th>\n",
              "      <td>2021-09-03</td>\n",
              "      <td>15652.86</td>\n",
              "    </tr>\n",
              "  </tbody>\n",
              "</table>\n",
              "</div>"
            ],
            "text/plain": [
              "  observation_date  Close/Last\n",
              "0       2021-09-10    15440.75\n",
              "1       2021-09-09    15561.05\n",
              "2       2021-09-08    15620.85\n",
              "3       2021-09-07    15675.76\n",
              "4       2021-09-03    15652.86"
            ]
          },
          "metadata": {}
        }
      ]
    }
  ]
}
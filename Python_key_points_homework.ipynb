{
  "nbformat": 4,
  "nbformat_minor": 0,
  "metadata": {
    "colab": {
      "name": "Python key points homework",
      "provenance": [],
      "collapsed_sections": [
        "HG8uZJrln4kz",
        "TAmAx1ZDlXjT",
        "iqyBKVXmfHvn",
        "dvIWHnPdJT3w",
        "bbfroLuAnlce",
        "uRAvV9F1ouiV",
        "x7VLnpW3ywdE"
      ]
    },
    "kernelspec": {
      "name": "python3",
      "display_name": "Python 3"
    },
    "language_info": {
      "name": "python"
    },
    "widgets": {
      "application/vnd.jupyter.widget-state+json": {
        "98e742499a964b09903bb5255b25deff": {
          "model_module": "@jupyter-widgets/controls",
          "model_name": "VBoxModel",
          "model_module_version": "1.5.0",
          "state": {
            "_view_name": "VBoxView",
            "_dom_classes": [
              "widget-interact"
            ],
            "_model_name": "VBoxModel",
            "_view_module": "@jupyter-widgets/controls",
            "_model_module_version": "1.5.0",
            "_view_count": null,
            "_view_module_version": "1.5.0",
            "box_style": "",
            "layout": "IPY_MODEL_368041bef1f145c482011bddb35712f2",
            "_model_module": "@jupyter-widgets/controls",
            "children": [
              "IPY_MODEL_cbe1616572df40739a24425638fff2f8",
              "IPY_MODEL_1e19c3de49bf4d2b88710957eff4c55f",
              "IPY_MODEL_1e71b34bb60744209c4b35310e192f10"
            ]
          }
        },
        "368041bef1f145c482011bddb35712f2": {
          "model_module": "@jupyter-widgets/base",
          "model_name": "LayoutModel",
          "model_module_version": "1.2.0",
          "state": {
            "_view_name": "LayoutView",
            "grid_template_rows": null,
            "right": null,
            "justify_content": null,
            "_view_module": "@jupyter-widgets/base",
            "overflow": null,
            "_model_module_version": "1.2.0",
            "_view_count": null,
            "flex_flow": null,
            "width": null,
            "min_width": null,
            "border": null,
            "align_items": null,
            "bottom": null,
            "_model_module": "@jupyter-widgets/base",
            "top": null,
            "grid_column": null,
            "overflow_y": null,
            "overflow_x": null,
            "grid_auto_flow": null,
            "grid_area": null,
            "grid_template_columns": null,
            "flex": null,
            "_model_name": "LayoutModel",
            "justify_items": null,
            "grid_row": null,
            "max_height": null,
            "align_content": null,
            "visibility": null,
            "align_self": null,
            "height": null,
            "min_height": null,
            "padding": null,
            "grid_auto_rows": null,
            "grid_gap": null,
            "max_width": null,
            "order": null,
            "_view_module_version": "1.2.0",
            "grid_template_areas": null,
            "object_position": null,
            "object_fit": null,
            "grid_auto_columns": null,
            "margin": null,
            "display": null,
            "left": null
          }
        },
        "cbe1616572df40739a24425638fff2f8": {
          "model_module": "@jupyter-widgets/controls",
          "model_name": "FloatSliderModel",
          "model_module_version": "1.5.0",
          "state": {
            "_view_name": "FloatSliderView",
            "style": "IPY_MODEL_401c7594bf1f4c8c81a82665844589bc",
            "_dom_classes": [],
            "description": "a",
            "step": 0.1,
            "_model_name": "FloatSliderModel",
            "orientation": "horizontal",
            "max": 5,
            "_view_module": "@jupyter-widgets/controls",
            "_model_module_version": "1.5.0",
            "value": 0,
            "_view_count": null,
            "disabled": false,
            "_view_module_version": "1.5.0",
            "min": -5,
            "continuous_update": true,
            "readout_format": ".2f",
            "description_tooltip": null,
            "readout": true,
            "_model_module": "@jupyter-widgets/controls",
            "layout": "IPY_MODEL_4e648671656f4218ad8b1bdf5a468e27"
          }
        },
        "1e19c3de49bf4d2b88710957eff4c55f": {
          "model_module": "@jupyter-widgets/controls",
          "model_name": "FloatSliderModel",
          "model_module_version": "1.5.0",
          "state": {
            "_view_name": "FloatSliderView",
            "style": "IPY_MODEL_3c25c4f8592f4703a9f3fad1c5e85d22",
            "_dom_classes": [],
            "description": "b",
            "step": 0.1,
            "_model_name": "FloatSliderModel",
            "orientation": "horizontal",
            "max": 5,
            "_view_module": "@jupyter-widgets/controls",
            "_model_module_version": "1.5.0",
            "value": 0,
            "_view_count": null,
            "disabled": false,
            "_view_module_version": "1.5.0",
            "min": -5,
            "continuous_update": true,
            "readout_format": ".2f",
            "description_tooltip": null,
            "readout": true,
            "_model_module": "@jupyter-widgets/controls",
            "layout": "IPY_MODEL_297e7af7a0de4af1ab3616ba6c283621"
          }
        },
        "1e71b34bb60744209c4b35310e192f10": {
          "model_module": "@jupyter-widgets/output",
          "model_name": "OutputModel",
          "model_module_version": "1.0.0",
          "state": {
            "_view_name": "OutputView",
            "msg_id": "",
            "_dom_classes": [],
            "_model_name": "OutputModel",
            "outputs": [
              {
                "output_type": "display_data",
                "data": {
                  "image/png": "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\n",
                  "text/plain": "<Figure size 432x288 with 1 Axes>"
                },
                "metadata": {
                  "needs_background": "light"
                }
              }
            ],
            "_view_module": "@jupyter-widgets/output",
            "_model_module_version": "1.0.0",
            "_view_count": null,
            "_view_module_version": "1.0.0",
            "layout": "IPY_MODEL_ee47e57554dd4dbe8e2f14fc0056aca4",
            "_model_module": "@jupyter-widgets/output"
          }
        },
        "401c7594bf1f4c8c81a82665844589bc": {
          "model_module": "@jupyter-widgets/controls",
          "model_name": "SliderStyleModel",
          "model_module_version": "1.5.0",
          "state": {
            "_view_name": "StyleView",
            "handle_color": null,
            "_model_name": "SliderStyleModel",
            "description_width": "",
            "_view_module": "@jupyter-widgets/base",
            "_model_module_version": "1.5.0",
            "_view_count": null,
            "_view_module_version": "1.2.0",
            "_model_module": "@jupyter-widgets/controls"
          }
        },
        "4e648671656f4218ad8b1bdf5a468e27": {
          "model_module": "@jupyter-widgets/base",
          "model_name": "LayoutModel",
          "model_module_version": "1.2.0",
          "state": {
            "_view_name": "LayoutView",
            "grid_template_rows": null,
            "right": null,
            "justify_content": null,
            "_view_module": "@jupyter-widgets/base",
            "overflow": null,
            "_model_module_version": "1.2.0",
            "_view_count": null,
            "flex_flow": null,
            "width": null,
            "min_width": null,
            "border": null,
            "align_items": null,
            "bottom": null,
            "_model_module": "@jupyter-widgets/base",
            "top": null,
            "grid_column": null,
            "overflow_y": null,
            "overflow_x": null,
            "grid_auto_flow": null,
            "grid_area": null,
            "grid_template_columns": null,
            "flex": null,
            "_model_name": "LayoutModel",
            "justify_items": null,
            "grid_row": null,
            "max_height": null,
            "align_content": null,
            "visibility": null,
            "align_self": null,
            "height": null,
            "min_height": null,
            "padding": null,
            "grid_auto_rows": null,
            "grid_gap": null,
            "max_width": null,
            "order": null,
            "_view_module_version": "1.2.0",
            "grid_template_areas": null,
            "object_position": null,
            "object_fit": null,
            "grid_auto_columns": null,
            "margin": null,
            "display": null,
            "left": null
          }
        },
        "3c25c4f8592f4703a9f3fad1c5e85d22": {
          "model_module": "@jupyter-widgets/controls",
          "model_name": "SliderStyleModel",
          "model_module_version": "1.5.0",
          "state": {
            "_view_name": "StyleView",
            "handle_color": null,
            "_model_name": "SliderStyleModel",
            "description_width": "",
            "_view_module": "@jupyter-widgets/base",
            "_model_module_version": "1.5.0",
            "_view_count": null,
            "_view_module_version": "1.2.0",
            "_model_module": "@jupyter-widgets/controls"
          }
        },
        "297e7af7a0de4af1ab3616ba6c283621": {
          "model_module": "@jupyter-widgets/base",
          "model_name": "LayoutModel",
          "model_module_version": "1.2.0",
          "state": {
            "_view_name": "LayoutView",
            "grid_template_rows": null,
            "right": null,
            "justify_content": null,
            "_view_module": "@jupyter-widgets/base",
            "overflow": null,
            "_model_module_version": "1.2.0",
            "_view_count": null,
            "flex_flow": null,
            "width": null,
            "min_width": null,
            "border": null,
            "align_items": null,
            "bottom": null,
            "_model_module": "@jupyter-widgets/base",
            "top": null,
            "grid_column": null,
            "overflow_y": null,
            "overflow_x": null,
            "grid_auto_flow": null,
            "grid_area": null,
            "grid_template_columns": null,
            "flex": null,
            "_model_name": "LayoutModel",
            "justify_items": null,
            "grid_row": null,
            "max_height": null,
            "align_content": null,
            "visibility": null,
            "align_self": null,
            "height": null,
            "min_height": null,
            "padding": null,
            "grid_auto_rows": null,
            "grid_gap": null,
            "max_width": null,
            "order": null,
            "_view_module_version": "1.2.0",
            "grid_template_areas": null,
            "object_position": null,
            "object_fit": null,
            "grid_auto_columns": null,
            "margin": null,
            "display": null,
            "left": null
          }
        },
        "ee47e57554dd4dbe8e2f14fc0056aca4": {
          "model_module": "@jupyter-widgets/base",
          "model_name": "LayoutModel",
          "model_module_version": "1.2.0",
          "state": {
            "_view_name": "LayoutView",
            "grid_template_rows": null,
            "right": null,
            "justify_content": null,
            "_view_module": "@jupyter-widgets/base",
            "overflow": null,
            "_model_module_version": "1.2.0",
            "_view_count": null,
            "flex_flow": null,
            "width": null,
            "min_width": null,
            "border": null,
            "align_items": null,
            "bottom": null,
            "_model_module": "@jupyter-widgets/base",
            "top": null,
            "grid_column": null,
            "overflow_y": null,
            "overflow_x": null,
            "grid_auto_flow": null,
            "grid_area": null,
            "grid_template_columns": null,
            "flex": null,
            "_model_name": "LayoutModel",
            "justify_items": null,
            "grid_row": null,
            "max_height": null,
            "align_content": null,
            "visibility": null,
            "align_self": null,
            "height": null,
            "min_height": null,
            "padding": null,
            "grid_auto_rows": null,
            "grid_gap": null,
            "max_width": null,
            "order": null,
            "_view_module_version": "1.2.0",
            "grid_template_areas": null,
            "object_position": null,
            "object_fit": null,
            "grid_auto_columns": null,
            "margin": null,
            "display": null,
            "left": null
          }
        }
      }
    }
  },
  "cells": [
    {
      "cell_type": "markdown",
      "metadata": {
        "id": "LphCkL_heC3f"
      },
      "source": [
        "# Homework: Python for machine learning & Data Analysis\n",
        "#### Here are listed the most common python & numpy methods used in the course as well as usage examples. This is not extensive information, please refer to the documentation for details.\n",
        "\n",
        "\n",
        "Prepared by Mykhailo Vladymyrov,\n",
        "Science IT Support, University of Bern, 2022\n",
        "\n",
        "This work is licensed under <a href=\"https://creativecommons.org/share-your-work/public-domain/cc0/\">CC0</a>.\n",
        "\n"
      ]
    },
    {
      "cell_type": "markdown",
      "source": [
        "When solving exercises, try to not use copypastig: by typing you reinforce your brain to learn better."
      ],
      "metadata": {
        "id": "9ywZ9QhN9QfQ"
      }
    },
    {
      "cell_type": "markdown",
      "metadata": {
        "id": "HG8uZJrln4kz"
      },
      "source": [
        "# 0. List, tuple, set, dict"
      ]
    },
    {
      "cell_type": "code",
      "source": [
        "# A `tuple` can contain any number of any element and can't be modified\n",
        "x_coordinates = (0, 1, 2, 3)\n",
        "\n",
        "#               ^ ---------^ tuple is written in normal brackets"
      ],
      "metadata": {
        "id": "_WoGFvYlej7w"
      },
      "execution_count": 77,
      "outputs": []
    },
    {
      "cell_type": "code",
      "source": [
        "# To see what any object is, it's a good idea to print it:\n",
        "print(x_coordinates)"
      ],
      "metadata": {
        "id": "B_0hJbH2e2NV",
        "outputId": "5adeca27-0eec-474b-8424-5aa0b1928e29",
        "colab": {
          "base_uri": "https://localhost:8080/"
        }
      },
      "execution_count": 78,
      "outputs": [
        {
          "output_type": "stream",
          "name": "stdout",
          "text": [
            "(0, 1, 2, 3)\n"
          ]
        }
      ]
    },
    {
      "cell_type": "code",
      "source": [
        "# or just:\n",
        "x_coordinates"
      ],
      "metadata": {
        "id": "YDUxG2tdfEUF",
        "outputId": "63eb7859-e99e-4abc-8ccf-4afee0cec6e8",
        "colab": {
          "base_uri": "https://localhost:8080/"
        }
      },
      "execution_count": 79,
      "outputs": [
        {
          "output_type": "execute_result",
          "data": {
            "text/plain": [
              "(0, 1, 2, 3)"
            ]
          },
          "metadata": {},
          "execution_count": 79
        }
      ]
    },
    {
      "cell_type": "code",
      "source": [
        "# As well as check it's type:\n",
        "type(x_coordinates)"
      ],
      "metadata": {
        "id": "rjRceVMWfG84",
        "outputId": "1103e718-73a5-40d3-8142-c1142eda5596",
        "colab": {
          "base_uri": "https://localhost:8080/"
        }
      },
      "execution_count": 80,
      "outputs": [
        {
          "output_type": "execute_result",
          "data": {
            "text/plain": [
              "tuple"
            ]
          },
          "metadata": {},
          "execution_count": 80
        }
      ]
    },
    {
      "cell_type": "code",
      "source": [
        "# and available methods and properties\n",
        "dir(x_coordinates)"
      ],
      "metadata": {
        "id": "6JXaYnPhkHEK",
        "outputId": "4f2b6a7c-7969-4be8-c305-6d31b215497a",
        "colab": {
          "base_uri": "https://localhost:8080/"
        }
      },
      "execution_count": 81,
      "outputs": [
        {
          "output_type": "execute_result",
          "data": {
            "text/plain": [
              "['__add__',\n",
              " '__class__',\n",
              " '__contains__',\n",
              " '__delattr__',\n",
              " '__dir__',\n",
              " '__doc__',\n",
              " '__eq__',\n",
              " '__format__',\n",
              " '__ge__',\n",
              " '__getattribute__',\n",
              " '__getitem__',\n",
              " '__getnewargs__',\n",
              " '__gt__',\n",
              " '__hash__',\n",
              " '__init__',\n",
              " '__init_subclass__',\n",
              " '__iter__',\n",
              " '__le__',\n",
              " '__len__',\n",
              " '__lt__',\n",
              " '__mul__',\n",
              " '__ne__',\n",
              " '__new__',\n",
              " '__reduce__',\n",
              " '__reduce_ex__',\n",
              " '__repr__',\n",
              " '__rmul__',\n",
              " '__setattr__',\n",
              " '__sizeof__',\n",
              " '__str__',\n",
              " '__subclasshook__',\n",
              " 'count',\n",
              " 'index']"
            ]
          },
          "metadata": {},
          "execution_count": 81
        }
      ]
    },
    {
      "cell_type": "code",
      "source": [
        "# the `__doc__` property often contains useful info\n",
        "print(x_coordinates.__doc__)"
      ],
      "metadata": {
        "id": "85mENGBBkMcR",
        "outputId": "85c361f6-911a-4c85-a17f-d3a5186244c3",
        "colab": {
          "base_uri": "https://localhost:8080/"
        }
      },
      "execution_count": 82,
      "outputs": [
        {
          "output_type": "stream",
          "name": "stdout",
          "text": [
            "Built-in immutable sequence.\n",
            "\n",
            "If no argument is given, the constructor returns an empty tuple.\n",
            "If iterable is specified the tuple is initialized from iterable's items.\n",
            "\n",
            "If the argument is a tuple, the return value is the same object.\n"
          ]
        }
      ]
    },
    {
      "cell_type": "markdown",
      "source": [
        " ---"
      ],
      "metadata": {
        "id": "8JqHksKLfY9l"
      }
    },
    {
      "cell_type": "code",
      "metadata": {
        "id": "BP7PCSQsoAPQ",
        "outputId": "fc70bbb4-ae25-4dc0-f1f3-4ac037445c40",
        "colab": {
          "base_uri": "https://localhost:8080/"
        }
      },
      "source": [
        "# Function len called on any collection — array like object — will return it's length\n",
        "\n",
        "x_coordinates_length = len(x_coordinates)\n",
        "print('length of the `x_coordinates` is', x_coordinates_length)"
      ],
      "execution_count": 83,
      "outputs": [
        {
          "output_type": "stream",
          "name": "stdout",
          "text": [
            "length of the `x_coordinates` is 4\n"
          ]
        }
      ]
    },
    {
      "cell_type": "code",
      "source": [
        "print('Also it is handy to use so-called f-strings (formatted string): they allow to easily format the output:')\n",
        "print(f'For example:\\n\\tlength of the `x_coordinates={x_coordinates}` is {x_coordinates_length}')\n",
        "\n",
        "#     ^------- f before string marks an f-string\n"
      ],
      "metadata": {
        "id": "3n-L1q4egLCS",
        "outputId": "2ace0ebb-fe72-4fa7-a4f6-cb9aaad64bed",
        "colab": {
          "base_uri": "https://localhost:8080/"
        }
      },
      "execution_count": 84,
      "outputs": [
        {
          "output_type": "stream",
          "name": "stdout",
          "text": [
            "Also it is handy to use so-called f-strings (formatted string): they allow to easily format the output:\n",
            "For example:\n",
            "\tlength of the `x_coordinates=(0, 1, 2, 3)` is 4\n"
          ]
        }
      ]
    },
    {
      "cell_type": "code",
      "source": [
        "# `list` is similar to `tuple`, but can be modified:\n",
        "\n",
        "y_coordinates = [1, 1, 4]\n",
        "\n",
        "#               ^ ---------^ list is written in square brackets"
      ],
      "metadata": {
        "id": "q2DFllByhrBz"
      },
      "execution_count": 85,
      "outputs": []
    },
    {
      "cell_type": "code",
      "metadata": {
        "id": "ehJvl7fLoBtL",
        "outputId": "bcf4b199-f606-4d9a-ed73-27a1f9ade0d6",
        "colab": {
          "base_uri": "https://localhost:8080/"
        }
      },
      "source": [
        "# One can loop through elements of a collection:\n",
        "\n",
        "for x in x_coordinates:\n",
        "  print (x)"
      ],
      "execution_count": 86,
      "outputs": [
        {
          "output_type": "stream",
          "name": "stdout",
          "text": [
            "0\n",
            "1\n",
            "2\n",
            "3\n"
          ]
        }
      ]
    },
    {
      "cell_type": "code",
      "metadata": {
        "id": "xn7tgZnAiZEW",
        "outputId": "6d00372b-b4c9-4c57-868d-349ce328a6d2",
        "colab": {
          "base_uri": "https://localhost:8080/"
        }
      },
      "source": [
        "# Or also obtain the index of element:\n",
        "\n",
        "for idx, y in enumerate(y_coordinates):\n",
        "  print (f'y[{idx}] = {y}')"
      ],
      "execution_count": 87,
      "outputs": [
        {
          "output_type": "stream",
          "name": "stdout",
          "text": [
            "y[0] = 1\n",
            "y[1] = 1\n",
            "y[2] = 4\n"
          ]
        }
      ]
    },
    {
      "cell_type": "code",
      "metadata": {
        "id": "npPC3AIyng6e",
        "outputId": "0cdf5aaf-f562-40f3-adec-56f247698d9f",
        "colab": {
          "base_uri": "https://localhost:8080/"
        }
      },
      "source": [
        "# Several collections can be iterated together, by zipping them together:\n",
        "\n",
        "for x, y in zip(x_coordinates, y_coordinates):\n",
        "  print (x, y)"
      ],
      "execution_count": 88,
      "outputs": [
        {
          "output_type": "stream",
          "name": "stdout",
          "text": [
            "0 1\n",
            "1 1\n",
            "2 4\n"
          ]
        }
      ]
    },
    {
      "cell_type": "code",
      "source": [
        "# Slements of list can be modified:\n",
        "print(y_coordinates[0])\n",
        "y_coordinates[0] = 0\n",
        "print(y_coordinates[1])\n",
        "print(y_coordinates)"
      ],
      "metadata": {
        "id": "iP0ZE9KEjXXy",
        "outputId": "4177f00d-b339-4466-a4d2-8273606f271a",
        "colab": {
          "base_uri": "https://localhost:8080/"
        }
      },
      "execution_count": 89,
      "outputs": [
        {
          "output_type": "stream",
          "name": "stdout",
          "text": [
            "1\n",
            "1\n",
            "[0, 1, 4]\n"
          ]
        }
      ]
    },
    {
      "cell_type": "code",
      "source": [
        "# `list` can be created form another collection:\n",
        "\n",
        "x_coordinates = list(x_coordinates)\n",
        "print(f'now `x_coordinates` is {type(x_coordinates)}')"
      ],
      "metadata": {
        "id": "KrK_a1e4lDAk",
        "outputId": "2d9d9776-8638-4661-e83f-3477f259c0aa",
        "colab": {
          "base_uri": "https://localhost:8080/"
        }
      },
      "execution_count": 90,
      "outputs": [
        {
          "output_type": "stream",
          "name": "stdout",
          "text": [
            "now `x_coordinates` is <class 'list'>\n"
          ]
        }
      ]
    },
    {
      "cell_type": "code",
      "source": [
        "# Elements can be appended to a list\n",
        "\n",
        "\n",
        "y_coordinates.append(9)\n",
        "print(y_coordinates)\n",
        "\n",
        "y_coordinates.append(16)\n",
        "print(y_coordinates)\n",
        "\n",
        "y_coordinates.append(25)\n",
        "print(y_coordinates)\n"
      ],
      "metadata": {
        "id": "aSIod_Rxk2aC",
        "outputId": "1c0a6fe2-e074-4667-c95d-50d3e6d0b3b5",
        "colab": {
          "base_uri": "https://localhost:8080/"
        }
      },
      "execution_count": 91,
      "outputs": [
        {
          "output_type": "stream",
          "name": "stdout",
          "text": [
            "[0, 1, 4, 9]\n",
            "[0, 1, 4, 9, 16]\n",
            "[0, 1, 4, 9, 16, 25]\n"
          ]
        }
      ]
    },
    {
      "cell_type": "code",
      "metadata": {
        "id": "lVIWxE6FoDcm"
      },
      "source": [
        "# Extended with another list:\n",
        "x_coordinates.extend([4, 5])"
      ],
      "execution_count": 92,
      "outputs": []
    },
    {
      "cell_type": "code",
      "source": [
        "# or added\n",
        "\n",
        "all_numbers = x_coordinates + y_coordinates\n",
        "print(all_numbers)"
      ],
      "metadata": {
        "id": "S00vbLWWlyeV",
        "outputId": "9b902b15-8874-4286-fc46-5e8539da1c94",
        "colab": {
          "base_uri": "https://localhost:8080/"
        }
      },
      "execution_count": 93,
      "outputs": [
        {
          "output_type": "stream",
          "name": "stdout",
          "text": [
            "[0, 1, 2, 3, 4, 5, 0, 1, 4, 9, 16, 25]\n"
          ]
        }
      ]
    },
    {
      "cell_type": "code",
      "metadata": {
        "id": "RIeE7l2Gpg1E",
        "outputId": "e241cd0a-fd45-4b3e-d70b-a38f1e81834a",
        "colab": {
          "base_uri": "https://localhost:8080/"
        }
      },
      "source": [
        "# `set` - is a collection of unique elements:\n",
        "unique_numbers = set(all_numbers)\n",
        "print(unique_numbers)"
      ],
      "execution_count": 94,
      "outputs": [
        {
          "output_type": "stream",
          "name": "stdout",
          "text": [
            "{0, 1, 2, 3, 4, 5, 9, 16, 25}\n"
          ]
        }
      ]
    },
    {
      "cell_type": "code",
      "source": [
        "# `dictionary` is a collection where the values are assigned to unique keys and can be accessed by the key:\n",
        "\n",
        "uptime_hours = {'jupyter': 10, 'chrome': 30}"
      ],
      "metadata": {
        "id": "Va8RWA0vmdjL"
      },
      "execution_count": 95,
      "outputs": []
    },
    {
      "cell_type": "code",
      "source": [
        "print(uptime_hours['jupyter'])"
      ],
      "metadata": {
        "id": "lDkXouaBoE6j",
        "outputId": "5c56489c-2aa7-4b57-ccc8-50aa5615009c",
        "colab": {
          "base_uri": "https://localhost:8080/"
        }
      },
      "execution_count": 96,
      "outputs": [
        {
          "output_type": "stream",
          "name": "stdout",
          "text": [
            "10\n"
          ]
        }
      ]
    },
    {
      "cell_type": "code",
      "metadata": {
        "id": "w2XKXUUrpkQU",
        "outputId": "65761946-e30b-478e-f66e-1d930f958705",
        "colab": {
          "base_uri": "https://localhost:8080/"
        }
      },
      "source": [
        "# `list` comprehensions are quick way to define list:\n",
        "\n",
        "y_coordinates = [x**2 for x in x_coordinates]\n",
        "print(y_coordinates)"
      ],
      "execution_count": 97,
      "outputs": [
        {
          "output_type": "stream",
          "name": "stdout",
          "text": [
            "[0, 1, 4, 9, 16, 25]\n"
          ]
        }
      ]
    },
    {
      "cell_type": "code",
      "source": [
        "# `set`:\n",
        "values = {v%7 for v in y_coordinates}\n",
        "print(values)"
      ],
      "metadata": {
        "id": "OVGGeg_QodDc",
        "outputId": "78477ae2-70ba-421b-af1a-bba03e9f7eca",
        "colab": {
          "base_uri": "https://localhost:8080/"
        }
      },
      "execution_count": 98,
      "outputs": [
        {
          "output_type": "stream",
          "name": "stdout",
          "text": [
            "{0, 1, 2, 4}\n"
          ]
        }
      ]
    },
    {
      "cell_type": "code",
      "source": [
        "# `dictionary`\n",
        "\n",
        "x_at_y = {y:x for x, y in zip(x_coordinates, y_coordinates)}\n",
        "print(x_at_y)\n",
        "print(x_at_y[25])"
      ],
      "metadata": {
        "id": "SRLIn6wQot8b",
        "outputId": "61ff6512-96f7-420c-dcd3-7248cbd9efaf",
        "colab": {
          "base_uri": "https://localhost:8080/"
        }
      },
      "execution_count": 99,
      "outputs": [
        {
          "output_type": "stream",
          "name": "stdout",
          "text": [
            "{0: 0, 1: 1, 4: 2, 9: 3, 16: 4, 25: 5}\n",
            "5\n"
          ]
        }
      ]
    },
    {
      "cell_type": "markdown",
      "metadata": {
        "id": "TAmAx1ZDlXjT"
      },
      "source": [
        "# 1. Pyplot"
      ]
    },
    {
      "cell_type": "code",
      "source": [
        "import matplotlib.pyplot as plt"
      ],
      "metadata": {
        "id": "x_vlxByweeEE"
      },
      "execution_count": 100,
      "outputs": []
    },
    {
      "cell_type": "code",
      "source": [
        "x_coordinates = list(range(6))\n",
        "y_coordinates = [x**2 for x in x_coordinates]"
      ],
      "metadata": {
        "id": "1hOOzT0ZN3xO"
      },
      "execution_count": 101,
      "outputs": []
    },
    {
      "cell_type": "code",
      "source": [
        "# Simple plot\n",
        "\n",
        "plt.plot(x_coordinates, y_coordinates)"
      ],
      "metadata": {
        "id": "o5Wqm89oOGu2",
        "outputId": "936d4a45-0a7a-48e7-c3ca-1dcfa6aff206",
        "colab": {
          "base_uri": "https://localhost:8080/",
          "height": 282
        }
      },
      "execution_count": 102,
      "outputs": [
        {
          "output_type": "execute_result",
          "data": {
            "text/plain": [
              "[<matplotlib.lines.Line2D at 0x7f978c54be90>]"
            ]
          },
          "metadata": {},
          "execution_count": 102
        },
        {
          "output_type": "display_data",
          "data": {
            "image/png": "[encoded data removed]",
            "text/plain": [
              "<Figure size 432x288 with 1 Axes>"
            ]
          },
          "metadata": {
            "needs_background": "light"
          }
        }
      ]
    },
    {
      "cell_type": "code",
      "metadata": {
        "id": "f0gwwI_ilrgQ",
        "outputId": "021616d2-f1f3-490d-f06b-5ed9c00ad8f9",
        "colab": {
          "base_uri": "https://localhost:8080/",
          "height": 282
        }
      },
      "source": [
        "# Scatter plot\n",
        "plt.scatter(x_coordinates, y_coordinates, marker='x', color='b', s=10)"
      ],
      "execution_count": 103,
      "outputs": [
        {
          "output_type": "execute_result",
          "data": {
            "text/plain": [
              "<matplotlib.collections.PathCollection at 0x7f978c507e90>"
            ]
          },
          "metadata": {},
          "execution_count": 103
        },
        {
          "output_type": "display_data",
          "data": {
            "image/png": "[encoded data removed]",
            "text/plain": [
              "<Figure size 432x288 with 1 Axes>"
            ]
          },
          "metadata": {
            "needs_background": "light"
          }
        }
      ]
    },
    {
      "cell_type": "code",
      "source": [
        "# Scatter plot with axes range\n",
        "plt.scatter(x_coordinates, y_coordinates, marker='x', color='b', s=10)\n",
        "plt.xlim(0, 10)\n",
        "plt.ylim(0, 10)"
      ],
      "metadata": {
        "id": "LFeRVBCARbQw",
        "outputId": "568e01a5-a781-4c7e-aacc-cfeef9e736d7",
        "colab": {
          "base_uri": "https://localhost:8080/",
          "height": 286
        }
      },
      "execution_count": 104,
      "outputs": [
        {
          "output_type": "execute_result",
          "data": {
            "text/plain": [
              "(0.0, 10.0)"
            ]
          },
          "metadata": {},
          "execution_count": 104
        },
        {
          "output_type": "display_data",
          "data": {
            "image/png": "[encoded data removed]",
            "text/plain": [
              "<Figure size 432x288 with 1 Axes>"
            ]
          },
          "metadata": {
            "needs_background": "light"
          }
        }
      ]
    },
    {
      "cell_type": "code",
      "source": [
        "# Plot with isotropic axes\n",
        "\n",
        "plt.scatter(x_coordinates, y_coordinates, marker='x', color='b', s=10)\n",
        "\n",
        "current_axis = plt.gca()\n",
        "current_axis.set_aspect('equal')"
      ],
      "metadata": {
        "id": "5mqZY6hFReu5",
        "outputId": "e5958bef-b54d-4e6d-8349-995bf417b0fd",
        "colab": {
          "base_uri": "https://localhost:8080/",
          "height": 265
        }
      },
      "execution_count": 105,
      "outputs": [
        {
          "output_type": "display_data",
          "data": {
            "image/png": "[encoded data removed]",
            "text/plain": [
              "<Figure size 432x288 with 1 Axes>"
            ]
          },
          "metadata": {
            "needs_background": "light"
          }
        }
      ]
    },
    {
      "cell_type": "code",
      "metadata": {
        "id": "rtkv_YUolfld",
        "outputId": "4d1374a6-9fd0-49bb-e4e8-a2bf72f78d8e",
        "colab": {
          "base_uri": "https://localhost:8080/",
          "height": 513
        }
      },
      "source": [
        "# Big plot, with details\n",
        "\n",
        "plt.figure(figsize=(8,8))  # plot size\n",
        "\n",
        "plt.plot(x_coordinates, y_coordinates)\n",
        "\n",
        "plt.xlabel('x coordinate')\n",
        "plt.ylabel('y coordinate')\n",
        "plt.title('x=y^2')\n",
        "\n",
        "plt.show()\n",
        "plt.close()  # always a good idea to close plot to save memory"
      ],
      "execution_count": 106,
      "outputs": [
        {
          "output_type": "display_data",
          "data": {
            "image/png": "[encoded data removed]",
            "text/plain": [
              "<Figure size 576x576 with 1 Axes>"
            ]
          },
          "metadata": {
            "needs_background": "light"
          }
        }
      ]
    },
    {
      "cell_type": "code",
      "metadata": {
        "id": "QY_T2HmRl9Mw",
        "outputId": "bcce74bb-59c0-48b1-d525-b5171be16c3b",
        "colab": {
          "base_uri": "https://localhost:8080/",
          "height": 483
        }
      },
      "source": [
        "# Multiple plots can be combined together with subplots:\n",
        "\n",
        "fig, ax = plt.subplots(nrows=2, ncols=2, figsize=(8, 8))\n",
        "\n",
        "ax[0][0].scatter(x_coordinates, y_coordinates, marker='x', color='b', s=30)\n",
        "ax[0][1].scatter(x_coordinates, y_coordinates, marker='o', c=y_coordinates, s=30)\n",
        "\n",
        "ax[1][0].plot(x_coordinates, y_coordinates)\n",
        "ax[1][1].scatter(x_coordinates, y_coordinates, marker='^', c=y_coordinates, s=30, cmap=plt.cm.Accent)\n",
        "\n",
        "plt.show()\n",
        "plt.close()"
      ],
      "execution_count": 107,
      "outputs": [
        {
          "output_type": "display_data",
          "data": {
            "image/png": "[encoded data removed]",
            "text/plain": [
              "<Figure size 576x576 with 4 Axes>"
            ]
          },
          "metadata": {
            "needs_background": "light"
          }
        }
      ]
    },
    {
      "cell_type": "code",
      "metadata": {
        "id": "0CKMn1PPmp9E",
        "outputId": "88dd06ae-e4ef-468f-fb97-2dc64874b3ef",
        "colab": {
          "base_uri": "https://localhost:8080/",
          "height": 466
        }
      },
      "source": [
        "# To make a plot in 3D\n",
        "\n",
        "fig = plt.figure(figsize=(8,8))\n",
        "ax = fig.add_subplot(111, projection='3d')\n",
        "z_coordinates = y_coordinates\n",
        "\n",
        "ax.scatter3D(x_coordinates, y_coordinates, z_coordinates, marker='x', s=20)\n",
        "\n",
        "plt.show()\n",
        "plt.close()"
      ],
      "execution_count": 108,
      "outputs": [
        {
          "output_type": "display_data",
          "data": {
            "image/png": "[encoded data removed]",
            "text/plain": [
              "<Figure size 576x576 with 1 Axes>"
            ]
          },
          "metadata": {
            "needs_background": "light"
          }
        }
      ]
    },
    {
      "cell_type": "markdown",
      "metadata": {
        "id": "iqyBKVXmfHvn"
      },
      "source": [
        "# 1. NumPy"
      ]
    },
    {
      "cell_type": "code",
      "metadata": {
        "id": "SM4lpuQTZE8U"
      },
      "source": [
        "import numpy as np"
      ],
      "execution_count": 109,
      "outputs": []
    },
    {
      "cell_type": "code",
      "source": [
        "# `numpy` arrays are similar to `list`s mutable containers with much richer functionality"
      ],
      "metadata": {
        "id": "FuSAC_PYql5-"
      },
      "execution_count": 110,
      "outputs": []
    },
    {
      "cell_type": "code",
      "metadata": {
        "id": "rTNRdQvlpMAq",
        "outputId": "7079d226-4a14-4c84-dc70-e5d417cf4b56",
        "colab": {
          "base_uri": "https://localhost:8080/"
        }
      },
      "source": [
        "# Array-like objects can be converted to `numpy` array:\n",
        "arr = np.array(x_coordinates)\n",
        "print(arr)"
      ],
      "execution_count": 111,
      "outputs": [
        {
          "output_type": "stream",
          "name": "stdout",
          "text": [
            "[0 1 2 3 4 5]\n"
          ]
        }
      ]
    },
    {
      "cell_type": "code",
      "metadata": {
        "id": "tU2F9DBNpP9j",
        "outputId": "6a598c9c-db73-43e5-e668-dfd526a87b80",
        "colab": {
          "base_uri": "https://localhost:8080/"
        }
      },
      "source": [
        "# Attribute `shape` shows size of an array.\n",
        "print(arr.shape)"
      ],
      "execution_count": 112,
      "outputs": [
        {
          "output_type": "stream",
          "name": "stdout",
          "text": [
            "(6,)\n"
          ]
        }
      ]
    },
    {
      "cell_type": "code",
      "source": [
        "# Shape is a `tuple` because array can have more than one dimension:\n",
        "\n",
        "arr2d = np.asarray([[1,2,3], [4, 5, 6]])\n",
        "print(arr2d)\n",
        "print(arr2d.shape)  # last element of the shape - most inner dimension of the array"
      ],
      "metadata": {
        "id": "bf0WtJruTCbY",
        "outputId": "6ac66af4-8cb0-4960-89dc-bd634864a126",
        "colab": {
          "base_uri": "https://localhost:8080/"
        }
      },
      "execution_count": 113,
      "outputs": [
        {
          "output_type": "stream",
          "name": "stdout",
          "text": [
            "[[1 2 3]\n",
            " [4 5 6]]\n",
            "(2, 3)\n"
          ]
        }
      ]
    },
    {
      "cell_type": "code",
      "source": [
        "# Multidimensional array can be reshaped to different shape, preserving total number of elements and their order\n",
        "\n",
        "arr2d_r1 = arr2d.reshape((3, 2))\n",
        "print(arr2d_r1)"
      ],
      "metadata": {
        "id": "Pe5Rr_zeXCen",
        "outputId": "313da151-6429-43ce-bc66-0a79673428ca",
        "colab": {
          "base_uri": "https://localhost:8080/"
        }
      },
      "execution_count": 114,
      "outputs": [
        {
          "output_type": "stream",
          "name": "stdout",
          "text": [
            "[[1 2]\n",
            " [3 4]\n",
            " [5 6]]\n"
          ]
        }
      ]
    },
    {
      "cell_type": "code",
      "source": [
        "# or turned into 1-d with flatten method:\n",
        "\n",
        "arr2d_1d = arr2d.flatten()\n",
        "print(arr2d_1d, arr2d_1d.shape)"
      ],
      "metadata": {
        "id": "KSD5HQ0dXYcC",
        "outputId": "b3d8938b-b3c6-4805-c4ec-97ffe2cc7a1d",
        "colab": {
          "base_uri": "https://localhost:8080/"
        }
      },
      "execution_count": 115,
      "outputs": [
        {
          "output_type": "stream",
          "name": "stdout",
          "text": [
            "[1 2 3 4 5 6] (6,)\n"
          ]
        }
      ]
    },
    {
      "cell_type": "code",
      "source": [
        ""
      ],
      "metadata": {
        "id": "YS9oh2nuXjyT"
      },
      "execution_count": 115,
      "outputs": []
    },
    {
      "cell_type": "code",
      "source": [
        "# Slicing of an array:\n",
        "# start:stop - elements from start (included) till stop (excluded)\n",
        "\n",
        "print(arr[1:3])"
      ],
      "metadata": {
        "id": "GTGugOCbToZE",
        "outputId": "10c09604-5759-40b2-aab5-bf45bc81e61c",
        "colab": {
          "base_uri": "https://localhost:8080/"
        }
      },
      "execution_count": 116,
      "outputs": [
        {
          "output_type": "stream",
          "name": "stdout",
          "text": [
            "[1 2]\n"
          ]
        }
      ]
    },
    {
      "cell_type": "code",
      "source": [
        "# Slicing of an array:\n",
        "# start:stop:step - elements from start (included) till stop (excluded) with stride step\n",
        "\n",
        "print(arr[1:6:2])"
      ],
      "metadata": {
        "id": "1-UMIkjlUKkT",
        "outputId": "c28f627b-083b-43c3-b3a3-a09fcf5b7843",
        "colab": {
          "base_uri": "https://localhost:8080/"
        }
      },
      "execution_count": 117,
      "outputs": [
        {
          "output_type": "stream",
          "name": "stdout",
          "text": [
            "[1 3 5]\n"
          ]
        }
      ]
    },
    {
      "cell_type": "code",
      "source": [
        "# Similarly for a multidimensional array:\n",
        "# \n",
        "print(arr2d[0:1, 1:3])"
      ],
      "metadata": {
        "id": "ezZWjdifUPlG",
        "outputId": "3ba96ee0-17f6-4c07-9cb1-740ab4cb6b02",
        "colab": {
          "base_uri": "https://localhost:8080/"
        }
      },
      "execution_count": 118,
      "outputs": [
        {
          "output_type": "stream",
          "name": "stdout",
          "text": [
            "[[2 3]]\n"
          ]
        }
      ]
    },
    {
      "cell_type": "code",
      "source": [
        "# `:` means take elements along the axis\n",
        "# \n",
        "print(arr2d[:, 1:3])"
      ],
      "metadata": {
        "id": "21yoWRYRUhdf",
        "outputId": "ec4a78f4-5392-4277-f2b7-3536fe12b15c",
        "colab": {
          "base_uri": "https://localhost:8080/"
        }
      },
      "execution_count": 119,
      "outputs": [
        {
          "output_type": "stream",
          "name": "stdout",
          "text": [
            "[[2 3]\n",
            " [5 6]]\n"
          ]
        }
      ]
    },
    {
      "cell_type": "code",
      "source": [
        "# To take elements over several sequential axes - use ellipsis (...):\n",
        "# \n",
        "print(arr2d[..., 1:3])"
      ],
      "metadata": {
        "id": "Lcp7R64EUrRU",
        "outputId": "8adf03e4-36db-46f6-a028-b28529b49edb",
        "colab": {
          "base_uri": "https://localhost:8080/"
        }
      },
      "execution_count": 120,
      "outputs": [
        {
          "output_type": "stream",
          "name": "stdout",
          "text": [
            "[[2 3]\n",
            " [5 6]]\n"
          ]
        }
      ]
    },
    {
      "cell_type": "code",
      "source": [
        "# To generate sequential integers (similar to `range`):\n",
        "numbers = np.arange(0, 20, 2)\n",
        "print(numbers)"
      ],
      "metadata": {
        "id": "8xAcxvn4U9rm",
        "outputId": "faa9fe28-ec7a-445e-cd9c-bc844315dab1",
        "colab": {
          "base_uri": "https://localhost:8080/"
        }
      },
      "execution_count": 121,
      "outputs": [
        {
          "output_type": "stream",
          "name": "stdout",
          "text": [
            "[ 0  2  4  6  8 10 12 14 16 18]\n"
          ]
        }
      ]
    },
    {
      "cell_type": "code",
      "source": [
        "# For floating point values\n",
        "\n",
        "x_coord = np.linspace(start=-1, stop=1, num=5)\n",
        "print (x_coord)"
      ],
      "metadata": {
        "id": "-Vjm0nkMVP6_",
        "outputId": "dfa18f66-8647-40e7-9f4e-417d86d5ae0e",
        "colab": {
          "base_uri": "https://localhost:8080/"
        }
      },
      "execution_count": 122,
      "outputs": [
        {
          "output_type": "stream",
          "name": "stdout",
          "text": [
            "[-1.  -0.5  0.   0.5  1. ]\n"
          ]
        }
      ]
    },
    {
      "cell_type": "code",
      "source": [
        "# Operations on numpy arrays can be performed in pythonic way:\n",
        "\n",
        "y_coord = 2*x_coord**2 + 3\n",
        "\n",
        "plt.plot(x_coord, y_coord)\n",
        "plt.gca().set_aspect('equal')"
      ],
      "metadata": {
        "id": "XMa31sIQVl0L",
        "outputId": "12446265-2832-4551-a06c-8055693cd9ac",
        "colab": {
          "base_uri": "https://localhost:8080/",
          "height": 0
        }
      },
      "execution_count": 123,
      "outputs": [
        {
          "output_type": "display_data",
          "data": {
            "image/png": "[encoded data removed]",
            "text/plain": [
              "<Figure size 432x288 with 1 Axes>"
            ]
          },
          "metadata": {
            "needs_background": "light"
          }
        }
      ]
    },
    {
      "cell_type": "markdown",
      "source": [
        "---"
      ],
      "metadata": {
        "id": "K52uOtJOncOJ"
      }
    },
    {
      "cell_type": "code",
      "source": [
        "# To generate uniformly distributed random numbers:\n",
        "rnd = np.random.uniform(0, 10, size=10)\n",
        "print(rnd)\n",
        "print(rnd.shape)"
      ],
      "metadata": {
        "id": "KR5RK_ExV7aB",
        "outputId": "f3237c4c-80e8-4fb2-86df-32dfdfdc9f15",
        "colab": {
          "base_uri": "https://localhost:8080/"
        }
      },
      "execution_count": 124,
      "outputs": [
        {
          "output_type": "stream",
          "name": "stdout",
          "text": [
            "[7.53569005 3.31730017 1.24671566 8.30612796 4.71561707 1.03633656\n",
            " 5.23749638 6.34368578 4.4448471  8.82964282]\n",
            "(10,)\n"
          ]
        }
      ]
    },
    {
      "cell_type": "code",
      "source": [
        "# or normally distributed, 3D array:\n",
        "rnd = np.random.normal(loc=0.5, scale=2, size=(3, 4, 5))\n",
        "print(rnd)\n",
        "print(rnd.shape)"
      ],
      "metadata": {
        "id": "SdrRHq1tWRue",
        "outputId": "00e284dc-6fbb-4a03-ce20-bed4a1a8672d",
        "colab": {
          "base_uri": "https://localhost:8080/"
        }
      },
      "execution_count": 125,
      "outputs": [
        {
          "output_type": "stream",
          "name": "stdout",
          "text": [
            "[[[-1.59366336 -2.8864269   0.55648028 -0.87307462  1.54123154]\n",
            "  [ 2.80619727 -1.22003296 -0.64603148  1.91935228 -1.54018855]\n",
            "  [ 1.18395379  2.76426277 -0.13813067 -1.36898981  1.64549961]\n",
            "  [ 0.56487829  4.1531095  -1.6751999  -2.13055621  3.15554022]]\n",
            "\n",
            " [[ 1.83096519  1.14568528  0.31005196 -2.46330157  4.00216115]\n",
            "  [-2.24097463  1.32385994 -1.65172422  2.42435305  3.20617498]\n",
            "  [ 1.4297297   1.5343912   2.01753385  2.92296987  2.40618989]\n",
            "  [-1.98220976  1.47738487 -0.45801314  2.17635255  1.75256894]]\n",
            "\n",
            " [[-0.27168317  2.14748261  1.06929868  2.98903678  1.13532315]\n",
            "  [ 0.12754719 -1.46536961  4.35482836  0.46618233  2.36072032]\n",
            "  [-0.61241819 -0.03408075  0.46052251  0.65812354 -2.20036338]\n",
            "  [-1.46291318  1.84481731 -0.85256378  3.64602458  0.15156236]]]\n",
            "(3, 4, 5)\n"
          ]
        }
      ]
    },
    {
      "cell_type": "code",
      "source": [
        "# Let's check distribution:\n",
        "plt.hist(rnd.flatten(), 10);"
      ],
      "metadata": {
        "id": "rZXXQ7joWtK1",
        "outputId": "99a7a7e0-e7cb-4a85-d701-4e98acfa889c",
        "colab": {
          "base_uri": "https://localhost:8080/",
          "height": 0
        }
      },
      "execution_count": 126,
      "outputs": [
        {
          "output_type": "display_data",
          "data": {
            "image/png": "[encoded data removed]",
            "text/plain": [
              "<Figure size 432x288 with 1 Axes>"
            ]
          },
          "metadata": {
            "needs_background": "light"
          }
        }
      ]
    },
    {
      "cell_type": "code",
      "metadata": {
        "id": "xfx4gLbEmTZA",
        "outputId": "a439d24f-528b-40bc-b4c9-5d71760b7b14",
        "colab": {
          "base_uri": "https://localhost:8080/"
        }
      },
      "source": [
        "# Arrays statistics can be obtained like:\n",
        "print('array `rnd` mean = ', rnd.mean())\n",
        "print('array `rnd` standard deviation = ', rnd.std())\n",
        "print('array `rnd` minimum = ', rnd.min())\n",
        "print('array `rnd` maximum = ', rnd.max())\n",
        "print('array `rnd` maximum 40th percentile= ', np.percentile(rnd, 40))\n"
      ],
      "execution_count": 127,
      "outputs": [
        {
          "output_type": "stream",
          "name": "stdout",
          "text": [
            "array `rnd` mean =  0.6982406315210762\n",
            "array `rnd` standard deviation =  1.8586536625603798\n",
            "array `rnd` minimum =  -2.8864268979775356\n",
            "array `rnd` maximum =  4.354828357364116\n",
            "array `rnd` maximum 40th percentile=  0.2466561206046159\n"
          ]
        }
      ]
    },
    {
      "cell_type": "code",
      "source": [
        "# To get an element form an 1D array:\n",
        "print(np.random.choice(arr))"
      ],
      "metadata": {
        "id": "oVhGYgE6YJJS",
        "outputId": "acb31dbd-43f7-4595-8794-8b88379726cc",
        "colab": {
          "base_uri": "https://localhost:8080/"
        }
      },
      "execution_count": 128,
      "outputs": [
        {
          "output_type": "stream",
          "name": "stdout",
          "text": [
            "0\n"
          ]
        }
      ]
    },
    {
      "cell_type": "code",
      "source": [
        "# or several elements:\n",
        "mtx = np.random.choice(arr, size=(2,2))\n",
        "print(mtx)"
      ],
      "metadata": {
        "id": "04TaJO8RYaf1",
        "outputId": "0c165204-2bc4-453b-9bfb-7fc51a439123",
        "colab": {
          "base_uri": "https://localhost:8080/"
        }
      },
      "execution_count": 129,
      "outputs": [
        {
          "output_type": "stream",
          "name": "stdout",
          "text": [
            "[[5 4]\n",
            " [2 1]]\n"
          ]
        }
      ]
    },
    {
      "cell_type": "code",
      "metadata": {
        "id": "e7WySajre_xb",
        "outputId": "6945c22e-8a6d-42cc-94f8-3a55d5ac8754",
        "colab": {
          "base_uri": "https://localhost:8080/"
        }
      },
      "source": [
        "# Matrix multiplication\n",
        "np.dot([1, 2], mtx)  # can be also written as [1, 2]@ mtx"
      ],
      "execution_count": 130,
      "outputs": [
        {
          "output_type": "execute_result",
          "data": {
            "text/plain": [
              "array([9, 6])"
            ]
          },
          "metadata": {},
          "execution_count": 130
        }
      ]
    },
    {
      "cell_type": "markdown",
      "source": [
        "---"
      ],
      "metadata": {
        "id": "SWxvCDPKnjIT"
      }
    },
    {
      "cell_type": "code",
      "metadata": {
        "id": "KJ3npk1vmcwu",
        "outputId": "8ff0ebb0-1899-4c93-e1d2-6d00dd9ebbf3",
        "colab": {
          "base_uri": "https://localhost:8080/"
        }
      },
      "source": [
        "# Sometimes it's needed to obtain grid of values, given set of values along each axis, \n",
        "# e.g. for a grid search or visualization. `meshgrid` does it so\n",
        "\n",
        "\n",
        "# define set of values along x, y axes\n",
        "x_coords = np.linspace(0, 4.5, 10)      # 10 values between 0 and 45\n",
        "y_coords = np.linspace(-10, -5.5, 10)   # 10 values between -10 and -6.5\n",
        "\n",
        "# create the meshgrid\n",
        "meshgrid_x, meshgrid_y = np.meshgrid(x_coords, y_coords)\n",
        "print(meshgrid_x.shape, meshgrid_y.shape)  # all x, y coordinates of the mesh"
      ],
      "execution_count": 131,
      "outputs": [
        {
          "output_type": "stream",
          "name": "stdout",
          "text": [
            "(10, 10) (10, 10)\n"
          ]
        }
      ]
    },
    {
      "cell_type": "code",
      "source": [
        "print(meshgrid_x)"
      ],
      "metadata": {
        "id": "DSk3KARGc_Yu",
        "outputId": "a6068602-e236-4153-fba0-82523229c78b",
        "colab": {
          "base_uri": "https://localhost:8080/"
        }
      },
      "execution_count": 132,
      "outputs": [
        {
          "output_type": "stream",
          "name": "stdout",
          "text": [
            "[[0.  0.5 1.  1.5 2.  2.5 3.  3.5 4.  4.5]\n",
            " [0.  0.5 1.  1.5 2.  2.5 3.  3.5 4.  4.5]\n",
            " [0.  0.5 1.  1.5 2.  2.5 3.  3.5 4.  4.5]\n",
            " [0.  0.5 1.  1.5 2.  2.5 3.  3.5 4.  4.5]\n",
            " [0.  0.5 1.  1.5 2.  2.5 3.  3.5 4.  4.5]\n",
            " [0.  0.5 1.  1.5 2.  2.5 3.  3.5 4.  4.5]\n",
            " [0.  0.5 1.  1.5 2.  2.5 3.  3.5 4.  4.5]\n",
            " [0.  0.5 1.  1.5 2.  2.5 3.  3.5 4.  4.5]\n",
            " [0.  0.5 1.  1.5 2.  2.5 3.  3.5 4.  4.5]\n",
            " [0.  0.5 1.  1.5 2.  2.5 3.  3.5 4.  4.5]]\n"
          ]
        }
      ]
    },
    {
      "cell_type": "code",
      "source": [
        "print(meshgrid_y)"
      ],
      "metadata": {
        "id": "EzqBiwAucs3H",
        "outputId": "8adaef4b-c38c-468e-a8ea-b331a783eee5",
        "colab": {
          "base_uri": "https://localhost:8080/"
        }
      },
      "execution_count": 133,
      "outputs": [
        {
          "output_type": "stream",
          "name": "stdout",
          "text": [
            "[[-10.  -10.  -10.  -10.  -10.  -10.  -10.  -10.  -10.  -10. ]\n",
            " [ -9.5  -9.5  -9.5  -9.5  -9.5  -9.5  -9.5  -9.5  -9.5  -9.5]\n",
            " [ -9.   -9.   -9.   -9.   -9.   -9.   -9.   -9.   -9.   -9. ]\n",
            " [ -8.5  -8.5  -8.5  -8.5  -8.5  -8.5  -8.5  -8.5  -8.5  -8.5]\n",
            " [ -8.   -8.   -8.   -8.   -8.   -8.   -8.   -8.   -8.   -8. ]\n",
            " [ -7.5  -7.5  -7.5  -7.5  -7.5  -7.5  -7.5  -7.5  -7.5  -7.5]\n",
            " [ -7.   -7.   -7.   -7.   -7.   -7.   -7.   -7.   -7.   -7. ]\n",
            " [ -6.5  -6.5  -6.5  -6.5  -6.5  -6.5  -6.5  -6.5  -6.5  -6.5]\n",
            " [ -6.   -6.   -6.   -6.   -6.   -6.   -6.   -6.   -6.   -6. ]\n",
            " [ -5.5  -5.5  -5.5  -5.5  -5.5  -5.5  -5.5  -5.5  -5.5  -5.5]]\n"
          ]
        }
      ]
    },
    {
      "cell_type": "code",
      "source": [
        "# To plot the points created by the meshgrid we need to flatten them:\n",
        "x_coordinates = meshgrid_x.flatten()\n",
        "y_coordinates = meshgrid_y.flatten()\n",
        "index = np.arange(len(x_coordinates))\n",
        "\n",
        "sc = plt.scatter(x_coordinates, y_coordinates, c=index, cmap=plt.cm.gist_earth)\n",
        "plt.colorbar(sc, ax=plt.gca())"
      ],
      "metadata": {
        "id": "o0xTiQl2cQ5k",
        "outputId": "780233a7-e2d8-437b-8ffd-1c1ce76a287c",
        "colab": {
          "base_uri": "https://localhost:8080/",
          "height": 0
        }
      },
      "execution_count": 134,
      "outputs": [
        {
          "output_type": "execute_result",
          "data": {
            "text/plain": [
              "<matplotlib.colorbar.Colorbar at 0x7f978c045690>"
            ]
          },
          "metadata": {},
          "execution_count": 134
        },
        {
          "output_type": "display_data",
          "data": {
            "image/png": "[encoded data removed]",
            "text/plain": [
              "<Figure size 432x288 with 2 Axes>"
            ]
          },
          "metadata": {
            "needs_background": "light"
          }
        }
      ]
    },
    {
      "cell_type": "markdown",
      "source": [
        "---"
      ],
      "metadata": {
        "id": "HW-Nw2FenYia"
      }
    },
    {
      "cell_type": "code",
      "source": [
        "# Arrays can be concatenated along a specific axis, provided the other dimensions are same\n",
        "\n",
        "arr_1 = np.zeros(shape=(5, 3, 6))\n",
        "arr_2 = np.ones(shape=(5, 4, 6))\n",
        "\n",
        "print(arr_1.shape, arr_2.shape)\n",
        "#print(arr_1)\n",
        "#print(arr_2)"
      ],
      "metadata": {
        "id": "g--l6v-cj-pS",
        "outputId": "687027ad-c383-46a1-9228-1f377d7fdfad",
        "colab": {
          "base_uri": "https://localhost:8080/"
        }
      },
      "execution_count": 135,
      "outputs": [
        {
          "output_type": "stream",
          "name": "stdout",
          "text": [
            "(5, 3, 6) (5, 4, 6)\n"
          ]
        }
      ]
    },
    {
      "cell_type": "code",
      "metadata": {
        "id": "_PDW38NTmdza",
        "outputId": "28d0e451-1fd3-4c04-b13f-6d0ce0cd4ef2",
        "colab": {
          "base_uri": "https://localhost:8080/"
        }
      },
      "source": [
        "arr_conc = np.concatenate((arr_1, arr_2), axis=1)\n",
        "\n",
        "print(arr_conc.shape)"
      ],
      "execution_count": 136,
      "outputs": [
        {
          "output_type": "stream",
          "name": "stdout",
          "text": [
            "(5, 7, 6)\n"
          ]
        }
      ]
    },
    {
      "cell_type": "code",
      "source": [
        "# stack along new last axis\n",
        "arr_stack = np.stack((arr_1, arr_2[:, :-1]), axis=-1)\n",
        "\n",
        "print(arr_stack.shape)"
      ],
      "metadata": {
        "id": "WXwDyLYjoOWg",
        "outputId": "91821f37-8cec-425e-ba1b-335a73febb93",
        "colab": {
          "base_uri": "https://localhost:8080/"
        }
      },
      "execution_count": 137,
      "outputs": [
        {
          "output_type": "stream",
          "name": "stdout",
          "text": [
            "(5, 3, 6, 2)\n"
          ]
        }
      ]
    },
    {
      "cell_type": "code",
      "source": [
        "# Similarly to indexing one element, multiple elements of an array can be obtained\n",
        "y = np.arange(6)**2\n",
        "print(y)\n",
        "\n",
        "print(f'y[2] = {y[2]}')\n",
        "print(f'y[4] = {y[4]}')\n",
        "print(f'y[[2,4]] = {y[[2,4]]}')"
      ],
      "metadata": {
        "id": "OqkjxZxgpPti",
        "outputId": "6cf07ddd-1312-4f6b-86f9-7b678b9d6410",
        "colab": {
          "base_uri": "https://localhost:8080/"
        }
      },
      "execution_count": 138,
      "outputs": [
        {
          "output_type": "stream",
          "name": "stdout",
          "text": [
            "[ 0  1  4  9 16 25]\n",
            "y[2] = 4\n",
            "y[4] = 16\n",
            "y[[2,4]] = [ 4 16]\n"
          ]
        }
      ]
    },
    {
      "cell_type": "code",
      "metadata": {
        "id": "P0QdU3ggmiBC",
        "outputId": "b15a0ccc-3ee1-4c5f-9ce7-86870dc1e7dd",
        "colab": {
          "base_uri": "https://localhost:8080/"
        }
      },
      "source": [
        "# This can be useful to shuffle several arrays elements coherently:\n",
        "\n",
        "shuffled_indexes = np.random.permutation(len(y))\n",
        "y_shuffled = y[shuffled_indexes]\n",
        "print(f'{y}[{shuffled_indexes}] = {y_shuffled}')"
      ],
      "execution_count": 139,
      "outputs": [
        {
          "output_type": "stream",
          "name": "stdout",
          "text": [
            "[ 0  1  4  9 16 25][[2 4 0 1 3 5]] = [ 4 16  0  1  9 25]\n"
          ]
        }
      ]
    },
    {
      "cell_type": "code",
      "metadata": {
        "id": "G2Xi9wBLm6aw",
        "outputId": "03b85bea-8cf4-4896-f398-265843771c9a",
        "colab": {
          "base_uri": "https://localhost:8080/"
        }
      },
      "source": [
        "# Boolean arrays of same dimensions can be used as masks\n",
        "mask = [True, False, False, False, False, True]\n",
        "print(f'{y}[{mask}] = {y[mask]}')"
      ],
      "execution_count": 140,
      "outputs": [
        {
          "output_type": "stream",
          "name": "stdout",
          "text": [
            "[ 0  1  4  9 16 25][[True, False, False, False, False, True]] = [ 0 25]\n"
          ]
        }
      ]
    },
    {
      "cell_type": "code",
      "source": [
        "# This is useful to select group of elements:\n",
        "mask_above_2 = y > 2\n",
        "print(mask_above_2)\n",
        "\n",
        "mask_less_17 = y <17\n",
        "print(mask_less_17)\n",
        "\n",
        "mask = mask_above_2 * mask_less_17  # elementwise `and` operation on Boolean numpy arrays\n",
        "print(mask)\n",
        "\n",
        "print('values between 2 and 17:', y[mask])"
      ],
      "metadata": {
        "id": "OESo1PsNrQXM",
        "outputId": "5428632b-818b-40b3-b1ff-48e65514a543",
        "colab": {
          "base_uri": "https://localhost:8080/"
        }
      },
      "execution_count": 141,
      "outputs": [
        {
          "output_type": "stream",
          "name": "stdout",
          "text": [
            "[False False  True  True  True  True]\n",
            "[ True  True  True  True  True False]\n",
            "[False False  True  True  True False]\n",
            "values between 2 and 17: [ 4  9 16]\n"
          ]
        }
      ]
    },
    {
      "cell_type": "markdown",
      "source": [
        "---"
      ],
      "metadata": {
        "id": "EByo3G2NsD3q"
      }
    },
    {
      "cell_type": "code",
      "source": [
        "# To get index of first smallest or largest element use `argmin` and `argmax`:\n",
        "\n",
        "print(y_shuffled)\n",
        "\n",
        "ixd_smallest = y_shuffled.argmin()\n",
        "ixd_largest = y_shuffled.argmax()\n",
        "\n",
        "print(f'index of smallest element: {ixd_smallest}. {y_shuffled}[{ixd_smallest}] = {y_shuffled[ixd_smallest]}')\n",
        "print(f'index of largest element: {ixd_largest}. {y_shuffled}[{ixd_largest}] = {y_shuffled[ixd_largest]}')"
      ],
      "metadata": {
        "id": "fyCLpDiPsTXt",
        "outputId": "19ea144c-bb60-47be-ff4f-69d15316b012",
        "colab": {
          "base_uri": "https://localhost:8080/"
        }
      },
      "execution_count": 142,
      "outputs": [
        {
          "output_type": "stream",
          "name": "stdout",
          "text": [
            "[ 4 16  0  1  9 25]\n",
            "index of smallest element: 2. [ 4 16  0  1  9 25][2] = 0\n",
            "index of largest element: 5. [ 4 16  0  1  9 25][5] = 25\n"
          ]
        }
      ]
    },
    {
      "cell_type": "code",
      "source": [
        "# Form multidimensional array, or if more the one element has to be found - use argwhere:\n",
        "coords_elements_above_3 = np.argwhere(rnd > 3)\n",
        "print(coords_elements_above_3)\n",
        "\n",
        "for i, j, k in coords_elements_above_3:\n",
        "  print(f'rnd[{i}, {j}, {k}] = {rnd[i, j, k]}')"
      ],
      "metadata": {
        "id": "uxnZuhd8tDYq",
        "outputId": "5cfcf500-eee1-49a3-fcb0-86ea31e2dc28",
        "colab": {
          "base_uri": "https://localhost:8080/"
        }
      },
      "execution_count": 143,
      "outputs": [
        {
          "output_type": "stream",
          "name": "stdout",
          "text": [
            "[[0 3 1]\n",
            " [0 3 4]\n",
            " [1 0 4]\n",
            " [1 1 4]\n",
            " [2 1 2]\n",
            " [2 3 3]]\n",
            "rnd[0, 3, 1] = 4.153109501445277\n",
            "rnd[0, 3, 4] = 3.155540223884433\n",
            "rnd[1, 0, 4] = 4.002161152493509\n",
            "rnd[1, 1, 4] = 3.2061749819808547\n",
            "rnd[2, 1, 2] = 4.354828357364116\n",
            "rnd[2, 3, 3] = 3.6460245837970087\n"
          ]
        }
      ]
    },
    {
      "cell_type": "code",
      "source": [
        "# Transposing index groups allows to obtain index arrays for each axis\n",
        "arr_i, arr_j, arr_k = coords_elements_above_3.T\n",
        "print(arr_i)\n",
        "print(arr_j)\n",
        "print(arr_k)"
      ],
      "metadata": {
        "id": "mfUt89BMXi_f",
        "outputId": "8e5386df-24cb-4525-c225-b04abd14c6f6",
        "colab": {
          "base_uri": "https://localhost:8080/"
        }
      },
      "execution_count": 144,
      "outputs": [
        {
          "output_type": "stream",
          "name": "stdout",
          "text": [
            "[0 0 1 1 2 2]\n",
            "[3 3 0 1 1 3]\n",
            "[1 4 4 4 2 3]\n"
          ]
        }
      ]
    },
    {
      "cell_type": "markdown",
      "source": [
        "# 2. Image"
      ],
      "metadata": {
        "id": "dvIWHnPdJT3w"
      }
    },
    {
      "cell_type": "code",
      "source": [
        "# Loading an image from file or an URL\n",
        "from skimage import io\n",
        "\n",
        "image = io.imread('https://github.com/neworldemancer/DSF5/raw/master/figures/unibe.jpg')\n",
        "print(image.shape)"
      ],
      "metadata": {
        "id": "VN2wP54lJaTk",
        "outputId": "09cc1f9e-eb0f-491b-a36a-d56a24e58db3",
        "colab": {
          "base_uri": "https://localhost:8080/"
        }
      },
      "execution_count": 145,
      "outputs": [
        {
          "output_type": "stream",
          "name": "stdout",
          "text": [
            "(600, 900, 3)\n"
          ]
        }
      ]
    },
    {
      "cell_type": "code",
      "source": [
        "# Display an image with pyplot\n",
        "plt.imshow(image);"
      ],
      "metadata": {
        "id": "l-UqZTNKaShx",
        "outputId": "98fdf50d-20a8-4c00-f725-6190019006a3",
        "colab": {
          "base_uri": "https://localhost:8080/",
          "height": 0
        }
      },
      "execution_count": 146,
      "outputs": [
        {
          "output_type": "display_data",
          "data": {
            "image/png": "[encoded data removed]",
            "text/plain": [
              "<Figure size 432x288 with 1 Axes>"
            ]
          },
          "metadata": {
            "needs_background": "light"
          }
        }
      ]
    },
    {
      "cell_type": "code",
      "source": [
        "# Any 2D map can be visualized similarly, e.g. a 2D histogram:\n",
        "\n",
        "values = np.random.multivariate_normal([0, 0], [[1, 0.3],[ 0.3, 0.2]], size=1000)\n",
        "plt.scatter(*values.T, s=5)\n",
        "\n",
        "h, bx, by = np.histogram2d(*values.T, bins = 20)\n",
        "plt.show()\n",
        "\n",
        "plt.imshow(h, origin='lower')\n",
        "plt.show()"
      ],
      "metadata": {
        "id": "9VNAkONjVXPt",
        "outputId": "1a86de99-8a43-42b9-acde-43fbf3440f29",
        "colab": {
          "base_uri": "https://localhost:8080/",
          "height": 0
        }
      },
      "execution_count": 147,
      "outputs": [
        {
          "output_type": "display_data",
          "data": {
            "image/png": "[encoded data removed]",
            "text/plain": [
              "<Figure size 432x288 with 1 Axes>"
            ]
          },
          "metadata": {
            "needs_background": "light"
          }
        },
        {
          "output_type": "display_data",
          "data": {
            "image/png": "[encoded data removed]",
            "text/plain": [
              "<Figure size 432x288 with 1 Axes>"
            ]
          },
          "metadata": {
            "needs_background": "light"
          }
        }
      ]
    },
    {
      "cell_type": "markdown",
      "metadata": {
        "id": "bbfroLuAnlce"
      },
      "source": [
        "# 3. Object methods"
      ]
    },
    {
      "cell_type": "markdown",
      "source": [
        "Methods of objects are called by writing object_name.method_name similarly to how we do for modules:\n",
        "\n",
        "```xx.yy(smth=value, smth2=v0)```\n",
        "\n",
        "E.g. `plt.plot` and `np.max` - method of modules `plt` and `np`; `arr_i.max` - method of object `arr_i`.\n",
        "\n",
        "When you start typing anything in the brackets or press `Shift + Tab` in Colab or Jupyter - a `__doc__` string of the function will be shown. You can see all the parameters, their description, and often examples. Don't even need to google it;)"
      ],
      "metadata": {
        "id": "atmbseuVoktZ"
      }
    },
    {
      "cell_type": "markdown",
      "metadata": {
        "id": "uRAvV9F1ouiV"
      },
      "source": [
        "# 4. Interactive & Animation"
      ]
    },
    {
      "cell_type": "code",
      "source": [
        "from ipywidgets import interact"
      ],
      "metadata": {
        "id": "g7nebfVWxHbA"
      },
      "execution_count": 148,
      "outputs": []
    },
    {
      "cell_type": "code",
      "metadata": {
        "id": "8z2YQCJZBYEW",
        "outputId": "9b93fc0b-243a-412e-b7de-a2afa0a02395",
        "colab": {
          "base_uri": "https://localhost:8080/",
          "height": 345,
          "referenced_widgets": [
            "98e742499a964b09903bb5255b25deff",
            "368041bef1f145c482011bddb35712f2",
            "cbe1616572df40739a24425638fff2f8",
            "1e19c3de49bf4d2b88710957eff4c55f",
            "1e71b34bb60744209c4b35310e192f10",
            "401c7594bf1f4c8c81a82665844589bc",
            "4e648671656f4218ad8b1bdf5a468e27",
            "3c25c4f8592f4703a9f3fad1c5e85d22",
            "297e7af7a0de4af1ab3616ba6c283621",
            "ee47e57554dd4dbe8e2f14fc0056aca4"
          ]
        }
      },
      "source": [
        "# You can often get much better intuition if you explore a range of parameters.\n",
        "# one way to do it - is with interactive widgets\n",
        "\n",
        "# Here we plot a line with different slope and intercept depending on the parameters set\n",
        "\n",
        "@interact  # creates widgets according to function parameters (see https://ipywidgets.readthedocs.io/en/latest/examples/Widget%20Basics.html)\n",
        "def plot(a=(-5, 5, 0.1), b=(-5, 5, 0.1)): # each parameter will be interactive\n",
        "    # parameters for each variable are in range() format: start:stop:step\n",
        "    \n",
        "    f = lambda x: a*x+b\n",
        "    x0 = -10\n",
        "    x1 = 10\n",
        "\n",
        "    y0 = f(x0)\n",
        "    y1 = f(x1)\n",
        "\n",
        "    plt.plot([x0, x1], [y0, y1])\n",
        "\n",
        "    plt.gca().set_aspect('equal')\n",
        "    plt.xlim(-10, 10)\n",
        "    plt.ylim(-10, 10)\n",
        "    plt.title(f'y={a:.1f}x+{b:.1f}')\n",
        "    plt.grid(True)\n",
        "    plt.show()\n",
        "    "
      ],
      "execution_count": 149,
      "outputs": [
        {
          "output_type": "display_data",
          "data": {
            "application/vnd.jupyter.widget-view+json": {
              "model_id": "98e742499a964b09903bb5255b25deff",
              "version_minor": 0,
              "version_major": 2
            },
            "text/plain": [
              "interactive(children=(FloatSlider(value=0.0, description='a', max=5.0, min=-5.0), FloatSlider(value=0.0, descr…"
            ]
          },
          "metadata": {}
        }
      ]
    },
    {
      "cell_type": "markdown",
      "source": [
        "The function above is called on each parameter update. This means, that if the function takes long to compute such approach might be not usable.\n",
        "\n",
        "Animation serves similar purpose, but all frames are pre-rendered. It is fast for visualization, but can take long to render all frames, and will have large memory footprint with many frames."
      ],
      "metadata": {
        "id": "rOTrVWs-aWGl"
      }
    },
    {
      "cell_type": "code",
      "source": [
        "from matplotlib import animation\n",
        "plt.rcParams[\"animation.html\"] = \"jshtml\"  # for matplotlib 2.1 and above, uses JavaScript"
      ],
      "metadata": {
        "id": "1WTt9Xu1YOi0"
      },
      "execution_count": 150,
      "outputs": []
    },
    {
      "cell_type": "code",
      "source": [
        "%%capture   \n",
        "# cell magic `capture` suppresses output of this cell\n",
        "\n",
        "f = lambda x, a: a*x+1\n",
        "x0 = -10\n",
        "x1 = 10\n",
        "\n",
        "a = 0\n",
        "y0 = f(x0, a)\n",
        "y1 = f(x1, a)\n",
        "\n",
        "fig = plt.figure()\n",
        "lines = plt.plot( [x0, x1], [y0, y1])\n",
        "\n",
        "plt.gca().set_aspect('equal')\n",
        "plt.xlim(-10, 10)\n",
        "plt.ylim(-10, 10)\n",
        "plt.grid(True)\n",
        "\n",
        "\n",
        "def animate(i):\n",
        "    a = 0.1 * i\n",
        "    y0 = f(x0, a)\n",
        "    y1 = f(x1, a)\n",
        "\n",
        "    l = lines[0]\n",
        "    l.set_data([x0, x1], [y0, y1])\n",
        "    return lines\n",
        "\n",
        "ani = animation.FuncAnimation(fig, animate, frames=10)\n"
      ],
      "metadata": {
        "id": "124vSPn4YyqK"
      },
      "execution_count": 151,
      "outputs": []
    },
    {
      "cell_type": "code",
      "source": [
        "# Show animation\n",
        "ani"
      ],
      "metadata": {
        "id": "rHZVR_YEZyZK",
        "outputId": "691f6e80-8c06-4b71-ec14-fdd9d48a8d79",
        "colab": {
          "base_uri": "https://localhost:8080/",
          "height": 386
        }
      },
      "execution_count": 152,
      "outputs": [
        {
          "output_type": "execute_result",
          "data": {
            "text/html": [
              "\n",
              "<link rel=\"stylesheet\"\n",
              "href=\"https://maxcdn.bootstrapcdn.com/font-awesome/4.4.0/\n",
              "css/font-awesome.min.css\">\n",
              "<script language=\"javascript\">\n",
              "  function isInternetExplorer() {\n",
              "    ua = navigator.userAgent;\n",
              "    /* MSIE used to detect old browsers and Trident used to newer ones*/\n",
              "    return ua.indexOf(\"MSIE \") > -1 || ua.indexOf(\"Trident/\") > -1;\n",
              "  }\n",
              "\n",
              "  /* Define the Animation class */\n",
              "  function Animation(frames, img_id, slider_id, interval, loop_select_id){\n",
              "    this.img_id = img_id;\n",
              "    this.slider_id = slider_id;\n",
              "    this.loop_select_id = loop_select_id;\n",
              "    this.interval = interval;\n",
              "    this.current_frame = 0;\n",
              "    this.direction = 0;\n",
              "    this.timer = null;\n",
              "    this.frames = new Array(frames.length);\n",
              "\n",
              "    for (var i=0; i<frames.length; i++)\n",
              "    {\n",
              "     this.frames[i] = new Image();\n",
              "     this.frames[i].src = frames[i];\n",
              "    }\n",
              "    var slider = document.getElementById(this.slider_id);\n",
              "    slider.max = this.frames.length - 1;\n",
              "    if (isInternetExplorer()) {\n",
              "        // switch from oninput to onchange because IE <= 11 does not conform\n",
              "        // with W3C specification. It ignores oninput and onchange behaves\n",
              "        // like oninput. In contrast, Mircosoft Edge behaves correctly.\n",
              "        slider.setAttribute('onchange', slider.getAttribute('oninput'));\n",
              "        slider.setAttribute('oninput', null);\n",
              "    }\n",
              "    this.set_frame(this.current_frame);\n",
              "  }\n",
              "\n",
              "  Animation.prototype.get_loop_state = function(){\n",
              "    var button_group = document[this.loop_select_id].state;\n",
              "    for (var i = 0; i < button_group.length; i++) {\n",
              "        var button = button_group[i];\n",
              "        if (button.checked) {\n",
              "            return button.value;\n",
              "        }\n",
              "    }\n",
              "    return undefined;\n",
              "  }\n",
              "\n",
              "  Animation.prototype.set_frame = function(frame){\n",
              "    this.current_frame = frame;\n",
              "    document.getElementById(this.img_id).src =\n",
              "            this.frames[this.current_frame].src;\n",
              "    document.getElementById(this.slider_id).value = this.current_frame;\n",
              "  }\n",
              "\n",
              "  Animation.prototype.next_frame = function()\n",
              "  {\n",
              "    this.set_frame(Math.min(this.frames.length - 1, this.current_frame + 1));\n",
              "  }\n",
              "\n",
              "  Animation.prototype.previous_frame = function()\n",
              "  {\n",
              "    this.set_frame(Math.max(0, this.current_frame - 1));\n",
              "  }\n",
              "\n",
              "  Animation.prototype.first_frame = function()\n",
              "  {\n",
              "    this.set_frame(0);\n",
              "  }\n",
              "\n",
              "  Animation.prototype.last_frame = function()\n",
              "  {\n",
              "    this.set_frame(this.frames.length - 1);\n",
              "  }\n",
              "\n",
              "  Animation.prototype.slower = function()\n",
              "  {\n",
              "    this.interval /= 0.7;\n",
              "    if(this.direction > 0){this.play_animation();}\n",
              "    else if(this.direction < 0){this.reverse_animation();}\n",
              "  }\n",
              "\n",
              "  Animation.prototype.faster = function()\n",
              "  {\n",
              "    this.interval *= 0.7;\n",
              "    if(this.direction > 0){this.play_animation();}\n",
              "    else if(this.direction < 0){this.reverse_animation();}\n",
              "  }\n",
              "\n",
              "  Animation.prototype.anim_step_forward = function()\n",
              "  {\n",
              "    this.current_frame += 1;\n",
              "    if(this.current_frame < this.frames.length){\n",
              "      this.set_frame(this.current_frame);\n",
              "    }else{\n",
              "      var loop_state = this.get_loop_state();\n",
              "      if(loop_state == \"loop\"){\n",
              "        this.first_frame();\n",
              "      }else if(loop_state == \"reflect\"){\n",
              "        this.last_frame();\n",
              "        this.reverse_animation();\n",
              "      }else{\n",
              "        this.pause_animation();\n",
              "        this.last_frame();\n",
              "      }\n",
              "    }\n",
              "  }\n",
              "\n",
              "  Animation.prototype.anim_step_reverse = function()\n",
              "  {\n",
              "    this.current_frame -= 1;\n",
              "    if(this.current_frame >= 0){\n",
              "      this.set_frame(this.current_frame);\n",
              "    }else{\n",
              "      var loop_state = this.get_loop_state();\n",
              "      if(loop_state == \"loop\"){\n",
              "        this.last_frame();\n",
              "      }else if(loop_state == \"reflect\"){\n",
              "        this.first_frame();\n",
              "        this.play_animation();\n",
              "      }else{\n",
              "        this.pause_animation();\n",
              "        this.first_frame();\n",
              "      }\n",
              "    }\n",
              "  }\n",
              "\n",
              "  Animation.prototype.pause_animation = function()\n",
              "  {\n",
              "    this.direction = 0;\n",
              "    if (this.timer){\n",
              "      clearInterval(this.timer);\n",
              "      this.timer = null;\n",
              "    }\n",
              "  }\n",
              "\n",
              "  Animation.prototype.play_animation = function()\n",
              "  {\n",
              "    this.pause_animation();\n",
              "    this.direction = 1;\n",
              "    var t = this;\n",
              "    if (!this.timer) this.timer = setInterval(function() {\n",
              "        t.anim_step_forward();\n",
              "    }, this.interval);\n",
              "  }\n",
              "\n",
              "  Animation.prototype.reverse_animation = function()\n",
              "  {\n",
              "    this.pause_animation();\n",
              "    this.direction = -1;\n",
              "    var t = this;\n",
              "    if (!this.timer) this.timer = setInterval(function() {\n",
              "        t.anim_step_reverse();\n",
              "    }, this.interval);\n",
              "  }\n",
              "</script>\n",
              "\n",
              "<style>\n",
              ".animation {\n",
              "    display: inline-block;\n",
              "    text-align: center;\n",
              "}\n",
              "input[type=range].anim-slider {\n",
              "    width: 374px;\n",
              "    margin-left: auto;\n",
              "    margin-right: auto;\n",
              "}\n",
              ".anim-buttons {\n",
              "    margin: 8px 0px;\n",
              "}\n",
              ".anim-buttons button {\n",
              "    padding: 0;\n",
              "    width: 36px;\n",
              "}\n",
              ".anim-state label {\n",
              "    margin-right: 8px;\n",
              "}\n",
              ".anim-state input {\n",
              "    margin: 0;\n",
              "    vertical-align: middle;\n",
              "}\n",
              "</style>\n",
              "\n",
              "<div class=\"animation\">\n",
              "  <img id=\"_anim_imgd8bce0f0a98e4fefb1afcfe180f2fbd7\">\n",
              "  <div class=\"anim-controls\">\n",
              "    <input id=\"_anim_sliderd8bce0f0a98e4fefb1afcfe180f2fbd7\" type=\"range\" class=\"anim-slider\"\n",
              "           name=\"points\" min=\"0\" max=\"1\" step=\"1\" value=\"0\"\n",
              "           oninput=\"animd8bce0f0a98e4fefb1afcfe180f2fbd7.set_frame(parseInt(this.value));\"></input>\n",
              "    <div class=\"anim-buttons\">\n",
              "      <button onclick=\"animd8bce0f0a98e4fefb1afcfe180f2fbd7.slower()\"><i class=\"fa fa-minus\"></i></button>\n",
              "      <button onclick=\"animd8bce0f0a98e4fefb1afcfe180f2fbd7.first_frame()\"><i class=\"fa fa-fast-backward\">\n",
              "          </i></button>\n",
              "      <button onclick=\"animd8bce0f0a98e4fefb1afcfe180f2fbd7.previous_frame()\">\n",
              "          <i class=\"fa fa-step-backward\"></i></button>\n",
              "      <button onclick=\"animd8bce0f0a98e4fefb1afcfe180f2fbd7.reverse_animation()\">\n",
              "          <i class=\"fa fa-play fa-flip-horizontal\"></i></button>\n",
              "      <button onclick=\"animd8bce0f0a98e4fefb1afcfe180f2fbd7.pause_animation()\"><i class=\"fa fa-pause\">\n",
              "          </i></button>\n",
              "      <button onclick=\"animd8bce0f0a98e4fefb1afcfe180f2fbd7.play_animation()\"><i class=\"fa fa-play\"></i>\n",
              "          </button>\n",
              "      <button onclick=\"animd8bce0f0a98e4fefb1afcfe180f2fbd7.next_frame()\"><i class=\"fa fa-step-forward\">\n",
              "          </i></button>\n",
              "      <button onclick=\"animd8bce0f0a98e4fefb1afcfe180f2fbd7.last_frame()\"><i class=\"fa fa-fast-forward\">\n",
              "          </i></button>\n",
              "      <button onclick=\"animd8bce0f0a98e4fefb1afcfe180f2fbd7.faster()\"><i class=\"fa fa-plus\"></i></button>\n",
              "    </div>\n",
              "    <form action=\"#n\" name=\"_anim_loop_selectd8bce0f0a98e4fefb1afcfe180f2fbd7\" class=\"anim-state\">\n",
              "      <input type=\"radio\" name=\"state\" value=\"once\" id=\"_anim_radio1_d8bce0f0a98e4fefb1afcfe180f2fbd7\"\n",
              "             >\n",
              "      <label for=\"_anim_radio1_d8bce0f0a98e4fefb1afcfe180f2fbd7\">Once</label>\n",
              "      <input type=\"radio\" name=\"state\" value=\"loop\" id=\"_anim_radio2_d8bce0f0a98e4fefb1afcfe180f2fbd7\"\n",
              "             checked>\n",
              "      <label for=\"_anim_radio2_d8bce0f0a98e4fefb1afcfe180f2fbd7\">Loop</label>\n",
              "      <input type=\"radio\" name=\"state\" value=\"reflect\" id=\"_anim_radio3_d8bce0f0a98e4fefb1afcfe180f2fbd7\"\n",
              "             >\n",
              "      <label for=\"_anim_radio3_d8bce0f0a98e4fefb1afcfe180f2fbd7\">Reflect</label>\n",
              "    </form>\n",
              "  </div>\n",
              "</div>\n",
              "\n",
              "\n",
              "<script language=\"javascript\">\n",
              "  /* Instantiate the Animation class. */\n",
              "  /* The IDs given should match those used in the template above. */\n",
              "  (function() {\n",
              "    var img_id = \"_anim_imgd8bce0f0a98e4fefb1afcfe180f2fbd7\";\n",
              "    var slider_id = \"_anim_sliderd8bce0f0a98e4fefb1afcfe180f2fbd7\";\n",
              "    var loop_select_id = \"_anim_loop_selectd8bce0f0a98e4fefb1afcfe180f2fbd7\";\n",
              "    var frames = new Array(10);\n",
              "    \n",
              "  frames[0] = \"data:image/png;base64,iVBORw0KGgoAAAANSUhEUgAAAbAAAAEgCAYAAADVKCZpAAAABHNCSVQICAgIfAhkiAAAAAlwSFlz\\\n",
              "AAALEgAACxIB0t1+/AAAADh0RVh0U29mdHdhcmUAbWF0cGxvdGxpYiB2ZXJzaW9uMy4yLjIsIGh0\\\n",
              "dHA6Ly9tYXRwbG90bGliLm9yZy+WH4yJAAAWbElEQVR4nO3df2xV9f3H8deFGza1CBRWKLdsXb31\\\n",
              "8qPADb0Fl2BThdtCYWVkZsB+yFK03zLIFgZT/sEQIhOXbHEJRLlfQTv/oCoRu7lSC8jNxsJs6lYW\\\n",
              "IWvKgkovbZnlsrXkGxnlfP8w3u+3a5lulHPu+/J8JCb3nvu5l/cn/PHsOb0cfY7jOAIAwJhRXg8A\\\n",
              "AMB/goABAEwiYAAAkwgYAMAkAgYAMImAAQBMImAAAJMIGADAJAIGADCJgAEATCJgAACTCBgAwCQC\\\n",
              "BgAwiYABAEwiYAAAkwgYAMAkAgYAMImAAQBMImAAAJMIGADAJAIGADCJgAEATCJgAACTCBgAwCQC\\\n",
              "BgAwiYABAEwiYAAAkwgYAMAkAgYAMImAAQBMImC3QHV1tXJyclRUVJQ6dunSJUWjURUWFioajSqZ\\\n",
              "TA773rq6OhUWFqqwsFB1dXVujQwA5vgcx3G8HiLT/OY3v1FWVpYefvhhvfvuu5Kkxx57TNnZ2dq6\\\n",
              "dat27dqlZDKpp59+etD7Ll26pEgkotbWVvl8PhUXF+udd97RhAkTvNgGAKQ1zsBugdLSUmVnZw86\\\n",
              "1tDQoLVr10qS1q5dq9dff33I+958801Fo1FlZ2drwoQJikajampqcmVmALCGgLmkp6dHubm5kqQp\\\n",
              "U6aop6dnyJpEIqFp06alnufl5SmRSLg2IwBY4vd6gNuRz+eTz+e7qc+IxWKKxWKSpNOnT+uLX/zi\\\n",
              "SIyWVq5fv65RozLvZ6xM3ZeUuXvr7e3Vhx9+6PUY+CcEzCWTJ09WV1eXcnNz1dXVpZycnCFrAoGA\\\n",
              "4vF46nlnZ6fKysqG/byamhrV1NRIkkKhkNrb22/F2J6Kx+M33L9lmbovKXP3FolEvB4Bw8i8H5XS\\\n",
              "VFVVVepbhXV1dVqxYsWQNRUVFWpublYymVQymVRzc7MqKircHhUATCBgt8CaNWv0la98Re3t7crL\\\n",
              "y9O+ffu0detWHTlyRIWFhTp69Ki2bt0qSWptbdUjjzwiScrOzta2bdtUUlKikpISPfHEE0O+DAIA\\\n",
              "+BiXEG+BAwcODHv82LFjQ45FIhE9//zzqefV1dWqrq6+ZbMBQKbgDAwAYBIBAwCYRMAAACYRMACA\\\n",
              "SQQMAGASAQMAmETAAAAmETAAgEkEDABgEgEDAJhEwAAAJhEwAIBJBAwAYBIBAwCYRMAAACYRMACA\\\n",
              "SQQMAGASAQMAmETAXNLe3q5wOJz67+6779YzzzwzaE08Hte4ceNSa3bs2OHRtACQ/vxeD3C7CIVC\\\n",
              "amtrkyQNDAwoEAho5cqVQ9bdf//9euONN9weDwDM4QzMA8eOHdM999yjL33pS16PAgBmETAP1NfX\\\n",
              "a82aNcO+dvLkSc2dO1dLly7V6dOnXZ4MAOzwOY7jeD3E7eTq1auaOnWqTp8+rcmTJw967e9//7tG\\\n",
              "jRqlrKwsNTY26gc/+IE6OjqG/ZxYLKZYLCZJ+uCDD/TKK6/c8tnd1t/fr6ysLK/HGHGZui8pc/e2\\\n",
              "ZcsWtba2ej0G/gkBc1lDQ4P27Nmj5ubmT12bn5+v1tZWTZo06V+uC4VCam9vH6kR00Y8HldZWZnX\\\n",
              "Y4y4TN2XlLl7i0QiBCwNcQnRZQcOHLjh5cPu7m598vNES0uLrl+/rokTJ7o5HgCYwbcQXXTlyhUd\\\n",
              "OXJEe/fuTR177rnnJEm1tbU6ePCgnn32Wfn9ft1xxx2qr6+Xz+fzalwASGsEzEV33XWXent7Bx2r\\\n",
              "ra1NPd64caM2btzo9lgAYBKXEAEAJhEwAIBJBAwAYBIBAwCYRMAAACYRMACASQQMAGASAQMAmETA\\\n",
              "AAAmETAAgEkEDABgEgEDAJhEwAAAJhEwAIBJBAwAYBIBAwCYRMAAACYRMACASQTMZfn5+Zo9e7bC\\\n",
              "4bAikciQ1x3H0fe//30Fg0HNmTNHf/jDHzyYEgDSn9/rAW5Hx48f16RJk4Z97fDhw+ro6FBHR4fe\\\n",
              "fvttrV+/Xm+//bbLEwJA+uMMLM00NDTo4Ycfls/n03333afLly+rq6vL67EAIO0QMJf5fD6Vl5er\\\n",
              "uLhYsVhsyOuJRELTpk1LPc/Ly1MikXBzRAAwgUuILjtx4oQCgYAuXryoaDSq6dOnq7S09N/+nFgs\\\n",
              "lgpgMplUPB4f4Um919/fz76MyeS9If0QMJcFAgFJUk5OjlauXKmWlpZBAQsEAjp//nzqeWdnZ+o9\\\n",
              "/19NTY1qamokSaFQSGVlZbd2cA/E43H2ZUwm7w3ph0uILrpy5Yr6+vpSj5ubm1VUVDRoTVVVlX7x\\\n",
              "i1/IcRz9/ve/17hx45Sbm+vFuACQ1jgDc1FPT49WrlwpSbp27Zq++c1vasmSJXruueckSbW1taqs\\\n",
              "rFRjY6OCwaDuvPNOvfDCC16ODABpi4C5qKCgQKdOnRpyvLa2NvXY5/Npz549bo4FACZxCREAYBIB\\\n",
              "AwCYRMAAACYRMACASQQMAGASAQMAmETAAAAmETAAgEkEDABgEgEDAJhEwAAAJhEwAIBJBAwAYBIB\\\n",
              "AwCYRMAAACYRMACASQQMAGASAQMAmETAXHL+/Hk98MADmjlzpmbNmqWf//znQ9bE43GNGzdO4XBY\\\n",
              "4XBYO3bs8GBSALDB7/UAtwu/36+f/vSnmjdvnvr6+lRcXKxoNKqZM2cOWnf//ffrjTfe8GhKALCD\\\n",
              "MzCX5Obmat68eZKksWPHasaMGUokEh5PBQB2ETAPvPfee/rjH/+oBQsWDHnt5MmTmjt3rpYuXarT\\\n",
              "p097MB0A2MAlRJf19/fr61//up555hndfffdg16bN2+e3n//fWVlZamxsVFf+9rX1NHRMeznxGIx\\\n",
              "xWIxSVIymVQ8Hr/Vo7uuv7+ffRmTyXtD+vE5juN4PcTt4h//+IeWL1+uiooK/fCHP/zU9fn5+Wpt\\\n",
              "bdWkSZP+5bpQKKT29vaRGjNtxONxlZWVeT3GiMvUfUmZu7dIJKLW1lavx8A/4RKiSxzH0bp16zRj\\\n",
              "xowbxqu7u1uf/DzR0tKi69eva+LEiW6OCQBmcAnRJb/73e/00ksvafbs2QqHw5KkH//4x/rggw8k\\\n",
              "SbW1tTp48KCeffZZ+f1+3XHHHaqvr5fP5/NybABIWwTMJQsXLtSnXa3duHGjNm7c6NJEAGAblxAB\\\n",
              "ACYRMACASQQMAGASAQMAmETAAAAmETAAgEkEDABgEgEDAJhEwAAAJhEwAIBJ3EoqA3Rfua5Ve096\\\n",
              "PcaIu3z5f/RsO/uyJJP3hvTDGRgAwCTOwDLAlLtG6eX/+orXY4y4j//fUuzLkkzdW+S/vZ4Aw+EM\\\n",
              "DABgEgEDAJhEwAAAJhEwAIBJBAwAYBIBc1lTU5NCoZCCwaB27do15PWPPvpIq1atUjAY1IIFC/Te\\\n",
              "e++5PyQAGEDAXDQwMKANGzbo8OHDOnPmjA4cOKAzZ84MWrNv3z5NmDBBZ8+e1aZNm/T44497NC0A\\\n",
              "pDcC5qKWlhYFg0EVFBRozJgxWr16tRoaGgataWho0Nq1ayVJDz30kI4dOybHcbwYFwDSGgFzUSKR\\\n",
              "0LRp01LP8/LylEgkbrjG7/dr3Lhx6u3tdXVOALCAO3EYFYvFFIvFJEnJZFLxeNzbgW6B/v5+9mVM\\\n",
              "Ju8N6YeAuSgQCOj8+fOp552dnQoEAsOuycvL07Vr1/S3v/1NEydOHPJZNTU1qqmpkSSFQiGVlZXd\\\n",
              "0tm98PFticq8HmPEZeq+pMzeG9IPlxBdVFJSoo6ODp07d05Xr15VfX29qqqqBq2pqqpSXV2dJOng\\\n",
              "wYN68MEH5fP5vBgXANIaZ2Au8vv92r17tyoqKjQwMKDq6mrNmjVLTzzxhCKRiKqqqrRu3Tp95zvf\\\n",
              "UTAYVHZ2turr670eGwDSEgFzWWVlpSorKwcd27FjR+rx5z//eb366qtujwUA5nAJEQBgEgEDAJhE\\\n",
              "wAAAJhEwAIBJBAwAYBIBAwCYRMAAACYRMACASQQMAGASAQMAmETAAAAmETAAgEkEDABgEgEDAJhE\\\n",
              "wAAAJhEwAIBJBAwAYBIBAwCY5Pd6gNvBj370I/3qV7/SmDFjdM899+iFF17Q+PHjh6zLz8/X2LFj\\\n",
              "NXr0aPn9frW2tnowLQDYwBmYC6LRqN5991396U9/0r333qunnnrqhmuPHz+utrY24gUAn4KAuaC8\\\n",
              "vFx+/8cnu/fdd586Ozs9nggA7CNgLtu/f7+WLl067Gs+n0/l5eUqLi5WLBZzeTIAsIXfgY2QxYsX\\\n",
              "q7u7e8jxnTt3asWKFanHfr9f3/rWt4b9jBMnTigQCOjixYuKRqOaPn26SktLh10bi8VSkUsmk4rH\\\n",
              "4yOzkTTS39/PvozJ5L0h/fgcx3G8HuJ28OKLL2rv3r06duyY7rzzzk9dv337dmVlZWnLli2fujYU\\\n",
              "Cqm9vX0kxkwr8XhcZWVlXo8x4jJ1X1Lm7i0SifB76TTEJUQXNDU16Sc/+Yl++ctf3jBeV65cUV9f\\\n",
              "X+pxc3OzioqK3BwTAEwhYC7YuHGj+vr6FI1GFQ6HVVtbK0m6cOGCKisrJUk9PT1auHCh5s6dq/nz\\\n",
              "52vZsmVasmSJl2MDQFrjd2AuOHv27LDHp06dqsbGRklSQUGBTp065eZYAGAaZ2AAAJMIGADAJAIG\\\n",
              "ADCJgAEATCJgAACTCBgAwCQCBgAwiYABAEwiYAAAkwgYAMAkAgYAMImAAQBMImAAAJMIGADAJAIG\\\n",
              "ADCJgAEATCJgAACTCBgAwCQCBgAwiYC5ZPv27QoEAgqHwwqHw2psbBx2XVNTk0KhkILBoHbt2uXy\\\n",
              "lABgh9/rAW4nmzZt0pYtW274+sDAgDZs2KAjR44oLy9PJSUlqqqq0syZM12cEgBs4AwsjbS0tCgY\\\n",
              "DKqgoEBjxozR6tWr1dDQ4PVYAJCWCJiLdu/erTlz5qi6ulrJZHLI64lEQtOmTUs9z8vLUyKRcHNE\\\n",
              "ADCDS4gjaPHixeru7h5yfOfOnVq/fr22bdsmn8+nbdu2afPmzdq/f/9//GfFYjHFYjFJUjKZVDwe\\\n",
              "/48/K1319/ezL2MyeW9IPwRsBB09evQzrXv00Ue1fPnyIccDgYDOnz+fet7Z2alAIDDsZ9TU1Kim\\\n",
              "pkaSFAqFVFZW9u8PnObi8Tj7MiaT94b0wyVEl3R1daUeHzp0SEVFRUPWlJSUqKOjQ+fOndPVq1dV\\\n",
              "X1+vqqoqN8cEADM4A3PJY489pra2Nvl8PuXn52vv3r2SpAsXLuiRRx5RY2Oj/H6/du/erYqKCg0M\\\n",
              "DKi6ulqzZs3yeHIASE8EzCUvvfTSsMenTp066N+EVVZWqrKy0q2xAMAsLiECAEwiYAAAkwgYAMAk\\\n",
              "AgYAMImAAQBMImAAAJMIGADAJAIGADCJgAEATCJgAACTCBgAwCQCBgAwiYABAEwiYAAAkwgYAMAk\\\n",
              "AgYAMImAAQBMImAAAJP8Xg9wO1i1apXa29slSZcvX9b48ePV1tY2ZF1+fr7Gjh2r0aNHy+/3q7W1\\\n",
              "1e1RAcAMAuaCl19+OfV48+bNGjdu3A3XHj9+XJMmTXJjLAAwjYC5yHEcvfLKK3rrrbe8HgUAzON3\\\n",
              "YC767W9/q8mTJ6uwsHDY130+n8rLy1VcXKxYLObydABgC2dgI2Tx4sXq7u4ecnznzp1asWKFJOnA\\\n",
              "gQNas2bNDT/jxIkTCgQCunjxoqLRqKZPn67S0tJh18ZisVTkksmk4vH4zW8izfT397MvYzJ5b0g/\\\n",
              "PsdxHK+HuB1cu3ZNgUBA77zzjvLy8j51/fbt25WVlaUtW7Z86tpQKJT6kkgmicfjKisr83qMEZep\\\n",
              "+5Iyd2+RSIQvVaUhLiG65OjRo5o+ffoN43XlyhX19fWlHjc3N6uoqMjNEQHAFALmkvr6+iGXDy9c\\\n",
              "uKDKykpJUk9PjxYuXKi5c+dq/vz5WrZsmZYsWeLFqABgAr8Dc8mLL7445NjUqVPV2NgoSSooKNCp\\\n",
              "U6dcngoA7OIMDABgEgEDAJhEwAAAJhEwAIBJBAwAYBIBAwCYRMAAACYRMACASQQMAGASAQMAmETA\\\n",
              "AAAmETAAgEkEDABgEgEDAJhEwAAAJhEwAIBJBAwAYBIBAwCYRMBG0KuvvqpZs2Zp1KhRam1tHfTa\\\n",
              "U089pWAwqFAopDfffHPY9587d04LFixQMBjUqlWrdPXqVTfGBgCTCNgIKioq0muvvabS0tJBx8+c\\\n",
              "OaP6+nqdPn1aTU1N+t73vqeBgYEh73/88ce1adMmnT17VhMmTNC+ffvcGh0AzCFgI2jGjBkKhUJD\\\n",
              "jjc0NGj16tX63Oc+py9/+csKBoNqaWkZtMZxHL311lt66KGHJElr167V66+/7srcAGARAXNBIpHQ\\\n",
              "tGnTUs/z8vKUSCQGrent7dX48ePl9/tvuAYA8H/8Xg9gzeLFi9Xd3T3k+M6dO7VixQrX5ojFYorF\\\n",
              "YpKk999/X5FIxLU/2y1//etf9YUvfMHrMUZcpu5Lyty9/fnPf/Z6BAyDgP2bjh49+m+/JxAI6Pz5\\\n",
              "86nnnZ2dCgQCg9ZMnDhRly9f1rVr1+T3+4dd8//V1NSopqZGkhSJRIZ8aSQTsC97MnVvmfgDYibg\\\n",
              "EqILqqqqVF9fr48++kjnzp1TR0eH5s+fP2iNz+fTAw88oIMHD0qS6urqXD2jAwBrCNgIOnTokPLy\\\n",
              "8nTy5EktW7ZMFRUVkqRZs2bpG9/4hmbOnKklS5Zoz549Gj16tCSpsrJSFy5ckCQ9/fTT+tnPfqZg\\\n",
              "MKje3l6tW7fOs70AQLrzOY7jeD0Ebk4sFktdTswk7MueTN1bpu7LOgIGADCJS4gAAJMImFE3e9sq\\\n",
              "K7Zv365AIKBwOKxwOKzGxkavR7opTU1NCoVCCgaD2rVrl9fjjJj8/HzNnj1b4XDY/Df2qqurlZOT\\\n",
              "o6KiotSxS5cuKRqNqrCwUNFoVMlk0sMJ8QkCZtTN3rbKkk2bNqmtrU1tbW2qrKz0epz/2MDAgDZs\\\n",
              "2KDDhw/rzJkzOnDggM6cOeP1WCPm+PHjamtrM/81+u9+97tqamoadGzXrl1atGiROjo6tGjRooz6\\\n",
              "4cMyAmbUzdy2Ct5oaWlRMBhUQUGBxowZo9WrV6uhocHrsfBPSktLlZ2dPehYQ0OD1q5dK4nbvKUT\\\n",
              "ApZhPsttq6zZvXu35syZo+rqatOXbjLx7+YTPp9P5eXlKi4uTt0hJpP09PQoNzdXkjRlyhT19PR4\\\n",
              "PBEk7sSR1tLltlW32r/a5/r167Vt2zb5fD5t27ZNmzdv1v79+z2YEv/KiRMnFAgEdPHiRUWjUU2f\\\n",
              "Pn3I5e1M4fP55PP5vB4DImBp7VbdtirdfNZ9Pvroo1q+fPktnubWsfh381l9so+cnBytXLlSLS0t\\\n",
              "GRWwyZMnq6urS7m5uerq6lJOTo7XI0FcQsw4n+W2VZZ0dXWlHh86dGjQN8OsKSkpUUdHh86dO6er\\\n",
              "V6+qvr5eVVVVXo91065cuaK+vr7U4+bmZtN/T8OpqqpSXV2dJG7zllYcmPTaa685gUDAGTNmjJOT\\\n",
              "k+OUl5enXnvyySedgoIC595773UaGxs9nPLmffvb33aKioqc2bNnO1/96ledCxcueD3STfn1r3/t\\\n",
              "FBYWOgUFBc6TTz7p9Tgj4i9/+YszZ84cZ86cOc7MmTPN72v16tXOlClTHL/f7wQCAef55593Pvzw\\\n",
              "Q+fBBx90gsGgs2jRIqe3t9frMeE4DnfiAACYxCVEAIBJBAwAYBIBAwCYRMAAACYRMACASQQMAGAS\\\n",
              "AQMAmETAAAAmETAAgEkEDABgEgEDAJhEwAAAJhEwAIBJBAwAYBIBAwCYRMAAACYRMACASQQMAGAS\\\n",
              "AQMAmETAAAAm/S9+h9AuvTntXwAAAABJRU5ErkJggg==\\\n",
              "\"\n",
              "  frames[1] = \"data:image/png;base64,iVBORw0KGgoAAAANSUhEUgAAAbAAAAEgCAYAAADVKCZpAAAABHNCSVQICAgIfAhkiAAAAAlwSFlz\\\n",
              "AAALEgAACxIB0t1+/AAAADh0RVh0U29mdHdhcmUAbWF0cGxvdGxpYiB2ZXJzaW9uMy4yLjIsIGh0\\\n",
              "dHA6Ly9tYXRwbG90bGliLm9yZy+WH4yJAAAX8ElEQVR4nO3df0yV993/8dfRE7UdiqJD8Rw3Rg89\\\n",
              "iqgncrBdYgmtHlB0OLNm1f3QBS3BSdY4Xes/Nsa7rnbJli7RtJ5UW9bkFltTy9ZRilrPd3NfJ8EN\\\n",
              "l2pKcHGtID9WPE7wvgsVr/uPrmelYLUVrut8Ds9HYnbOdT7n+P5E4Ml1Qc9clmVZAgDAMKOcHgAA\\\n",
              "gC+DgAEAjETAAABGImAAACMRMACAkQgYAMBIBAwAYCQCBgAwEgEDABiJgAEAjETAAABGImAAACMR\\\n",
              "MACAkQgYAMBIBAwAYCQCBgAwEgEDABiJgAEAjETAAABGImAAACMRMACAkQgYAMBIBAwAYCQCBgAw\\\n",
              "EgEDABiJgAEAjETAAABGImAAACMRMACAkQgYAMBIBGwYlJSUKDU1VdnZ2bFjly9fVigUUmZmpkKh\\\n",
              "kKLR6KDPraioUGZmpjIzM1VRUWHXyABgHJdlWZbTQySaP/zhD0pKStKaNWv0zjvvSJIef/xxpaSk\\\n",
              "aOvWrdq1a5ei0aieeeaZfs+7fPmygsGg6uvr5XK5lJOTo9OnT2vSpElObAMA4hpnYMMgLy9PKSkp\\\n",
              "/Y5VVVVp7dq1kqS1a9fq9ddfH/C8t956S6FQSCkpKZo0aZJCoZBqampsmRkATEPAbNLe3q60tDRJ\\\n",
              "0rRp09Te3j5gTUtLi2bMmBG77/V61dLSYtuMAGASt9MDjEQul0sul+uOXiMcDiscDkuSzp49q699\\\n",
              "7WtDMVpcuXHjhkaNSrzvsRJ1X1Li7q2zs1MffPCB02PgMwiYTaZOnarW1lalpaWptbVVqampA9Z4\\\n",
              "PB5FIpHY/ebmZuXn5w/6eqWlpSotLZUk+f1+NTY2DsfYjopEIjfdv8kSdV9S4u4tGAw6PQIGkXjf\\\n",
              "KsWp4uLi2G8VVlRUaMWKFQPWFBYWqra2VtFoVNFoVLW1tSosLLR7VAAwAgEbBqtXr9Y3v/lNNTY2\\\n",
              "yuv1at++fdq6dauOHDmizMxMHT16VFu3bpUk1dfXa/369ZKklJQUbdu2Tbm5ucrNzdWTTz454JdB\\\n",
              "AAAf4xLiMDhw4MCgx48dOzbgWDAY1AsvvBC7X1JSopKSkmGbDQASBWdgAAAjETAAgJEIGADASAQM\\\n",
              "AGAkAgYAMBIBAwAYiYABAIxEwAAARiJgAAAjETAAgJEIGADASAQMAGAkAgYAMBIBAwAYiYABAIxE\\\n",
              "wAAARiJgAAAjETAAgJEImE0aGxsVCARifyZMmKBnn32235pIJKLk5OTYmh07djg0LQDEP7fTA4wU\\\n",
              "fr9fDQ0NkqS+vj55PB6tXLlywLoHHnhAb7zxht3jAYBxOANzwLFjx3TPPffo61//utOjAICxCJgD\\\n",
              "KisrtXr16kEfO3nypObNm6elS5fq7NmzNk8GAOZwWZZlOT3ESNLb26vp06fr7Nmzmjp1ar/Hrl69\\\n",
              "qlGjRikpKUnV1dV67LHH1NTUNOjrhMNhhcNhSdL777+vV155Zdhnt1t3d7eSkpKcHmPIJeq+pMTd\\\n",
              "25YtW1RfX+/0GPgMAmazqqoq7dmzR7W1tbdcm56ervr6ek2ZMuVz1/n9fjU2Ng7ViHEjEokoPz/f\\\n",
              "6TGGXKLuS0rcvQWDQQIWh7iEaLMDBw7c9PJhW1ubPvl+oq6uTjdu3NDkyZPtHA8AjMFvIdro2rVr\\\n",
              "OnLkiPbu3Rs79vzzz0uSysrKdOjQIT333HNyu9266667VFlZKZfL5dS4ABDXCJiNvvKVr6izs7Pf\\\n",
              "sbKystjt8vJylZeX2z0WABiJS4gAACMRMACAkQgYAMBIBAwAYCQCBgAwEgEDABiJgAEAjETAAABG\\\n",
              "ImAAACMRMACAkQgYAMBIBAwAYCQCBgAwEgEDABiJgAEAjETAAABGImAAACMRMACAkQiYzdLT0zVn\\\n",
              "zhwFAgEFg8EBj1uWpZ/85Cfy+XyaO3eu/vKXvzgwJQDEP7fTA4xEx48f15QpUwZ97M0331RTU5Oa\\\n",
              "mpp06tQpbdiwQadOnbJ5QgCIf5yBxZmqqiqtWbNGLpdL999/v65cuaLW1lanxwKAuEPAbOZyuVRQ\\\n",
              "UKCcnByFw+EBj7e0tGjGjBmx+16vVy0tLXaOCABG4BKizU6cOCGPx6OOjg6FQiHNnDlTeXl5X/h1\\\n",
              "wuFwLIDRaFSRSGSIJ3Ved3c3+zJMIu8N8YeA2czj8UiSUlNTtXLlStXV1fULmMfj0cWLF2P3m5ub\\\n",
              "Y8/5tNLSUpWWlkqS/H6/8vPzh3dwB0QiEfZlmETeG+IPlxBtdO3aNXV1dcVu19bWKjs7u9+a4uJi\\\n",
              "/eY3v5FlWfrzn/+s5ORkpaWlOTEuAMQ1zsBs1N7erpUrV0qSrl+/ru9973tasmSJnn/+eUlSWVmZ\\\n",
              "ioqKVF1dLZ/Pp7vvvlsvvviikyMDQNwiYDbKyMjQmTNnBhwvKyuL3Xa5XNqzZ4+dYwGAkbiECAAw\\\n",
              "EgEDABiJgAEAjETAAABGImAAACMRMACAkQgYAMBIBAwAYCQCBgAwEgEDABiJgAEAjETAAABGImAA\\\n",
              "ACMRMACAkQgYAMBIBAwAYCQCBgAwEgEDABiJgNnk4sWLevDBB5WVlaXZs2fr17/+9YA1kUhEycnJ\\\n",
              "CgQCCgQC2rFjhwOTAoAZ3E4PMFK43W798pe/1Pz589XV1aWcnByFQiFlZWX1W/fAAw/ojTfecGhK\\\n",
              "ADAHZ2A2SUtL0/z58yVJ48eP16xZs9TS0uLwVABgLgLmgH/84x/661//qvvuu2/AYydPntS8efO0\\\n",
              "dOlSnT171oHpAMAMXEK0WXd3t77zne/o2Wef1YQJE/o9Nn/+fL333ntKSkpSdXW1vv3tb6upqWnQ\\\n",
              "1wmHwwqHw5KkaDSqSCQy3KPbrru7m30ZJpH3hvjjsizLcnqIkeKjjz7S8uXLVVhYqJ/+9Ke3XJ+e\\\n",
              "nq76+npNmTLlc9f5/X41NjYO1ZhxIxKJKD8/3+kxhlyi7ktK3L0Fg0HV19c7PQY+g0uINrEsS+vW\\\n",
              "rdOsWbNuGq+2tjZ98v1EXV2dbty4ocmTJ9s5JgAYg0uINvnTn/6kl19+WXPmzFEgEJAk/fznP9f7\\\n",
              "778vSSorK9OhQ4f03HPPye1266677lJlZaVcLpeTYwNA3CJgNlm4cKFudbW2vLxc5eXlNk0E4PNY\\\n",
              "lqWunuvquPqh06PgJggYgBHl02HquNqj9q4P1X61J3b7n7FjH+rDj25Ikj7/p9BwCgEDkBC+TJg+\\\n",
              "7e4xozVtwjh9dfxYzfNOVOr4sZo6YZxSJ4zVfx11YEO4JQIGIK4NZ5hSx4/T1AljlTphnJLG3vzL\\\n",
              "4X8N5wbxpREwAI6IhzDBbPzLAhhShAl24SMAwG25nTD9o+N/dPVYDWGCLfhIAUa4wcLUcbVH7Z85\\\n",
              "Y+q42qP//ahvwPM/HaaM5FHKvudrhAm24CMKSFBDGabbPWP6+K2ksga8FjAcCBhgGCfCBMQjPkKB\\\n",
              "OEGYgC+Gj2RgmH02TP//0nU1/r+/EybgDvERD3xJ/wlTjzquftjvjKmjq/9Z1IAw/e1dwgTcIT4z\\\n",
              "gM+4ozBJ+sqY0Zr6OWF6790zWr44jzABd4jPIIwYwx2m2z1j6rk4ingBQ4DPIhgvXsIEwF58RiJu\\\n",
              "WZalqx9+RJgADIrPXNjuds+YWq/8j3rfqh3wfMIEQCJgGEKfDVNHV4/ar37YL0wd/37/vNs5Y5o5\\\n",
              "vlfBrEzCBGBQfCWwWU1NjR577DH19fVp/fr12rp1a7/He3p6tGbNGp0+fVqTJ0/WwYMHlZ6e7syw\\\n",
              "/zaUYZr7Bc6YIpGI8vMy7NomAMMQMBv19fVp48aNOnLkiLxer3Jzc1VcXKysrP+8d9y+ffs0adIk\\\n",
              "nT9/XpWVlXriiSd08ODBYZnHqTABwFDgK4uN6urq5PP5lJHx8VnFqlWrVFVV1S9gVVVV2r59uyTp\\\n",
              "4YcfVnl5uSzLksvluu2/hzABGAn4CmSjlpYWzZgxI3bf6/Xq1KlTN13jdruVnJyszs5OTZky5aav\\\n",
              "e/lDS+X//RfCBGBE4SuVocLhsMLhsCTpas8N1Z9vU/JYl6aNc8nvcWni2DGaNNal5LEuTRr38f/e\\\n",
              "5f7kLK7n338k3ZB0Req5Ir2vj//Ei+7ubkUiEafHGHKJui8psfeG+EPAbOTxeHTx4sXY/ebmZnk8\\\n",
              "nkHXeL1eXb9+Xf/61780efLkAa9VWlqq0tJSSZLf79efnywa3uEd8PH/t1S+02MMuUTdl5TYe0P8\\\n",
              "GeX0ACNJbm6umpqadOHCBfX29qqyslLFxcX91hQXF6uiokKSdOjQIT300ENf6OdfADBScAZmI7fb\\\n",
              "rd27d6uwsFB9fX0qKSnR7Nmz9eSTTyoYDKq4uFjr1q3TD3/4Q/l8PqWkpKiystLpsQEgLhEwmxUV\\\n",
              "FamoqP/lvh07dsRujxs3Tq+++qrdYwGAcbiECAAwEgEDABiJgAEAjETAAABGImAAACMRMACAkQgY\\\n",
              "AMBIBAwAYCQCBgAwEgEDABiJgAEAjETAAABGImAAACMRMACAkQgYAMBIBAwAYCQCBgAwEgEDABjJ\\\n",
              "7fQAI8HPfvYz/e53v9OYMWN0zz336MUXX9TEiRMHrEtPT9f48eM1evRoud1u1dfXOzAtAJiBMzAb\\\n",
              "hEIhvfPOO/rb3/6me++9V08//fRN1x4/flwNDQ3ECwBugYDZoKCgQG73xye7999/v5qbmx2eCADM\\\n",
              "R8Bstn//fi1dunTQx1wulwoKCpSTk6NwOGzzZABgFn4GNkQWL16stra2Acd37typFStWxG673W59\\\n",
              "//vfH/Q1Tpw4IY/Ho46ODoVCIc2cOVN5eXmDrg2Hw7HIRaNRRSKRodlIHOnu7mZfhknkvSH+uCzL\\\n",
              "spweYiR46aWXtHfvXh07dkx33333Lddv375dSUlJ2rJlyy3X+v1+NTY2DsWYcSUSiSg/P9/pMYZc\\\n",
              "ou5LSty9BYNBfi4dh7iEaIOamhr94he/0G9/+9ubxuvatWvq6uqK3a6trVV2dradYwKAUQiYDcrL\\\n",
              "y9XV1aVQKKRAIKCysjJJ0qVLl1RUVCRJam9v18KFCzVv3jwtWLBAy5Yt05IlS5wcGwDiGj8Ds8H5\\\n",
              "8+cHPT59+nRVV1dLkjIyMnTmzBk7xwIAo3EGBgAwEgEDABiJgAEAjETAAABGImAAACMRMACAkQgY\\\n",
              "AMBIBAwAYCQCBgAwEgEDABiJgAEAjETAAABGImAAACMRMACAkQgYAMBIBAwAYCQCBgAwEgEDABiJ\\\n",
              "gAEAjETAbLJ9+3Z5PB4FAgEFAgFVV1cPuq6mpkZ+v18+n0+7du2yeUoAMIfb6QFGkk2bNmnLli03\\\n",
              "fbyvr08bN27UkSNH5PV6lZubq+LiYmVlZdk4JQCYgTOwOFJXVyefz6eMjAyNGTNGq1atUlVVldNj\\\n",
              "AUBcImA22r17t+bOnauSkhJFo9EBj7e0tGjGjBmx+16vVy0tLXaOCADG4BLiEFq8eLHa2toGHN+5\\\n",
              "c6c2bNigbdu2yeVyadu2bdq8ebP279//pf+ucDiscDgsSYpGo4pEIl/6teJVd3c3+zJMIu8N8YeA\\\n",
              "DaGjR4/e1rpHH31Uy5cvH3Dc4/Ho4sWLsfvNzc3yeDyDvkZpaalKS0slSX6/X/n5+V984DgXiUTY\\\n",
              "l2ESeW+IP1xCtElra2vs9uHDh5WdnT1gTW5urpqamnThwgX19vaqsrJSxcXFdo4JAMbgDMwmjz/+\\\n",
              "uBoaGuRyuZSenq69e/dKki5duqT169erurpabrdbu3fvVmFhofr6+lRSUqLZs2c7PDkAxCcCZpOX\\\n",
              "X3550OPTp0/v99+EFRUVqaioyK6xAMBYXEIEABiJgAEAjETAAABGImAAACMRMACAkQgYAMBIBAwA\\\n",
              "YCQCBgAwEgEDABiJgAEAjETAAABGImAAACMRMACAkQgYAMBIBAwAYCQCBgAwEgEDABiJgAEAjOR2\\\n",
              "eoCR4JFHHlFjY6Mk6cqVK5o4caIaGhoGrEtPT9f48eM1evRoud1u1dfX2z0qABiDgNng4MGDsdub\\\n",
              "N29WcnLyTdceP35cU6ZMsWMsADAaAbORZVl65ZVX9Pbbbzs9CgAYj5+B2eiPf/yjpk6dqszMzEEf\\\n",
              "d7lcKigoUE5OjsLhsM3TAYBZOAMbIosXL1ZbW9uA4zt37tSKFSskSQcOHNDq1atv+honTpyQx+NR\\\n",
              "R0eHQqGQZs6cqby8vEHXhsPhWOSi0agikcidbyLOdHd3sy/DJPLeEH9clmVZTg8xEly/fl0ej0en\\\n",
              "T5+W1+u95frt27crKSlJW7ZsueVav98f+yWRRBKJRJSfn+/0GEMuUfclJe7egsEgv1QVh7iEaJOj\\\n",
              "R49q5syZN43XtWvX1NXVFbtdW1ur7OxsO0cEAKMQMJtUVlYOuHx46dIlFRUVSZLa29u1cOFCzZs3\\\n",
              "TwsWLNCyZcu0ZMkSJ0YFACPwMzCbvPTSSwOOTZ8+XdXV1ZKkjIwMnTlzxuapAMBcnIEBAIxEwAAA\\\n",
              "RiJgAAAjETAAgJEIGADASAQMAGAkAgYAMBIBAwAYiYABAIxEwAAARiJgAAAjETAAgJEIGADASAQM\\\n",
              "AGAkAgYAMBIBAwAYiYABAIxEwAAARiJgQ+jVV1/V7NmzNWrUKNXX1/d77Omnn5bP55Pf79dbb701\\\n",
              "6PMvXLig++67Tz6fT4888oh6e3vtGBsAjETAhlB2drZee+015eXl9Tt+7tw5VVZW6uzZs6qpqdGP\\\n",
              "f/xj9fX1DXj+E088oU2bNun8+fOaNGmS9u3bZ9foAGAcAjaEZs2aJb/fP+B4VVWVVq1apbFjx+ob\\\n",
              "3/iGfD6f6urq+q2xLEtvv/22Hn74YUnS2rVr9frrr9syNwCYiIDZoKWlRTNmzIjd93q9amlp6bem\\\n",
              "s7NTEydOlNvtvukaAMB/uJ0ewDSLFy9WW1vbgOM7d+7UihUrbJsjHA4rHA5Lkt577z0Fg0Hb/m67\\\n",
              "/POf/9RXv/pVp8cYcom6Lylx9/buu+86PQIGQcC+oKNHj37h53g8Hl28eDF2v7m5WR6Pp9+ayZMn\\\n",
              "68qVK7p+/brcbvegaz6ttLRUpaWlkqRgMDjgl0YSAfsyT6LuLRG/QUwEXEK0QXFxsSorK9XT06ML\\\n",
              "Fy6oqalJCxYs6LfG5XLpwQcf1KFDhyRJFRUVtp7RAYBpCNgQOnz4sLxer06ePKlly5apsLBQkjR7\\\n",
              "9mx997vfVVZWlpYsWaI9e/Zo9OjRkqSioiJdunRJkvTMM8/oV7/6lXw+nzo7O7Vu3TrH9gIA8c5l\\\n",
              "WZbl9BC4M+FwOHY5MZGwL/Mk6t4SdV+mI2AAACNxCREAYCQCZqg7fdsqU2zfvl0ej0eBQECBQEDV\\\n",
              "1dVOj3RHampq5Pf75fP5tGvXLqfHGTLp6emaM2eOAoGA8b+xV1JSotTUVGVnZ8eOXb58WaFQSJmZ\\\n",
              "mQqFQopGow5OiE8QMEPd6dtWmWTTpk1qaGhQQ0ODioqKnB7nS+vr69PGjRv15ptv6ty5czpw4IDO\\\n",
              "nTvn9FhD5vjx42poaDD+1+h/9KMfqaampt+xXbt2adGiRWpqatKiRYsS6psPkxEwQ93J21bBGXV1\\\n",
              "dfL5fMrIyNCYMWO0atUqVVVVOT0WPiMvL08pKSn9jlVVVWnt2rWSeJu3eELAEsztvG2VaXbv3q25\\\n",
              "c+eqpKTE6Es3ifhv8wmXy6WCggLl5OTE3iEmkbS3tystLU2SNG3aNLW3tzs8ESTeiSOuxcvbVg23\\\n",
              "z9vnhg0btG3bNrlcLm3btk2bN2/W/v37HZgSn+fEiRPyeDzq6OhQKBTSzJkzB1zeThQul0sul8vp\\\n",
              "MSACFteG622r4s3t7vPRRx/V8uXLh3ma4WPiv83t+mQfqampWrlyperq6hIqYFOnTlVra6vS0tLU\\\n",
              "2tqq1NRUp0eCuISYcG7nbatM0traGrt9+PDhfr8ZZprc3Fw1NTXpwoUL6u3tVWVlpYqLi50e645d\\\n",
              "u3ZNXV1dsdu1tbVG/zsNpri4WBUVFZJ4m7e4YsFIr732muXxeKwxY8ZYqampVkFBQeyxp556ysrI\\\n",
              "yLDuvfdeq7q62sEp79wPfvADKzs725ozZ471rW99y7p06ZLTI92R3//+91ZmZqaVkZFhPfXUU06P\\\n",
              "MyT+/ve/W3PnzrXmzp1rZWVlGb+vVatWWdOmTbPcbrfl8XisF154wfrggw+shx56yPL5fNaiRYus\\\n",
              "zs5Op8eEZVm8EwcAwEhcQgQAGImAAQCMRMAAAEYiYAAAIxEwAICRCBgAwEgEDABgJAIGADASAQMA\\\n",
              "GImAAQCMRMAAAEYiYAAAIxEwAICRCBgAwEgEDABgJAIGADASAQMAGImAAQCMRMAAAEYiYAAAI/0f\\\n",
              "17TdMzAAmV8AAAAASUVORK5CYII=\\\n",
              "\"\n",
              "  frames[2] = \"data:image/png;base64,iVBORw0KGgoAAAANSUhEUgAAAbAAAAEgCAYAAADVKCZpAAAABHNCSVQICAgIfAhkiAAAAAlwSFlz\\\n",
              "AAALEgAACxIB0t1+/AAAADh0RVh0U29mdHdhcmUAbWF0cGxvdGxpYiB2ZXJzaW9uMy4yLjIsIGh0\\\n",
              "dHA6Ly9tYXRwbG90bGliLm9yZy+WH4yJAAAYIklEQVR4nO3df0xV9/3H8dfBO9cf+Asdive6Unrp\\\n",
              "9QcqKWDbxBJavWDR4dyaVfdDF7QEJ5lxutY/vvo1TV3tsi39Q9N6U21Zk4mtqWXrKEWtN5uLky9u\\\n",
              "uKnfEVxsCwi44tUC30QrnO8fXe/GwPoLzrmfy/ORmNx77ofr+xPSPjmH21PLtm1bAAAYJsHtAQAA\\\n",
              "uBUEDABgJAIGADASAQMAGImAAQCMRMAAAEYiYAAAIxEwAICRCBgAwEgEDABgJAIGADASAQMAGImA\\\n",
              "AQCMRMAAAEYiYAAAIxEwAICRCBgAwEgEDABgJAIGADASAQMAGImAAQCMRMAAAEYiYAAAIxEwAICR\\\n",
              "CBgAwEgEDABgJAIGADASAQMAGImAAQCMRMAAAEYiYEOguLhYycnJysjIiB67cOGCgsGg0tPTFQwG\\\n",
              "FYlEBvza8vJypaenKz09XeXl5U6NDADGsWzbtt0eIt787ne/U2JiopYvX66TJ09Kkp5++mklJSVp\\\n",
              "48aN2rZtmyKRiF544YU+X3fhwgVlZ2errq5OlmUpKytLx48f17hx49zYBgDENM7AhkBubq6SkpL6\\\n",
              "HKusrNSKFSskSStWrNDbb7/d7+vee+89BYNBJSUlady4cQoGg6qurnZkZgAwDQFzSHt7u1JSUiRJ\\\n",
              "kyZNUnt7e781LS0tmjJlSvS5z+dTS0uLYzMCgEk8bg8wHFmWJcuybus9QqGQQqGQJOnUqVP66le/\\\n",
              "OhijxZTe3l4lJMTfz1jxui8pfvfW0dGhjz/+2O0x8B8ImEMmTpyo1tZWpaSkqLW1VcnJyf3WeL1e\\\n",
              "hcPh6PPm5mbl5eUN+H4lJSUqKSmRJAUCATU0NAzF2K4Kh8PX3L/J4nVfUvzuLTs72+0RMID4+1Ep\\\n",
              "RhUVFUU/VVheXq7Fixf3W1NQUKCamhpFIhFFIhHV1NSooKDA6VEBwAgEbAgsW7ZMDz/8sBoaGuTz\\\n",
              "+bRr1y5t3LhRBw4cUHp6ug4ePKiNGzdKkurq6rRq1SpJUlJSkjZt2qScnBzl5ORo8+bN/T4MAgD4\\\n",
              "DJcQh8CePXsGPH7o0KF+x7Kzs/XKK69EnxcXF6u4uHjIZgOAeMEZGADASAQMAGAkAgYAMBIBAwAY\\\n",
              "iYABAIxEwAAARiJgAAAjETAAgJEIGADASAQMAGAkAgYAMBIBAwAYiYABAIxEwAAARiJgAAAjETAA\\\n",
              "gJEIGADASAQMAGAkAuaQhoYGZWZmRv+MHj1aL774Yp814XBYY8aMia559tlnXZoWAGKfx+0BhotA\\\n",
              "IKD6+npJUk9Pj7xer5YsWdJv3SOPPKJ33nnH6fEAwDicgbng0KFDuu+++3TPPfe4PQoAGIuAuaCi\\\n",
              "okLLli0b8LWjR49q9uzZevzxx3Xq1CmHJwMAc1i2bdtuDzGcXLlyRZMnT9apU6c0ceLEPq998skn\\\n",
              "SkhIUGJioqqqqrR27Vo1NjYO+D6hUEihUEiS9NFHH+mNN94Y8tmd1tXVpcTERLfHGHTxui8pfve2\\\n",
              "YcMG1dXVuT0G/gMBc1hlZaV27Nihmpqa665NTU1VXV2dJkyY8IXrAoGAGhoaBmvEmBEOh5WXl+f2\\\n",
              "GIMuXvclxe/esrOzCVgM4hKiw/bs2XPNy4dtbW36/OeJ2tpa9fb2avz48U6OBwDG4FOIDuru7taB\\\n",
              "Awe0c+fO6LGXX35ZklRaWqp9+/bppZdeksfj0Z133qmKigpZluXWuAAQ0wiYg+6++251dHT0OVZa\\\n",
              "Whp9XFZWprKyMqfHAgAjcQkRAGAkAgYAMBIBAwAYiYABAIxEwAAARiJgAAAjETAAgJEIGADASAQM\\\n",
              "AGAkAgYAMBIBAwAYiYABAIxEwAAARiJgAAAjETAAgJEIGADASAQMAGAkAgYAMBIBc1hqaqpmzpyp\\\n",
              "zMxMZWdn93vdtm398Ic/lN/v16xZs/SnP/3JhSkBIPZ53B5gODp8+LAmTJgw4GvvvvuuGhsb1djY\\\n",
              "qGPHjmn16tU6duyYwxMCQOzjDCzGVFZWavny5bIsSw899JAuXryo1tZWt8cCgJhDwBxmWZby8/OV\\\n",
              "lZWlUCjU7/WWlhZNmTIl+tzn86mlpcXJEQHACFxCdNiRI0fk9Xp1/vx5BYNBTZ06Vbm5uTf9PqFQ\\\n",
              "KBrASCSicDg8yJO6r6uri30ZJp73hthDwBzm9XolScnJyVqyZIlqa2v7BMzr9aqpqSn6vLm5Ofo1\\\n",
              "/66kpEQlJSWSpEAgoLy8vKEd3AXhcJh9GSae94bYwyVEB3V3d6uzszP6uKamRhkZGX3WFBUV6Ze/\\\n",
              "/KVs29Yf//hHjRkzRikpKW6MCwAxjTMwB7W3t2vJkiWSpKtXr+rb3/62FixYoJdfflmSVFpaqsLC\\\n",
              "QlVVVcnv9+uuu+7Sq6++6ubIABCzCJiD0tLSdOLEiX7HS0tLo48ty9KOHTucHAsAjMQlRACAkQgY\\\n",
              "AMBIBAwAYCQCBgAwEgEDABiJgAEAjETAAABGImAAACMRMACAkQgYAMBIBAwAYCQCBgAwEgEDABiJ\\\n",
              "gAEAjETAAABGImAA8AWu9vS6PQKugf+hJQD809WeXjWe79Jfmy/pry2f/fnf1k80yu3BMCACBmBY\\\n",
              "ulasLl/97Iwr8cseTZ88Wt996B5VVrs8LAZEwBzS1NSk5cuXq729XZZlqaSkRGvXru2zJhwOa/Hi\\\n",
              "xbr33nslSd/4xje0efNmN8YF4sqNxup7D92jmb4xyvCO0b3j71ZCgiVJqtzi4vC4JgLmEI/Ho5//\\\n",
              "/Od64IEH1NnZqaysLAWDQU2fPr3PukceeUTvvPOOS1MC5rvdWMEcBMwhKSkpSklJkSSNGjVK06ZN\\\n",
              "U0tLS7+AAbhxxGp4I2Au+OCDD/TnP/9ZDz74YL/Xjh49qtmzZ2vy5Mn62c9+phkzZrgwIRB7iBX+\\\n",
              "EwFzWFdXl775zW/qxRdf1OjRo/u89sADD+jDDz9UYmKiqqqq9PWvf12NjY0Dvk8oFFIoFJIkRSIR\\\n",
              "hcPhoR7dcV1dXezLMIO1t55eW+e6bZ291KMPPunVB5d61dTZq0//+Yn2O0ZI94xOUJ4vQamjv6TU\\\n",
              "0QmaeLelBOuypPPSxfNquig13fYkiGWWbdu220MMF59++qkWLVqkgoIC/ehHP7ru+tTUVNXV1WnC\\\n",
              "hAlfuC4QCKihoWGwxowZ4XBYeXl5bo8x6OJ1X9Kt7e1Gz6xmece4dmaVnZ2turo6x/4+3BjOwBxi\\\n",
              "27ZWrlypadOmXTNebW1tmjhxoizLUm1trXp7ezV+/HiHJwWGDpcBMZgImEP+8Ic/6PXXX9fMmTOV\\\n",
              "mZkpSfrJT36ijz76SJJUWlqqffv26aWXXpLH49Gdd96piooKWRb/4MJMxApDjYA5ZO7cubre1dqy\\\n",
              "sjKVlZU5NBEweD6P1e+aP9Wht08SKziCgAG4Kdc/s2ohVnAEAQNwTTd7GfD/mhv0ZOGjxAqOIGAA\\\n",
              "JA3O76zCFxuJFxxDwIBhiA9YIB4QMCDORWPVcikaLGKFeEDAgDhCrDCcEDDAUMQKwx0BAwxArID+\\\n",
              "CBgQY4gVcGMIGOAiYgXcOgIGOOTzWP2e2y0Bg4KAAUPg+mdW3G4JuF0EDLhNN3IZcAa3WwIGHQED\\\n",
              "bsLNxorbLQFDh4AB1zAYsQIwdAgYIGIFmIiAYdghVkB8IGCIa8QKiF8EzGHV1dVau3atenp6tGrV\\\n",
              "Km3cuLHP65cvX9by5ct1/PhxjR8/Xnv37lVqaqo7wxrm32N1suWS/tJMrIB4RsAc1NPTozVr1ujA\\\n",
              "gQPy+XzKyclRUVGRpk+fHl2za9cujRs3TmfOnFFFRYWeeeYZ7d2718WpYxOxAkDAHFRbWyu/36+0\\\n",
              "tDRJ0tKlS1VZWdknYJWVldqyZYsk6YknnlBZWZls25ZlDd9/8RIrAAMhYA5qaWnRlClTos99Pp+O\\\n",
              "HTt2zTUej0djxoxRR0eHJkyY4Oisbvn3WL13+rJePPUHYgVgQATMUKFQSKFQSJIUiUQUDofdHegW\\\n",
              "9PTaOtdt64NLPfrgk16dvdSrps5effpZq3THCFv3jP5Eeb4EpY7+klJHJ2ji3ZYSrMuSzksXz6vp\\\n",
              "otTk6i5uXldXl5HfrxsRz3tD7CFgDvJ6vWpq+te/bpubm+X1egdc4/P5dPXqVV26dEnjx4/v914l\\\n",
              "JSUqKSmRJAUCAeXl5Q3p7Lfrxi4DjtVjM8dEz6w+PPk/euzRR12efPCFw+GY/37dqnjeG2IPAXNQ\\\n",
              "Tk6OGhsbdfbsWXm9XlVUVOhXv/pVnzVFRUUqLy/Xww8/rH379umxxx4z7vdfg/U7qybD9g3AWQTM\\\n",
              "QR6PR9u3b1dBQYF6enpUXFysGTNmaPPmzcrOzlZRUZFWrlyp733ve/L7/UpKSlJFRYXbY38hPmAB\\\n",
              "wC0EzGGFhYUqLCzsc+zZZ5+NPr7jjjv05ptvOj3WDSFWAGIJAcOAiBWAWEfAQKwAGImADTPECkC8\\\n",
              "IGBxjFgBiGcELE4QKwDDDQGLA63dvZrx3+8RKwDDCgGLA5ZErAAMOwQsDky6O0H/tWj69RcCQBxJ\\\n",
              "cHsAAABuBQEDABiJgAEAjETAAABGImAAACMRMACAkQgYAMBIBAwAYCQCBgAwEgEDABiJW0k54Mc/\\\n",
              "/rF+85vfaOTIkbrvvvv06quvauzYsf3WpaamatSoURoxYoQ8Ho/q6upcmBYAzMAZmAOCwaBOnjyp\\\n",
              "v/zlL7r//vv1/PPPX3Pt4cOHVV9fT7wA4DoImAPy8/Pl8Xx2svvQQw+pubnZ5YkAwHwEzGG7d+/W\\\n",
              "448/PuBrlmUpPz9fWVlZCoVCDk8GAGbhd2CDZP78+Wpra+t3fOvWrVq8eHH0scfj0Xe+850B3+PI\\\n",
              "kSPyer06f/68gsGgpk6dqtzc3AHXhkKhaOQikYjC4fDgbCSGdHV1sS/DxPPeEHss27Ztt4cYDl57\\\n",
              "7TXt3LlThw4d0l133XXd9Vu2bFFiYqI2bNhw3bWBQEANDQ2DMWZMCYfDysvLc3uMQRev+5Lid2/Z\\\n",
              "2dn8XjoGcQnRAdXV1frpT3+qX//619eMV3d3tzo7O6OPa2pqlJGR4eSYAGAUAuaAsrIydXZ2KhgM\\\n",
              "KjMzU6WlpZKkc+fOqbCwUJLU3t6uuXPnavbs2ZozZ44WLlyoBQsWuDk2AMQ0fgfmgDNnzgx4fPLk\\\n",
              "yaqqqpIkpaWl6cSJE06OBQBG4wwMAGAkAgYAMBIBAwAYiYABAIxEwAAARiJgAAAjETAAgJEIGADA\\\n",
              "SAQMAGAkAgYAMBIBAwAYiYABAIxEwAAARiJgAAAjETAAgJEIGADASAQMAGAkAgYAMBIBAwAYiYA5\\\n",
              "ZMuWLfJ6vcrMzFRmZqaqqqoGXFddXa1AICC/369t27Y5PCUAmMPj9gDDybp167Rhw4Zrvt7T06M1\\\n",
              "a9bowIED8vl8ysnJUVFRkaZPn+7glABgBs7AYkhtba38fr/S0tI0cuRILV26VJWVlW6PBQAxiYA5\\\n",
              "aPv27Zo1a5aKi4sViUT6vd7S0qIpU6ZEn/t8PrW0tDg5IgAYg0uIg2j+/Plqa2vrd3zr1q1avXq1\\\n",
              "Nm3aJMuytGnTJq1fv167d+++5b8rFAopFApJkiKRiMLh8C2/V6zq6upiX4aJ570h9hCwQXTw4MEb\\\n",
              "WvfUU09p0aJF/Y57vV41NTVFnzc3N8vr9Q74HiUlJSopKZEkBQIB5eXl3fzAMS4cDrMvw8Tz3hB7\\\n",
              "uITokNbW1ujj/fv3KyMjo9+anJwcNTY26uzZs7py5YoqKipUVFTk5JgAYAzOwBzy9NNPq76+XpZl\\\n",
              "KTU1VTt37pQknTt3TqtWrVJVVZU8Ho+2b9+ugoIC9fT0qLi4WDNmzHB5cgCITQTMIa+//vqAxydP\\\n",
              "ntznvwkrLCxUYWGhU2MBgLG4hAgAMBIBAwAYiYABAIxEwAAARiJgAAAjETAAgJEIGADASAQMAGAk\\\n",
              "AgYAMBIBAwAYiYABAIxEwAAARiJgAAAjETAAgJEIGADASAQMAGAkAgYAMBIBAwAYyeP2AMPBk08+\\\n",
              "qYaGBknSxYsXNXbsWNXX1/dbl5qaqlGjRmnEiBHyeDyqq6tzelQAMAYBc8DevXujj9evX68xY8Zc\\\n",
              "c+3hw4c1YcIEJ8YCAKMRMAfZtq033nhD77//vtujAIDx+B2Yg37/+99r4sSJSk9PH/B1y7KUn5+v\\\n",
              "rKwshUIhh6cDALNwBjZI5s+fr7a2tn7Ht27dqsWLF0uS9uzZo2XLll3zPY4cOSKv16vz588rGAxq\\\n",
              "6tSpys3NHXBtKBSKRi4SiSgcDt/+JmJMV1cX+zJMPO8Nsceybdt2e4jh4OrVq/J6vTp+/Lh8Pt91\\\n",
              "12/ZskWJiYnasGHDddcGAoHoh0TiSTgcVl5enttjDLp43ZcUv3vLzs7mQ1UxiEuIDjl48KCmTp16\\\n",
              "zXh1d3ers7Mz+rimpkYZGRlOjggARiFgDqmoqOh3+fDcuXMqLCyUJLW3t2vu3LmaPXu25syZo4UL\\\n",
              "F2rBggVujAoARuB3YA557bXX+h2bPHmyqqqqJElpaWk6ceKEw1MBgLk4AwMAGImAAQCMRMAAAEYi\\\n",
              "YAAAIxEwAICRCBgAwEgEDABgJAIGADASAQMAGImAAQCMRMAAAEYiYAAAIxEwAICRCBgAwEgEDABg\\\n",
              "JAIGADASAQMAGImAAQCMRMAG0ZtvvqkZM2YoISFBdXV1fV57/vnn5ff7FQgE9N577w349WfPntWD\\\n",
              "Dz4ov9+vJ598UleuXHFibAAwEgEbRBkZGXrrrbeUm5vb5/jp06dVUVGhU6dOqbq6Wj/4wQ/U09PT\\\n",
              "7+ufeeYZrVu3TmfOnNG4ceO0a9cup0YHAOMQsEE0bdo0BQKBfscrKyu1dOlSffnLX9a9994rv9+v\\\n",
              "2traPmts29b777+vJ554QpK0YsUKvf32247MDQAmImAOaGlp0ZQpU6LPfT6fWlpa+qzp6OjQ2LFj\\\n",
              "5fF4rrkGAPAvHrcHMM38+fPV1tbW7/jWrVu1ePFix+YIhUIKhUKSpA8//FDZ2dmO/d1O+cc//qGv\\\n",
              "fOUrbo8x6OJ1X1L87u1vf/ub2yNgAATsJh08ePCmv8br9aqpqSn6vLm5WV6vt8+a8ePH6+LFi7p6\\\n",
              "9ao8Hs+Aa/5dSUmJSkpKJEnZ2dn9PjQSD9iXeeJ1b/H4A2I84BKiA4qKilRRUaHLly/r7Nmzamxs\\\n",
              "1Jw5c/qssSxLjz76qPbt2ydJKi8vd/SMDgBMQ8AG0f79++Xz+XT06FEtXLhQBQUFkqQZM2boW9/6\\\n",
              "lqZPn64FCxZox44dGjFihCSpsLBQ586dkyS98MIL+sUvfiG/36+Ojg6tXLnStb0AQKyzbNu23R4C\\\n",
              "tycUCkUvJ8YT9mWeeN1bvO7LdAQMAGAkLiECAIxEwAx1u7etMsWWLVvk9XqVmZmpzMxMVVVVuT3S\\\n",
              "bamurlYgEJDf79e2bdvcHmfQpKamaubMmcrMzDT+E3vFxcVKTk5WRkZG9NiFCxcUDAaVnp6uYDCo\\\n",
              "SCTi4oT4HAEz1O3etsok69atU319verr61VYWOj2OLesp6dHa9as0bvvvqvTp09rz549On36tNtj\\\n",
              "DZrDhw+rvr7e+I/Rf//731d1dXWfY9u2bdO8efPU2NioefPmxdUPHyYjYIa6ndtWwR21tbXy+/1K\\\n",
              "S0vTyJEjtXTpUlVWVro9Fv5Dbm6ukpKS+hyrrKzUihUrJHGbt1hCwOLMjdy2yjTbt2/XrFmzVFxc\\\n",
              "bPSlm3j83nzOsizl5+crKysreoeYeNLe3q6UlBRJ0qRJk9Te3u7yRJC4E0dMi5XbVg21L9rn6tWr\\\n",
              "tWnTJlmWpU2bNmn9+vXavXu3C1Piixw5ckRer1fnz59XMBjU1KlT+13ejheWZcmyLLfHgAhYTBuq\\\n",
              "21bFmhvd51NPPaVFixYN8TRDx8TvzY36fB/JyclasmSJamtr4ypgEydOVGtrq1JSUtTa2qrk5GS3\\\n",
              "R4K4hBh3buS2VSZpbW2NPt6/f3+fT4aZJicnR42NjTp79qyuXLmiiooKFRUVuT3Wbevu7lZnZ2f0\\\n",
              "cU1NjdHfp4EUFRWpvLxcErd5iyk2jPTWW2/ZXq/XHjlypJ2cnGzn5+dHX3vuuefstLQ0+/7777er\\\n",
              "qqpcnPL2ffe737UzMjLsmTNn2l/72tfsc+fOuT3Sbfntb39rp6en22lpafZzzz3n9jiD4u9//7s9\\\n",
              "a9Yse9asWfb06dON39fSpUvtSZMm2R6Px/Z6vfYrr7xif/zxx/Zjjz1m+/1+e968eXZHR4fbY8K2\\\n",
              "be7EAQAwEpcQAQBGImAAACMRMACAkQgYAMBIBAwAYCQCBgAwEgEDABiJgAEAjETAAABGImAAACMR\\\n",
              "MACAkQgYAMBIBAwAYCQCBgAwEgEDABiJgAEAjETAAABGImAAACMRMACAkQgYAMBI/w8AAmohjAqJ\\\n",
              "VwAAAABJRU5ErkJggg==\\\n",
              "\"\n",
              "  frames[3] = \"data:image/png;base64,iVBORw0KGgoAAAANSUhEUgAAAbAAAAEgCAYAAADVKCZpAAAABHNCSVQICAgIfAhkiAAAAAlwSFlz\\\n",
              "AAALEgAACxIB0t1+/AAAADh0RVh0U29mdHdhcmUAbWF0cGxvdGxpYiB2ZXJzaW9uMy4yLjIsIGh0\\\n",
              "dHA6Ly9tYXRwbG90bGliLm9yZy+WH4yJAAAY4ElEQVR4nO3cfVCU97338c/q3uahGBUJiIsNIUsW\\\n",
              "FZUJi0nmNgyNLhi0WNtMo33QDhoGK1PHahPPHzpOJjam03byh07iTjShmVMxcWJoU0JQdKc1x8pg\\\n",
              "iz3RhMEcmwDykOCagie3VrjOH72zJwRUjHBd+1ver5nO7MPF5vsbZ/pmv67rsizLEgAAhhnj9AAA\\\n",
              "AHwVBAwAYCQCBgAwEgEDABiJgAEAjETAAABGImAAACMRMACAkQgYAMBIBAwAYCQCBgAwEgEDABiJ\\\n",
              "gAEAjETAAABGImAAACMRMACAkQgYAMBIBAwAYCQCBgAwEgEDABiJgAEAjETAAABGImAAACMRMACA\\\n",
              "kQgYAMBIBAwAYCQCBgAwEgEDABiJgAEAjETAAABGImAjoLi4WImJicrMzIw8dv78eQUCAaWnpysQ\\\n",
              "CCgcDg/6s+Xl5UpPT1d6errKy8vtGhkAjOOyLMtyeohY88c//lFxcXFasWKF3n33XUnSE088ofj4\\\n",
              "eG3atEnbt29XOBzWs88+2+/nzp8/L7/fr/r6erlcLmVnZ+vEiROaNGmSE8cAgKjGO7ARkJubq/j4\\\n",
              "+H6PVVZWauXKlZKklStX6o033hjwc2+//bYCgYDi4+M1adIkBQIBVVdX2zIzAJiGgNmko6NDycnJ\\\n",
              "kqQpU6aoo6NjwDWtra2aNm1a5H5KSopaW1ttmxEATOJ2eoDRyOVyyeVy3dRrBINBBYNBSdKpU6f0\\\n",
              "9a9/fThGiyp9fX0aMyb2fseK1XNJsXu2rq4uffLJJ06PgS8hYDZJSkpSW1ubkpOT1dbWpsTExAHX\\\n",
              "eDwehUKhyP2Wlhbl5eUN+nolJSUqKSmRJPl8PjU2No7E2I4KhUJXPb/JYvVcUuyeze/3Oz0CBhF7\\\n",
              "vypFqaKiosinCsvLy7VkyZIB1xQUFKimpkbhcFjhcFg1NTUqKCiwe1QAMAIBGwHLly/Xgw8+qMbG\\\n",
              "RqWkpGj37t3atGmTDh48qPT0dB06dEibNm2SJNXX12v16tWSpPj4eG3evFk5OTnKycnRli1bBnwY\\\n",
              "BADwL6wQR8DevXsHfby2tnbAY36/Xy+++GLkfnFxsYqLi0dsNgCIFbwDAwAYiYABAIxEwAAARiJg\\\n",
              "AAAjETAAgJEIGADASAQMAGAkAgYAMBIBAwAYiYABAIxEwAAARiJgAAAjETAAgJEIGADASAQMAGAk\\\n",
              "AgYAMBIBAwAYiYABAIxEwGzS2NiorKysyP/uuOMOPffcc/2uCYVCmjBhQuSap556yqFpASD6uZ0e\\\n",
              "YLTw+XxqaGiQJPX29srj8Wjp0qUDrnvooYf05ptv2j0eABiHd2AOqK2t1T333KO77rrL6VEAwFgE\\\n",
              "zAEVFRVavnz5oM8dO3ZMc+bM0SOPPKJTp07ZPBkAmMNlWZbl9BCjyeXLlzV16lSdOnVKSUlJ/Z77\\\n",
              "xz/+oTFjxiguLk5VVVVat26dmpqaBn2dYDCoYDAoSfroo4/06quvjvjsduvp6VFcXJzTYwy7WD2X\\\n",
              "FLtn27hxo+rr650eA19CwGxWWVmpnTt3qqam5rrXpqamqr6+XgkJCde8zufzqbGxcbhGjBqhUEh5\\\n",
              "eXlOjzHsYvVcUuyeze/3E7AoxArRZnv37r3q+rC9vV2f/z5RV1envr4+TZ482c7xAMAYfArRRhcv\\\n",
              "XtTBgwe1a9euyGMvvPCCJKm0tFT79+/X888/L7fbrdtuu00VFRVyuVxOjQsAUY2A2ehrX/uaurq6\\\n",
              "+j1WWloauV1WVqaysjK7xwIAI7FCBAAYiYABAIxEwAAARiJgAAAjETAAgJEIGADASAQMAGAkAgYA\\\n",
              "MBIBAwAYiYABAIxEwAAARiJgAAAjETAAgJEIGADASAQMAGAkAgYAMBIBAwAYiYABAIxEwGyWmpqq\\\n",
              "WbNmKSsrS36/f8DzlmXpJz/5ibxer2bPnq2//OUvDkwJANHP7fQAo9GRI0eUkJAw6HNvvfWWmpqa\\\n",
              "1NTUpOPHj2vNmjU6fvy4zRMCQPTjHViUqays1IoVK+RyufTAAw/owoULamtrc3osAIg6BMxmLpdL\\\n",
              "+fn5ys7OVjAYHPB8a2urpk2bFrmfkpKi1tZWO0cEACOwQrTZ0aNH5fF41NnZqUAgoIyMDOXm5t7w\\\n",
              "6wSDwUgAw+GwQqHQME/qvJ6eHs5lmFg+G6IPAbOZx+ORJCUmJmrp0qWqq6vrFzCPx6Pm5ubI/ZaW\\\n",
              "lsjPfFFJSYlKSkokST6fT3l5eSM7uANCoRDnMkwsnw3RhxWijS5evKju7u7I7ZqaGmVmZva7pqio\\\n",
              "SL/5zW9kWZb+/Oc/a8KECUpOTnZiXACIarwDs1FHR4eWLl0qSbpy5Yq+973vaeHChXrhhRckSaWl\\\n",
              "pSosLFRVVZW8Xq9uv/12vfTSS06ODABRi4DZKC0tTSdPnhzweGlpaeS2y+XSzp077RwLAIzEChEA\\\n",
              "YCQCBgAwEgEDABiJgAEAjETAAABG4lOIAPAlfX2W/rP1U9W+16Ha9zudHgdXQcAAQNJ/X76io02f\\\n",
              "6PD7nap9v1Mfd1/SGJfkvyve6dFwFQQMwKjV9ulnqn2vU7Xvdeg/PujSpSt9Gn+LW7m+O7VgeqLy\\\n",
              "7k3UpK+Nk/9FpyfFYAgYgFHji6vBQ+916nTbPyRJd02+Xd+//y4tmJ6onLvj9X/G8vEAExAwADHt\\\n",
              "WqvBf3skQ/OnJ+qeO+PkcrmcHhU3iIABiDlDXQ3CbAQMgPFYDY5OBAyAkVgNgoABMAarQXwRAQMQ\\\n",
              "tVgN4loIGICo8vlqsPa9Th1uZDWIqyNgABz3xdXgOx906TKrQQwBAQNgu2utBn/AahBDRMBs0tzc\\\n",
              "rBUrVqijo0Mul0slJSVat25dv2tCoZCWLFmiu+++W5L07W9/W1u2bHFiXGDYsRrEcCNgNnG73frV\\\n",
              "r36l++67T93d3crOzlYgENCMGTP6XffQQw/pzTffdGhKYHixGsRIImA2SU5OVnJysiRp/Pjxmj59\\\n",
              "ulpbWwcEDDBZn2XpZPMFVoOwBQFzwN///nf99a9/1f333z/guWPHjmnOnDmaOnWqfvnLX2rmzJkO\\\n",
              "TAgM3RdXg9X/+Zk+ffsdVoOwBQGzWU9Pj77zne/oueee0x133NHvufvuu08ffvih4uLiVFVVpW99\\\n",
              "61tqamoa9HWCwaCCwaAkKRwOKxQKjfTotuvp6eFcUer8/+tTQ2evGj7u1emuXl3pk25zS9MnWvL7\\\n",
              "btXshLGKG3dJsprVcrpZLU4PjJjksizLcnqI0eKf//ynFi9erIKCAv30pz+97vWpqamqr69XQkLC\\\n",
              "Na/z+XxqbGwcrjGjRigUUl5entNjDDsTz3WtTw3Oz0iKrAbf+dMfjTvbUPj9ftXX1zs9Br6Ed2A2\\\n",
              "sSxLq1at0vTp068ar/b2diUlJcnlcqmurk59fX2aPHmyzZMC/3KtTw1ueiRDC1gNwmEEzCbvvPOO\\\n",
              "XnnlFc2aNUtZWVmSpJ///Of66KOPJEmlpaXav3+/nn/+ebndbt12222qqKjg/xxgKz41CJMQMJvM\\\n",
              "mzdP19vWlpWVqayszKaJAP5BMcxGwIBRhtUgYgUBA0YBVoOIRQQMiEGsBjEaEDAgRrAaxGhDwACD\\\n",
              "sRrEaEbAAIOwGgT+FwEDohyrQWBwBAyIQqwGgesjYEAUYDUI3DgCBjiE1SBwcwgYYKNzFz7T4Y/+\\\n",
              "qfKX6lgNAjeJgAEj6OqrwYusBoGbRMCAYXa91eAd3R9q+aI8VoPATSJgwDA4d+Ez1b7fqcND+NRg\\\n",
              "KNRMvIBhQMCAr2Aonxr0p8ZrnJvVIDBSCBgwRHxqEIguBAy4hhtZDQKwFwEDvoDVIGAOAmaz6upq\\\n",
              "rVu3Tr29vVq9erU2bdrU7/lLly5pxYoVOnHihCZPnqx9+/YpNTXVmWFHCVaDgJkImI16e3u1du1a\\\n",
              "HTx4UCkpKcrJyVFRUZFmzJgRuWb37t2aNGmSzpw5o4qKCj355JPat2+fg1PHJlaDgPkImI3q6urk\\\n",
              "9XqVlpYmSVq2bJkqKyv7BayyslJbt26VJD366KMqKyuTZVn89n+TWA0CsYeA2ai1tVXTpk2L3E9J\\\n",
              "SdHx48eveo3b7daECRPU1dWlhIQEW2eNBawGgdhGwAwVDAYVDAYlSeFwWKFQyNmBRkBPT88Nn6vr\\\n",
              "sz6d/LhXDZ29On2+V1f6pNvc0qyEsVp69y2anTBWceMuSVazWk43q2VkRr+mr3IuU8Ty2RB9CJiN\\\n",
              "PB6PmpubI/dbWlrk8XgGvSYlJUVXrlzRp59+qsmTJw94rZKSEpWUlEiSfD6f8vLyRnR2J4RCoeue\\\n",
              "a+Bq8KKkf60GVzyYFJWrwaGcy1SxfDZEHwJmo5ycHDU1Nens2bPyeDyqqKjQb3/7237XFBUVqby8\\\n",
              "XA8++KD279+vhx9+mBXXl7AaBCARMFu53W7t2LFDBQUF6u3tVXFxsWbOnKktW7bI7/erqKhIq1at\\\n",
              "0g9/+EN5vV7Fx8eroqLC6bGjwuefGqx9r0P/wacGAYiA2a6wsFCFhYX9Hnvqqacit2+99Va99tpr\\\n",
              "do8Vdfr6LP3Xp736S00jnxoEMCgChqgx+GrwDKtBAIMiYHDUtVaDHp3XmiW5rAYBDIqAwVbX+wfF\\\n",
              "86cnKuf/rwZDoRDxAnBVBAwjjk8NAhgJBAwjgk8NAhhpBAzDoq/P0t9aP9XhIawGAWA4EDB8ZawG\\\n",
              "ATiJgOGGsBoEEC0IGK6J1SCAaEXAMACrQQAmIGCQxGoQgHkI2CjFahCA6QjYKMJqEEAsIWAxjtUg\\\n",
              "gFhFwGIMq0EAowUBiwGWJdWcamc1CGBUIWAx4KPuPpW8coLVIIBRhYDFgPHjXPr31fezGgQwqhAw\\\n",
              "G/zsZz/T73//e40bN0733HOPXnrpJU2cOHHAdampqRo/frzGjh0rt9ut+vr6Ib1+/K0u/V9vwnCP\\\n",
              "DQBRjV/XbRAIBPTuu+/qb3/7m+69914988wzV732yJEjamhoGHK8AGC0ImA2yM/Pl9v9rze7Dzzw\\\n",
              "gFpaWhyeCADMR8BstmfPHj3yyCODPudyuZSfn6/s7GwFg0GbJwMAs/B3YMNkwYIFam9vH/D4tm3b\\\n",
              "tGTJkshtt9ut73//+4O+xtGjR+XxeNTZ2alAIKCMjAzl5uYOem0wGIxELhwOKxQKDc9BokhPTw/n\\\n",
              "Mkwsnw3Rx2VZluX0EKPByy+/rF27dqm2tla33377da/funWr4uLitHHjxute6/P51NjYOBxjRpVQ\\\n",
              "KKS8vDynxxh2sXouKXbP5vf7+XvpKMQK0QbV1dX6xS9+od/97ndXjdfFixfV3d0duV1TU6PMzEw7\\\n",
              "xwQAoxAwG5SVlam7u1uBQEBZWVkqLS2VJJ07d06FhYWSpI6ODs2bN09z5szR3LlztWjRIi1cuNDJ\\\n",
              "sQEgqvF3YDY4c+bMoI9PnTpVVVVVkqS0tDSdPHnSzrEAwGi8AwMAGImAAQCMRMAAAEYiYAAAIxEw\\\n",
              "AICRCBgAwEgEDABgJAIGADASAQMAGImAAQCMRMAAAEYiYAAAIxEwAICRCBgAwEgEDABgJAIGADAS\\\n",
              "AQMAGImAAQCMRMAAAEYiYDbZunWrPB6PsrKylJWVpaqqqkGvq66uls/nk9fr1fbt222eEgDM4XZ6\\\n",
              "gNFk/fr12rhx41Wf7+3t1dq1a3Xw4EGlpKQoJydHRUVFmjFjho1TAoAZeAcWRerq6uT1epWWlqZx\\\n",
              "48Zp2bJlqqysdHosAIhKBMxGO3bs0OzZs1VcXKxwODzg+dbWVk2bNi1yPyUlRa2trXaOCADGYIU4\\\n",
              "jBYsWKD29vYBj2/btk1r1qzR5s2b5XK5tHnzZm3YsEF79uz5yv+tYDCoYDAoSQqHwwqFQl/5taJV\\\n",
              "T08P5zJMLJ8N0YeADaNDhw4N6brHH39cixcvHvC4x+NRc3Nz5H5LS4s8Hs+gr1FSUqKSkhJJks/n\\\n",
              "U15e3o0PHOVCoRDnMkwsnw3RhxWiTdra2iK3Dxw4oMzMzAHX5OTkqKmpSWfPntXly5dVUVGhoqIi\\\n",
              "O8cEAGPwDswmTzzxhBoaGuRyuZSamqpdu3ZJks6dO6fVq1erqqpKbrdbO3bsUEFBgXp7e1VcXKyZ\\\n",
              "M2c6PDkARCcCZpNXXnll0MenTp3a79+EFRYWqrCw0K6xAMBYrBABAEYiYAAAIxEwAICRCBgAwEgE\\\n",
              "DABgJAIGADASAQMAGImAAQCMRMAAAEYiYAAAIxEwAICRCBgAwEgEDABgJAIGADASAQMAGImAAQCM\\\n",
              "RMAAAEYiYAAAI7mdHmA0eOyxx9TY2ChJunDhgiZOnKiGhoYB16Wmpmr8+PEaO3as3G636uvr7R4V\\\n",
              "AIxBwGywb9++yO0NGzZowoQJV732yJEjSkhIsGMsADAaAbORZVl69dVXdfjwYadHAQDj8XdgNvrT\\\n",
              "n/6kpKQkpaenD/q8y+VSfn6+srOzFQwGbZ4OAMzCO7BhsmDBArW3tw94fNu2bVqyZIkkae/evVq+\\\n",
              "fPlVX+Po0aPyeDzq7OxUIBBQRkaGcnNzB702GAxGIhcOhxUKhW7+EFGmp6eHcxkmls+G6OOyLMty\\\n",
              "eojR4MqVK/J4PDpx4oRSUlKue/3WrVsVFxenjRs3Xvdan88X+ZBILAmFQsrLy3N6jGEXq+eSYvds\\\n",
              "fr+fD1VFIVaINjl06JAyMjKuGq+LFy+qu7s7crumpkaZmZl2jggARiFgNqmoqBiwPjx37pwKCwsl\\\n",
              "SR0dHZo3b57mzJmjuXPnatGiRVq4cKETowKAEfg7MJu8/PLLAx6bOnWqqqqqJElpaWk6efKkzVMB\\\n",
              "gLl4BwYAMBIBAwAYiYABAIxEwAAARiJgAAAjETAAgJEIGADASAQMAGAkAgYAMBIBAwAYiYABAIxE\\\n",
              "wAAARiJgAAAjETAAgJEIGADASAQMAGAkAgYAMBIBAwAYiYANo9dee00zZ87UmDFjVF9f3++5Z555\\\n",
              "Rl6vVz6fT2+//fagP3/27Fndf//98nq9euyxx3T58mU7xgYAIxGwYZSZmanXX39dubm5/R4/ffq0\\\n",
              "KioqdOrUKVVXV+vHP/6xent7B/z8k08+qfXr1+vMmTOaNGmSdu/ebdfoAGAcAjaMpk+fLp/PN+Dx\\\n",
              "yspKLVu2TLfccovuvvtueb1e1dXV9bvGsiwdPnxYjz76qCRp5cqVeuONN2yZGwBMRMBs0NraqmnT\\\n",
              "pkXup6SkqLW1td81XV1dmjhxotxu91WvAQD8L7fTA5hmwYIFam9vH/D4tm3btGTJEtvmCAaDCgaD\\\n",
              "kqQPP/xQfr/ftv+2XT7++GPdeeedTo8x7GL1XFLsnu399993egQMgoDdoEOHDt3wz3g8HjU3N0fu\\\n",
              "t7S0yOPx9Ltm8uTJunDhgq5cuSK32z3oNV9UUlKikpISSZLf7x/woZFYwLnME6tni8VfEGMBK0Qb\\\n",
              "FBUVqaKiQpcuXdLZs2fV1NSkuXPn9rvG5XLpG9/4hvbv3y9JKi8vt/UdHQCYhoANowMHDiglJUXH\\\n",
              "jh3TokWLVFBQIEmaOXOmvvvd72rGjBlauHChdu7cqbFjx0qSCgsLde7cOUnSs88+q1//+tfyer3q\\\n",
              "6urSqlWrHDsLAEQ7l2VZltND4OYEg8HIOjGWcC7zxOrZYvVcpiNgAAAjsUIEABiJgBnqZr+2yhRb\\\n",
              "t26Vx+NRVlaWsrKyVFVV5fRIN6W6ulo+n09er1fbt293epxhk5qaqlmzZikrK8v4T+wVFxcrMTFR\\\n",
              "mZmZkcfOnz+vQCCg9PR0BQIBhcNhByfE5wiYoW72a6tMsn79ejU0NKihoUGFhYVOj/OV9fb2au3a\\\n",
              "tXrrrbd0+vRp7d27V6dPn3Z6rGFz5MgRNTQ0GP8x+h/96Eeqrq7u99j27ds1f/58NTU1af78+TH1\\\n",
              "y4fJCJihbuZrq+CMuro6eb1epaWlady4cVq2bJkqKyudHgtfkpubq/j4+H6PVVZWauXKlZL4mrdo\\\n",
              "QsBizFC+tso0O3bs0OzZs1VcXGz06iYW/2w+53K5lJ+fr+zs7Mg3xMSSjo4OJScnS5KmTJmijo4O\\\n",
              "hyeCxDdxRLVo+dqqkXatc65Zs0abN2+Wy+XS5s2btWHDBu3Zs8eBKXEtR48elcfjUWdnpwKBgDIy\\\n",
              "Mgast2OFy+WSy+VyegyIgEW1kfraqmgz1HM+/vjjWrx48QhPM3JM/LMZqs/PkZiYqKVLl6quri6m\\\n",
              "ApaUlKS2tjYlJyerra1NiYmJTo8EsUKMOUP52iqTtLW1RW4fOHCg3yfDTJOTk6OmpiadPXtWly9f\\\n",
              "VkVFhYqKipwe66ZdvHhR3d3dkds1NTVG/zkNpqioSOXl5ZL4mreoYsFIr7/+uuXxeKxx48ZZiYmJ\\\n",
              "Vn5+fuS5p59+2kpLS7Puvfdeq6qqysEpb94PfvADKzMz05o1a5b1zW9+0zp37pzTI92UP/zhD1Z6\\\n",
              "erqVlpZmPf30006PMyw++OADa/bs2dbs2bOtGTNmGH+uZcuWWVOmTLHcbrfl8XisF1980frkk0+s\\\n",
              "hx9+2PJ6vdb8+fOtrq4up8eEZVl8EwcAwEisEAEARiJgAAAjETAAgJEIGADASAQMAGAkAgYAMBIB\\\n",
              "AwAYiYABAIxEwAAARiJgAAAjETAAgJEIGADASAQMAGAkAgYAMBIBAwAYiYABAIxEwAAARiJgAAAj\\\n",
              "ETAAgJEIGADASP8DVi+ixcscEewAAAAASUVORK5CYII=\\\n",
              "\"\n",
              "  frames[4] = \"data:image/png;base64,iVBORw0KGgoAAAANSUhEUgAAAbAAAAEgCAYAAADVKCZpAAAABHNCSVQICAgIfAhkiAAAAAlwSFlz\\\n",
              "AAALEgAACxIB0t1+/AAAADh0RVh0U29mdHdhcmUAbWF0cGxvdGxpYiB2ZXJzaW9uMy4yLjIsIGh0\\\n",
              "dHA6Ly9tYXRwbG90bGliLm9yZy+WH4yJAAAZJklEQVR4nO3cf1BU973/8dfiXlNTrIoUxYWUkKXr\\\n",
              "D0RawSRzE0qjC4YYHDO5FdNGO2i2Wpn6NdrofDv6dXJj1X7TTv/Qie5EEyYzFY3fGKYpQdS4ac3X\\\n",
              "rwwmON/qhIu5piICNrg2wtyrAuf+0Qm3BIg/gHP2szwfM5nZPefD8vqMf7x4n3OyLsuyLAEAYJgY\\\n",
              "pwMAAHA3KDAAgJEoMACAkSgwAICRKDAAgJEoMACAkSgwAICRKDAAgJEoMACAkSgwAICRKDAAgJEo\\\n",
              "MACAkSgwAICRKDAAgJEoMACAkSgwAICRKDAAgJEoMACAkSgwAICRKDAAgJEoMACAkSgwAICRKDAA\\\n",
              "gJEoMACAkSgwAICRKDAAgJEoMACAkSgwAICRKDAAgJEoMACAkSiwIVBcXKyEhASlp6d3H7ty5Yr8\\\n",
              "fr/S0tLk9/sVDof7/NnS0lKlpaUpLS1NpaWldkUGAOO4LMuynA4Rbf74xz8qNjZWixcv1p///GdJ\\\n",
              "0gsvvKC4uDitX79eW7duVTgc1rZt23r83JUrV5SVlaWamhq5XC7NnDlTp06d0rhx45zYBgBENCaw\\\n",
              "IZCTk6O4uLgex8rLy7VkyRJJ0pIlS/T222/3+rlDhw7J7/crLi5O48aNk9/vV2VlpS2ZAcA0FJhN\\\n",
              "WlpalJiYKEmaOHGiWlpaeq1pbGxUcnJy9/ukpCQ1NjbalhEATOJ2OsBw5HK55HK5BvQZwWBQwWBQ\\\n",
              "knTmzBndd999gxEtonR1dSkmJvr+xorWfUnRu7fW1lZ99tlnTsfAl1BgNpkwYYKampqUmJiopqYm\\\n",
              "JSQk9Frj8XgUCoW631+8eFG5ubl9fl4gEFAgEJAk+Xw+1dXVDUVsR4VCoX73b7Jo3ZcUvXvLyspy\\\n",
              "OgL6EH1/KkWowsLC7qcKS0tLNX/+/F5r8vPzVVVVpXA4rHA4rKqqKuXn59sdFQCMQIENgUWLFunh\\\n",
              "hx9WXV2dkpKStHv3bq1fv16HDx9WWlqajhw5ovXr10uSampqtGzZMklSXFycNmzYoOzsbGVnZ2vj\\\n",
              "xo29HgYBAPwdlxCHwN69e/s8fvTo0V7HsrKy9Oqrr3a/Ly4uVnFx8ZBlA4BowQQGADASBQYAMBIF\\\n",
              "BgAwEgUGADASBQYAMBIFBgAwEgUGADASBQYAMBIFBgAwEgUGADASBQYAMBIFBgAwEgUGADASBQYA\\\n",
              "MBIFBgAwEgUGADASBQYAMBIFBgAwEgVmk7q6OmVmZnb/941vfEO//e1ve6wJhUIaM2ZM95oXX3zR\\\n",
              "obQAEPncTgcYLnw+n2prayVJnZ2d8ng8WrBgQa91jz76qN555x274wGAcZjAHHD06FE98MAD+ta3\\\n",
              "vuV0FAAwFgXmgLKyMi1atKjPcydOnNCMGTP0+OOP68yZMzYnAwBzuCzLspwOMZzcuHFDkyZN0pkz\\\n",
              "ZzRhwoQe5z7//HPFxMQoNjZWFRUVWrVqlerr6/v8nGAwqGAwKEm6cOGC9u/fP+TZ7dbW1qbY2Fin\\\n",
              "Ywy6aN2XFL17W7t2rWpqapyOgS+hwGxWXl6uHTt2qKqq6pZrU1JSVFNTo/j4+K9c5/P5VFdXN1gR\\\n",
              "I0YoFFJubq7TMQZdtO5Lit69ZWVlUWARiEuINtu7d2+/lw+bm5v1xd8T1dXV6urq0vjx4+2MBwDG\\\n",
              "4ClEG7W3t+vw4cPatWtX97GdO3dKkpYvX64DBw7olVdekdvt1qhRo1RWViaXy+VUXACIaBSYjb7+\\\n",
              "9a+rtbW1x7Hly5d3vy4pKVFJSYndsQDASFxCBAAYiQIDABiJAgMAGIkCAwAYiQIDABiJAgMAGIkC\\\n",
              "AwAYiQIDABiJAgMAGIkCAwAYiQIDABiJAgMAGIkCAwAYiQIDABiJAgMAGIkCAwAYiQIDABiJAgMA\\\n",
              "GIkCs1lKSoqmT5+uzMxMZWVl9TpvWZZ+9rOfyev1KiMjQx9++KEDKQEg8rmdDjAcHTt2TPHx8X2e\\\n",
              "e/fdd1VfX6/6+nqdPHlSK1as0MmTJ21OCACRjwkswpSXl2vx4sVyuVx66KGHdPXqVTU1NTkdCwAi\\\n",
              "DgVmM5fLpby8PM2cOVPBYLDX+cbGRiUnJ3e/T0pKUmNjo50RAejvl/NP/nur/kfZR05HQT+4hGiz\\\n",
              "48ePy+Px6PLly/L7/Zo8ebJycnLu+HOCwWB3AYbDYYVCoUFO6ry2tjb2ZZho2FvbDUsfXOpQqOGm\\\n",
              "mtotjXJLX3c6FPpEgdnM4/FIkhISErRgwQJVV1f3KDCPx6OGhobu9xcvXuz+mX8UCAQUCAQkST6f\\\n",
              "T7m5uUMb3AGhUIh9GcbUvVmWperzV/S76gt69/8360Znl75z31g9//h9mpcxSY9W/i+nI6IPFJiN\\\n",
              "2tvb1dXVpdGjR6u9vV1VVVXauHFjjzWFhYXavn27ioqKdPLkSY0ZM0aJiYkOJQaiW7j9hv7Phxe1\\\n",
              "t/qCPvlru0Z/za1Fs5JVNOs+TUn8htPxcAsUmI1aWlq0YMECSVJHR4eeeeYZzZ07Vzt37pQkLV++\\\n",
              "XAUFBaqoqJDX69W9996r1157zcnIQNTpb9r6309naF7GJI0aOcLpiLhNFJiNUlNTdfr06V7Hly9f\\\n",
              "3v3a5XJpx44ddsYChgWmrehDgQGIWkxb0Y0CAxB1mLaGBwoMQFRg2hp+KDAARmPaGr4oMADGYdqC\\\n",
              "RIEBMAjTFv4RBQYgojFtoT8UGICIxLSFW6HAAEQMpi3cCQoMgOOYtnA3KDAAjmDawkBRYABsxbSF\\\n",
              "wUKBARhyTFsYChQYgCHDtIWhRIEBGFRMW7ALBQZgUITbb+jQpzf1r6feZ9qCLSgwAHet72nrXqYt\\\n",
              "2IICA3DH+ru35Y25rGef/Gen42GYoMBs0tDQoMWLF6ulpUUul0uBQECrVq3qsSYUCmn+/Pm6//77\\\n",
              "JUlPPfWUNm7c6ERcoJe+pq3vfuneVigUcjomhhEKzCZut1u//vWv9d3vflfXrl3TzJkz5ff7NXXq\\\n",
              "1B7rHn30Ub3zzjsOpQR662/aWvTgfZo8kXtbcA4FZpPExEQlJiZKkkaPHq0pU6aosbGxV4EBkeB2\\\n",
              "pi3AaRSYAz799FN99NFHevDBB3udO3HihGbMmKFJkybp5Zdf1rRp0xxIiOGKaQsmcVmWZTkdYjhp\\\n",
              "a2vT9773Pf3iF7/QU0891ePc559/rpiYGMXGxqqiokKrVq1SfX19n58TDAYVDAYlSRcuXND+/fuH\\\n",
              "PLvd2traFBsb63SMQRdp+7IsS/8W7tKxhpuqae5UhyV5x8boe0luzUp0654Rrtv+rEjb22BZu3at\\\n",
              "ampqnI6BL6HAbHTz5k3NmzdP+fn5ev7552+5PiUlRTU1NYqPj//KdT6fT3V1dYMVM2KEQiHl5uY6\\\n",
              "HWPQRcq++pq2nvqOZ0DTVqTsbbBlZWVRYBGIS4g2sSxLS5cu1ZQpU/otr+bmZk2YMEEul0vV1dXq\\\n",
              "6urS+PHjbU6KaMa9LUQTCswmH3zwgd544w1Nnz5dmZmZkqRf/vKXunDhgiRp+fLlOnDggF555RW5\\\n",
              "3W6NGjVKZWVlcrlu//IN0B/ubSEaUWA2eeSRR3Srq7UlJSUqKSmxKRGiHdMWoh0FBkQZpi0MFxQY\\\n",
              "EAWYtjAcUWCAwZi2MJxRYIBhmLaAv6PAAEMwbQE9UWBABGPaAvpHgQERiGkLuDUKDIgQTFvAnaHA\\\n",
              "AIcxbQF3hwIDHMC0BQwcBQbYKNx+Q4c+val/PfU+0xYwQBQYMMT6nrbuZdoCBogCA4ZIf/e2vDGX\\\n",
              "9eyT/+x0PMB4FBgwiG7n3lYoFHI6JhAVKDBgEPAkIWA/Cgy4SzxJCDiLAgPuENMWEBkoMOA2MG0B\\\n",
              "kYcCs1llZaVWrVqlzs5OLVu2TOvXr+9x/vr161q8eLFOnTql8ePHa9++fUpJSXEmLJi2gAhGgdmo\\\n",
              "s7NTK1eu1OHDh5WUlKTs7GwVFhZq6tSp3Wt2796tcePG6dy5cyorK9O6deu0b98+B1MPP0xbgBko\\\n",
              "MBtVV1fL6/UqNTVVklRUVKTy8vIeBVZeXq5NmzZJkp5++mmVlJTIsiy5XC4nIg8rTFuAWSgwGzU2\\\n",
              "Nio5Obn7fVJSkk6ePNnvGrfbrTFjxqi1tVXx8fG2Zh0umLYAc1FghgoGgwoGg5KkcDgclf9zbFtb\\\n",
              "25Dtq+2GpQ8udSjUcFNN7ZZGuaVHPW7lJt+j5NE3pbZPdPL/fjI0v3sI9+W0aN4bIg8FZiOPx6OG\\\n",
              "hobu9xcvXpTH4+lzTVJSkjo6OvS3v/1N48eP7/VZgUBAgUBAkuTz+ZSbmzuk2Z0QCoUGdV/9TVvP\\\n",
              "P36frdPWYO8rkkTz3hB5KDAbZWdnq76+XufPn5fH41FZWZl+97vf9VhTWFio0tJSPfzwwzpw4IAe\\\n",
              "e+wx7n8NEPe2gOhEgdnI7XZr+/btys/PV2dnp4qLizVt2jRt3LhRWVlZKiws1NKlS/Xss8/K6/Uq\\\n",
              "Li5OZWVlTsc2Eve2gOhHgdmsoKBABQUFPY69+OKL3a+/9rWv6c0337Q7VtRg2gKGDwoMxmPaAoYn\\\n",
              "CgzGYtoChjcKDEZh2gLwBQoMRmDaAvBlFBgilmVZOvnvrUxbAPpEgSHifDFt7T7+H2o69P+YtgD0\\\n",
              "iQJDROjr3pZ3bIxe/pcMPTE9kWkLQC8UGBz1Vfe2mj/+ULkzk5yOCCBCUWCwXX9PEr78LzN6TFvN\\\n",
              "HzscFEBEo8BgG54kBDCYKDAMqdudtgDgTlFgGBJMWwCGGgWGQcO0BcBOFBgGjGkLgBMoMNwVpi0A\\\n",
              "TqPAcEeYtgBECgoMt8S0BSASUWDoF9MWgEhGgdng5z//uX7/+99r5MiReuCBB/Taa69p7Nixvdal\\\n",
              "pKRo9OjRGjFihNxut2pqamzPyrQFwBQUmA38fr+2bNkit9utdevWacuWLdq2bVufa48dO6b4+Hib\\\n",
              "EzJtATAPBWaDvLy87tcPPfSQDhw44GCa/8a0BcBkFJjN9uzZo4ULF/Z5zuVyKS8vTy6XSz/5yU8U\\\n",
              "CASGJAPTFoBoQIENkjlz5qi5ubnX8c2bN2v+/Pndr91ut374wx/2+RnHjx+Xx+PR5cuX5ff7NXny\\\n",
              "ZOXk5PS5NhgMKhgMSpLC4bBCodBX5rMsS/8W7tKxhpuqae5UhyV5x8Zo2fSRyp7o1j0jPlPzx59F\\\n",
              "1DfAt7W13XJfJorWfUnRvTdEHpdlWZbTIYaD119/Xbt27dLRo0d177333nL9pk2bFBsbq7Vr195y\\\n",
              "rc/nU11dXZ/n+pq2nvqOx4hpKxQKKTc31+kYgy5a9yVF796ysrIceagKX40JzAaVlZX61a9+pfff\\\n",
              "f7/f8mpvb1dXV5dGjx6t9vZ2VVVVaePGjXf1+7i3BWA4oMBsUFJSouvXr8vv90v6+4McO3fu1KVL\\\n",
              "l7Rs2TJVVFSopaVFCxYskCR1dHTomWee0dy5c+/o93BvC8BwQoHZ4Ny5c30enzRpkioqKiRJqamp\\\n",
              "On369F19/n92SqvKPmLaAjCsUGBRoLm9S+99fJlpC8CwQoFFgfhRLlX/zzlMWwCGlRinA2DgYv/J\\\n",
              "RXkBGHYoMACAkSgwAICRKDAAgJEoMACAkSgwAICRKDAAgJEoMACAkSgwAICRKDAAgJEoMACAkSgw\\\n",
              "AICRKDAAgJEoMACAkSgwAICRKDAAgJEoMACAkSgwm2zatEkej0eZmZnKzMxURUVFn+sqKyvl8/nk\\\n",
              "9Xq1detWm1MCgDncTgcYTlavXq21a9f2e76zs1MrV67U4cOHlZSUpOzsbBUWFmrq1Kk2pgQAMzCB\\\n",
              "RZDq6mp5vV6lpqZq5MiRKioqUnl5udOxACAiUWA22r59uzIyMlRcXKxwONzrfGNjo5KTk7vfJyUl\\\n",
              "qbGx0c6IAGAMLiEOojlz5qi5ubnX8c2bN2vFihXasGGDXC6XNmzYoDVr1mjPnj13/buCwaCCwaAk\\\n",
              "KRwOKxQK3fVnRaq2tjb2ZZho3hsiDwU2iI4cOXJb65577jnNmzev13GPx6OGhobu9xcvXpTH4+nz\\\n",
              "MwKBgAKBgCTJ5/MpNzf3zgNHuFAoxL4ME817Q+ThEqJNmpqaul8fPHhQ6enpvdZkZ2ervr5e58+f\\\n",
              "140bN1RWVqbCwkI7YwKAMZjAbPLCCy+otrZWLpdLKSkp2rVrlyTp0qVLWrZsmSoqKuR2u7V9+3bl\\\n",
              "5+ers7NTxcXFmjZtmsPJASAyUWA2eeONN/o8PmnSpB7/T1hBQYEKCgrsigUAxuISIgDASBQYAMBI\\\n",
              "FBgAwEgUGADASBQYAMBIFBgAwEgUGADASBQYAMBIFBgAwEgUGADASBQYAMBIFBgAwEgUGADASBQY\\\n",
              "AMBIFBgAwEgUGADASBQYAMBIFBgAwEhupwMMBwsXLlRdXZ0k6erVqxo7dqxqa2t7rUtJSdHo0aM1\\\n",
              "YsQIud1u1dTU2B0VAIxBgdlg37593a/XrFmjMWPG9Lv22LFjio+PtyMWABiNArORZVnav3+/3nvv\\\n",
              "PaejAIDxuAdmoz/96U+aMGGC0tLS+jzvcrmUl5enmTNnKhgM2pwOAMzCBDZI5syZo+bm5l7HN2/e\\\n",
              "rPnz50uS9u7dq0WLFvX7GcePH5fH49Hly5fl9/s1efJk5eTk9Lk2GAx2l1w4HFYoFBr4JiJMW1sb\\\n",
              "+zJMNO8NkcdlWZbldIjhoKOjQx6PR6dOnVJSUtIt12/atEmxsbFau3btLdf6fL7uh0SiSSgUUm5u\\\n",
              "rtMxBl207kuK3r1lZWXxUFUE4hKiTY4cOaLJkyf3W17t7e26du1a9+uqqiqlp6fbGREAjEKB2aSs\\\n",
              "rKzX5cNLly6poKBAktTS0qJHHnlEM2bM0KxZs/TEE09o7ty5TkQFACNwD8wmr7/+eq9jkyZNUkVF\\\n",
              "hSQpNTVVp0+ftjkVAJiLCQwAYCQKDABgJAoMAGAkCgwAYCQKDABgJAoMAGAkCgwAYCQKDABgJAoM\\\n",
              "AGAkCgwAYCQKDABgJAoMAGAkCgwAYCQKDABgJAoMAGAkCgwAYCQKDABgJAoMAGAkCmwQvfnmm5o2\\\n",
              "bZpiYmJUU1PT49yWLVvk9Xrl8/l06NChPn/+/PnzevDBB+X1erVw4ULduHHDjtgAYCQKbBClp6fr\\\n",
              "rbfeUk5OTo/jZ8+eVVlZmc6cOaPKykr99Kc/VWdnZ6+fX7dunVavXq1z585p3Lhx2r17t13RAcA4\\\n",
              "FNggmjJlinw+X6/j5eXlKioq0j333KP7779fXq9X1dXVPdZYlqX33ntPTz/9tCRpyZIlevvtt23J\\\n",
              "DQAmosBs0NjYqOTk5O73SUlJamxs7LGmtbVVY8eOldvt7ncNAOC/uZ0OYJo5c+aoubm51/HNmzdr\\\n",
              "/vz5tuUIBoMKBoOSpL/85S/Kysqy7Xfb5a9//au++c1vOh1j0EXrvqTo3dvHH3/sdAT0gQK7Q0eO\\\n",
              "HLnjn/F4PGpoaOh+f/HiRXk8nh5rxo8fr6tXr6qjo0Nut7vPNf8oEAgoEAhIkrKysno9NBIN2Jd5\\\n",
              "onVv0fgHYjTgEqINCgsLVVZWpuvXr+v8+fOqr6/XrFmzeqxxuVz6/ve/rwMHDkiSSktLbZ3oAMA0\\\n",
              "FNggOnjwoJKSknTixAk98cQTys/PlyRNmzZNP/jBDzR16lTNnTtXO3bs0IgRIyRJBQUFunTpkiRp\\\n",
              "27Zt+s1vfiOv16vW1lYtXbrUsb0AQKRzWZZlOR0CAxMMBrsvJ0YT9mWeaN1btO7LdBQYAMBIXEIE\\\n",
              "ABiJAjPUQL+2yhSbNm2Sx+NRZmamMjMzVVFR4XSkAamsrJTP55PX69XWrVudjjNoUlJSNH36dGVm\\\n",
              "Zhr/xF5xcbESEhKUnp7efezKlSvy+/1KS0uT3+9XOBx2MCG+QIEZaqBfW2WS1atXq7a2VrW1tSoo\\\n",
              "KHA6zl3r7OzUypUr9e677+rs2bPau3evzp4963SsQXPs2DHV1tYa/xj9j3/8Y1VWVvY4tnXrVs2e\\\n",
              "PVv19fWaPXt2VP3xYTIKzFAD+doqOKO6ulper1epqakaOXKkioqKVF5e7nQsfElOTo7i4uJ6HCsv\\\n",
              "L9eSJUsk8TVvkYQCizK387VVptm+fbsyMjJUXFxs9KWbaPy3+YLL5VJeXp5mzpzZ/Q0x0aSlpUWJ\\\n",
              "iYmSpIkTJ6qlpcXhRJD4Jo6IFilfWzXUvmqfK1as0IYNG+RyubRhwwatWbNGe/bscSAlvsrx48fl\\\n",
              "8Xh0+fJl+f1+TZ48udfl7WjhcrnkcrmcjgFRYBFtqL62KtLc7j6fe+45zZs3b4jTDB0T/21u1xf7\\\n",
              "SEhI0IIFC1RdXR1VBTZhwgQ1NTUpMTFRTU1NSkhIcDoSxCXEqHM7X1tlkqampu7XBw8e7PFkmGmy\\\n",
              "s7NVX1+v8+fP68aNGyorK1NhYaHTsQasvb1d165d635dVVVl9L9TXwoLC1VaWiqJr3mLKBaM9NZb\\\n",
              "b1kej8caOXKklZCQYOXl5XWfe+mll6zU1FTr29/+tlVRUeFgyoH70Y9+ZKWnp1vTp0+3nnzySevS\\\n",
              "pUtORxqQP/zhD1ZaWpqVmppqvfTSS07HGRSffPKJlZGRYWVkZFhTp041fl9FRUXWxIkTLbfbbXk8\\\n",
              "HuvVV1+1PvvsM+uxxx6zvF6vNXv2bKu1tdXpmLAsi2/iAAAYiUuIAAAjUWAAACNRYAAAI1FgAAAj\\\n",
              "UWAAACNRYAAAI1FgAAAjUWAAACNRYAAAI1FgAAAjUWAAACNRYAAAI1FgAAAjUWAAACNRYAAAI1Fg\\\n",
              "AAAjUWAAACNRYAAAI1FgAAAjUWAAACP9F2P+cIkcH9fbAAAAAElFTkSuQmCC\\\n",
              "\"\n",
              "  frames[5] = \"data:image/png;base64,iVBORw0KGgoAAAANSUhEUgAAAbAAAAEgCAYAAADVKCZpAAAABHNCSVQICAgIfAhkiAAAAAlwSFlz\\\n",
              "AAALEgAACxIB0t1+/AAAADh0RVh0U29mdHdhcmUAbWF0cGxvdGxpYiB2ZXJzaW9uMy4yLjIsIGh0\\\n",
              "dHA6Ly9tYXRwbG90bGliLm9yZy+WH4yJAAAZBUlEQVR4nO3df1BU973/8deR/drEYv0ZFBdbQpau\\\n",
              "P1CZCDGZMZRGVy2xWDOZqmmruWiIVmYcq43OdHScfGPVTtrpHzrRvWqkmanEODHcpATx16Y118qQ\\\n",
              "Cc5UpxQzGhURG8RG+CYKeL5/3Ju9lwBqApyzn7PPx4wzu2c/u7w/wx9PzmFZLdu2bQEAYJh+bg8A\\\n",
              "AMDXQcAAAEYiYAAAIxEwAICRCBgAwEgEDABgJAIGADASAQMAGImAAQCMRMAAAEYiYAAAIxEwAICR\\\n",
              "CBgAwEgEDABgJAIGADASAQMAGImAAQCMRMAAAEYiYAAAIxEwAICRCBgAwEgEDABgJAIGADASAQMA\\\n",
              "GImAAQCMRMAAAEYiYAAAIxEwAICRCBgAwEgEDABgJALWBwoKCpSUlKSMjIzosWvXrikUCik9PV2h\\\n",
              "UEhNTU1dPre4uFjp6elKT09XcXGxUyMDgHEs27Ztt4fwmj//+c9KTEzUwoUL9be//U2S9MILL2jo\\\n",
              "0KFau3atNm/erKamJm3ZsqXD865du6asrCxVVVXJsixNnjxZH3zwgYYMGeLGNgAgpnEG1gdycnI0\\\n",
              "dOjQDsdKS0u1aNEiSdKiRYv01ltvdXrewYMHFQqFNHToUA0ZMkShUEjl5eWOzAwApiFgDmloaFBy\\\n",
              "crIkaeTIkWpoaOi0pq6uTqNHj47eT0lJUV1dnWMzAoBJfG4PEI8sy5JlWT16jXA4rHA4LEk6ffq0\\\n",
              "vv3tb/fGaDHl9u3b6tfPez9jeXVfknf31tjYqE8++cTtMfAlBMwhI0aMUH19vZKTk1VfX6+kpKRO\\\n",
              "a/x+vyKRSPT+pUuXlJub2+XrFRYWqrCwUJIUDAZVU1PTF2O7KhKJdLt/k3l1X5J395aVleX2COiC\\\n",
              "935UilH5+fnRdxUWFxdrzpw5ndbMnDlTFRUVampqUlNTkyoqKjRz5kynRwUAIxCwPrBgwQI99thj\\\n",
              "qqmpUUpKinbt2qW1a9fq0KFDSk9P1+HDh7V27VpJUlVVlZYsWSJJGjp0qNatW6fs7GxlZ2dr/fr1\\\n",
              "nd4MAgD4L1xC7AN79+7t8viRI0c6HcvKytLOnTuj9wsKClRQUNBnswGAV3AGBgAwEgEDABiJgAEA\\\n",
              "jETAAABGImAAACMRMACAkQgYAMBIBAwAYCQCBgAwEgEDABiJgAEAjETAAABGImAAACMRMACAkQgY\\\n",
              "AMBIBAwAYCQCBgAwEgEDABiJgDmkpqZGmZmZ0X/f+ta39Pvf/77DmkgkokGDBkXXvPjiiy5NCwCx\\\n",
              "z+f2APEiGAyqurpaktTe3i6/36+5c+d2Wvf444/rnXfecXo8ADAOZ2AuOHLkiB566CF95zvfcXsU\\\n",
              "ADAWAXNBSUmJFixY0OVjJ06c0KRJk/SDH/xAp0+fdngyADCHZdu27fYQ8eTWrVsaNWqUTp8+rREj\\\n",
              "RnR47NNPP1W/fv2UmJiosrIyrVixQrW1tV2+TjgcVjgcliRduHBB+/bt6/PZndbc3KzExES3x+h1\\\n",
              "Xt2X5N29rV69WlVVVW6PgS8hYA4rLS3Vtm3bVFFRcde1qampqqqq0vDhw++4LhgMqqamprdGjBmR\\\n",
              "SES5ubluj9HrvLovybt7y8rKImAxiEuIDtu7d2+3lw+vXLmiL36eqKys1O3btzVs2DAnxwMAY/Au\\\n",
              "RAe1tLTo0KFD2rFjR/TY9u3bJUlLly7V/v379corr8jn8+n+++9XSUmJLMtya1wAiGkEzEHf/OY3\\\n",
              "1djY2OHY0qVLo7eLiopUVFTk9FgAYCQuIQIAjETAAABGImAAACMRMACAkQgYAMBIBAwAYCQCBgAw\\\n",
              "EgEDABiJgAEAjETAAABG4qOkAKAbNz5vVfF/nnd7DHSDgAHAl3wRrn//yzn967NW3fk/NIJbCBgA\\\n",
              "/Lcvh2v62CStmPZd/dthtydDVwgYgLjXXbgmpAxyezTcAQEDELcIl9kIGIC4Q7i8gYABiBuEy1sI\\\n",
              "GADPI1zeRMAclpqaqoEDByohIUE+n09VVVUdHrdtWytWrFBZWZkGDBigPXv26OGHH3ZpWsBshMvb\\\n",
              "CJgLjh07puHDu/7LknfffVe1tbWqra3VyZMntWzZMp08edLhCQGzEa74QMBiTGlpqRYuXCjLsvTo\\\n",
              "o4/q+vXrqq+vV3JystujATGPcMUXAuYwy7I0Y8YMWZal559/XoWFhR0er6ur0+jRo6P3U1JSVFdX\\\n",
              "R8CAOyBc8YmAOez48ePy+/26evWqQqGQxowZo5ycnK/8OuFwWOFwWJLU1NSkSCTSy5O6r7m5mX0Z\\\n",
              "xum9fdZm69DHrTp4vlUtrVLmAwn6UeZ9Sh3UosazHypy1rFR4AIC5jC/3y9JSkpK0ty5c1VZWdkh\\\n",
              "YH6/XxcvXozev3TpUvQ5/1thYWH07C0YDCo3N7dvB3dBJBJhX4Zxam/RM673OeOKZ/x3Kg5qaWnR\\\n",
              "jRs3orcrKiqUkZHRYU1+fr7+8Ic/yLZt/fWvf9WgQYO4fAj8txuft2rr0VpN3XJML1f8Q9mpQ/R2\\\n",
              "0VTtXJRNvOIQZ2AOamho0Ny5cyVJbW1teuaZZzRr1ixt375dkrR06VLl5eWprKxMgUBAAwYM0Kuv\\\n",
              "vurmyEBM4Hdc6AoBc1BaWppOnTrV6fjSpUujty3L0rZt25wcC4hZhAt3QsAAxBzChXtBwADEDMKF\\\n",
              "r4KAAXAd4cLXQcAAuIZwoScIGADHES70BgIGwDGEC72JgAHoc4QLfYGAAegzhAt9iYAB6HWEC04g\\\n",
              "YAB6zWdttrYerSVccAQBA9BjX5xxvfLe/1NL6z8IFxxBwAB8bV++VJj5QIL+77zHCBccQcAAfGXd\\\n",
              "/Y6r8eyHxAuOIWAA7tnd3pzB/4AMJxEwAHfFuwoRiwgYgG4RLsQyAgagE8IFExAwAFGECyYhYA65\\\n",
              "ePGiFi5cqIaGBlmWpcLCQq1YsaLDmkgkojlz5ujBBx+UJD311FNav369G+MizhAumIiAOcTn8+m3\\\n",
              "v/2tHn74Yd24cUOTJ09WKBTSuHHjOqx7/PHH9c4777g0JeIN4YLJCJhDkpOTlZycLEkaOHCgxo4d\\\n",
              "q7q6uk4BA5xAuOAFBMwF58+f14cffqgpU6Z0euzEiROaNGmSRo0apZdfflnjx493YUJ4FeGCl1i2\\\n",
              "bdtuDxFPmpub9b3vfU+/+tWv9NRTT3V47NNPP1W/fv2UmJiosrIyrVixQrW1tV2+TjgcVjgcliRd\\\n",
              "uHBB+/bt6/PZndbc3KzExES3x+h1buzrszZbhz5u1cHzrWpplTIfSNCPAv9HqYMSevXrePV7tnr1\\\n",
              "alVVVbk9Br6EgDmotbVVs2fP1syZM/WLX/zirutTU1NVVVWl4cOH33FdMBhUTU1Nb40ZMyKRiHJz\\\n",
              "c90eo9c5uS+nz7i8+j3LysoiYDGIS4gOsW1bixcv1tixY7uN15UrVzRixAhZlqXKykrdvn1bw4YN\\\n",
              "c3hSeAGXChEPCJhD3n//fb322muaMGGCMjMzJUm//vWvdeHCBUnS0qVLtX//fr3yyivy+Xy6//77\\\n",
              "VVJSIsuy3BwbhiFciCcEzCFTp07V3a7WFhUVqaioyKGJ4CWEC/GIgAEGI1yIZwQMMBDhAggYYBTC\\\n",
              "BfwPAgYYgHABnREwIIYRLqB7BAyIQYQLuDsCBsQQwgXcOwIGxADCBXx1BAxwEeECvj4CBriAcAE9\\\n",
              "R8AAB934vFX/8dEtrXjvGOECeoiAAQ7gjAvofQQM6ENdhWvq4E/17Jxst0cDjEfAgD5wpzOuSCTi\\\n",
              "9niAJxAwoBdxqRBwDgEDegHhApxHwIAeIFyAewgY8DUQLsB9/dweIN6Ul5crGAwqEAho8+bNnR6/\\\n",
              "efOm5s2bp0AgoClTpuj8+fPOD4lu3fi8VVuP1mrqlmN6ueIfyk4doreLpmrnomziBTiMMzAHtbe3\\\n",
              "a/ny5Tp06JBSUlKUnZ2t/Px8jRs3Lrpm165dGjJkiM6ePauSkhKtWbNGr7/+uotTQ+KMC4hFBMxB\\\n",
              "lZWVCgQCSktLkyTNnz9fpaWlHQJWWlqqDRs2SJKefvppFRUVybZtWZblxshxj3ABsYuAOaiurk6j\\\n",
              "R4+O3k9JSdHJkye7XePz+TRo0CA1NjZq+PDhjs4a7wgXEPsImKHC4bDC4bAkqampyZN/HNvc3Oz4\\\n",
              "vj5rs3Xo41YdPN+qllYp84EE/SjzPqUOalHj2Q8VOdvzr+HGvpzi5b0h9hAwB/n9fl28eDF6/9Kl\\\n",
              "S/L7/V2uSUlJUVtbm/71r39p2LBhnV6rsLBQhYWFkqRgMKjc3Nw+nd0NkUjEsX1Fz7je7/szLif3\\\n",
              "5TQv7w2xh4A5KDs7W7W1tTp37pz8fr9KSkr0xz/+scOa/Px8FRcX67HHHtP+/fv1xBNP8PuvPsSl\\\n",
              "QsBcBMxBPp9PW7du1cyZM9Xe3q6CggKNHz9e69evV1ZWlvLz87V48WL97Gc/UyAQ0NChQ1VSUuL2\\\n",
              "2J5EuADzETCH5eXlKS8vr8OxF198MXr7vvvu0xtvvOH0WHGDcAHeQcAQFwgX4D0EDJ5GuADvImDw\\\n",
              "JMIFeB8Bg6cQLiB+EDB4AuEC4g8Bg9EIFxC/CBiMRLgAEDAYhXAB+AIBgxEIF4AvI2CIaYQLQHcI\\\n",
              "GGLSjc9b9R8f3dKK944RLgBdImCIKZxxAbhXBAwxoatwTR38qZ6dk+32aABiFAGDq+50xsX/7Avg\\\n",
              "TggYXMGlQgA9RcDgKMIFoLcQMDiCcAHobQQMfYpwAegrBMwBv/zlL/X222+rf//+euihh/Tqq69q\\\n",
              "8ODBndalpqZq4MCBSkhIkM/nU1VVlQvT9g7CBaCvETAHhEIhbdq0ST6fT2vWrNGmTZu0ZcuWLtce\\\n",
              "O3ZMw4cPd3jC3kO4ADiFgDlgxowZ0duPPvqo9u/f7+I0fYNwAXAaAXPY7t27NW/evC4fsyxLM2bM\\\n",
              "kGVZev7551VYWOjwdF8d4QLgFgLWS6ZPn64rV650Or5x40bNmTMnetvn8+knP/lJl69x/Phx+f1+\\\n",
              "Xb16VaFQSGPGjFFOTk6Xa8PhsMLhsCSpqanJ8T/6/azN1qGPW3XwfKtaWqXMBxL0o8z7lDqoRY1n\\\n",
              "P1TkbM+/RnNzsyf/mNmr+5K8vTfEHsu2bdvtIeLBnj17tGPHDh05ckQDBgy46/oNGzYoMTFRq1ev\\\n",
              "vuvaYDCompqa3hjzrpw844pEIsrNze3113WbV/cleXdvWVlZRr+pyqs4A3NAeXm5fvOb3+i9997r\\\n",
              "Nl4tLS26ffu2Bg4cqJaWFlVUVGj9+vUOT9o9LhUCiDUEzAFFRUW6efOmQqGQpP96I8f27dt1+fJl\\\n",
              "LVmyRGVlZWpoaNDcuXMlSW1tbXrmmWc0a9YsN8eWRLgAxC4C5oCzZ7v+hdCoUaNUVlYmSUpLS9Op\\\n",
              "U6ecHOuOCBeAWEfA0AHhAmAKAgZJhAuAeQhYnCNcAExFwOIU4QJgOgIWZwgXAK8gYHGCcAHwGgLm\\\n",
              "cYQLgFcRMI8iXAC8joB5DOECEC8ImEcQLgDxhoB5wPWbtqZuOUa4AMQVAuYB12/a+mHqEMIFIK4Q\\\n",
              "MA8Y9c1+2rko2+0xAMBR/dweAD3XP8HtCQDAeQQMAGAkAgYAMBIBAwAYiYABAIxEwAAARiJgDtmw\\\n",
              "YYP8fr8yMzOVmZmpsrKyLteVl5crGAwqEAho8+bNDk8JAObg78ActHLlSq1evbrbx9vb27V8+XId\\\n",
              "OnRIKSkpys7OVn5+vsaNG+fglABgBs7AYkhlZaUCgYDS0tLUv39/zZ8/X6WlpW6PBQAxiYA5aOvW\\\n",
              "rZo4caIKCgrU1NTU6fG6ujqNHj06ej8lJUV1dXVOjggAxuASYi+aPn26rly50un4xo0btWzZMq1b\\\n",
              "t06WZWndunVatWqVdu/e/bW/VjgcVjgcliQ1NTUpEol87deKVc3NzezLMF7eG2IPAetFhw8fvqd1\\\n",
              "zz33nGbPnt3puN/v18WLF6P3L126JL/f3+VrFBYWqrCwUJIUDAaVm5v71QeOcZFIhH0Zxst7Q+zh\\\n",
              "EqJD6uvro7cPHDigjIyMTmuys7NVW1urc+fO6datWyopKVF+fr6TYwKAMTgDc8gLL7yg6upqWZal\\\n",
              "1NRU7dixQ5J0+fJlLVmyRGVlZfL5fNq6datmzpyp9vZ2FRQUaPz48S5PDgCxiYA55LXXXuvy+KhR\\\n",
              "ozr8TVheXp7y8vKcGgsAjMUlRACAkQgYAMBIBAwAYCQCBgAwEgEDABiJgAEAjETAAABGImAAACMR\\\n",
              "MACAkQgYAMBIBAwAYCQCBgAwEgEDABiJgAEAjETAAABGImAAACMRMACAkQgYAMBIPrcHiAfz5s1T\\\n",
              "TU2NJOn69esaPHiwqqurO61LTU3VwIEDlZCQIJ/Pp6qqKqdHBQBjEDAHvP7669Hbq1at0qBBg7pd\\\n",
              "e+zYMQ0fPtyJsQDAaATMQbZta9++fTp69KjbowCA8fgdmIP+8pe/aMSIEUpPT+/yccuyNGPGDE2e\\\n",
              "PFnhcNjh6QDALJyB9ZLp06frypUrnY5v3LhRc+bMkSTt3btXCxYs6PY1jh8/Lr/fr6tXryoUCmnM\\\n",
              "mDHKycnpcm04HI5GrqmpSZFIpOebiDHNzc3syzBe3htij2Xbtu32EPGgra1Nfr9fH3zwgVJSUu66\\\n",
              "fsOGDUpMTNTq1avvujYYDEbfJOIlkUhEubm5bo/R67y6L8m7e8vKyuJNVTGIS4gOOXz4sMaMGdNt\\\n",
              "vFpaWnTjxo3o7YqKCmVkZDg5IgAYhYA5pKSkpNPlw8uXLysvL0+S1NDQoKlTp2rSpEl65JFH9OST\\\n",
              "T2rWrFlujAoARuB3YA7Zs2dPp2OjRo1SWVmZJCktLU2nTp1yeCoAMBdnYAAAIxEwAICRCBgAwEgE\\\n",
              "DABgJAIGADASAQMAGImAAQCMRMAAAEYiYAAAIxEwAICRCBgAwEgEDABgJAIGADASAQMAGImAAQCM\\\n",
              "RMAAAEYiYAAAIxEwAICRCFgveuONNzR+/Hj169dPVVVVHR7btGmTAoGAgsGgDh482OXzz507pylT\\\n",
              "pigQCGjevHm6deuWE2MDgJEIWC/KyMjQm2++qZycnA7Hz5w5o5KSEp0+fVrl5eX6+c9/rvb29k7P\\\n",
              "X7NmjVauXKmzZ89qyJAh2rVrl1OjA4BxCFgvGjt2rILBYKfjpaWlmj9/vr7xjW/owQcfVCAQUGVl\\\n",
              "ZYc1tm3r6NGjevrppyVJixYt0ltvveXI3ABgIgLmgLq6Oo0ePTp6PyUlRXV1dR3WNDY2avDgwfL5\\\n",
              "fN2uAQD8D5/bA5hm+vTpunLlSqfjGzdu1Jw5cxybIxwOKxwOS5I+/vhjZWVlOfa1nfLPf/5TDzzw\\\n",
              "gNtj9Dqv7kvy7t7+/ve/uz0CukDAvqLDhw9/5ef4/X5dvHgxev/SpUvy+/0d1gwbNkzXr19XW1ub\\\n",
              "fD5fl2v+t8LCQhUWFkqSsrKyOr1pxAvYl3m8ujcv/oDoBVxCdEB+fr5KSkp08+ZNnTt3TrW1tXrk\\\n",
              "kUc6rLEsS9///ve1f/9+SVJxcbGjZ3QAYBoC1osOHDiglJQUnThxQk8++aRmzpwpSRo/frx+/OMf\\\n",
              "a9y4cZo1a5a2bdumhIQESVJeXp4uX74sSdqyZYt+97vfKRAIqLGxUYsXL3ZtLwAQ6yzbtm23h0DP\\\n",
              "hMPh6OVEL2Ff5vHq3ry6L9MRMACAkbiECAAwEgEzVE8/tsoUGzZskN/vV2ZmpjIzM1VWVub2SD1S\\\n",
              "Xl6uYDCoQCCgzZs3uz1Or0lNTdWECROUmZlp/Dv2CgoKlJSUpIyMjOixa9euKRQKKT09XaFQSE1N\\\n",
              "TS5OiC8QMEP19GOrTLJy5UpVV1erurpaeXl5bo/ztbW3t2v58uV69913debMGe3du1dnzpxxe6xe\\\n",
              "c+zYMVVXVxv/Nvpnn31W5eXlHY5t3rxZ06ZNU21traZNm+apHz5MRsAM1ZOPrYI7KisrFQgElJaW\\\n",
              "pv79+2v+/PkqLS11eyx8SU5OjoYOHdrhWGlpqRYtWiSJj3mLJQTMY+7lY6tMs3XrVk2cOFEFBQVG\\\n",
              "X7rx4vfmC5ZlacaMGZo8eXL0E2K8pKGhQcnJyZKkkSNHqqGhweWJIPFJHDEtVj62qq/daZ/Lli3T\\\n",
              "unXrZFmW1q1bp1WrVmn37t0uTIk7OX78uPx+v65evapQKKQxY8Z0urztFZZlybIst8eACFhM66uP\\\n",
              "rYo197rP5557TrNnz+7jafqOid+be/XFPpKSkjR37lxVVlZ6KmAjRoxQfX29kpOTVV9fr6SkJLdH\\\n",
              "griE6Dn38rFVJqmvr4/ePnDgQId3hpkmOztbtbW1OnfunG7duqWSkhLl5+e7PVaPtbS06MaNG9Hb\\\n",
              "FRUVRn+fupKfn6/i4mJJfMxbTLFhpDfffNP2+/12//797aSkJHvGjBnRx1566SU7LS3N/u53v2uX\\\n",
              "lZW5OGXP/fSnP7UzMjLsCRMm2D/84Q/ty5cvuz1Sj/zpT3+y09PT7bS0NPull15ye5xe8dFHH9kT\\\n",
              "J060J06caI8bN874fc2fP98eOXKk7fP5bL/fb+/cudP+5JNP7CeeeMIOBAL2tGnT7MbGRrfHhG3b\\\n",
              "fBIHAMBIXEIEABiJgAEAjETAAABGImAAACMRMACAkQgYAMBIBAwAYCQCBgAwEgEDABiJgAEAjETA\\\n",
              "AABGImAAACMRMACAkQgYAMBIBAwAYCQCBgAwEgEDABiJgAEAjETAAABGImAAACP9f+gl4gDUFxoE\\\n",
              "AAAAAElFTkSuQmCC\\\n",
              "\"\n",
              "  frames[6] = \"data:image/png;base64,iVBORw0KGgoAAAANSUhEUgAAAbAAAAEgCAYAAADVKCZpAAAABHNCSVQICAgIfAhkiAAAAAlwSFlz\\\n",
              "AAALEgAACxIB0t1+/AAAADh0RVh0U29mdHdhcmUAbWF0cGxvdGxpYiB2ZXJzaW9uMy4yLjIsIGh0\\\n",
              "dHA6Ly9tYXRwbG90bGliLm9yZy+WH4yJAAAaF0lEQVR4nO3df3BU9b3/8deSvbHSIBBoIGzQNG7c\\\n",
              "kETIhUT0e5UJygJGupSpLeAvegNGEGYcK1X+waF8pWLHdnQujrBXVOp0iErFWBtCAFmRDjUT2+AV\\\n",
              "xkzwBoWQhAqhJZkrIeHcPzruNSSRX5tz9nP2+ZhxZvfsJ5v3ZzLOa88rJwePZVmWAAAwzCCnBwAA\\\n",
              "4HIQYAAAIxFgAAAjEWAAACMRYAAAIxFgAAAjEWAAACMRYAAAIxFgAAAjEWAAACMRYAAAIxFgAAAj\\\n",
              "EWAAACMRYAAAIxFgAAAjEWAAACMRYAAAIxFgAAAjEWAAACMRYAAAIxFgAAAjEWAAACMRYAAAIxFg\\\n",
              "AAAjEWAAACMRYAAAIxFgAAAjEWAAACMRYAAAIxFgAAAjEWADoLS0VGlpacrPz48eO3nypILBoLKz\\\n",
              "sxUMBtXW1tbn127atEnZ2dnKzs7Wpk2b7BoZAIzjsSzLcnoIt9mzZ49SUlL0wAMP6JNPPpEkPf74\\\n",
              "40pNTdWKFSu0du1atbW16ZlnnunxdSdPnlRhYaFqa2vl8Xg0adIkffTRRxo+fLgT2wCAuMYZ2ACY\\\n",
              "MmWKUlNTexyrqKjQggULJEkLFizQ22+/3evrtm/frmAwqNTUVA0fPlzBYFBVVVW2zAwApiHAbNLa\\\n",
              "2qr09HRJ0ujRo9Xa2tprTVNTk8aOHRt9npGRoaamJttmBACTeJ0eIBF5PB55PJ4reo9wOKxwOCxJ\\\n",
              "OnDggK699tpYjBZXzp07p0GD3PcZy637kty7txMnTujLL790egychwCzyahRo9Tc3Kz09HQ1Nzcr\\\n",
              "LS2t1xqfz6dIJBJ9fvToURUXF/f5fmVlZSorK5MkBQIB1dfXD8TYjopEIv3u32Ru3Zfk3r0VFhY6\\\n",
              "PQL64L6PSnEqFApFryrctGmTZs+e3WvNjBkzVF1drba2NrW1tam6ulozZsywe1QAMAIBNgDmz5+v\\\n",
              "W265RfX19crIyNDGjRu1YsUK7dixQ9nZ2dq5c6dWrFghSaqtrdWiRYskSampqVq5cqWKiopUVFSk\\\n",
              "J598stfFIACAf6JCHACbN2/u8/iuXbt6HSssLNRLL70UfV5aWqrS0tIBmw0A3IIzMACAkQgwAICR\\\n",
              "CDAAgJEIMACAkQgwAICRCDAAgJEIMACAkQgwAICRCDAAgJEIMACAkQgwAICRCDAAgJEIMACAkQgw\\\n",
              "AICRCDAAgJEIMACAkQgwAICRCDAAgJEIMJvU19eroKAg+t8111yj5557rseaSCSioUOHRtesXr3a\\\n",
              "oWkBIP55nR4gUQQCAdXV1UmSuru75fP5NGfOnF7rbrvtNr377rt2jwcAxuEMzAG7du3S9ddfr+uu\\\n",
              "u87pUQDAWASYA8rLyzV//vw+X9u3b58mTJigO++8UwcOHLB5MgAwh8eyLMvpIRJJZ2enxowZowMH\\\n",
              "DmjUqFE9XvvHP/6hQYMGKSUlRZWVlXrkkUfU0NDQ5/uEw2GFw2FJ0hdffKE33nhjwGe3W3t7u1JS\\\n",
              "UpweI+bcui/JvXtbvny5amtrnR4D5yHAbFZRUaEXXnhB1dXVF1ybmZmp2tpajRw58lvXBQIB1dfX\\\n",
              "x2rEuBGJRFRcXOz0GDHn1n1J7t1bYWEhARaHqBBttnnz5n7rw5aWFn39eaKmpkbnzp3TiBEj7BwP\\\n",
              "AIzBVYg26ujo0I4dO7Rhw4bosfXr10uSFi9erC1btujFF1+U1+vV1VdfrfLycnk8HqfGBYC4RoDZ\\\n",
              "6Lvf/a5OnDjR49jixYujj5ctW6Zly5bZPRaAfliWpW2ftDg9BvpBgAFAHw4db9eqdw5o76Ev9e2/\\\n",
              "hYZT+B0YAHxDx5kurd32qe58fo/2Hz2lX4TynB4J/eAMDAD0f3Xh/3/3oJr//pXunpShFXfmaGTK\\\n",
              "VfoPp4dDnwgwAAnvm3Vhbvo1WnfPv2rSdalOj4ULIMAAJKyOM136j/cOaePe/9Z3/iVJq2fn6d7J\\\n",
              "1ylpEFf/moAAA5Bwvq0uhDkIMAAJhbrQPQgwAAmButB9CDAArkZd6F4EGADXoi50NwIMgOtQFyYG\\\n",
              "AgyAa1AXJhYCDIArUBcmHgIMgNGoCxMXAQbASNSFIMAAGIe6EBIBBsAg1IX4JgIMQNyjLkRfCDCb\\\n",
              "ZWZmasiQIUpKSpLX61VtbW2P1y3L0iOPPKLKykoNHjxYr776qiZOnOjQtIDzqAvRHwLMAbt379bI\\\n",
              "kX3/I+Xbtm1TQ0ODGhoa9OGHH2rJkiX68MMPbZ4QcB51IS6EAIszFRUVeuCBB+TxeHTzzTfr1KlT\\\n",
              "am5uVnp6utOjAbagLsTFIsBs5vF4NH36dHk8Hj300EMqKyvr8XpTU5PGjh0bfZ6RkaGmpiYCDAmB\\\n",
              "uhCXggCz2d69e+Xz+XT8+HEFg0Hl5ORoypQpl/w+4XBY4XBYktTW1qZIJBLjSZ3X3t7OvgxzuXv7\\\n",
              "qsvSO5+d1fbDZ5WcJN03Llm3X9ul040fK9IY+znhDgSYzXw+nyQpLS1Nc+bMUU1NTY8A8/l8OnLk\\\n",
              "SPT50aNHo1/zTWVlZdGzt0AgoOLi4oEd3AGRSIR9GeZS99azLjxLXYhLMsjpARJJR0eHTp8+HX1c\\\n",
              "XV2t/Pz8HmtCoZB++9vfyrIs/fnPf9bQoUOpD+FKh4636/6NNXr4d3/R8MHJ+v2SW/TsjycQXrho\\\n",
              "nIHZqLW1VXPmzJEkdXV16Z577tHMmTO1fv16SdLixYtVUlKiyspK+f1+DR48WK+88oqTIwMxx9WF\\\n",
              "iBUCzEZZWVnav39/r+OLFy+OPvZ4PHrhhRfsHAuwBVcXItYIMAADjqsLMRAIMAADhroQA4kAAxBz\\\n",
              "1IWwAwEGIKaoC2EXAgxATHSc6dIb9Z3asWMPdSFsQYABuCL8MTKcQoABuGzn14WlOdKDcyY4PRYS\\\n",
              "BAEG4JKdf3XhL0J5unfytdr7wR6nR0MCIcAAXDSuLkQ8IcAAXBSuLkS8IcAAfKv+6kJvEvcCh7MI\\\n",
              "MAB9oi5EvCPAAPRCXQgTEGAAoqgLYRICDAB1IYxEgAEJjroQpiLAgARFXQjTEWBAgqEuhFvwUcsm\\\n",
              "R44c0dSpU5Wbm6u8vDw9//zzvdZEIhENHTpUBQUFKigo0OrVqx2YFG526Hi77t9Yo4d/9xcNH5ys\\\n",
              "3y+5Rc/+eALhBSNxBmYTr9erX//615o4caJOnz6tSZMmKRgMKjc3t8e62267Te+++65DU8KtqAvh\\\n",
              "RgSYTdLT05Weni5JGjJkiMaNG6empqZeAQbEEnUh3IwAc8Dhw4f117/+VZMnT+712r59+zRhwgSN\\\n",
              "GTNGzz77rPLy8hyYEG7A1YVwOwLMZu3t7frRj36k5557Ttdcc02P1yZOnKjPP/9cKSkpqqys1A9/\\\n",
              "+EM1NDT0+T7hcFjhcFiS1NbWpkgkMtCj2669vZ19XYavuiy989lZbT98VslJ0n3jkjV1bJdON36s\\\n",
              "SOOAfVtJ7v2ZIT55LMuynB4iUZw9e1azZs3SjBkz9LOf/eyC6zMzM1VbW6uRI0d+67pAIKD6+vpY\\\n",
              "jRk3IpGIiouLnR4j5gZqX/FQF7r1Z1ZYWKja2lqnx8B5OAOziWVZWrhwocaNG9dveLW0tGjUqFHy\\\n",
              "eDyqqanRuXPnNGLECJsnhYmoC5GICDCb/OlPf9Jrr72mG2+8UQUFBZKkX/7yl/riiy8kSYsXL9aW\\\n",
              "LVv04osvyuv16uqrr1Z5ebk8Ho+TYyPOcXUhEhkBZpNbb71VF2prly1bpmXLltk0EUwWD3Uh4DQC\\\n",
              "DDAMdSHwTwQYYAjqQqAnAgyIc9SFQN8IMCCOURcC/SPAgDhEXQhcGAEGxBHqQuDiEWBAnKAuBC4N\\\n",
              "AQY4jLoQuDwEGOAQ6kLgyhBggAOoC4ErR4ABNuo406U36ju1Y8ce6kLgChFggA161oVnqQuBGCDA\\\n",
              "gAF2fl1YmiM9OGeC02MBxiPAgAHS39WFez/Y4/RogCsQYECMcXUhYA8CDIghri4E7EOAATHAHyMD\\\n",
              "9iPAgCtAXQg4h4+HNquqqlIgEJDf79fatWt7vX7mzBnNnTtXfr9fkydP1uHDh+0fEhfl0PF23b+x\\\n",
              "Rg//7i8aPjhZv19yi5798QTCC7AJZ2A26u7u1tKlS7Vjxw5lZGSoqKhIoVBIubm50TUbN27U8OHD\\\n",
              "dejQIZWXl+uJJ57Q66+/7uDUOB91IRAf+D/ORjU1NfL7/crKylJycrLmzZunioqKHmsqKiq0YMEC\\\n",
              "SdLdd9+tXbt2ybIsJ8bFeSzLUuV/NWvab97X+vc/0+wCn3YvL9aC/5dJeAEO4AzMRk1NTRo7dmz0\\\n",
              "eUZGhj788MN+13i9Xg0dOlQnTpzQyJEjbZ0VPXF1IRB/CDBDhcNhhcNhSVJbW5sikYizAw2A9vZ2\\\n",
              "x/f1VZeldz47q+2Hzyo5SbpvXLKmju3S6caPFWm8vPeMh30NFDfvDfGHALORz+fTkSNHos+PHj0q\\\n",
              "n8/X55qMjAx1dXXp73//u0aMGNHrvcrKylRWViZJCgQCKi4uHtDZnRCJRBzb10Deu9DJfQ00N+8N\\\n",
              "8Yfi3kZFRUVqaGhQY2OjOjs7VV5erlAo1GNNKBTSpk2bJElbtmzR7bffLo/H48S4CYurCwEzcAZm\\\n",
              "I6/Xq3Xr1mnGjBnq7u5WaWmp8vLy9OSTT6qwsFChUEgLFy7U/fffL7/fr9TUVJWXlzs9dsLg6kLA\\\n",
              "LASYzUpKSlRSUtLj2OrVq6OPv/Od7+jNN9+0e6yExh8jA2YiwJDQuLoQMBcBhoREXQiYjwBDQqEu\\\n",
              "BNyDAEPCoC4E3IUAg+tRFwLuRIDBtagLAXcjwOBK1IWA+xFgcBXqQiBxEGBwBepCIPEQYDAedSGQ\\\n",
              "mAgwGIu6EEhsBBiMQ10IQCLAYBjqQgBfI8BgBOpCAOcjwBDXqAsB9IcAQ9w61n5O92+soS4E0CcC\\\n",
              "DHHn67rwP//0Pxp81VnqQgB9IsAQN86vC2/1efXcvxdTFwLoEwFmg5///Of6wx/+oOTkZF1//fV6\\\n",
              "5ZVXNGzYsF7rMjMzNWTIECUlJcnr9aq2ttaBaZ3R19WFpxs/JrwA9ItOxgbBYFCffPKJPv74Y91w\\\n",
              "ww16+umn+127e/du1dXVJUx4dZzp0tptn+rO5/do/9FT+kUoT+8s+zd+1wXggjgDs8H06dOjj2++\\\n",
              "+WZt2bLFwWniQ19XFz4xM0ffG8IZF4CLQ4DZ7OWXX9bcuXP7fM3j8Wj69OnyeDx66KGHVFZWZvN0\\\n",
              "9uCPkQHEAgEWI9OmTVNLS0uv42vWrNHs2bOjj71er+69994+32Pv3r3y+Xw6fvy4gsGgcnJyNGXK\\\n",
              "lD7XhsNhhcNhSVJbW5sikUhsNjKAvuqy9M5nZ7X98FklJ0n3jUvW1LFdOt34sSKNvde3t7cbsa9L\\\n",
              "5dZ9Se7eG+KPx7Isy+khEsGrr76qDRs2aNeuXRo8ePAF169atUopKSlavnz5BdcGAgHV19fHYswB\\\n",
              "cbl1YSQSUXFxsT1D2sit+5Lcu7fCwsKE+b20STgDs0FVVZV+9atf6f333+83vDo6OnTu3DkNGTJE\\\n",
              "HR0dqq6u1pNPPmnzpLFHXQhgoBBgNli2bJnOnDmjYDAo6Z8Xcqxfv17Hjh3TokWLVFlZqdbWVs2Z\\\n",
              "M0eS1NXVpXvuuUczZ850cuwrwr0LAQw0AswGhw4d6vP4mDFjVFlZKUnKysrS/v377RxrQHB1IQC7\\\n",
              "EGCIGepCAHYiwHDFqAsBOIEAw2WjLgTgJAIMl4W6EIDTCDBcEupCAPGCAMNFoS4EEG8IMFwQdSGA\\\n",
              "eESAoV/UhQDiGQGGXqgLAZiAAEMP1IUATEGAQRJ1IQDzEGAJjroQgKkIsARGXQjAZARYAqIuBOAG\\\n",
              "BFgCoS4E4CYEWIKgLgTgNgSYy1EXAnArAsylqAsBuB0B5kLUhQASAT2STVatWiWfz6eCggIVFBSo\\\n",
              "srKyz3VVVVUKBALy+/1au3btJX2PjjNdWrvtU935/B7tP3pKvwjl6Z1l/0Z4AXAlzsBs9Oijj2r5\\\n",
              "8uX9vt7d3a2lS5dqx44dysjIUFFRkUKhkHJzcy/43pX/1UxdCCChEGBxpKamRn6/X1lZWZKkefPm\\\n",
              "qaKi4oIB1tJxTg//7i/UhQASChWijdatW6fx48ertLRUbW1tvV5vamrS2LFjo88zMjLU1NR0wfft\\\n",
              "7BZ1IYCEwxlYDE2bNk0tLS29jq9Zs0ZLlizRypUr5fF4tHLlSj322GN6+eWXL/t7hcNhhcNhSVJK\\\n",
              "92ld13lYez84fNnvF4/a29sViUScHiPm3Lovyd17Q/whwGJo586dF7XuwQcf1KxZs3od9/l8OnLk\\\n",
              "SPT50aNH5fP5+nyPsrIylZWVSZICgYCKi4svfeA4F4lE2Jdh3Lw3xB8qRJs0NzdHH2/dulX5+fm9\\\n",
              "1hQVFamhoUGNjY3q7OxUeXm5QqGQnWMCgDE4A7PJ448/rrq6Onk8HmVmZmrDhg2SpGPHjmnRokWq\\\n",
              "rKyU1+vVunXrNGPGDHV3d6u0tFR5eXkOTw4A8YkAs8lrr73W5/ExY8b0+JuwkpISlZSU2DUWABiL\\\n",
              "ChEAYCQCDABgJAIMAGAkAgwAYCQCDABgJAIMAGAkAgwAYCQCDABgJAIMAGAkAgwAYCQCDABgJAIM\\\n",
              "AGAkAgwAYCQCDABgJAIMAGAkAgwAYCQCDABgJAIMAGAkr9MDJIK5c+eqvr5eknTq1CkNGzZMdXV1\\\n",
              "vdZlZmZqyJAhSkpKktfrVW1trd2jAoAxCDAbvP7669HHjz32mIYOHdrv2t27d2vkyJF2jAUARiPA\\\n",
              "bGRZlt544w299957To8CAMbjd2A2+uCDDzRq1ChlZ2f3+brH49H06dM1adIkhcNhm6cDALNwBhYj\\\n",
              "06ZNU0tLS6/ja9as0ezZsyVJmzdv1vz58/t9j71798rn8+n48eMKBoPKycnRlClT+lwbDoejIdfW\\\n",
              "1qZIJHLlm4gz7e3t7Mswbt4b4o/HsizL6SESQVdXl3w+nz766CNlZGRccP2qVauUkpKi5cuXX3Bt\\\n",
              "IBCIXiTiJpFIRMXFxU6PEXNu3Zfk3r0VFhZyUVUcokK0yc6dO5WTk9NveHV0dOj06dPRx9XV1crP\\\n",
              "z7dzRAAwCgFmk/Ly8l714bFjx1RSUiJJam1t1a233qoJEybopptu0l133aWZM2c6MSoAGIHfgdnk\\\n",
              "1Vdf7XVszJgxqqyslCRlZWVp//79Nk8FAObiDAwAYCQCDABgJAIMAGAkAgwAYCQCDABgJAIMAGAk\\\n",
              "AgwAYCQCDABgJAIMAGAkAgwAYCQCDABgJAIMAGAkAgwAYCQCDABgJAIMAGAkAgwAYCQCDABgJAIM\\\n",
              "AGAkAiyG3nzzTeXl5WnQoEGqra3t8drTTz8tv9+vQCCg7du39/n1jY2Nmjx5svx+v+bOnavOzk47\\\n",
              "xgYAIxFgMZSfn6+33npLU6ZM6XH84MGDKi8v14EDB1RVVaWHH35Y3d3dvb7+iSee0KOPPqpDhw5p\\\n",
              "+PDh2rhxo12jA4BxCLAYGjdunAKBQK/jFRUVmjdvnq666ip9//vfl9/vV01NTY81lmXpvffe0913\\\n",
              "3y1JWrBggd5++21b5gYAExFgNmhqatLYsWOjzzMyMtTU1NRjzYkTJzRs2DB5vd5+1wAA/o/X6QFM\\\n",
              "M23aNLW0tPQ6vmbNGs2ePdu2OcLhsMLhsCTp888/V2FhoW3f2y5/+9vf9L3vfc/pMWLOrfuS3Lu3\\\n",
              "Tz/91OkR0AcC7BLt3Lnzkr/G5/PpyJEj0edHjx6Vz+frsWbEiBE6deqUurq65PV6+1zzTWVlZSor\\\n",
              "K5MkFRYW9rpoxA3Yl3ncujc3fkB0AypEG4RCIZWXl+vMmTNqbGxUQ0ODbrrpph5rPB6Ppk6dqi1b\\\n",
              "tkiSNm3aZOsZHQCYhgCLoa1btyojI0P79u3TXXfdpRkzZkiS8vLy9JOf/ES5ubmaOXOmXnjhBSUl\\\n",
              "JUmSSkpKdOzYMUnSM888o9/85jfy+/06ceKEFi5c6NheACDeeSzLspweAlcmHA5H60Q3YV/mceve\\\n",
              "3Lov0xFgAAAjUSECAIxEgBnqSm9bZYpVq1bJ5/OpoKBABQUFqqysdHqkK1JVVaVAICC/36+1a9c6\\\n",
              "PU7MZGZm6sYbb1RBQYHxV+yVlpYqLS1N+fn50WMnT55UMBhUdna2gsGg2traHJwQXyPADHWlt60y\\\n",
              "yaOPPqq6ujrV1dWppKTE6XEuW3d3t5YuXapt27bp4MGD2rx5sw4ePOj0WDGze/du1dXVGX8Z/U9/\\\n",
              "+lNVVVX1OLZ27Vrdcccdamho0B133OGqDx8mI8AMdSW3rYIzampq5Pf7lZWVpeTkZM2bN08VFRVO\\\n",
              "j4XzTJkyRampqT2OVVRUaMGCBZK4zVs8IcBc5mJuW2WadevWafz48SotLTW6unHjz+ZrHo9H06dP\\\n",
              "16RJk6J3iHGT1tZWpaenS5JGjx6t1tZWhyeCxJ044lq83LZqoH3bPpcsWaKVK1fK4/Fo5cqVeuyx\\\n",
              "x/Tyyy87MCW+zd69e+Xz+XT8+HEFg0Hl5OT0qrfdwuPxyOPxOD0GRIDFtYG6bVW8udh9Pvjgg5o1\\\n",
              "a9YATzNwTPzZXKyv95GWlqY5c+aopqbGVQE2atQoNTc3Kz09Xc3NzUpLS3N6JIgK0XUu5rZVJmlu\\\n",
              "bo4+3rp1a48rw0xTVFSkhoYGNTY2qrOzU+Xl5QqFQk6PdcU6Ojp0+vTp6OPq6mqjf059CYVC2rRp\\\n",
              "kyRu8xZXLBjprbfesnw+n5WcnGylpaVZ06dPj7721FNPWVlZWdYNN9xgVVZWOjjllbvvvvus/Px8\\\n",
              "68Ybb7R+8IMfWMeOHXN6pCvyxz/+0crOzraysrKsp556yulxYuKzzz6zxo8fb40fP97Kzc01fl/z\\\n",
              "5s2zRo8ebXm9Xsvn81kvvfSS9eWXX1q333675ff7rTvuuMM6ceKE02PCsizuxAEAMBIVIgDASAQY\\\n",
              "AMBIBBgAwEgEGADASAQYAMBIBBgAwEgEGADASAQYAMBIBBgAwEgEGADASAQYAMBIBBgAwEgEGADA\\\n",
              "SAQYAMBIBBgAwEgEGADASAQYAMBIBBgAwEgEGADASAQYAMBI/wvBnfte53ih8QAAAABJRU5ErkJg\\\n",
              "gg==\\\n",
              "\"\n",
              "  frames[7] = \"data:image/png;base64,iVBORw0KGgoAAAANSUhEUgAAAbAAAAEgCAYAAADVKCZpAAAABHNCSVQICAgIfAhkiAAAAAlwSFlz\\\n",
              "AAALEgAACxIB0t1+/AAAADh0RVh0U29mdHdhcmUAbWF0cGxvdGxpYiB2ZXJzaW9uMy4yLjIsIGh0\\\n",
              "dHA6Ly9tYXRwbG90bGliLm9yZy+WH4yJAAAb7klEQVR4nO3df3CU5b338c+GFRWDQKCBsKGNcePy\\\n",
              "I0AGgugjZqISApGGUj2CtpU2xIg1M5ZKleec4vA4UrFz7OgcrLAjCjJKVI6a1sYYfu2jWCTGY+QA\\\n",
              "bYw+CCSEoCEoCR5ilvv5wzEaEuRHNve9173v14wzu/deST7XRP1k73y58FiWZQkAAMPEOR0AAIDz\\\n",
              "QYEBAIxEgQEAjESBAQCMRIEBAIxEgQEAjESBAQCMRIEBAIxEgQEAjESBAQCMRIEBAIxEgQEAjESB\\\n",
              "AQCMRIEBAIxEgQEAjESBAQCMRIEBAIxEgQEAjESBAQCMRIEBAIxEgQEAjESBAQCMRIEBAIxEgQEA\\\n",
              "jESBAQCMRIEBAIxEgQEAjESBAQCMRIEBAIxEgQEAjESB9YKCggIlJiYqPT2949qRI0eUk5OjtLQ0\\\n",
              "5eTkqLm5uduPXbt2rdLS0pSWlqa1a9faFRkAjOOxLMtyOoTbvPnmm4qPj9ftt9+uXbt2SZLuu+8+\\\n",
              "JSQkaPHixVq+fLmam5v1yCOPdPq4I0eOKDMzU1VVVfJ4PJo4caLee+89DRo0yIltAEBU4x1YL8jK\\\n",
              "ylJCQkKna6WlpZo3b54kad68eXr11Ve7fNwbb7yhnJwcJSQkaNCgQcrJyVF5ebktmQHANBSYTRob\\\n",
              "G5WUlCRJGjZsmBobG7usqa+v14gRIzqeJycnq76+3raMAGASr9MBYpHH45HH4+nR5wgGgwoGg5Kk\\\n",
              "3bt364c//GEkokWVkydPKi7OfT9juXVfknv31tTUpM8++8zpGDgFBWaToUOHqqGhQUlJSWpoaFBi\\\n",
              "YmKXNT6fT6FQqON5XV2dsrOzu/18RUVFKioqkiQFAgHV1NT0RmxHhUKh0+7fZG7dl+TevWVmZjod\\\n",
              "Ad1w349KUSo/P79jqnDt2rWaNWtWlzW5ubmqqKhQc3OzmpubVVFRodzcXLujAoARKLBecOutt+rq\\\n",
              "q69WTU2NkpOTtXr1ai1evFgbN25UWlqaNm3apMWLF0uSqqqqVFhYKElKSEjQkiVLNGnSJE2aNEkP\\\n",
              "PPBAl2EQAMDXuIXYC9avX9/t9c2bN3e5lpmZqaeeeqrjeUFBgQoKCnotGwC4Be/AAABGosAAAEai\\\n",
              "wAAARqLAAABGosAAAEaiwAAARqLAAABGosAAAEaiwAAARqLAAABGosAAAEaiwAAARqLAAABGosAA\\\n",
              "AEaiwAAARqLAAOB7/Hfd505HwGnwF1oCQDfawye18v9+rMc21Wqg02HQLd6BAcAp9jcd15zgO/r3\\\n",
              "ig81PX2Y03FwGhSYTWpqapSRkdHxz6WXXqrHHnus05pQKKQBAwZ0rHnwwQcdSgvEJsuy9OK7BzTj\\\n",
              "8Tf1YeMxPT43Qytum+B0LJwGtxBtEggEVF1dLUkKh8Py+XyaPXt2l3XXXnutXnvtNbvjATHvSGub\\\n",
              "Fv/nTlXsadRVqQl69JYM+QZe7HQsfA8KzAGbN2/W5Zdfrh/96EdORwEgaWvNYd23Yac+P/6V/jVv\\\n",
              "pAqnpCouzuN0LJwBtxAdUFJSoltvvbXb17Zv367x48drxowZ2r17t83JgNjyZVtYS17dpV89864S\\\n",
              "+vVVafE1Ksq6nPIyhMeyLMvpELGkra1Nw4cP1+7duzV06NBOr33xxReKi4tTfHy8ysrKdM8996i2\\\n",
              "trbbzxMMBhUMBiVJ+/fv14svvtjr2e3W0tKi+Ph4p2NEnFv3JZm1t72fh7Vq5wkdarWUm+LVTWl9\\\n",
              "1bdP98W1aNEiVVVV2ZwQZ0KB2ay0tFRPPPGEKioqzrg2JSVFVVVVGjJkyPeuCwQCqqmpiVTEqBEK\\\n",
              "hZSdne10jIhz674kM/b23fH4IfEX6tFbxusa//f/N5aZmUmBRSF+B2az9evXn/b24aFDhzR06FB5\\\n",
              "PB5VVlbq5MmTGjx4sM0JAffa33RcC1+s1nv7mvXj8cP10Kx0Deh3gdOxcJ4oMBu1trZq48aNWrVq\\\n",
              "Vce1lStXSpIWLFigDRs26Mknn5TX69XFF1+skpISeTzciwd6yrIsvVRVp//z192Ki/Po8bkZmpXh\\\n",
              "czoWeogCs9Ell1yipqamTtcWLFjQ8bi4uFjFxcV2xwJcjfF496LAALgW4/HuRoEBcJ0v28L6Q9k/\\\n",
              "tO6dfQoM7a9nC67UqKRLnY6FCKPAALjKzrqj+s0L1fp/n7aqcMplWpQb0EUX9HE6FnoBBQbAFU4d\\\n",
              "j3+ucPIZx+NhNgoMgPEYj49NFBgAYzEeH9soMABGYjweFBgA4zAeD4kCA2AQxuPxXRQYACMwHo9T\\\n",
              "UWAAohrj8TgdCgxA1GI8Ht+HAgMQdRiPx9mgwABEFcbjcbYoMABRg/F4nAsKDIDjGI/H+aDAADiK\\\n",
              "8XicLwoMgCMYj0dPUWA2S0lJUf/+/dWnTx95vV5VVVV1et2yLN1zzz0qKytTv379tGbNGk2YMMGh\\\n",
              "tEDvYDwekUCBOWDr1q0aMqT7nzRff/111dbWqra2Vjt27NBdd92lHTt22JwQ6B2MxyOSKLAoU1pa\\\n",
              "qttvv10ej0dXXXWVjh49qoaGBiUlJTkdDegRxuMRaXFOB4g1Ho9H06ZN08SJExUMBru8Xl9frxEj\\\n",
              "RnQ8T05OVn19vZ0RgYjbWnNYuY+9qVDNp/rXvJF6vvAqygs9xjswm23btk0+n0+HDx9WTk6ORo4c\\\n",
              "qaysrHP+PMFgsKMAm5ubFQqFIpzUeS0tLezLMKfu7UTY0gs1bdqyv13J8R4tueoijTh5QG++ecC5\\\n",
              "kHANCsxmPt/X9/sTExM1e/ZsVVZWdiown8+nAwe+/Y+7rq6u42O+q6ioSEVFRZKkQCCg7Ozs3g3u\\\n",
              "gFAoxL4M8929fTse3854PHoFtxBt1NraqmPHjnU8rqioUHp6eqc1+fn5evbZZ2VZlt555x0NGDCA\\\n",
              "33/BKO3hk1qxpVY//fPfdfxEWM8VTtbvZ46mvBBxvAOzUWNjo2bPni1Jam9v12233abp06dr5cqV\\\n",
              "kqQFCxYoLy9PZWVl8vv96tevn5555hknIwPn5PDxk5oTfIfxeNiCArNRamqqPvjggy7XFyxY0PHY\\\n",
              "4/HoiSeesDMW0GPfjMc/8PaXuuCCrxiPhy0oMAA98t3x+JEJcVpdlMWEIWxBgQE4b6eeHu8P76e8\\\n",
              "YBsKDMA5O93p8aEQ4/GwDwUG4JxwejyiBQUG4KxwejyiDQUG4Iw4PR7RiAIDcFqcHo9oRoEB6Ban\\\n",
              "xyPaUWAAujh1PL5wSqri4jxOxwI6ocAAdDjdeDwQjSgwAJIYj4d5KDAgxjEeD1NRYEAMYzweJqPA\\\n",
              "gBjEeDzcgAIDYgzj8XALCgyIIYzHw00oMCAGMB4PN6LAAJdjPB5uFed0gFhx4MABXXfddRo9erTG\\\n",
              "jBmjxx9/vMuaUCikAQMGKCMjQxkZGXrwwQcdSAq3aA+f1Iottfrpn/+u4yfCeq5wsn4/czTlBdfg\\\n",
              "HZhNvF6vHn30UU2YMEHHjh3TxIkTlZOTo9GjR3dad+211+q1115zKCXcgvF4xAIKzCZJSUlKSkqS\\\n",
              "JPXv31+jRo1SfX19lwIDeoLxeMQSbiE64JNPPtH777+vyZMnd3lt+/btGj9+vGbMmKHdu3c7kA6m\\\n",
              "OtLapjvXvaf7/nOnxiYPUPlvsigvuBrvwGzW0tKim266SY899pguvbTzFNiECRO0b98+xcfHq6ys\\\n",
              "TD/5yU9UW1vb7ecJBoMKBoOSpObmZoVCod6ObruWlhb2dZZ2ftqu1bva1NpmaU6gr3JT/ke11TvU\\\n",
              "/b89vcet3zNEJ49lWZbTIWLFV199pZkzZyo3N1e//e1vz7g+JSVFVVVVGjLk+8+lCwQCqqmpiVTM\\\n",
              "qBEKhZSdne10jIiL5L5OHY9/bG6Go+Pxbv2eZWZmqqqqyukYOAXvwGxiWZbmz5+vUaNGnba8Dh06\\\n",
              "pKFDh8rj8aiyslInT57U4MGDbU4KUzAej1hHgdnk7bff1rp16zR27FhlZGRIkv7whz9o//79kqQF\\\n",
              "CxZow4YNevLJJ+X1enXxxRerpKREHg+nJKAzTo8HvkaB2WTKlCk6093a4uJiFRcX25QIJmI8HvgW\\\n",
              "BQYYgPF4oCsKDIhynB4PdI8CA6IYp8cDp0eBAVGI0+OBM6PAgCjDeDxwdigwIEowHg+cGwoMiAKM\\\n",
              "xwPnjgIDHMR4PHD+KDDAIYzHAz1DgQEOYDwe6DkKDLDRl21hPbvnhLaUv8t4PNBDFBhgk2/H49sZ\\\n",
              "jwcigAIDetmp4/H3TbpIv5452ulYgPEoMKAXdTce/37l207HAlyBAgN6AePxQO+jwIAIa2o5of/9\\\n",
              "8n8zHg/0MgoMiKCtNYf1u5d26osvv9K/5Y3S/CmXMR4P9BIKDIiAU0+PXzef8Xigt8U5HSDWlJeX\\\n",
              "KxAIyO/3a/ny5V1eP3HihObMmSO/36/Jkyfrk08+sT8kzsnOuqO68T/e0rp39qlwymUqLb6G8gJs\\\n",
              "QIHZKBwO6+6779brr7+uPXv2aP369dqzZ0+nNatXr9agQYP00UcfaeHChbr//vsdSoszaQ+f1Iot\\\n",
              "tfrpn/+u4yfCeq5wsn4/czR/tguwCQVmo8rKSvn9fqWmpqpv376aO3euSktLO60pLS3VvHnzJEk3\\\n",
              "33yzNm/eLMuynIiL77G/6bjmBN/Rv1d8qBljk/TGb7L4q08Am/E7MBvV19drxIgRHc+Tk5O1Y8eO\\\n",
              "067xer0aMGCAmpqaNGQI/3OMBozHA9GDAjNUMBhUMBiUJDU3NysUCjkbqBe0tLRE1b6+aLO0ZtcJ\\\n",
              "/dfhsEYmxOmOsX014GitQqHac/o80bavSHLz3hB9KDAb+Xw+HThwoON5XV2dfD5ft2uSk5PV3t6u\\\n",
              "zz//XIMHD+7yuYqKilRUVCRJCgQCys7O7tXsTgiFQlGzr601h/XgSzv1xZdWj8fjo2lfkebmvSH6\\\n",
              "8DswG02aNEm1tbXau3ev2traVFJSovz8/E5r8vPztXbtWknShg0bdP3118vj4c8ROeXLtrCWvLpL\\\n",
              "v3rmXQ2+pK9Ki6/RHVn81SdANOAdmI28Xq9WrFih3NxchcNhFRQUaMyYMXrggQeUmZmp/Px8zZ8/\\\n",
              "X7/4xS/k9/uVkJCgkpISp2PHrG9Pj2/l9HggClFgNsvLy1NeXl6naw8++GDH44suukgvvfSS3bHw\\\n",
              "HaeeHv9c4WQmDIEoRIEB39Hd6fED+l3gdCwA3aDAADEeD5iIAkPM4/R4wEwUGGIap8cD5qLAEJM4\\\n",
              "PR4wHwWGmMN4POAOFBhiBuPxgLtQYIgJjMcD7kOBwdUYjwfciwKDazEeD7gbBQZXYjwecD8KDK7C\\\n",
              "eDwQOygwuAbj8UBsocBgPMbjgdhEgcFojMcDsYsCg5EYjwdAgcE4jMcDkCgwGIbxeADfoMBs8Lvf\\\n",
              "/U5//etf1bdvX11++eV65plnNHDgwC7rUlJS1L9/f/Xp00der1dVVVUOpI1OjMcDOFWc0wFiQU5O\\\n",
              "jnbt2qWdO3fqiiuu0MMPP3zatVu3blV1dTXl9R07647qxv94S+ve2afCKZeptPgaygsABWaHadOm\\\n",
              "yev9+s3uVVddpbq6OocTmSF80tKKLbX66Z//ruMnwnqucLJ+P3M0f7YLgCRuIdru6aef1pw5c7p9\\\n",
              "zePxaNq0afJ4PLrzzjtVVFRkc7rosb/puB6u/B99dPRDxuMBdIsCi5CpU6fq0KFDXa4vW7ZMs2bN\\\n",
              "6njs9Xr1s5/9rNvPsW3bNvl8Ph0+fFg5OTkaOXKksrKyul0bDAYVDAYlSc3NzQqFQpHZiMMsy9Jb\\\n",
              "9e16/h9t8sjSneMu0tVJn+v9yredjhYxLS0trvl+ncrNe0P08ViWZTkdIhasWbNGq1at0ubNm9Wv\\\n",
              "X78zrl+6dKni4+O1aNGiM64NBAKqqamJRExHnToe/y8jvtRNM653OlbEhUIhZWdnOx2jV7h1b5mZ\\\n",
              "mfxeOgrxOzAblJeX649//KP+8pe/nLa8WltbdezYsY7HFRUVSk9PtzOmo7bWHFbuY28pVPOp/i1v\\\n",
              "lJ4vvEqDL+ZfTwCnxy1EGxQXF+vEiRPKycmR9PUgx8qVK3Xw4EEVFhaqrKxMjY2Nmj17tiSpvb1d\\\n",
              "t912m6ZPn+5kbFswHg/gfFFgNvjoo4+6vT58+HCVlZVJklJTU/XBBx/YGctxnB4PoCcoMNiuPXxS\\\n",
              "T4Y+1uOba/WD/hfq+cLJ+l+cHg/gHFFgsNW+plYtfKFa/7X/KOPxAHqEAoMtOD0eQKRRYOh1nB4P\\\n",
              "oDdQYOhVnB4PoLdQYOgVjMcD6G0UGCKO8XgAdqDAEDGMxwOwEwWGiGA8HoDdKDD0COPxAJxCgeG8\\\n",
              "MR4PwEkUGM4L4/EAnEaB4ZwwHg8gWlBgOGuMxwOIJhQYzojxeADRiALD92I8HkC0osDQLcbjAUQ7\\\n",
              "CgxdMB4PwAQUGDphPB6AKeKcDhArli5dKp/Pp4yMDGVkZKisrKzbdeXl5QoEAvL7/Vq+fLlt+b5s\\\n",
              "C2vJq7v0q2fe1eBL+qq0+BrdkZVKeQGIWrwDs9HChQu1aNGi074eDod19913a+PGjUpOTtakSZOU\\\n",
              "n5+v0aNH92ouxuMBmIgCiyKVlZXy+/1KTU2VJM2dO1elpaW9VmCMxwMwGbcQbbRixQqNGzdOBQUF\\\n",
              "am5u7vJ6fX29RowY0fE8OTlZ9fX1vZJlX1Orblm1XY9u/FAzxiap/J4syguAUXgHFkFTp07VoUOH\\\n",
              "ulxftmyZ7rrrLi1ZskQej0dLlizRvffeq6effvq8v1YwGFQwGJQkNTc3KxQKndXHWZalt+rb9fw/\\\n",
              "2uTxSHeOu1BXJ32u9yvfPu8svaWlpeWs92USt+5LcvfeEH0osAjatGnTWa274447NHPmzC7XfT6f\\\n",
              "Dhw40PG8rq5OPl/3f/aqqKhIRUVFkqRAIKDs7Owzfl3TxuNDodBZ7cs0bt2X5O69IfpQYDZpaGhQ\\\n",
              "UlKSJOmVV15Renp6lzWTJk1SbW2t9u7dK5/Pp5KSEj3//PMR+fqMxwNwGwrMJvfdd5+qq6vl8XiU\\\n",
              "kpKiVatWSZIOHjyowsJClZWVyev1asWKFcrNzVU4HFZBQYHGjBnTo6/L6fEA3IoCs8m6deu6vT58\\\n",
              "+PBOfyYsLy9PeXl5EfmajMcDcDMKzIUYjwcQCygwl+H0eACxggJzCU6PBxBrKDAXCFvSneveM2Y8\\\n",
              "HgAigQJzgYMtJxWq+ZTxeAAxhQJzgTiPVFp8DePxAGIKZyG6wPD4OMoLQMyhwFyAG4YAYhEFBgAw\\\n",
              "EgUGADASBQYAMBIFBgAwEgUGADASBQYAMBIFBgAwEgUGADASBQYAMBIFBgAwEof52mDOnDmqqamR\\\n",
              "JB09elQDBw5UdXV1l3UpKSnq37+/+vTpI6/Xq6qqKrujAoAxKDAbvPDCCx2P7733Xg0YMOC0a7du\\\n",
              "3aohQ4bYEQsAjEaB2ciyLL344ovasmWL01EAwHj8DsxGb731loYOHaq0tLRuX/d4PJo2bZomTpyo\\\n",
              "YDBoczoAMAvvwCJk6tSpOnToUJfry5Yt06xZsyRJ69ev16233nraz7Ft2zb5fD4dPnxYOTk5Gjly\\\n",
              "pLKysrpdGwwGO0quublZoVCo55uIMi0tLezLMG7eG6KPx7Isy+kQsaC9vV0+n0/vvfeekpOTz7h+\\\n",
              "6dKlio+P16JFi864NhAIdAyJuEkoFFJ2drbTMSLOrfuS3Lu3zMxMhqqiELcQbbJp0yaNHDnytOXV\\\n",
              "2tqqY8eOdTyuqKhQenq6nREBwCgUmE1KSkq63D48ePCg8vLyJEmNjY2aMmWKxo8fryuvvFI33nij\\\n",
              "pk+f7kRUADACvwOzyZo1a7pcGz58uMrKyiRJqamp+uCDD2xOBQDm4h0YAMBIFBgAwEgUGADASBQY\\\n",
              "AMBIFBgAwEgUGADASBQYAMBIFBgAwEgUGADASBQYAMBIFBgAwEgUGADASBQYAMBIFBgAwEgUGADA\\\n",
              "SBQYAMBIFBgAwEgUGADASBRYBL300ksaM2aM4uLiVFVV1em1hx9+WH6/X4FAQG+88Ua3H793715N\\\n",
              "njxZfr9fc+bMUVtbmx2xAcBIFFgEpaen6+WXX1ZWVlan63v27FFJSYl2796t8vJy/frXv1Y4HO7y\\\n",
              "8ffff78WLlyojz76SIMGDdLq1avtig4AxqHAImjUqFEKBAJdrpeWlmru3Lm68MILddlll8nv96uy\\\n",
              "srLTGsuytGXLFt18882SpHnz5unVV1+1JTcAmIgCs0F9fb1GjBjR8Tw5OVn19fWd1jQ1NWngwIHy\\\n",
              "er2nXQMA+JbX6QCmmTp1qg4dOtTl+rJlyzRr1izbcgSDQQWDQUnSvn37lJmZadvXtsunn36qH/zg\\\n",
              "B07HiDi37kty797++c9/Oh0B3aDAztGmTZvO+WN8Pp8OHDjQ8byurk4+n6/TmsGDB+vo0aNqb2+X\\\n",
              "1+vtds13FRUVqaioSJKUmZnZZWjEDdiXedy6Nzf+gOgG3EK0QX5+vkpKSnTixAnt3btXtbW1uvLK\\\n",
              "Kzut8Xg8uu6667RhwwZJ0tq1a219RwcApqHAIuiVV15RcnKytm/frhtvvFG5ubmSpDFjxuiWW27R\\\n",
              "6NGjNX36dD3xxBPq06ePJCkvL08HDx6UJD3yyCP605/+JL/fr6amJs2fP9+xvQBAtPNYlmU5HQI9\\\n",
              "EwwGO24nugn7Mo9b9+bWfZmOAgMAGIlbiAAAI1FghurpsVWmWLp0qXw+nzIyMpSRkaGysjKnI/VI\\\n",
              "eXm5AoGA/H6/li9f7nSciElJSdHYsWOVkZFh/MReQUGBEhMTlZ6e3nHtyJEjysnJUVpamnJyctTc\\\n",
              "3OxgQnyDAjNUT4+tMsnChQtVXV2t6upq5eXlOR3nvIXDYd199916/fXXtWfPHq1fv1579uxxOlbE\\\n",
              "bN26VdXV1caP0f/yl79UeXl5p2vLly/XDTfcoNraWt1www2u+uHDZBSYoXpybBWcUVlZKb/fr9TU\\\n",
              "VPXt21dz585VaWmp07FwiqysLCUkJHS6Vlpaqnnz5knimLdoQoG5zNkcW2WaFStWaNy4cSooKDD6\\\n",
              "1o0bvzff8Hg8mjZtmiZOnNhxQoybNDY2KikpSZI0bNgwNTY2OpwIEidxRLVoObaqt33fPu+66y4t\\\n",
              "WbJEHo9HS5Ys0b333qunn37agZT4Ptu2bZPP59Phw4eVk5OjkSNHdrm97RYej0cej8fpGBAFFtV6\\\n",
              "69iqaHO2+7zjjjs0c+bMXk7Te0z83pytb/aRmJio2bNnq7Ky0lUFNnToUDU0NCgpKUkNDQ1KTEx0\\\n",
              "OhLELUTXOZtjq0zS0NDQ8fiVV17pNBlmmkmTJqm2tlZ79+5VW1ubSkpKlJ+f73SsHmttbdWxY8c6\\\n",
              "HldUVBj9fepOfn6+1q5dK4lj3qKKBSO9/PLLls/ns/r27WslJiZa06ZN63jtoYceslJTU60rrrjC\\\n",
              "KisrczBlz/385z+30tPTrbFjx1o//vGPrYMHDzodqUf+9re/WWlpaVZqaqr10EMPOR0nIj7++GNr\\\n",
              "3Lhx1rhx46zRo0cbv6+5c+daw4YNs7xer+Xz+aynnnrK+uyzz6zrr7/e8vv91g033GA1NTU5HROW\\\n",
              "ZXESBwDASNxCBAAYiQIDABiJAgMAGIkCAwAYiQIDABiJAgMAGIkCAwAYiQIDABiJAgMAGIkCAwAY\\\n",
              "iQIDABiJAgMAGIkCAwAYiQIDABiJAgMAGIkCAwAYiQIDABiJAgMAGIkCAwAYiQIDABjp/wM5dzaB\\\n",
              "o5RHoAAAAABJRU5ErkJggg==\\\n",
              "\"\n",
              "  frames[8] = \"data:image/png;base64,iVBORw0KGgoAAAANSUhEUgAAAbAAAAEgCAYAAADVKCZpAAAABHNCSVQICAgIfAhkiAAAAAlwSFlz\\\n",
              "AAALEgAACxIB0t1+/AAAADh0RVh0U29mdHdhcmUAbWF0cGxvdGxpYiB2ZXJzaW9uMy4yLjIsIGh0\\\n",
              "dHA6Ly9tYXRwbG90bGliLm9yZy+WH4yJAAAba0lEQVR4nO3df2xUdf7v8dfALKtYRApbfkzZrXXK\\\n",
              "FKjQ0KKuq6RapmBlyxLNAq7Cpmq/KI0GZNX7B4aorLi5btxcvOAEENbkUpEI3WVLLSATF0SbGsuu\\\n",
              "VJtqqtDpD5Y6rhS+UFrO/cOvs9S2gHTmnDlnno/EZObMZ4b3J415zTnv8/mMyzAMQwAA2MwgqwsA\\\n",
              "AOBKEGAAAFsiwAAAtkSAAQBsiQADANgSAQYAsCUCDABgSwQYAMCWCDAAgC0RYAAAWyLAAAC2RIAB\\\n",
              "AGyJAAMA2BIBBgCwJQIMAGBLBBgAwJYIMACALRFgAABbIsAAALZEgAEAbIkAAwDYEgEGALAlAgwA\\\n",
              "YEsEGADAlggwAIAtEWAAAFsiwAAAtkSAAQBsiQADANgSAQYAsCUCLAaKi4uVkpKirKysyLGvvvpK\\\n",
              "fr9fGRkZ8vv9CofDfb53y5YtysjIUEZGhrZs2WJWyQBgOy7DMAyri3Cad999V0lJSVq0aJE+/vhj\\\n",
              "SdKTTz6p5ORkPf3001qzZo3C4bBefPHFHu/76quvlJubq5qaGrlcLuXk5OjDDz/UiBEjrJgGAMQ1\\\n",
              "zsBiYMaMGUpOTu5xrLy8XIsXL5YkLV68WDt37uz1vrffflt+v1/JyckaMWKE/H6/KisrTakZAOyG\\\n",
              "ADNJW1ubxo4dK0kaM2aM2traeo0JhUIaP3585HlqaqpCoZBpNQKAnbitLiARuVwuuVyuAX1GIBBQ\\\n",
              "IBCQJB05ckQ//elPo1FaXDl//rwGDXLedyynzkty7tza29t14sQJq8vA9xBgJhk9erRaWlo0duxY\\\n",
              "tbS0KCUlpdcYj8ejYDAYed7U1KS8vLw+P6+kpEQlJSWSJJ/Pp/r6+liUbalgMNjv/O3MqfOSnDu3\\\n",
              "3Nxcq0tAH5z3VSlOFRUVRe4q3LJli+bOndtrzKxZs1RVVaVwOKxwOKyqqirNmjXL7FIBwBYIsBhY\\\n",
              "uHChfv7zn6u+vl6pqanauHGjnn76ae3Zs0cZGRnau3evnn76aUlSTU2NHnroIUlScnKyVq5cqenT\\\n",
              "p2v69Ol65plnet0MAgD4FpcQY2Dr1q19Ht+3b1+vY7m5udqwYUPkeXFxsYqLi2NWGwA4BWdgAABb\\\n",
              "IsAAALZEgAEAbIkAAwDYEgEGABfRFD5tdQnoBwEGAP147/MTKlp70Ooy0A8CDAC+xzAMbTzQqAc2\\\n",
              "VmvE0B9ZXQ76QYABwAXOnOvW8m2H9dyuOuVnpmjn0l9YXRL6wUJmAPgfTeHT+q/XP1Rdyzda7p+g\\\n",
              "0ju8GjRoYBtvI3YIMADQt/2u0v/3kc51ndeGRbnKnzja6pJwCQQYgIRmGIY2HfxCv6/4RNePukaB\\\n",
              "B3KU/pMkq8vCZSDAACSsM+e69b/e+qd2fBRSwaTReunXUzXsKm7asAsCDEBCot9lfwQYgIRDv8sZ\\\n",
              "CDAACYN+l7MQYAASAv0u5yHAADge/S5nIsAAOBr9LudiKymT1NfXKzs7O/Lftddeq5dffrnHmGAw\\\n",
              "qOHDh0fGPPvssxZVC9jfhfsZJl8zROWlvyC8HIYzMJP4fD7V1tZKkrq7u+XxeDRv3rxe426//Xbt\\\n",
              "2rXL7PIAR6HflRgIMAvs27dPN9xwg372s59ZXQrgOPS7EgeXEC1QVlamhQsX9vnaoUOHNHXqVN11\\\n",
              "1106cuSIyZUB9vbd73cdbT+tDYty9Vh+BuHlYC7DMAyri0gknZ2dGjdunI4cOaLRo3tej//mm280\\\n",
              "aNAgJSUlqaKiQo8//rgaGhr6/JxAIKBAICBJOnr0qLZt2xbz2s3W0dGhpCTnrdFx6rwk6+ZmGIaq\\\n",
              "vuzSG/WdGjPUpcemXaUx10Tv+/mKFStUU1MTtc9DdBBgJisvL9crr7yiqqqqS45NS0tTTU2NRo0a\\\n",
              "ddFxPp9P9fX10SoxbgSDQeXl5VldRtQ5dV6SNXMzo9+Vm5tLgMUhemAm27p1a7+XD1tbWzV69Gi5\\\n",
              "XC5VV1fr/PnzGjlypMkVAvZBvyuxEWAmOnXqlPbs2aNXX301cmz9+vWSpCVLlmj79u1at26d3G63\\\n",
              "rr76apWVlcnl4n9GoC+s7wIBZqJrrrlG7e3tPY4tWbIk8ri0tFSlpaVmlwXYCvsZ4jsEGADbYH0X\\\n",
              "LkSAAbAF+l34PgIMQNyj34W+EGAA4hb9LlwMAQYgLtHvwqUQYADiDv0uXA4CDEBcod+Fy0WAAYgL\\\n",
              "9LvwQxFgACxHvwtXggADYCn6XbhSBBgAy9DvwkAQYABMR78L0UCAATAV/S5ECwEGwDT0uxBNBBgA\\\n",
              "U9DvQrQRYABiin4XYoUAAxAz9LsQSwQYgJig34VYI8BMlpaWpmHDhmnw4MFyu92qqanp8bphGHr8\\\n",
              "8cdVUVGhoUOHavPmzZo2bZpF1QJXhn4XzECAWWD//v0aNWpUn6/t3r1bDQ0Namho0AcffKBHHnlE\\\n",
              "H3zwgckVAlfGMAxtPNBIvwumIMDiTHl5uRYtWiSXy6VbbrlFX3/9tVpaWjR27FirSwMu6sy5bgX+\\\n",
              "eVaHmuvod8EUg6wuING4XC4VFBQoJydHgUCg1+uhUEjjx4+PPE9NTVUoFDKzROAHawqf1j3r3tP7\\\n",
              "zd1a7p+g9ffnEF6IOc7ATHbgwAF5PB4dP35cfr9fmZmZmjFjxg/+nEAgEAnAcDisYDAY5Uqt19HR\\\n",
              "wbxs4JP2bv3f2jPqMqSSSYamDA7p3Xf50oXYI8BM5vF4JEkpKSmaN2+eqqurewSYx+PRsWPHIs+b\\\n",
              "mpoi77lQSUmJSkpKJEk+n095eXmxLdwCwWCQecWx79Z3/e8PP9H1o5IUeCBHR4/UOGJusAcuIZro\\\n",
              "1KlTOnnyZORxVVWVsrKyeowpKirSn//8ZxmGoffff1/Dhw+n/4W4c+Zct5ZvO6zndtUpPzNFOx69\\\n",
              "lZs1YDrOwEzU1tamefPmSZK6urp03333afbs2Vq/fr0kacmSJSosLFRFRYW8Xq+GDh2q1157zcqS\\\n",
              "gV5Y34V4QYCZKD09XYcPH+51fMmSJZHHLpdLr7zyipllAZeN9V2IJwQYgEtiP0PEIwIMwEWxnyHi\\\n",
              "FQEGoF/0uxDPCDAAfaLfhXhHgAHogX4X7IIAAxBBvwt2QoABkES/C/ZDgAGg3wVbIsCABEa/C3ZG\\\n",
              "gAEJin4X7I4AAxIQ/S44AQEGJBj6XXAKAgxIEPS74DQEGJAA6HfBiQgwwOHod8GpCDDAweh3wckI\\\n",
              "MMCB6HchERBggMPQ70KiGGR1AYni2LFjuuOOOzRp0iRNnjxZf/rTn3qNCQaDGj58uLKzs5Wdna1n\\\n",
              "n33WgkphZ03h07pn3XvaWRvScv8Erb8/h/CCY3EGZhK3262XXnpJ06ZN08mTJ5WTkyO/369Jkyb1\\\n",
              "GHf77bdr165dFlUJO6PfhUTDGZhJxo4dq2nTpkmShg0bpokTJyoUCllcFZzAMAxtPNCoBzZWK/ma\\\n",
              "ISov/QXhhYRAgFngiy++0EcffaSbb76512uHDh3S1KlTddddd+nIkSMWVAc7OXOuW8u3HdZzu+qU\\\n",
              "n5miHY/eys0aSBhcQjRZR0eH7rnnHr388su69tpre7w2bdo0ffnll0pKSlJFRYV+9atfqaGhoc/P\\\n",
              "CQQCCgQCkqRwOKxgMBjr0k3X0dHBvC7ixH+f1//56KyOfnNe87w/0i/Hn9SH7x8ceIED4NS/GeKT\\\n",
              "yzAMw+oiEsW5c+c0Z84czZo1S8uXL7/k+LS0NNXU1GjUqFEXHefz+VRfXx+tMuNGMBhUXl6e1WVE\\\n",
              "XTTmdWG/6+UF2XFzydCpf7Pc3FzV1NRYXQa+h0uIJjEMQw8++KAmTpzYb3i1trbqu+8T1dXVOn/+\\\n",
              "vEaOHGlmmYhz9LuA/+ASokkOHjyo119/XTfeeKOys7MlSb///e919OhRSdKSJUu0fft2rVu3Tm63\\\n",
              "W1dffbXKysrkcrHlD77F+i6gJwLMJLfddpsudbW2tLRUpaWlJlUEO2E/Q6A3AgyIc6zvAvpGgAFx\\\n",
              "iv0MgYsjwIA4RL8LuDQCDIgz9LuAy0OAAXGEfhdw+QgwIA7Q7wJ+OAIMsBj9LuDKEGCAheh3AVeO\\\n",
              "AAMsQr8LGBgCDDDZd/sZ0u8CBoYAA0x05ly3Av88q0PNdfS7gAEiwACTRPpdzd30u4AoIMAAE1zY\\\n",
              "73p82o/1WH6G1SUBtsfvgQEx1Nfvd2Wn8L0RiAb+TwJipL/1XUetLgxwCAIMiAHWdwGxR4ABUcb6\\\n",
              "LsAcBBgQJexnCJiLmzhMVllZKZ/PJ6/XqzVr1vR6/ezZs5o/f768Xq9uvvlmffHFF+YXiR/szLlu\\\n",
              "Ld92WM/tqlN+Zop2PHor4QXEGAFmou7ubi1dulS7d+9WXV2dtm7dqrq6uh5jNm7cqBEjRuizzz7T\\\n",
              "smXL9NRTT1lULS5XU/i07ln3nnbWhrTcP0Hr789hcTJgAgLMRNXV1fJ6vUpPT9eQIUO0YMEClZeX\\\n",
              "9xhTXl6uxYsXS5Luvfde7du3T4ZhWFEuLsN7n59Q0dqDOtp+WhsW5eqx/Axu1gBMQoCZKBQKafz4\\\n",
              "8ZHnqampCoVC/Y5xu90aPny42tvbTa0Tl9bX+i5u1gDMxU0cNhUIBBQIBCRJ4XBYwWDQ2oJioKOj\\\n",
              "Iy7n1dlt6LUjZ3WouVvTUgbr4SnndfRIzWWv74rXeUWDk+eG+EOAmcjj8ejYsWOR501NTfJ4PH2O\\\n",
              "SU1NVVdXl/79739r5MiRvT6rpKREJSUlkiSfz6e8vLyY1m6FYDAYd/P6z/qu01e8vise5xUtTp4b\\\n",
              "4g+XEE00ffp0NTQ0qLGxUZ2dnSorK1NRUVGPMUVFRdqyZYskafv27brzzjvlctFTiQf0u4D4whmY\\\n",
              "idxut9auXatZs2apu7tbxcXFmjx5sp555hnl5uaqqKhIDz74oB544AF5vV4lJyerrKzM6rITHuu7\\\n",
              "gPhEgJmssLBQhYWFPY49++yzkcdXXXWV3nzzTbPLQj/6288QgPUIMKAf7GcIxDcCDOgD+xkC8Y8A\\\n",
              "Ay5AvwuwDwIM+B/0uwB7IcAA0e8C7IgAQ8Kj3wXYEwGGhEW/C7A3AgwJiX4XYH8EGBIO/S7AGQgw\\\n",
              "JBT6XYBzEGBICPS7AOchwOB49LsAZyLA4Gj0uwDnIsDgWPS7AGcjwOA49LuAxECAwVHodwGJgwCD\\\n",
              "Y9DvAhILAQZHoN8FJB4CzAS/+93v9Ne//lVDhgzRDTfcoNdee03XXXddr3FpaWkaNmyYBg8eLLfb\\\n",
              "rZqaGguqtRf6XUDiGmR1AYnA7/fr448/1j/+8Q9NmDBBL7zwQr9j9+/fr9raWsLrMpw5163l2w7r\\\n",
              "uV11ys9M0Y5HbyW8gARCgJmgoKBAbve3J7u33HKLmpqaLK7I/prCp3XPuve0szak5f4JWn9/Djdr\\\n",
              "AAmGADPZpk2bdNddd/X5msvlUkFBgXJychQIBEyuzD7e+/yEitYe1NH209qwKFeP5WdwswaQgOiB\\\n",
              "RcnMmTPV2tra6/jq1as1d+7cyGO3263f/OY3fX7GgQMH5PF4dPz4cfn9fmVmZmrGjBl9jg0EApGQ\\\n",
              "C4fDCgaD0ZlIHOno6OgxL8MwVPVll96o79SYoS49edNVGtz2iYJtn1hX5BX4/rycxMlzQ/xxGYZh\\\n",
              "WF1EIti8ebNeffVV7du3T0OHDr3k+FWrVikpKUkrVqy45Fifz6f6+vpolBlXgsGg8vLyJDlrfdeF\\\n",
              "83Iap84tNzeXvnQc4hKiCSorK/WHP/xBf/nLX/oNr1OnTunkyZORx1VVVcrKyjKzzLhFvwtAX7iE\\\n",
              "aILS0lKdPXtWfr9f0rc3cqxfv17Nzc166KGHVFFRoba2Ns2bN0+S1NXVpfvuu0+zZ8+2suy4wPou\\\n",
              "AP0hwEzw2Wef9Xl83LhxqqiokCSlp6fr8OHDZpYV1wzD0NtfnNO2qmrWdwHoEwGGuBPpd33aaft+\\\n",
              "F4DYIcAQVy7cz3Ce90d66f4cbpEH0CcCDHHj+/2uwW2fEF4A+sVdiLCcYRjaeKBRD2ysVvI1Q1Re\\\n",
              "+gtu1gBwSZyBwVJOWt8FwFwEGCzD73cBGAgCDJZgfReAgSLAYCp+vwtAtBBgMA39LgDRRIDBFPS7\\\n",
              "AEQbAYaYo98FIBYIMMQM/S4AsUSAISbodwGINQIMUUe/C4AZCDBEFf0uAGYhwBAV9LsAmI0Aw4DR\\\n",
              "7wJgBQIMA0K/C4BVCDBcMfpdAKzE74GZZNWqVfJ4PMrOzlZ2drYqKir6HFdZWSmfzyev16s1a9aY\\\n",
              "XOXl4fe7AMQDzsBMtGzZMq1YsaLf17u7u7V06VLt2bNHqampmj59uoqKijRp0iQTq7w4+l0A4gUB\\\n",
              "Fkeqq6vl9XqVnp4uSVqwYIHKy8vjJsDodwGIJ1xCNNHatWs1ZcoUFRcXKxwO93o9FApp/Pjxkeep\\\n",
              "qakKhUJmltiv9z4/oaK1B3W0/bQ2LMrVY/kZhBcAS3EGFkUzZ85Ua2trr+OrV6/WI488opUrV8rl\\\n",
              "cmnlypV64okntGnTpiv+twKBgAKBgCQpHA4rGAxe8WddjGEYqvqyS2/Ud2rMUJeevOkqDW77RMG2\\\n",
              "T2Ly712oo6MjZvOyklPnJTl7bog/BFgU7d2797LGPfzww5ozZ06v4x6PR8eOHYs8b2pqksfj6fMz\\\n",
              "SkpKVFJSIkny+XzKy8v74QVfQqTf9ak1/a5gMBiTeVnNqfOSnD03xB8uIZqkpaUl8njHjh3Kysrq\\\n",
              "NWb69OlqaGhQY2OjOjs7VVZWpqKiIjPLjGgKn9Y9697TztqQlvsnaP39OdysASCucAZmkieffFK1\\\n",
              "tbVyuVxKS0vTq6++Kklqbm7WQw89pIqKCrndbq1du1azZs1Sd3e3iouLNXnyZNNrZX0XADsgwEzy\\\n",
              "+uuv93l83LhxPdaEFRYWqrCw0KyyemA/QwB2QoBBEuu7ANgPAQbWdwGwJQIswdHvAmBXBFiCot8F\\\n",
              "wO4IsAREvwuAExBgCYZ+FwCnIMASCP0uAE5CgCUA+l0AnIgAczj6XQCcigBzMPpdAJyMAHMo+l0A\\\n",
              "nI4Acxj6XQASBQHmIPS7ACQSAswh6HcBSDQEmAOc6ZKK1h6k3wUgoRBgDtB6+rwyrhlCvwtAQiHA\\\n",
              "HGCo26Udj95KvwtAQhlkdQEYuJShLsILQMLhDMwE8+fPV319vSTp66+/1nXXXafa2tpe49LS0jRs\\\n",
              "2DANHjxYbrdbNTU1ZpcKALZBgJngjTfeiDx+4oknNHz48H7H7t+/X6NGjTKjLACwNQLMRIZhaNu2\\\n",
              "bXrnnXesLgUAbI8emIn+/ve/a/To0crIyOjzdZfLpYKCAuXk5CgQCJhcHQDYC2dgUTJz5ky1trb2\\\n",
              "Or569WrNnTtXkrR161YtXLiw3884cOCAPB6Pjh8/Lr/fr8zMTM2YMaPPsYFAIBJy4XBYwWBw4JOI\\\n",
              "Mx0dHczLZpw8N8Qfl2EYhtVFJIKuri55PB59+OGHSk1NveT4VatWKSkpSStWrLjkWJ/PF7lJxEmC\\\n",
              "waDy8vKsLiPqnDovyblzy83N5aaqOMQlRJPs3btXmZmZ/YbXqVOndPLkycjjqqoqZWVlmVkiANgK\\\n",
              "AWaSsrKyXpcPm5ubVVhYKElqa2vTbbfdpqlTp+qmm27S3XffrdmzZ1tRKgDYAj0wk2zevLnXsXHj\\\n",
              "xqmiokKSlJ6ersOHD5tcFQDYF2dgAABbIsAAALZEgAEAbIkAAwDYEgEGALAlAgwAYEsEGADAlggw\\\n",
              "AIAtEWAAAFsiwAAAtkSAAQBsiQADANgSAQYAsCUCDABgSwQYAMCWCDAAgC0RYAAAWyLAAAC2RIBF\\\n",
              "0ZtvvqnJkydr0KBBqqmp6fHaCy+8IK/XK5/Pp7fffrvP9zc2Nurmm2+W1+vV/Pnz1dnZaUbZAGBL\\\n",
              "BFgUZWVl6a233tKMGTN6HK+rq1NZWZmOHDmiyspKPfroo+ru7u71/qeeekrLli3TZ599phEjRmjj\\\n",
              "xo1mlQ4AtkOARdHEiRPl8/l6HS8vL9eCBQv04x//WNdff728Xq+qq6t7jDEMQ++8847uvfdeSdLi\\\n",
              "xYu1c+dOU+oGADsiwEwQCoU0fvz4yPPU1FSFQqEeY9rb23XdddfJ7Xb3OwYA8B9uqwuwm5kzZ6q1\\\n",
              "tbXX8dWrV2vu3Lmm1REIBBQIBCRJX375pXJzc037t83yr3/9Sz/5yU+sLiPqnDovyblz+/TTT60u\\\n",
              "AX0gwH6gvXv3/uD3eDweHTt2LPK8qalJHo+nx5iRI0fq66+/VldXl9xud59jLlRSUqKSkhJJUm5u\\\n",
              "bq+bRpyAedmPU+fmxC+ITsAlRBMUFRWprKxMZ8+eVWNjoxoaGnTTTTf1GONyuXTHHXdo+/btkqQt\\\n",
              "W7aYekYHAHZDgEXRjh07lJqaqkOHDunuu+/WrFmzJEmTJ0/Wr3/9a02aNEmzZ8/WK6+8osGDB0uS\\\n",
              "CgsL1dzcLEl68cUX9cc//lFer1ft7e168MEHLZsLAMQ7l2EYhtVFYGACgUDkcqKTMC/7cercnDov\\\n",
              "uyPAAAC2xCVEAIAtEWA2NdBtq+xi1apV8ng8ys7OVnZ2tioqKqwuaUAqKyvl8/nk9Xq1Zs0aq8uJ\\\n",
              "mrS0NN14443Kzs62/R17xcXFSklJUVZWVuTYV199Jb/fr4yMDPn9foXDYQsrxHcIMJsa6LZVdrJs\\\n",
              "2TLV1taqtrZWhYWFVpdzxbq7u7V06VLt3r1bdXV12rp1q+rq6qwuK2r279+v2tpa299G/9vf/laV\\\n",
              "lZU9jq1Zs0b5+flqaGhQfn6+o7582BkBZlMD2bYK1qiurpbX61V6erqGDBmiBQsWqLy83Oqy8D0z\\\n",
              "ZsxQcnJyj2Pl5eVavHixJLZ5iycEmMNczrZVdrN27VpNmTJFxcXFtr5048S/zXdcLpcKCgqUk5MT\\\n",
              "2SHGSdra2jR27FhJ0pgxY9TW1mZxRZDYiSOuxcu2VbF2sXk+8sgjWrlypVwul1auXKknnnhCmzZt\\\n",
              "sqBKXMyBAwfk8Xh0/Phx+f1+ZWZm9rq87RQul0sul8vqMiACLK7FatuqeHO583z44Yc1Z86cGFcT\\\n",
              "O3b821yu7+aRkpKiefPmqbq62lEBNnr0aLW0tGjs2LFqaWlRSkqK1SVBXEJ0nMvZtspOWlpaIo93\\\n",
              "7NjR484wu5k+fboaGhrU2Niozs5OlZWVqaioyOqyBuzUqVM6efJk5HFVVZWt/059KSoq0pYtWySx\\\n",
              "zVtcMWBLb731luHxeIwhQ4YYKSkpRkFBQeS1559/3khPTzcmTJhgVFRUWFjlwN1///1GVlaWceON\\\n",
              "Nxq//OUvjebmZqtLGpC//e1vRkZGhpGenm48//zzVpcTFZ9//rkxZcoUY8qUKcakSZNsP68FCxYY\\\n",
              "Y8aMMdxut+HxeIwNGzYYJ06cMO68807D6/Ua+fn5Rnt7u9VlwjAMduIAANgSlxABALZEgAEAbIkA\\\n",
              "AwDYEgEGALAlAgwAYEsEGADAlggwAIAtEWAAAFsiwAAAtkSAAQBsiQADANgSAQYAsCUCDABgSwQY\\\n",
              "AMCWCDAAgC0RYAAAWyLAAAC2RIABAGyJAAMA2BIBBgCwpf8POO3jeRri6hYAAAAASUVORK5CYII=\\\n",
              "\"\n",
              "  frames[9] = \"data:image/png;base64,iVBORw0KGgoAAAANSUhEUgAAAbAAAAEgCAYAAADVKCZpAAAABHNCSVQICAgIfAhkiAAAAAlwSFlz\\\n",
              "AAALEgAACxIB0t1+/AAAADh0RVh0U29mdHdhcmUAbWF0cGxvdGxpYiB2ZXJzaW9uMy4yLjIsIGh0\\\n",
              "dHA6Ly9tYXRwbG90bGliLm9yZy+WH4yJAAAduUlEQVR4nO3df3BU9f3v8dfCGlQiPwIGw4Y2jRs3\\\n",
              "QoBIEhCvMlEJYMRQrlihWrBB00T52qHij/vtF4dxpKK9tvSKV9gikuqYqHyBtDZiANlpqTRpKGAJ\\\n",
              "34bYAckPEiokNKFgIDn3j17yJSb8zOacPWefjxlmds9+9uT9mWX3tXt23+fjMgzDEAAANtPH6gIA\\\n",
              "ALgSBBgAwJYIMACALRFgAABbIsAAALZEgAEAbIkAAwDYEgEGALAlAgwAYEsEGADAlggwAIAtEWAA\\\n",
              "AFsiwAAAtkSAAQBsiQADANgSAQYAsCUCDABgSwQYAMCWCDAAgC0RYAAAWyLAAAC2RIABAGyJAAMA\\\n",
              "2BIBBgCwJQIMAGBLBBgAwJYIMACALRFgAABbIsAAALZEgAEAbIkA6wXZ2dmKjo5WUlJSx7Zjx44p\\\n",
              "IyNDCQkJysjIUGNjY7f3zc/PV0JCghISEpSfn29WyQBgOy7DMAyri3Ca3/3ud4qMjNTcuXO1d+9e\\\n",
              "SdIzzzyjqKgoPffcc1q2bJkaGxv18ssvd7rfsWPHlJqaqvLycrlcLqWkpGjnzp0aPHiwFdMAgJDG\\\n",
              "J7BeMGnSJEVFRXXaVlRUpHnz5kmS5s2bp40bN3a538cff6yMjAxFRUVp8ODBysjI0KZNm0ypGQDs\\\n",
              "hgAzSUNDg2JiYiRJN9xwgxoaGrqMqa2t1YgRIzqux8bGqra21rQaAcBO3FYXEI5cLpdcLleP9uH3\\\n",
              "++X3+yVJFRUV+sY3vhGM0kJKe3u7+vRx3nssp85LctbcTrdL9SfaZRhS/9ON+vLLL60uCV9DgJlk\\\n",
              "2LBhOnz4sGJiYnT48GFFR0d3GePxeBQIBDqu19TUKD09vdv95eTkKCcnR5Lk8/lUWVnZG2VbKhAI\\\n",
              "nHf+dubUeUnOmVv5wWOan1+uIe4+yv/+eM3NusvqktANZ7xVsoGsrKyOXxXm5+drxowZXcZMnTpV\\\n",
              "JSUlamxsVGNjo0pKSjR16lSzSwXCWklFvR5aXaoh/SO0Pu82jRw+wOqScB4EWC+YM2eOJk6cqMrK\\\n",
              "SsXGxurNN9/Uc889p82bNyshIUFbtmzRc889J0kqLy/Xo48+KkmKiorS4sWLlZaWprS0ND3//PNd\\\n",
              "fgwCoPcUlB1S7js7lRgzQOvybtOIqGutLgkXwCHEXlBQUNDt9q1bt3bZlpqaqtWrV3dcz87OVnZ2\\\n",
              "dq/VBqArwzD0f7Z+rp9v2a903/X6vw+N07URvDyGOh4hAGGtrd3Q4qK9erf0kGalxOql/zlaV/Xl\\\n",
              "4JQdEGAAwtap0216smCXSvY16PH0G/X0VF+PfyEM8xBgAMLS8X+e1qO/+pPKv2jUkvtG6pH/8S2r\\\n",
              "S8JlIsAAhJ26ppN65K0yHfzyn3ptzi2aPma41SXhChBgAMJKVUOz5q4pU8upM1qbnabbbhxqdUm4\\\n",
              "QgQYgLBxtkE5wt1H7/1gIj1eNkeAAQgLJRX1+reCXfIMukb52ePp8XIAAgyA4xWUHdKPN/xFo2MH\\\n",
              "6a1H0hTVP8LqkhAEBBgAx6JB2dl4JAE4Eg3KzkeAAXAcGpTDAwEGwFFoUA4fBBgAx6BBObwQYAAc\\\n",
              "gQbl8EOAAbA9GpTDEwEGwNZoUA5fBBgA26JBObwRYABshwZlSBJdfSaprKxUcnJyx78BAwZo+fLl\\\n",
              "ncYEAgENHDiwY8wLL7xgUbVA6GprN/TjjXv18y37NSslVr+cm0p4hSkedZP4fD7t3r1bktTW1iaP\\\n",
              "x6OZM2d2GXfHHXfoww8/NLs8wBZoUMa5CDALbN26VTfeeKO++c1vWl0KYBs0KOPrOIRogcLCQs2Z\\\n",
              "M6fb23bs2KGxY8fqnnvuUUVFhcmVAaGprumkHlj1qfZUH9drc24hvCBJchmGYVhdRDhpbW3V8OHD\\\n",
              "VVFRoWHDhnW67R//+If69OmjyMhIFRcX64c//KGqqqq63Y/f75ff75ckHTp0SO+//36v1262lpYW\\\n",
              "RUZGWl1G0Dl1XlLvzK22pV2vlp/SyTOGnrzlat08pG9Q938pFi1apPLyctP/Li6MADNZUVGRXn/9\\\n",
              "dZWUlFx0bFxcnMrLyzV06IXPKODz+VRZWRmsEkNGIBBQenq61WUEnVPnJQV/buc2KOd/f7xlDcqp\\\n",
              "qakEWAjiEKLJCgoKznv4sL6+XmffT5SVlam9vV1DhgwxszwgZJRU1Ouh1aUa0j9C6/Nu4+wa6IIf\\\n",
              "cZjoxIkT2rx5s1atWtWxbeXKlZKk3NxcrVu3Tm+88YbcbreuueYaFRYW8gsrhCUalHEpCDAT9e/f\\\n",
              "X0ePHu20LTc3t+PyggULtGDBArPLAkIGDcq4HPzPABASWEEZl4sAA2A5GpRxJQgwAJaiQRlXigAD\\\n",
              "YBlWUEZPEGAALMEKyugpAgyA6VhBGcFAgAEwFSsoI1gIMACmoUEZwUSAAeh1NCijN/A/CECvokEZ\\\n",
              "vYUAA9BraFBGbyLAAPQKGpTR2wgwAEFHgzLMQIABCCoalGEWvkkFEDRVjW2atXKHzrQbeu8HEwkv\\\n",
              "9Co+gQEIipKKer3yp1MaEdWfBmWYggAD0GPvlh7Sf2z8i+IG9NG6vNtoUIYpCDAAV8wwDP1ia5WW\\\n",
              "b6lSuu96zRlxgvCCafgOzGRxcXEaPXq0kpOTlZqa2uV2wzD05JNPyuv1asyYMfrzn/9sQZXAxbW1\\\n",
              "G/rxxr1avqVKs1Ji9cu5qernpscL5uETmAW2bdumoUO7/3L7o48+UlVVlaqqqlRaWqq8vDyVlpaa\\\n",
              "XCFwYTQoIxQQYCGmqKhIc+fOlcvl0q233qqmpiYdPnxYMTExVpcGSKJBGaGDQ4gmc7lcmjJlilJS\\\n",
              "UuT3+7vcXltbqxEjRnRcj42NVW1trZklAudV13RSD6z6VHuqj+u1ObcQXrAUn8BMtn37dnk8Hh05\\\n",
              "ckQZGRlKTEzUpEmTLns/fr+/IwAbGxsVCASCXKn1WlpamFcIqW1p16vlp3TyjKGF465W5LH9CgT2\\\n",
              "dxpj17nBnggwk3k8HklSdHS0Zs6cqbKysk4B5vF4VF1d3XG9pqam4z7nysnJUU5OjiTJ5/MpPT29\\\n",
              "dwu3QCAQYF4hovzgMb2SX66IqyL0nznjz7uCsh3nBvviEKKJTpw4oebm5o7LJSUlSkpK6jQmKytL\\\n",
              "v/rVr2QYhv74xz9q4MCBfP8FS5VU1Ouh1aUa0j9C6/NuO294AWbjE5iJGhoaNHPmTEnSmTNn9N3v\\\n",
              "flfTpk3TypUrJUm5ubnKzMxUcXGxvF6vrr32Wr311ltWlowwd7ZBmRWUEYoIMBPFx8drz549Xbbn\\\n",
              "5uZ2XHa5XHr99dfNLAvo4usNyqygjFDE/0gAnbCCMuyCAAPQgQZl2AkBBkASDcqwHwIMACsow5YI\\\n",
              "MCDMsYIy7IoAA8JY+cFjmp9frgh3H733g4n0eMFWCDAgTJVU1OvfCnbJM+gaVlCGLRFgQBiiQRlO\\\n",
              "QIABYYQGZTgJ/3OBMEGDMpyGAAPCAA3KcCICDHA4GpThVAQY4GA0KMPJCDDAoWhQhtMRYIAD0aCM\\\n",
              "cECAAQ5DgzLCBQEGOAgNyggnBBjgADQoIxzRxWiS6upq3XnnnRo5cqRGjRqlX/ziF13GBAIBDRw4\\\n",
              "UMnJyUpOTtYLL7xgQaWwm7Z2Qz/euFfLt1RpVkqsfjk3lfBCWOB/uUncbrdeffVVjRs3Ts3NzUpJ\\\n",
              "SVFGRoZGjhzZadwdd9yhDz/80KIqYTc0KCOcEWAmiYmJUUxMjCTpuuuu080336za2touAQZcKhqU\\\n",
              "Ee44hGiBgwcPateuXZowYUKX23bs2KGxY8fqnnvuUUVFhQXVwQ7qmk7qgVWfak/1cb025xbCC2GJ\\\n",
              "T2Ama2lp0f3336/ly5drwIDOvTnjxo3TF198ocjISBUXF+vb3/62qqqqut2P3++X3++XJDU2NioQ\\\n",
              "CPR26aZraWlhXt2obWnXq+WndPKMoYXjrlbksf0KBPYHr8AecOpjhtDkMgzDsLqIcHH69GlNnz5d\\\n",
              "U6dO1Y9+9KOLjo+Li1N5ebmGDr3wGRR8Pp8qKyuDVWbICAQCSk9Pt7qMoOvJvM5tUM7//viQa1B2\\\n",
              "6mOWmpqq8vJyq8vA13AI0SSGYWj+/Pm6+eabzxte9fX1Ovt+oqysTO3t7RoyZIiZZSKElVTU66HV\\\n",
              "pRrSP0Lr824LufACzMYhRJP84Q9/0Ntvv63Ro0crOTlZkvSTn/xEhw4dkiTl5uZq3bp1euONN+R2\\\n",
              "u3XNNdeosLCQX5RBEg3KQHcIMJPcfvvtutjR2gULFmjBggUmVQQ7oEEZOD+eCUCIYgVl4MIIMCAE\\\n",
              "0aAMXBwBBoSYpn+26tH8cu08RIMycCEEGBBC6ppOat6aMn1xlBWUgYshwIAQwQrKwOUhwIAQwArK\\\n",
              "wOUjwACLsYIycGUIMMBCNCgDV44AAyxAgzLQczxjAJO1G/9aQZkGZaBnCDDARKdOt2nFrq/05yOH\\\n",
              "aFAGeogAA0xytkF515E2GpSBICDAABOc26CcN7Yf4QUEAQEG9LKvNyi3Vu+1uiTAEfjmGOhF5QeP\\\n",
              "adbKHTrTbui9H0zk7BpAEPEJDOglNCgDvYsAA3rBuQ3Ka+alakhkP6tLAhyHAAOCiAZlwDx8B2ay\\\n",
              "TZs2yefzyev1atmyZV1u/+qrr/Tggw/K6/VqwoQJOnjwoPlF4oq0tf+rQXn5lirNSonVL+emEl5A\\\n",
              "LyLATNTW1qYnnnhCH330kfbt26eCggLt27ev05g333xTgwcP1ueff66FCxfq2WeftahaXI5Tp9uU\\\n",
              "985OvVv6rwbln84aw9k1gF7GM8xEZWVl8nq9io+PV0REhGbPnq2ioqJOY4qKijRv3jxJ0qxZs7R1\\\n",
              "61YZhmFFubhETf9s1cOrS7X5vxq05L6RemZaImfXAExAgJmotrZWI0aM6LgeGxur2tra845xu90a\\\n",
              "OHCgjh49amqduHR1TSf1wMod+qzmuF6bcwsNyoCJOEBvU36/X36/X5LU2NioQCBgbUG9oKWlJaTn\\\n",
              "Vdvcrld3ntLJM4YWjrtakcf2KxDYf9H7hfq8esLJc0PoIcBM5PF4VF1d3XG9pqZGHo+n2zGxsbE6\\\n",
              "c+aMjh8/riFDhnTZV05OjnJyciRJPp9P6enpvVq7FQKBQMjOq/zgMb289k/qd1WE/jNn/GWtoBzK\\\n",
              "8+opJ88NoYdDiCZKS0tTVVWVDhw4oNbWVhUWFiorK6vTmKysLOXn50uS1q1bp7vuuovvU0JMSUW9\\\n",
              "HlpdqqGR/bQ+77bLCi8AwcMnMBO53W6tWLFCU6dOVVtbm7KzszVq1Cg9//zzSk1NVVZWlubPn6/v\\\n",
              "fe978nq9ioqKUmFhodVl4xw0KAOhgwAzWWZmpjIzMztte+GFFzouX3311frggw/MLgsXQYMyEHp4\\\n",
              "BgIX0dZuaHERKygDoYYAAy7g1Ok2PVmwSyX7GlhBGQgxBBhwHmdXUN55qJEVlIEQRIAB3Th3BeXX\\\n",
              "5tyi6WOGW10SgK8hwICv2d/QrHnnrKDMIpRAaCLAgHOUHzym7LV/Ur+r+uq9H0ykxwsIYQQY8P+x\\\n",
              "gjJgLwQYIBqUATsiwBDWaFAG7ItnKsIWDcqAvRFgCEs0KAP2R4Ah7NCgDDgDAYawQoMy4BwEGMIG\\\n",
              "DcqAsxBgCAs0KAPOQ4DB8WhQBpyJAIOj0aAMOBcBBkeiQRlwPp7RJnj66af1m9/8RhEREbrxxhv1\\\n",
              "1ltvadCgQV3GxcXF6brrrlPfvn3ldrtVXl5uQbX2R4MyEB54VpsgIyNDe/fu1WeffaabbrpJL730\\\n",
              "0nnHbtu2Tbt37ya8rtCp023Ke2en3i09pMfTb9RPZ40hvACH4pltgilTpsjt/teH3VtvvVU1NTUW\\\n",
              "V+RMTf9s1cOrS7X5vxq05L6RemZaImfXAByMADPZmjVrdM8993R7m8vl0pQpU5SSkiK/329yZfZW\\\n",
              "13RSD6zcoc9qjuu1Obdwdg0gDPAdWJBMnjxZ9fX1XbYvXbpUM2bM6Ljsdrv10EMPdbuP7du3y+Px\\\n",
              "6MiRI8rIyFBiYqImTZrU7Vi/398Rco2NjQoEAsGZSAhpaWm5pHnVNrfr1Z2ndPKMoYXjrlbksf0K\\\n",
              "BPb3foFX6FLnZUdOnhtCj8swDMPqIsLB2rVrtWrVKm3dulXXXnvxPqQlS5YoMjJSixYtuuhYn8+n\\\n",
              "ysrKYJQZUgKBgNLT0y845twG5fzvj7dFg/KlzMuunDq31NRUvpcOQRxCNMGmTZv0yiuv6Ne//vV5\\\n",
              "w+vEiRNqbm7uuFxSUqKkpCQzy7Sdjyvq9dDqUg2N7Kf1ebfZIrwABA8BZoIFCxaoublZGRkZSk5O\\\n",
              "Vm5uriSprq5OmZmZkqSGhgbdfvvtGjt2rMaPH697771X06ZNs7LskPZu6SHlvbNTiTED9EHuRM6u\\\n",
              "AYQhvgMzweeff97t9uHDh6u4uFiSFB8frz179phZli3RoAzgLJ75sA0alAGciwCDLbCCMoCvI8AQ\\\n",
              "8lhBGUB3CDCENFZQBnA+BBhCVm1zu/7XG5+ygjKAbhFgCEnlB49paelJ9b+mHysoA+gWAYaQ83FF\\\n",
              "vZ4s2KXBES59kHcbPV4AukWAIaScu4Ly/IRWwgvAedFEg5BgGIaWb9mvf9/wF0266XoVPDZBAyL4\\\n",
              "mTyA8+MTGCxHgzKAK0GAwVI0KAO4UgQYLEODMoCeIMBgCRqUAfQUAQbT7W9o1rw1ZTQoA+gRAgym\\\n",
              "OncFZRqUAfQEAQbTnG1Q9gy6RvnZ4+nxAtAjBBhMcW6D8pp5qRoS2c/qkgDYHAGGXsUKygB6C68k\\\n",
              "6DVt7Yb+Y+NeFZTRoAwg+Hg1McmSJUvk8XiUnJys5ORkFRcXdztu06ZN8vl88nq9WrZsmclVBs+p\\\n",
              "023Ke2enCsoO6fH0G/XTWWMILwBBxScwEy1cuFCLFi067+1tbW164okntHnzZsXGxiotLU1ZWVka\\\n",
              "OXKkiVX2HA3KAMzAW+IQUlZWJq/Xq/j4eEVERGj27NkqKiqyuqzLUtd0Ug+s3KHPao7rtTm3EF4A\\\n",
              "eg0BZqIVK1ZozJgxys7OVmNjY5fba2trNWLEiI7rsbGxqq2tNbPEHtnf0Kz73/hU9cdPaW12GmfX\\\n",
              "ANCrOIQYRJMnT1Z9fX2X7UuXLlVeXp4WL14sl8ulxYsX66mnntKaNWuu+G/5/X75/X5JUmNjowKB\\\n",
              "wBXvKxiqGtv0852ndFVfl55O6afW6r0KVPdsny0tLZbPqzc4dV6Ss+eG0EOABdGWLVsuadxjjz2m\\\n",
              "6dOnd9nu8XhUXf3fr/o1NTXyeDzd7iMnJ0c5OTmSJJ/Pp/T09MsvOEg+rqjX/96yS55B/YPaoBwI\\\n",
              "BCydV29x6rwkZ88NoYdDiCY5fPhwx+UNGzYoKSmpy5i0tDRVVVXpwIEDam1tVWFhobKyssws87K9\\\n",
              "W3pIee/sVGLMAH2QO5GzawAwDZ/ATPLMM89o9+7dcrlciouL06pVqyRJdXV1evTRR1VcXCy3260V\\\n",
              "K1Zo6tSpamtrU3Z2tkaNGmVx5d2jQRmA1XjFMcnbb7/d7fbhw4d36gnLzMxUZmamWWVdERqUAYQC\\\n",
              "AgyXhRWUAYQKAgyXjAZlAKGEAMMlYQVlAKGGAMNFsYIygFBEgOGCWEEZQKgiwHBerKAMIJQRYOgW\\\n",
              "KygDCHUEGDqhQRmAXfDKhA40KAOwEwIMkmhQBmA/BBhoUAZgSwRYmKNBGYBdEWBhjAZlAHZGgIUp\\\n",
              "GpQB2B0BFoZoUAbgBARYmKFBGYBTEGBhggZlAE7DK1gYoEEZgBMRYCZ48MEHVVlZKUlqamrSoEGD\\\n",
              "tHv37i7j4uLidN1116lv375yu90qLy/v8d+mQRmAUxFgJnjvvfc6Lj/11FMaOHDgecdu27ZNQ4cG\\\n",
              "5+fsNCgDcDICzESGYej999/XJ5980ut/iwZlAE7HFyEm+v3vf69hw4YpISGh29tdLpemTJmilJQU\\\n",
              "+f3+K/47+xuadf8bn6r++CmtzU4jvAA4Ep/AgmTy5Mmqr6/vsn3p0qWaMWOGJKmgoEBz5sw57z62\\\n",
              "b98uj8ejI0eOKCMjQ4mJiZo0aVK3Y/1+f0fINTY2KhAISJKqGtv0852ndFVfl55O6afW6r0KVPdw\\\n",
              "chZpaWnpmJeTOHVekrPnhtDjMgzDsLqIcHDmzBl5PB7t3LlTsbGxFx2/ZMkSRUZGatGiRRcd6/P5\\\n",
              "VFlZ6bgG5UAgoPT0dKvLCDqnzkty7txSU1OD8qMqBBeHEE2yZcsWJSYmnje8Tpw4oebm5o7LJSUl\\\n",
              "SkpKuuT9v1t6SHnv7FRizAB9kDvR9uEFABdDgJmksLCwy+HDuro6ZWZmSpIaGhp0++23a+zYsRo/\\\n",
              "frzuvfdeTZs27ZL23fSVoX/f8BdNuul6FTw2gbNrAAgLfAdmkrVr13bZNnz4cBUXF0uS4uPjtWfP\\\n",
              "nivad9NXhr5HgzKAMEOAOcDACJd+OmsMDcoAwgpv1x1g8NUuwgtA2CHAAAC2RIABAGyJAAMA2BIB\\\n",
              "BgCwJQIMAGBLBBgAwJYIMACALRFgAABbIsAAALZEgAEAbIkAAwDYEgEGALAlAgwAYEsEGADAlggw\\\n",
              "AIAtEWAAAFsiwILogw8+0KhRo9SnTx+Vl5d3uu2ll16S1+uVz+fTxx9/3O39Dxw4oAkTJsjr9erB\\\n",
              "Bx9Ua2urGWUDgC0RYEGUlJSk9evXa9KkSZ2279u3T4WFhaqoqNCmTZv0+OOPq62trcv9n332WS1c\\\n",
              "uFCff/65Bg8erDfffNOs0gHAdgiwILr55pvl8/m6bC8qKtLs2bPVr18/fetb35LX61VZWVmnMYZh\\\n",
              "6JNPPtGsWbMkSfPmzdPGjRtNqRsA7IgAM0Ftba1GjBjRcT02Nla1tbWdxhw9elSDBg2S2+0+7xgA\\\n",
              "wH9zW12A3UyePFn19fVdti9dulQzZswwrQ6/3y+/3y9J+uKLL5Sammra3zbL3//+d11//fVWlxF0\\\n",
              "Tp2X5Ny5/fWvf7W6BHSDALtMW7Zsuez7eDweVVdXd1yvqamRx+PpNGbIkCFqamrSmTNn5Ha7ux1z\\\n",
              "rpycHOXk5EiSUlNTu/xoxAmYl/04dW5OfIPoBBxCNEFWVpYKCwv11Vdf6cCBA6qqqtL48eM7jXG5\\\n",
              "XLrzzju1bt06SVJ+fr6pn+gAwG4IsCDasGGDYmNjtWPHDt17772aOnWqJGnUqFH6zne+o5EjR2ra\\\n",
              "tGl6/fXX1bdvX0lSZmam6urqJEkvv/yyfvazn8nr9ero0aOaP3++ZXMBgFDnMgzDsLoI9Izf7+84\\\n",
              "nOgkzMt+nDo3p87L7ggwAIAtcQgRAGBLBJhN9fS0VXaxZMkSeTweJScnKzk5WcXFxVaX1CObNm2S\\\n",
              "z+eT1+vVsmXLrC4naOLi4jR69GglJyfb/hd72dnZio6OVlJSUse2Y8eOKSMjQwkJCcrIyFBjY6OF\\\n",
              "FeIsAsymenraKjtZuHChdu/erd27dyszM9Pqcq5YW1ubnnjiCX300Ufat2+fCgoKtG/fPqvLCppt\\\n",
              "27Zp9+7dtv8Z/SOPPKJNmzZ12rZs2TLdfffdqqqq0t133+2oNx92RoDZVE9OWwVrlJWVyev1Kj4+\\\n",
              "XhEREZo9e7aKioqsLgtfM2nSJEVFRXXaVlRUpHnz5kniNG+hhABzmEs5bZXdrFixQmPGjFF2drat\\\n",
              "D9048bE5y+VyacqUKUpJSek4Q4yTNDQ0KCYmRpJ0ww03qKGhweKKIHEmjpAWKqet6m0XmmdeXp4W\\\n",
              "L14sl8ulxYsX66mnntKaNWssqBIXsn37dnk8Hh05ckQZGRlKTEzscnjbKVwul1wul9VlQARYSOut\\\n",
              "01aFmkud52OPPabp06f3cjW9x46PzaU6O4/o6GjNnDlTZWVljgqwYcOG6fDhw4qJidHhw4cVHR1t\\\n",
              "dUkQhxAd51JOW2Unhw8f7ri8YcOGTr8Ms5u0tDRVVVXpwIEDam1tVWFhobKysqwuq8dOnDih5ubm\\\n",
              "jsslJSW2fpy6k5WVpfz8fEmc5i2kGLCl9evXGx6Px4iIiDCio6ONKVOmdNz24osvGvHx8cZNN91k\\\n",
              "FBcXW1hlzz388MNGUlKSMXr0aOO+++4z6urqrC6pR377298aCQkJRnx8vPHiiy9aXU5Q/O1vfzPG\\\n",
              "jBljjBkzxhg5cqTt5zV79mzjhhtuMNxut+HxeIzVq1cbX375pXHXXXcZXq/XuPvuu42jR49aXSYM\\\n",
              "w+BMHAAAW+IQIgDAlggwAIAtEWAAAFsiwAAAtkSAAQBsiQADANgSAQYAsCUCDABgSwQYAMCWCDAA\\\n",
              "gC0RYAAAWyLAAAC2RIABAGyJAAMA2BIBBgCwJQIMAGBLBBgAwJYIMACALRFgAABbIsAAALb0/wAX\\\n",
              "E+VIL1SgkQAAAABJRU5ErkJggg==\\\n",
              "\"\n",
              "\n",
              "\n",
              "    /* set a timeout to make sure all the above elements are created before\n",
              "       the object is initialized. */\n",
              "    setTimeout(function() {\n",
              "        animd8bce0f0a98e4fefb1afcfe180f2fbd7 = new Animation(frames, img_id, slider_id, 200.0,\n",
              "                                 loop_select_id);\n",
              "    }, 0);\n",
              "  })()\n",
              "</script>\n"
            ],
            "text/plain": [
              "<matplotlib.animation.FuncAnimation at 0x7f978be4af90>"
            ]
          },
          "metadata": {},
          "execution_count": 152
        }
      ]
    },
    {
      "cell_type": "markdown",
      "source": [
        "# 5.Exercises:"
      ],
      "metadata": {
        "id": "x7VLnpW3ywdE"
      }
    },
    {
      "cell_type": "markdown",
      "source": [
        "1. create a list of names and list of ages\n",
        "2. make a dictionary using dictionary comprehension from these lists\n",
        "\n",
        "\n",
        "3. convert ages to np.array\n",
        "4. find biggest values, and it's index\n",
        "\n",
        "\n",
        "5. download an image from URL\n",
        "6. crop any area 100x100 pixels, all channels\n",
        "7. flatten and plot histogram\n",
        "8. find value of the darkest and brightest pixel\n",
        "9. find coodinates and channel of the brightest pixel value\n",
        "\n",
        "\n",
        "10. find all unique pixel values with set\n",
        "11. create arrays of x and y coordinated of all pixels with meshgrid\n",
        "12. make a 3d surface plot of red channel values (z) with plot_surface.\n",
        "\n",
        "\n",
        "13. find all elements in green channel smaller than 30th percentile\n",
        "14. set corresponding elements in red channel to 255, show image\n",
        "\n",
        "\n",
        "15. make an interactive plot which crops 100x100 area at coordinates given by a slider\n",
        "\n",
        "\n",
        "16. make an animation of 13-14 animating resulting image with percentiles 9,10, ...90, 95\n",
        "\n"
      ],
      "metadata": {
        "id": "-MtEp_SlnfwA"
      }
    },
    {
      "cell_type": "code",
      "source": [
        "name = ['a','b','c']\n",
        "age = [18,19,20]"
      ],
      "metadata": {
        "id": "4DXM01UY5b8g"
      },
      "execution_count": 153,
      "outputs": []
    },
    {
      "cell_type": "code",
      "source": [
        "res = {}\n",
        "for key in name:\n",
        "    for value in age:\n",
        "        res[key] = value\n",
        "        age.remove(value)\n",
        "        break  \n",
        "\n",
        "print (\"Resultant dictionary is : \" +  str(res))"
      ],
      "metadata": {
        "id": "qQd9w2V2kg0Q",
        "outputId": "af8c2ee5-5924-4643-abcb-00d14246f3cf",
        "colab": {
          "base_uri": "https://localhost:8080/"
        }
      },
      "execution_count": 155,
      "outputs": [
        {
          "output_type": "stream",
          "name": "stdout",
          "text": [
            "Resultant dictionary is : {'a': 18, 'b': 19, 'c': 20}\n"
          ]
        }
      ]
    }
  ]
}
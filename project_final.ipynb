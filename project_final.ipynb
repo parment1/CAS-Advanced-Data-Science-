{
  "cells": [
    {
      "cell_type": "markdown",
      "metadata": {
        "id": "view-in-github",
        "colab_type": "text"
      },
      "source": [
        "<a href=\"https://colab.research.google.com/github/parment1/CAS-Advanced-Data-Science-/blob/main/project_final.ipynb\" target=\"_parent\"><img src=\"https://colab.research.google.com/assets/colab-badge.svg\" alt=\"Open In Colab\"/></a>"
      ]
    },
    {
      "cell_type": "markdown",
      "metadata": {
        "pycharm": {
          "name": "#%% md\n"
        },
        "id": "8eBZkxcdRhzT"
      },
      "source": [
        "## CAS ADS M6\n",
        "2022-03-14\n",
        "Stefan Reinhard\n",
        "Thomas Parmentier"
      ]
    },
    {
      "cell_type": "code",
      "execution_count": 2,
      "metadata": {
        "pycharm": {
          "name": "#%%\n"
        },
        "colab": {
          "base_uri": "https://localhost:8080/"
        },
        "id": "9SbVHaW3RhzY",
        "outputId": "9b0760e0-8026-4cd9-a526-6c4b8a17c1ca"
      },
      "outputs": [
        {
          "output_type": "stream",
          "name": "stdout",
          "text": [
            "x86_64\n",
            "TensorFlow has access to the following devices:\n",
            "[PhysicalDevice(name='/physical_device:CPU:0', device_type='CPU')]\n",
            "TensorFlow version: 2.8.0\n"
          ]
        }
      ],
      "source": [
        "import numpy as np\n",
        "import csv\n",
        "import pandas as pd\n",
        "import tensorflow as tf\n",
        "from sklearn.model_selection import GridSearchCV\n",
        "from keras.models import load_model\n",
        "from keras.models import Sequential\n",
        "from keras.layers import Dense\n",
        "from keras.wrappers.scikit_learn import KerasClassifier\n",
        "from sklearn.model_selection import train_test_split\n",
        "import matplotlib.pyplot as plt\n",
        "from tensorflow.keras.optimizers import Adam\n",
        "from tensorflow.keras import utils\n",
        "from tensorflow.keras import Model\n",
        "from tensorflow.keras.layers import Input\n",
        "from keras.layers import Dropout\n",
        "from keras.initializers import he_normal, normal\n",
        "from keras.callbacks import EarlyStopping\n",
        "from keras.callbacks import ModelCheckpoint\n",
        "import seaborn as sns\n",
        "import time\n",
        "import platform\n",
        "print (platform.machine())\n",
        "print(f\"TensorFlow has access to the following devices:\\n{tf.config.list_physical_devices()}\")\n",
        "print(f\"TensorFlow version: {tf.__version__}\")"
      ]
    },
    {
      "cell_type": "code",
      "execution_count": 3,
      "metadata": {
        "colab": {
          "base_uri": "https://localhost:8080/"
        },
        "id": "mJa1zIpMRhzb",
        "outputId": "cb45a289-368c-441c-b0a7-27a113a656d2"
      },
      "outputs": [
        {
          "output_type": "stream",
          "name": "stdout",
          "text": [
            "['word_freq_make', 'word_freq_address', 'word_freq_all', 'word_freq_3d', 'word_freq_our', 'word_freq_over', 'word_freq_remove', 'word_freq_internet', 'word_freq_order', 'word_freq_mail', 'word_freq_receive', 'word_freq_will', 'word_freq_people', 'word_freq_report', 'word_freq_addresses', 'word_freq_free', 'word_freq_business', 'word_freq_email', 'word_freq_you', 'word_freq_credit', 'word_freq_your', 'word_freq_font', 'word_freq_000', 'word_freq_money', 'word_freq_hp', 'word_freq_hpl', 'word_freq_george', 'word_freq_650', 'word_freq_lab', 'word_freq_labs', 'word_freq_telnet', 'word_freq_857', 'word_freq_data', 'word_freq_415', 'word_freq_85', 'word_freq_technology', 'word_freq_1999', 'word_freq_parts', 'word_freq_pm', 'word_freq_direct', 'word_freq_cs', 'word_freq_meeting', 'word_freq_original', 'word_freq_project', 'word_freq_re', 'word_freq_edu', 'word_freq_table', 'word_freq_conference', 'char_freq_;', 'char_freq_(', 'char_freq_[', 'char_freq_!', 'char_freq_$', 'char_freq_#', 'capital_run_length_average', 'capital_run_length_longest', 'capital_run_length_total', 'class']\n",
            "(4601, 57) (4601,)\n",
            "[[0.         0.04481793 0.12549019 ... 0.0034068  0.00610672 0.0175494 ]\n",
            " [0.04625551 0.01960784 0.09803922 ... 0.00463855 0.01011112 0.06489489]\n",
            " [0.01321586 0.         0.13921568 ... 0.00890794 0.04855341 0.14260463]\n",
            " ...\n",
            " [0.0660793  0.         0.05882353 ... 0.00127347 0.00060066 0.00744902]\n",
            " [0.21145374 0.         0.         ... 0.00104036 0.00050055 0.00492393]\n",
            " [0.         0.         0.12745097 ... 0.00113379 0.00050055 0.00252509]]\n"
          ]
        }
      ],
      "source": [
        "#setup data\n",
        "x = []\n",
        "y = []\n",
        "with open('spambase.data', 'rt') as csvfile:\n",
        "    data = csv.reader(csvfile, delimiter=',')\n",
        "    for raw in data:\n",
        "        x.append(np.array(raw[:-1], dtype=np.float32))\n",
        "        y.append(int(raw[-1]))\n",
        "\n",
        "X = np.array(x)\n",
        "y = np.array(y)\n",
        "\n",
        "n_ch = X.shape[-1]\n",
        "#Importing columns names\n",
        "colums=[]\n",
        "\n",
        "with open('spambase.names',\"r\") as doc:\n",
        "    lines=doc.readlines()\n",
        "    for line in lines :\n",
        "        colums.append(line.split(\":\")[0])\n",
        "print(colums)\n",
        "\n",
        "#normalize inputs\n",
        "for ch in range(n_ch):\n",
        "    ch_v = X[:, ch]\n",
        "    norm = ch_v.max()\n",
        "    X[:, ch] /= norm\n",
        "\n",
        "print(X.shape, y.shape)\n",
        "print(X)\n",
        "X_train, X_test, y_train, y_test = train_test_split(X, y, train_size=0.8, random_state=1, stratify=y, shuffle=True)\n",
        "\n"
      ]
    },
    {
      "cell_type": "markdown",
      "source": [
        "# 1 Data analysis and descriptive statistics \n",
        "\n"
      ],
      "metadata": {
        "id": "0kJwF3UItiPv"
      }
    },
    {
      "cell_type": "code",
      "source": [
        "#Combined the data with labels, and check if there is any na / null\n",
        "\n",
        "df_combined=pd.read_csv('spambase.data',names=colums)\n",
        "df_describe = df_combined.describe().round(3)\n",
        "print(df_combined.isna().any().any())\n",
        "print(df_combined.isnull().any().any())\n",
        "for col in df_combined.columns:\n",
        "    print(col)"
      ],
      "metadata": {
        "colab": {
          "base_uri": "https://localhost:8080/"
        },
        "id": "77ZvBJ2JvVUW",
        "outputId": "92f0ea4a-a7f9-429a-a7e5-6f9a9e5bbe38"
      },
      "execution_count": 4,
      "outputs": [
        {
          "output_type": "stream",
          "name": "stdout",
          "text": [
            "False\n",
            "False\n",
            "word_freq_make\n",
            "word_freq_address\n",
            "word_freq_all\n",
            "word_freq_3d\n",
            "word_freq_our\n",
            "word_freq_over\n",
            "word_freq_remove\n",
            "word_freq_internet\n",
            "word_freq_order\n",
            "word_freq_mail\n",
            "word_freq_receive\n",
            "word_freq_will\n",
            "word_freq_people\n",
            "word_freq_report\n",
            "word_freq_addresses\n",
            "word_freq_free\n",
            "word_freq_business\n",
            "word_freq_email\n",
            "word_freq_you\n",
            "word_freq_credit\n",
            "word_freq_your\n",
            "word_freq_font\n",
            "word_freq_000\n",
            "word_freq_money\n",
            "word_freq_hp\n",
            "word_freq_hpl\n",
            "word_freq_george\n",
            "word_freq_650\n",
            "word_freq_lab\n",
            "word_freq_labs\n",
            "word_freq_telnet\n",
            "word_freq_857\n",
            "word_freq_data\n",
            "word_freq_415\n",
            "word_freq_85\n",
            "word_freq_technology\n",
            "word_freq_1999\n",
            "word_freq_parts\n",
            "word_freq_pm\n",
            "word_freq_direct\n",
            "word_freq_cs\n",
            "word_freq_meeting\n",
            "word_freq_original\n",
            "word_freq_project\n",
            "word_freq_re\n",
            "word_freq_edu\n",
            "word_freq_table\n",
            "word_freq_conference\n",
            "char_freq_;\n",
            "char_freq_(\n",
            "char_freq_[\n",
            "char_freq_!\n",
            "char_freq_$\n",
            "char_freq_#\n",
            "capital_run_length_average\n",
            "capital_run_length_longest\n",
            "capital_run_length_total\n",
            "class\n"
          ]
        }
      ]
    },
    {
      "cell_type": "code",
      "source": [
        "#have much higher values (means = 52, 283 etc.) than most other columns which represent fraction of word occurrences (no. of times word appears in email/total no. of words in email)\n",
        "df_combined.describe()"
      ],
      "metadata": {
        "colab": {
          "base_uri": "https://localhost:8080/",
          "height": 393
        },
        "id": "e2oF_5G4vvQv",
        "outputId": "2bf7b711-0048-4b57-a840-d3307303fee3"
      },
      "execution_count": 5,
      "outputs": [
        {
          "output_type": "execute_result",
          "data": {
            "text/plain": [
              "       word_freq_make  word_freq_address  word_freq_all  word_freq_3d  \\\n",
              "count     4601.000000        4601.000000    4601.000000   4601.000000   \n",
              "mean         0.104553           0.213015       0.280656      0.065425   \n",
              "std          0.305358           1.290575       0.504143      1.395151   \n",
              "min          0.000000           0.000000       0.000000      0.000000   \n",
              "25%          0.000000           0.000000       0.000000      0.000000   \n",
              "50%          0.000000           0.000000       0.000000      0.000000   \n",
              "75%          0.000000           0.000000       0.420000      0.000000   \n",
              "max          4.540000          14.280000       5.100000     42.810000   \n",
              "\n",
              "       word_freq_our  word_freq_over  word_freq_remove  word_freq_internet  \\\n",
              "count    4601.000000     4601.000000       4601.000000         4601.000000   \n",
              "mean        0.312223        0.095901          0.114208            0.105295   \n",
              "std         0.672513        0.273824          0.391441            0.401071   \n",
              "min         0.000000        0.000000          0.000000            0.000000   \n",
              "25%         0.000000        0.000000          0.000000            0.000000   \n",
              "50%         0.000000        0.000000          0.000000            0.000000   \n",
              "75%         0.380000        0.000000          0.000000            0.000000   \n",
              "max        10.000000        5.880000          7.270000           11.110000   \n",
              "\n",
              "       word_freq_order  word_freq_mail  ...  char_freq_;  char_freq_(  \\\n",
              "count      4601.000000     4601.000000  ...  4601.000000  4601.000000   \n",
              "mean          0.090067        0.239413  ...     0.038575     0.139030   \n",
              "std           0.278616        0.644755  ...     0.243471     0.270355   \n",
              "min           0.000000        0.000000  ...     0.000000     0.000000   \n",
              "25%           0.000000        0.000000  ...     0.000000     0.000000   \n",
              "50%           0.000000        0.000000  ...     0.000000     0.065000   \n",
              "75%           0.000000        0.160000  ...     0.000000     0.188000   \n",
              "max           5.260000       18.180000  ...     4.385000     9.752000   \n",
              "\n",
              "       char_freq_[  char_freq_!  char_freq_$  char_freq_#  \\\n",
              "count  4601.000000  4601.000000  4601.000000  4601.000000   \n",
              "mean      0.016976     0.269071     0.075811     0.044238   \n",
              "std       0.109394     0.815672     0.245882     0.429342   \n",
              "min       0.000000     0.000000     0.000000     0.000000   \n",
              "25%       0.000000     0.000000     0.000000     0.000000   \n",
              "50%       0.000000     0.000000     0.000000     0.000000   \n",
              "75%       0.000000     0.315000     0.052000     0.000000   \n",
              "max       4.081000    32.478000     6.003000    19.829000   \n",
              "\n",
              "       capital_run_length_average  capital_run_length_longest  \\\n",
              "count                 4601.000000                 4601.000000   \n",
              "mean                     5.191515                   52.172789   \n",
              "std                     31.729449                  194.891310   \n",
              "min                      1.000000                    1.000000   \n",
              "25%                      1.588000                    6.000000   \n",
              "50%                      2.276000                   15.000000   \n",
              "75%                      3.706000                   43.000000   \n",
              "max                   1102.500000                 9989.000000   \n",
              "\n",
              "       capital_run_length_total        class  \n",
              "count               4601.000000  4601.000000  \n",
              "mean                 283.289285     0.394045  \n",
              "std                  606.347851     0.488698  \n",
              "min                    1.000000     0.000000  \n",
              "25%                   35.000000     0.000000  \n",
              "50%                   95.000000     0.000000  \n",
              "75%                  266.000000     1.000000  \n",
              "max                15841.000000     1.000000  \n",
              "\n",
              "[8 rows x 58 columns]"
            ],
            "text/html": [
              "\n",
              "  <div id=\"df-771a8980-4cc3-4ecb-835f-120a1ff9814c\">\n",
              "    <div class=\"colab-df-container\">\n",
              "      <div>\n",
              "<style scoped>\n",
              "    .dataframe tbody tr th:only-of-type {\n",
              "        vertical-align: middle;\n",
              "    }\n",
              "\n",
              "    .dataframe tbody tr th {\n",
              "        vertical-align: top;\n",
              "    }\n",
              "\n",
              "    .dataframe thead th {\n",
              "        text-align: right;\n",
              "    }\n",
              "</style>\n",
              "<table border=\"1\" class=\"dataframe\">\n",
              "  <thead>\n",
              "    <tr style=\"text-align: right;\">\n",
              "      <th></th>\n",
              "      <th>word_freq_make</th>\n",
              "      <th>word_freq_address</th>\n",
              "      <th>word_freq_all</th>\n",
              "      <th>word_freq_3d</th>\n",
              "      <th>word_freq_our</th>\n",
              "      <th>word_freq_over</th>\n",
              "      <th>word_freq_remove</th>\n",
              "      <th>word_freq_internet</th>\n",
              "      <th>word_freq_order</th>\n",
              "      <th>word_freq_mail</th>\n",
              "      <th>...</th>\n",
              "      <th>char_freq_;</th>\n",
              "      <th>char_freq_(</th>\n",
              "      <th>char_freq_[</th>\n",
              "      <th>char_freq_!</th>\n",
              "      <th>char_freq_$</th>\n",
              "      <th>char_freq_#</th>\n",
              "      <th>capital_run_length_average</th>\n",
              "      <th>capital_run_length_longest</th>\n",
              "      <th>capital_run_length_total</th>\n",
              "      <th>class</th>\n",
              "    </tr>\n",
              "  </thead>\n",
              "  <tbody>\n",
              "    <tr>\n",
              "      <th>count</th>\n",
              "      <td>4601.000000</td>\n",
              "      <td>4601.000000</td>\n",
              "      <td>4601.000000</td>\n",
              "      <td>4601.000000</td>\n",
              "      <td>4601.000000</td>\n",
              "      <td>4601.000000</td>\n",
              "      <td>4601.000000</td>\n",
              "      <td>4601.000000</td>\n",
              "      <td>4601.000000</td>\n",
              "      <td>4601.000000</td>\n",
              "      <td>...</td>\n",
              "      <td>4601.000000</td>\n",
              "      <td>4601.000000</td>\n",
              "      <td>4601.000000</td>\n",
              "      <td>4601.000000</td>\n",
              "      <td>4601.000000</td>\n",
              "      <td>4601.000000</td>\n",
              "      <td>4601.000000</td>\n",
              "      <td>4601.000000</td>\n",
              "      <td>4601.000000</td>\n",
              "      <td>4601.000000</td>\n",
              "    </tr>\n",
              "    <tr>\n",
              "      <th>mean</th>\n",
              "      <td>0.104553</td>\n",
              "      <td>0.213015</td>\n",
              "      <td>0.280656</td>\n",
              "      <td>0.065425</td>\n",
              "      <td>0.312223</td>\n",
              "      <td>0.095901</td>\n",
              "      <td>0.114208</td>\n",
              "      <td>0.105295</td>\n",
              "      <td>0.090067</td>\n",
              "      <td>0.239413</td>\n",
              "      <td>...</td>\n",
              "      <td>0.038575</td>\n",
              "      <td>0.139030</td>\n",
              "      <td>0.016976</td>\n",
              "      <td>0.269071</td>\n",
              "      <td>0.075811</td>\n",
              "      <td>0.044238</td>\n",
              "      <td>5.191515</td>\n",
              "      <td>52.172789</td>\n",
              "      <td>283.289285</td>\n",
              "      <td>0.394045</td>\n",
              "    </tr>\n",
              "    <tr>\n",
              "      <th>std</th>\n",
              "      <td>0.305358</td>\n",
              "      <td>1.290575</td>\n",
              "      <td>0.504143</td>\n",
              "      <td>1.395151</td>\n",
              "      <td>0.672513</td>\n",
              "      <td>0.273824</td>\n",
              "      <td>0.391441</td>\n",
              "      <td>0.401071</td>\n",
              "      <td>0.278616</td>\n",
              "      <td>0.644755</td>\n",
              "      <td>...</td>\n",
              "      <td>0.243471</td>\n",
              "      <td>0.270355</td>\n",
              "      <td>0.109394</td>\n",
              "      <td>0.815672</td>\n",
              "      <td>0.245882</td>\n",
              "      <td>0.429342</td>\n",
              "      <td>31.729449</td>\n",
              "      <td>194.891310</td>\n",
              "      <td>606.347851</td>\n",
              "      <td>0.488698</td>\n",
              "    </tr>\n",
              "    <tr>\n",
              "      <th>min</th>\n",
              "      <td>0.000000</td>\n",
              "      <td>0.000000</td>\n",
              "      <td>0.000000</td>\n",
              "      <td>0.000000</td>\n",
              "      <td>0.000000</td>\n",
              "      <td>0.000000</td>\n",
              "      <td>0.000000</td>\n",
              "      <td>0.000000</td>\n",
              "      <td>0.000000</td>\n",
              "      <td>0.000000</td>\n",
              "      <td>...</td>\n",
              "      <td>0.000000</td>\n",
              "      <td>0.000000</td>\n",
              "      <td>0.000000</td>\n",
              "      <td>0.000000</td>\n",
              "      <td>0.000000</td>\n",
              "      <td>0.000000</td>\n",
              "      <td>1.000000</td>\n",
              "      <td>1.000000</td>\n",
              "      <td>1.000000</td>\n",
              "      <td>0.000000</td>\n",
              "    </tr>\n",
              "    <tr>\n",
              "      <th>25%</th>\n",
              "      <td>0.000000</td>\n",
              "      <td>0.000000</td>\n",
              "      <td>0.000000</td>\n",
              "      <td>0.000000</td>\n",
              "      <td>0.000000</td>\n",
              "      <td>0.000000</td>\n",
              "      <td>0.000000</td>\n",
              "      <td>0.000000</td>\n",
              "      <td>0.000000</td>\n",
              "      <td>0.000000</td>\n",
              "      <td>...</td>\n",
              "      <td>0.000000</td>\n",
              "      <td>0.000000</td>\n",
              "      <td>0.000000</td>\n",
              "      <td>0.000000</td>\n",
              "      <td>0.000000</td>\n",
              "      <td>0.000000</td>\n",
              "      <td>1.588000</td>\n",
              "      <td>6.000000</td>\n",
              "      <td>35.000000</td>\n",
              "      <td>0.000000</td>\n",
              "    </tr>\n",
              "    <tr>\n",
              "      <th>50%</th>\n",
              "      <td>0.000000</td>\n",
              "      <td>0.000000</td>\n",
              "      <td>0.000000</td>\n",
              "      <td>0.000000</td>\n",
              "      <td>0.000000</td>\n",
              "      <td>0.000000</td>\n",
              "      <td>0.000000</td>\n",
              "      <td>0.000000</td>\n",
              "      <td>0.000000</td>\n",
              "      <td>0.000000</td>\n",
              "      <td>...</td>\n",
              "      <td>0.000000</td>\n",
              "      <td>0.065000</td>\n",
              "      <td>0.000000</td>\n",
              "      <td>0.000000</td>\n",
              "      <td>0.000000</td>\n",
              "      <td>0.000000</td>\n",
              "      <td>2.276000</td>\n",
              "      <td>15.000000</td>\n",
              "      <td>95.000000</td>\n",
              "      <td>0.000000</td>\n",
              "    </tr>\n",
              "    <tr>\n",
              "      <th>75%</th>\n",
              "      <td>0.000000</td>\n",
              "      <td>0.000000</td>\n",
              "      <td>0.420000</td>\n",
              "      <td>0.000000</td>\n",
              "      <td>0.380000</td>\n",
              "      <td>0.000000</td>\n",
              "      <td>0.000000</td>\n",
              "      <td>0.000000</td>\n",
              "      <td>0.000000</td>\n",
              "      <td>0.160000</td>\n",
              "      <td>...</td>\n",
              "      <td>0.000000</td>\n",
              "      <td>0.188000</td>\n",
              "      <td>0.000000</td>\n",
              "      <td>0.315000</td>\n",
              "      <td>0.052000</td>\n",
              "      <td>0.000000</td>\n",
              "      <td>3.706000</td>\n",
              "      <td>43.000000</td>\n",
              "      <td>266.000000</td>\n",
              "      <td>1.000000</td>\n",
              "    </tr>\n",
              "    <tr>\n",
              "      <th>max</th>\n",
              "      <td>4.540000</td>\n",
              "      <td>14.280000</td>\n",
              "      <td>5.100000</td>\n",
              "      <td>42.810000</td>\n",
              "      <td>10.000000</td>\n",
              "      <td>5.880000</td>\n",
              "      <td>7.270000</td>\n",
              "      <td>11.110000</td>\n",
              "      <td>5.260000</td>\n",
              "      <td>18.180000</td>\n",
              "      <td>...</td>\n",
              "      <td>4.385000</td>\n",
              "      <td>9.752000</td>\n",
              "      <td>4.081000</td>\n",
              "      <td>32.478000</td>\n",
              "      <td>6.003000</td>\n",
              "      <td>19.829000</td>\n",
              "      <td>1102.500000</td>\n",
              "      <td>9989.000000</td>\n",
              "      <td>15841.000000</td>\n",
              "      <td>1.000000</td>\n",
              "    </tr>\n",
              "  </tbody>\n",
              "</table>\n",
              "<p>8 rows × 58 columns</p>\n",
              "</div>\n",
              "      <button class=\"colab-df-convert\" onclick=\"convertToInteractive('df-771a8980-4cc3-4ecb-835f-120a1ff9814c')\"\n",
              "              title=\"Convert this dataframe to an interactive table.\"\n",
              "              style=\"display:none;\">\n",
              "        \n",
              "  <svg xmlns=\"http://www.w3.org/2000/svg\" height=\"24px\"viewBox=\"0 0 24 24\"\n",
              "       width=\"24px\">\n",
              "    <path d=\"M0 0h24v24H0V0z\" fill=\"none\"/>\n",
              "    <path d=\"M18.56 5.44l.94 2.06.94-2.06 2.06-.94-2.06-.94-.94-2.06-.94 2.06-2.06.94zm-11 1L8.5 8.5l.94-2.06 2.06-.94-2.06-.94L8.5 2.5l-.94 2.06-2.06.94zm10 10l.94 2.06.94-2.06 2.06-.94-2.06-.94-.94-2.06-.94 2.06-2.06.94z\"/><path d=\"M17.41 7.96l-1.37-1.37c-.4-.4-.92-.59-1.43-.59-.52 0-1.04.2-1.43.59L10.3 9.45l-7.72 7.72c-.78.78-.78 2.05 0 2.83L4 21.41c.39.39.9.59 1.41.59.51 0 1.02-.2 1.41-.59l7.78-7.78 2.81-2.81c.8-.78.8-2.07 0-2.86zM5.41 20L4 18.59l7.72-7.72 1.47 1.35L5.41 20z\"/>\n",
              "  </svg>\n",
              "      </button>\n",
              "      \n",
              "  <style>\n",
              "    .colab-df-container {\n",
              "      display:flex;\n",
              "      flex-wrap:wrap;\n",
              "      gap: 12px;\n",
              "    }\n",
              "\n",
              "    .colab-df-convert {\n",
              "      background-color: #E8F0FE;\n",
              "      border: none;\n",
              "      border-radius: 50%;\n",
              "      cursor: pointer;\n",
              "      display: none;\n",
              "      fill: #1967D2;\n",
              "      height: 32px;\n",
              "      padding: 0 0 0 0;\n",
              "      width: 32px;\n",
              "    }\n",
              "\n",
              "    .colab-df-convert:hover {\n",
              "      background-color: #E2EBFA;\n",
              "      box-shadow: 0px 1px 2px rgba(60, 64, 67, 0.3), 0px 1px 3px 1px rgba(60, 64, 67, 0.15);\n",
              "      fill: #174EA6;\n",
              "    }\n",
              "\n",
              "    [theme=dark] .colab-df-convert {\n",
              "      background-color: #3B4455;\n",
              "      fill: #D2E3FC;\n",
              "    }\n",
              "\n",
              "    [theme=dark] .colab-df-convert:hover {\n",
              "      background-color: #434B5C;\n",
              "      box-shadow: 0px 1px 3px 1px rgba(0, 0, 0, 0.15);\n",
              "      filter: drop-shadow(0px 1px 2px rgba(0, 0, 0, 0.3));\n",
              "      fill: #FFFFFF;\n",
              "    }\n",
              "  </style>\n",
              "\n",
              "      <script>\n",
              "        const buttonEl =\n",
              "          document.querySelector('#df-771a8980-4cc3-4ecb-835f-120a1ff9814c button.colab-df-convert');\n",
              "        buttonEl.style.display =\n",
              "          google.colab.kernel.accessAllowed ? 'block' : 'none';\n",
              "\n",
              "        async function convertToInteractive(key) {\n",
              "          const element = document.querySelector('#df-771a8980-4cc3-4ecb-835f-120a1ff9814c');\n",
              "          const dataTable =\n",
              "            await google.colab.kernel.invokeFunction('convertToInteractive',\n",
              "                                                     [key], {});\n",
              "          if (!dataTable) return;\n",
              "\n",
              "          const docLinkHtml = 'Like what you see? Visit the ' +\n",
              "            '<a target=\"_blank\" href=https://colab.research.google.com/notebooks/data_table.ipynb>data table notebook</a>'\n",
              "            + ' to learn more about interactive tables.';\n",
              "          element.innerHTML = '';\n",
              "          dataTable['output_type'] = 'display_data';\n",
              "          await google.colab.output.renderOutput(dataTable, element);\n",
              "          const docLink = document.createElement('div');\n",
              "          docLink.innerHTML = docLinkHtml;\n",
              "          element.appendChild(docLink);\n",
              "        }\n",
              "      </script>\n",
              "    </div>\n",
              "  </div>\n",
              "  "
            ]
          },
          "metadata": {},
          "execution_count": 5
        }
      ]
    },
    {
      "cell_type": "code",
      "source": [
        "#To show the distribution of spam data\n",
        "f,ax=plt.subplots(1,2,figsize=(10,5))\n",
        "df_combined['class'].value_counts().plot.pie(explode=[0,0.1],autopct='%1.1f%%',ax=ax[0],shadow=True)\n",
        "ax[0].set_title('Category Spam / Non-spam')\n",
        "ax[0].set_ylabel('')\n",
        "sns.countplot('class',data=df_combined,ax=ax[1])\n",
        "ax[1].set_title('Category Spam / Non-spam')\n",
        "plt.show()"
      ],
      "metadata": {
        "colab": {
          "base_uri": "https://localhost:8080/",
          "height": 405
        },
        "id": "OyQt84uDuaxF",
        "outputId": "7290baa8-f5fe-4437-99ab-5269c42bcc74"
      },
      "execution_count": 6,
      "outputs": [
        {
          "output_type": "stream",
          "name": "stderr",
          "text": [
            "/usr/local/lib/python3.7/dist-packages/seaborn/_decorators.py:43: FutureWarning: Pass the following variable as a keyword arg: x. From version 0.12, the only valid positional argument will be `data`, and passing other arguments without an explicit keyword will result in an error or misinterpretation.\n",
            "  FutureWarning\n"
          ]
        },
        {
          "output_type": "display_data",
          "data": {
            "text/plain": [
              "<Figure size 720x360 with 2 Axes>"
            ],
            "image/png": "[encoded data removed]"
          },
          "metadata": {
            "needs_background": "light"
          }
        }
      ]
    },
    {
      "cell_type": "code",
      "source": [
        "#chart showing the words that are the most frequent in a spam vs. the one less frenquent.\n",
        "#E.g. in spams we have a lot of chars and numbers\n",
        "pivot_class_freq=pd.pivot_table(df_combined,values=df_combined.drop([\"class\",\"capital_run_length_average\",\"capital_run_length_longest\",\"capital_run_length_total\"],axis=1),index='class',aggfunc=\"mean\")\n",
        "pivot_class_freq.loc['non-spam - spam'] = pivot_class_freq.loc[0] - pivot_class_freq.loc[1]\n",
        "pivot_class_freq_transposed = pivot_class_freq.T.reset_index()\n",
        "pivot_class_freq_transposed.head(5)\n",
        "\n",
        "nlargest = pivot_class_freq_transposed.nlargest(5, 'non-spam - spam')\n",
        "nsmallest = pivot_class_freq_transposed.nsmallest(5, 'non-spam - spam')\n",
        "df = pd.concat([nsmallest, nlargest], axis=0)\n",
        "df = df.sort_values(by='non-spam - spam')\n",
        "\n",
        "sns.color_palette(\"mako\", as_cmap=True)\n",
        "plt.figure(figsize=(9,7))\n",
        "plt.xticks(rotation=90)\n",
        "sns.barplot(x=df['non-spam - spam'],\n",
        "            y=df['index'],\n",
        "            palette=\"mako\").set(title=\"Non Spam minus Spam average word and char frequency\",ylabel=\"average frequency\")"
      ],
      "metadata": {
        "colab": {
          "base_uri": "https://localhost:8080/",
          "height": 508
        },
        "id": "nt6hHaA35NLy",
        "outputId": "a401899a-f173-45b8-d493-cf9d79871dcb"
      },
      "execution_count": 7,
      "outputs": [
        {
          "output_type": "execute_result",
          "data": {
            "text/plain": [
              "[Text(0, 0.5, 'average frequency'),\n",
              " Text(0.5, 1.0, 'Non Spam minus Spam average word and char frequency')]"
            ]
          },
          "metadata": {},
          "execution_count": 7
        },
        {
          "output_type": "display_data",
          "data": {
            "text/plain": [
              "<Figure size 648x504 with 1 Axes>"
            ],
            "image/png": "[encoded data removed]"
          },
          "metadata": {
            "needs_background": "light"
          }
        }
      ]
    },
    {
      "cell_type": "markdown",
      "metadata": {
        "pycharm": {
          "name": "#%% md\n"
        },
        "id": "5-l3flIWRhzd"
      },
      "source": [
        "# 2 Random model"
      ]
    },
    {
      "cell_type": "code",
      "execution_count": 8,
      "metadata": {
        "pycharm": {
          "name": "#%%\n"
        },
        "colab": {
          "base_uri": "https://localhost:8080/",
          "height": 682
        },
        "id": "khlk3HJLRhzd",
        "outputId": "75f9eb08-34a2-47ff-ad6b-4d27b91caba5"
      },
      "outputs": [
        {
          "output_type": "stream",
          "name": "stdout",
          "text": [
            "Model: \"sequential\"\n",
            "_________________________________________________________________\n",
            " Layer (type)                Output Shape              Param #   \n",
            "=================================================================\n",
            " dense (Dense)               (None, 32)                1856      \n",
            "                                                                 \n",
            " dense_1 (Dense)             (None, 16)                528       \n",
            "                                                                 \n",
            " dense_2 (Dense)             (None, 1)                 17        \n",
            "                                                                 \n",
            "=================================================================\n",
            "Total params: 2,401\n",
            "Trainable params: 2,401\n",
            "Non-trainable params: 0\n",
            "_________________________________________________________________\n"
          ]
        },
        {
          "output_type": "execute_result",
          "data": {
            "text/plain": [
              "<IPython.core.display.Image object>"
            ],
            "image/png": "[encoded data removed]"
          },
          "metadata": {},
          "execution_count": 8
        }
      ],
      "source": [
        "model = Sequential()\n",
        "M = 32\n",
        "model.add(Dense(M,activation='relu', input_shape=(X.shape[1],)))\n",
        "model.add(Dense(M/2,activation='relu'))\n",
        "model.add(Dense(1, activation='sigmoid'))\n",
        "model.compile(optimizer=Adam(learning_rate=0.1), \n",
        "              loss='binary_crossentropy', \n",
        "              metrics=['accuracy'])\n",
        "model.summary()\n",
        "utils.plot_model(model, show_shapes=True)"
      ]
    },
    {
      "cell_type": "code",
      "execution_count": 9,
      "metadata": {
        "pycharm": {
          "name": "#%%\n"
        },
        "scrolled": true,
        "colab": {
          "base_uri": "https://localhost:8080/",
          "height": 1000
        },
        "id": "wJ-2IHrTRhze",
        "outputId": "0dcc3862-0944-484c-cfca-e5e37f8667f2"
      },
      "outputs": [
        {
          "output_type": "stream",
          "name": "stdout",
          "text": [
            "Epoch 1/20\n",
            "103/115 [=========================>....] - ETA: 0s - loss: 0.2824 - accuracy: 0.8914\n",
            "Epoch 1: val_accuracy improved from -inf to 0.92508, saving model to Val_best_model.h5\n",
            "115/115 [==============================] - 1s 6ms/step - loss: 0.2793 - accuracy: 0.8932 - val_loss: 0.2105 - val_accuracy: 0.9251\n",
            "Epoch 2/20\n",
            " 93/115 [=======================>......] - ETA: 0s - loss: 0.2096 - accuracy: 0.9308\n",
            "Epoch 2: val_accuracy did not improve from 0.92508\n",
            "115/115 [==============================] - 0s 3ms/step - loss: 0.2080 - accuracy: 0.9272 - val_loss: 0.2300 - val_accuracy: 0.9121\n",
            "Epoch 3/20\n",
            "113/115 [============================>.] - ETA: 0s - loss: 0.2008 - accuracy: 0.9287\n",
            "Epoch 3: val_accuracy did not improve from 0.92508\n",
            "115/115 [==============================] - 0s 3ms/step - loss: 0.1997 - accuracy: 0.9288 - val_loss: 0.2260 - val_accuracy: 0.9197\n",
            "Epoch 4/20\n",
            "113/115 [============================>.] - ETA: 0s - loss: 0.1907 - accuracy: 0.9309\n",
            "Epoch 4: val_accuracy improved from 0.92508 to 0.93377, saving model to Val_best_model.h5\n",
            "115/115 [==============================] - 0s 3ms/step - loss: 0.1917 - accuracy: 0.9304 - val_loss: 0.1863 - val_accuracy: 0.9338\n",
            "Epoch 5/20\n",
            "107/115 [==========================>...] - ETA: 0s - loss: 0.1768 - accuracy: 0.9325\n",
            "Epoch 5: val_accuracy improved from 0.93377 to 0.93702, saving model to Val_best_model.h5\n",
            "115/115 [==============================] - 0s 3ms/step - loss: 0.1767 - accuracy: 0.9326 - val_loss: 0.1969 - val_accuracy: 0.9370\n",
            "Epoch 6/20\n",
            " 92/115 [=======================>......] - ETA: 0s - loss: 0.1664 - accuracy: 0.9416\n",
            "Epoch 6: val_accuracy did not improve from 0.93702\n",
            "115/115 [==============================] - 0s 3ms/step - loss: 0.1699 - accuracy: 0.9399 - val_loss: 0.1953 - val_accuracy: 0.9338\n",
            "Epoch 7/20\n",
            " 92/115 [=======================>......] - ETA: 0s - loss: 0.1677 - accuracy: 0.9406\n",
            "Epoch 7: val_accuracy did not improve from 0.93702\n",
            "115/115 [==============================] - 0s 3ms/step - loss: 0.1633 - accuracy: 0.9413 - val_loss: 0.1931 - val_accuracy: 0.9305\n",
            "Epoch 8/20\n",
            "101/115 [=========================>....] - ETA: 0s - loss: 0.1526 - accuracy: 0.9403\n",
            "Epoch 8: val_accuracy did not improve from 0.93702\n",
            "115/115 [==============================] - 0s 3ms/step - loss: 0.1511 - accuracy: 0.9397 - val_loss: 0.1939 - val_accuracy: 0.9349\n",
            "Epoch 9/20\n",
            " 93/115 [=======================>......] - ETA: 0s - loss: 0.1506 - accuracy: 0.9452\n",
            "Epoch 9: val_accuracy did not improve from 0.93702\n",
            "115/115 [==============================] - 0s 3ms/step - loss: 0.1505 - accuracy: 0.9446 - val_loss: 0.2254 - val_accuracy: 0.9338\n",
            "Epoch 10/20\n",
            "100/115 [=========================>....] - ETA: 0s - loss: 0.1463 - accuracy: 0.9441\n",
            "Epoch 10: val_accuracy improved from 0.93702 to 0.93920, saving model to Val_best_model.h5\n",
            "115/115 [==============================] - 0s 3ms/step - loss: 0.1467 - accuracy: 0.9459 - val_loss: 0.2178 - val_accuracy: 0.9392\n",
            "Epoch 11/20\n",
            "115/115 [==============================] - ETA: 0s - loss: 0.1517 - accuracy: 0.9454\n",
            "Epoch 11: val_accuracy did not improve from 0.93920\n",
            "115/115 [==============================] - 0s 2ms/step - loss: 0.1517 - accuracy: 0.9454 - val_loss: 0.2118 - val_accuracy: 0.9240\n",
            "Epoch 12/20\n",
            "104/115 [==========================>...] - ETA: 0s - loss: 0.1431 - accuracy: 0.9483\n",
            "Epoch 12: val_accuracy did not improve from 0.93920\n",
            "115/115 [==============================] - 0s 2ms/step - loss: 0.1439 - accuracy: 0.9476 - val_loss: 0.2263 - val_accuracy: 0.9273\n",
            "Epoch 13/20\n",
            "101/115 [=========================>....] - ETA: 0s - loss: 0.1463 - accuracy: 0.9372\n",
            "Epoch 13: val_accuracy did not improve from 0.93920\n",
            "115/115 [==============================] - 0s 3ms/step - loss: 0.1439 - accuracy: 0.9405 - val_loss: 0.1978 - val_accuracy: 0.9349\n",
            "Epoch 14/20\n",
            "110/115 [===========================>..] - ETA: 0s - loss: 0.1315 - accuracy: 0.9523\n",
            "Epoch 14: val_accuracy did not improve from 0.93920\n",
            "115/115 [==============================] - 0s 2ms/step - loss: 0.1303 - accuracy: 0.9524 - val_loss: 0.1979 - val_accuracy: 0.9327\n",
            "Epoch 14: early stopping\n"
          ]
        },
        {
          "output_type": "display_data",
          "data": {
            "text/plain": [
              "<Figure size 432x288 with 1 Axes>"
            ],
            "image/png": "[encoded data removed]"
          },
          "metadata": {
            "needs_background": "light"
          }
        },
        {
          "output_type": "display_data",
          "data": {
            "text/plain": [
              "<Figure size 432x288 with 1 Axes>"
            ],
            "image/png": "[encoded data removed]"
          },
          "metadata": {
            "needs_background": "light"
          }
        }
      ],
      "source": [
        "mc = ModelCheckpoint('Val_best_model.h5', monitor='val_accuracy', mode='max', verbose=1, save_best_only=True)\n",
        "es = EarlyStopping(monitor='val_loss', mode='min', verbose=1, patience=10)\n",
        "\n",
        "history = model.fit(X_train, y_train, epochs=100, batch_size=32, validation_data=(X_test, y_test), callbacks=[mc,es])\n",
        "plt.plot(history.history['loss'])\n",
        "plt.plot(history.history['val_loss'])\n",
        "plt.title('model loss')\n",
        "plt.ylabel('loss')\n",
        "plt.xlabel('epoch')\n",
        "plt.legend(['train', 'test'], loc='upper left')\n",
        "plt.show()\n",
        "\n",
        "plt.plot(history.history['accuracy'])\n",
        "plt.plot(history.history['val_accuracy'])\n",
        "plt.title('model accuracy')\n",
        "plt.ylabel('loss')\n",
        "plt.xlabel('epoch')\n",
        "plt.legend(['train', 'test'], loc='upper left')\n",
        "plt.show()"
      ]
    },
    {
      "cell_type": "code",
      "source": [
        "# load the saved model\n",
        "saved_model = load_model('Val_best_model.h5')\n",
        "# evaluate the model\n",
        "_, train_acc = saved_model.evaluate(X_train, y_train, verbose=0)\n",
        "_, test_acc = saved_model.evaluate(X_test, y_test, verbose=0)\n",
        "print('Train: %.3f, Test: %.3f' % (train_acc, test_acc))"
      ],
      "metadata": {
        "colab": {
          "base_uri": "https://localhost:8080/"
        },
        "id": "G9R3w1UW5eBl",
        "outputId": "cc2d9602-a37a-4f87-87f1-b73e6e8a5460"
      },
      "execution_count": 10,
      "outputs": [
        {
          "output_type": "stream",
          "name": "stdout",
          "text": [
            "Train: 0.955, Test: 0.939\n"
          ]
        }
      ]
    },
    {
      "cell_type": "markdown",
      "metadata": {
        "id": "aZkW_sE-Rhzf"
      },
      "source": [
        "# 3. Grid search hyperparameter"
      ]
    },
    {
      "cell_type": "markdown",
      "metadata": {
        "id": "TNcWNewvRhzg"
      },
      "source": [
        "### 3.1 Batch size and epochs\n",
        "https://machinelearningmastery.com/grid-search-hyperparameters-deep-learning-models-python-keras/"
      ]
    },
    {
      "cell_type": "code",
      "execution_count": 11,
      "metadata": {
        "pycharm": {
          "name": "#%%\n"
        },
        "colab": {
          "base_uri": "https://localhost:8080/"
        },
        "id": "w6tMm17JRhzh",
        "outputId": "b3fb335d-a5f1-4093-aebc-d5fad127c60d"
      },
      "outputs": [
        {
          "output_type": "stream",
          "name": "stderr",
          "text": [
            "/usr/local/lib/python3.7/dist-packages/ipykernel_launcher.py:11: DeprecationWarning: KerasClassifier is deprecated, use Sci-Keras (https://github.com/adriangb/scikeras) instead. See https://www.adriangb.com/scikeras/stable/migration.html for help migrating.\n",
            "  # This is added back by InteractiveShellApp.init_path()\n"
          ]
        },
        {
          "output_type": "stream",
          "name": "stdout",
          "text": [
            "Best: 0.936142 using {'batch_size': 16, 'epochs': 100}\n",
            "0.919564 (0.003920) with: {'batch_size': 16, 'epochs': 10}\n",
            "0.929077 (0.004033) with: {'batch_size': 16, 'epochs': 20}\n",
            "0.931520 (0.005226) with: {'batch_size': 16, 'epochs': 50}\n",
            "0.936142 (0.003273) with: {'batch_size': 16, 'epochs': 100}\n",
            "0.907878 (0.006783) with: {'batch_size': 32, 'epochs': 10}\n",
            "0.925542 (0.002800) with: {'batch_size': 32, 'epochs': 20}\n",
            "0.935326 (0.000781) with: {'batch_size': 32, 'epochs': 50}\n",
            "0.933966 (0.003539) with: {'batch_size': 32, 'epochs': 100}\n",
            "0.789355 (0.125155) with: {'batch_size': 64, 'epochs': 10}\n",
            "0.913315 (0.001706) with: {'batch_size': 64, 'epochs': 20}\n",
            "0.928260 (0.003550) with: {'batch_size': 64, 'epochs': 50}\n",
            "0.935326 (0.004061) with: {'batch_size': 64, 'epochs': 100}\n",
            "0.840492 (0.018043) with: {'batch_size': 128, 'epochs': 10}\n",
            "0.900270 (0.007968) with: {'batch_size': 128, 'epochs': 20}\n",
            "0.919293 (0.002422) with: {'batch_size': 128, 'epochs': 50}\n",
            "0.929347 (0.004443) with: {'batch_size': 128, 'epochs': 100}\n"
          ]
        }
      ],
      "source": [
        "# Function to create model, required for KerasClassifier\n",
        "def create_model():\n",
        "    # create model\n",
        "    model = Sequential()\n",
        "    model.add(Dense(8,activation='relu', input_shape=(X.shape[1],)))\n",
        "    model.add(Dense(4,activation='relu'))\n",
        "    model.add(Dense(1, activation='sigmoid'))\n",
        "    model.compile(optimizer=Adam(), loss='binary_crossentropy', metrics=['accuracy'])\n",
        "    return model\n",
        "\n",
        "model = KerasClassifier(build_fn=create_model, verbose=0)\n",
        "# define the grid search parameters\n",
        "batch_size = [16,32,64,128]\n",
        "epochs = [10,20, 50, 100]\n",
        "param_grid = dict(batch_size=batch_size, epochs=epochs)\n",
        "stopper = EarlyStopping(monitor='val_acc', patience=3, verbose=1)\n",
        "fit_params = dict(callbacks=[stopper])\n",
        "grid = GridSearchCV(estimator=model, param_grid=param_grid, n_jobs=-1, cv=3)\n",
        "grid_result = grid.fit(X_train, y_train, validation_data=(X_test, y_test))\n",
        "grid_result1 = grid_result\n",
        "# summarize results\n",
        "print(\"Best: %f using %s\" % (grid_result.best_score_, grid_result.best_params_))\n",
        "means = grid_result.cv_results_['mean_test_score']\n",
        "stds = grid_result.cv_results_['std_test_score']\n",
        "params = grid_result.cv_results_['params']\n",
        "for mean, stdev, param in zip(means, stds, params):\n",
        "    print(\"%f (%f) with: %r\" % (mean, stdev, param))"
      ]
    },
    {
      "cell_type": "markdown",
      "metadata": {
        "id": "2rL1nBgJRhzj"
      },
      "source": [
        "### 3.2  Optimizer"
      ]
    },
    {
      "cell_type": "code",
      "execution_count": 12,
      "metadata": {
        "pycharm": {
          "name": "#%%\n"
        },
        "colab": {
          "base_uri": "https://localhost:8080/"
        },
        "id": "6eJPVJINRhzk",
        "outputId": "08b10ee7-0dff-4487-a122-eec81f1d6bb0"
      },
      "outputs": [
        {
          "output_type": "stream",
          "name": "stderr",
          "text": [
            "/usr/local/lib/python3.7/dist-packages/ipykernel_launcher.py:9: DeprecationWarning: KerasClassifier is deprecated, use Sci-Keras (https://github.com/adriangb/scikeras) instead. See https://www.adriangb.com/scikeras/stable/migration.html for help migrating.\n",
            "  if __name__ == '__main__':\n"
          ]
        },
        {
          "output_type": "stream",
          "name": "stdout",
          "text": [
            "Best: 0.931249 using {'optimizer': 'Adam'}\n",
            "0.920379 (0.007344) with: {'optimizer': 'SGD'}\n",
            "0.931249 (0.001700) with: {'optimizer': 'Adam'}\n"
          ]
        }
      ],
      "source": [
        "def create_model(optimizer='adam'):\n",
        "    # create model\n",
        "    model = Sequential()\n",
        "    model.add(Dense(8,activation='relu', input_shape=(X.shape[1],)))\n",
        "    model.add(Dense(4,activation='relu'))\n",
        "    model.add(Dense(1, activation='sigmoid'))\n",
        "    model.compile(optimizer=optimizer, loss='binary_crossentropy', metrics=['accuracy'])\n",
        "    return model\n",
        "model = KerasClassifier(build_fn=create_model, verbose=0)\n",
        "# define the grid search parameters\n",
        "optimizer = ['SGD', 'Adam']\n",
        "param_grid = dict(optimizer=optimizer)\n",
        "grid = GridSearchCV(estimator=model, param_grid=param_grid, n_jobs=-1, cv=3)\n",
        "grid_result = grid.fit(X_train, y_train, epochs=100, batch_size=16, validation_data=(X_test, y_test))\n",
        "grid_result2 = grid_result\n",
        "# summarize results\n",
        "print(\"Best: %f using %s\" % (grid_result.best_score_, grid_result.best_params_))\n",
        "means = grid_result.cv_results_['mean_test_score']\n",
        "stds = grid_result.cv_results_['std_test_score']\n",
        "params = grid_result.cv_results_['params']\n",
        "for mean, stdev, param in zip(means, stds, params):\n",
        "    print(\"%f (%f) with: %r\" % (mean, stdev, param))"
      ]
    },
    {
      "cell_type": "markdown",
      "metadata": {
        "id": "xJtBdFh_Rhzl"
      },
      "source": [
        "### 3.3 Learning Rate\n",
        "\n"
      ]
    },
    {
      "cell_type": "code",
      "execution_count": 13,
      "metadata": {
        "pycharm": {
          "name": "#%%\n"
        },
        "colab": {
          "base_uri": "https://localhost:8080/"
        },
        "id": "BFoSfjKwRhzl",
        "outputId": "628e7d85-fd2d-45eb-b052-39c1ac418ec0"
      },
      "outputs": [
        {
          "output_type": "stream",
          "name": "stderr",
          "text": [
            "/usr/local/lib/python3.7/dist-packages/ipykernel_launcher.py:10: DeprecationWarning: KerasClassifier is deprecated, use Sci-Keras (https://github.com/adriangb/scikeras) instead. See https://www.adriangb.com/scikeras/stable/migration.html for help migrating.\n",
            "  # Remove the CWD from sys.path while we load stuff.\n"
          ]
        },
        {
          "output_type": "stream",
          "name": "stdout",
          "text": [
            "Best: 0.933695 using {'learn_rate': 0.001}\n",
            "0.920108 (0.004678) with: {'learn_rate': 0.0001}\n",
            "0.933695 (0.001393) with: {'learn_rate': 0.001}\n",
            "0.930708 (0.005666) with: {'learn_rate': 0.01}\n",
            "0.927988 (0.002718) with: {'learn_rate': 0.1}\n",
            "0.922010 (0.004551) with: {'learn_rate': 0.2}\n",
            "0.923912 (0.003374) with: {'learn_rate': 0.3}\n"
          ]
        }
      ],
      "source": [
        "def create_model(learn_rate=0.01):\n",
        "    # create model\n",
        "    model = Sequential()\n",
        "    model.add(Dense(8,activation='relu', input_shape=(X.shape[1],)))\n",
        "    model.add(Dense(4,activation='relu'))\n",
        "    model.add(Dense(1, activation='sigmoid'))\n",
        "    optimizer = Adam(learning_rate=learn_rate)\n",
        "    model.compile(optimizer=optimizer, loss='binary_crossentropy', metrics=['accuracy'])\n",
        "    return model\n",
        "model = KerasClassifier(build_fn=create_model, verbose=0)\n",
        "# define the grid search parameters\n",
        "learn_rate = [0.0001, 0.001, 0.01, 0.1, 0.2, 0.3]\n",
        "param_grid = dict(learn_rate=learn_rate)\n",
        "grid = GridSearchCV(estimator=model, param_grid=param_grid, n_jobs=-1, cv=3)\n",
        "grid_result = grid.fit(X_train, y_train,epochs=100, batch_size=16, validation_data=(X_test, y_test))\n",
        "grid_result3 = grid_result\n",
        "# summarize results\n",
        "print(\"Best: %f using %s\" % (grid_result.best_score_, grid_result.best_params_))\n",
        "means = grid_result.cv_results_['mean_test_score']\n",
        "stds = grid_result.cv_results_['std_test_score']\n",
        "params = grid_result.cv_results_['params']\n",
        "for mean, stdev, param in zip(means, stds, params):\n",
        "    print(\"%f (%f) with: %r\" % (mean, stdev, param))"
      ]
    },
    {
      "cell_type": "code",
      "execution_count": 14,
      "metadata": {
        "pycharm": {
          "name": "#%%\n"
        },
        "colab": {
          "base_uri": "https://localhost:8080/"
        },
        "id": "6vP3YS3rRhzm",
        "outputId": "b002ea62-985b-4616-fda6-363e1904d5fe"
      },
      "outputs": [
        {
          "output_type": "stream",
          "name": "stdout",
          "text": [
            "Best: 0.936142 using {'batch_size': 16, 'epochs': 100}\n",
            "Best: 0.931249 using {'optimizer': 'Adam'}\n",
            "Best: 0.933695 using {'learn_rate': 0.001}\n"
          ]
        }
      ],
      "source": [
        "print(\"Best: %f using %s\" % (grid_result1.best_score_, grid_result1.best_params_))\n",
        "print(\"Best: %f using %s\" % (grid_result2.best_score_, grid_result2.best_params_))\n",
        "print(\"Best: %f using %s\" % (grid_result3.best_score_, grid_result3.best_params_))"
      ]
    },
    {
      "cell_type": "markdown",
      "metadata": {
        "id": "-RFuQfVFRhzm"
      },
      "source": [
        "### 3.4 Tuned model"
      ]
    },
    {
      "cell_type": "code",
      "execution_count": 15,
      "metadata": {
        "pycharm": {
          "name": "#%%\n"
        },
        "colab": {
          "base_uri": "https://localhost:8080/",
          "height": 682
        },
        "id": "Uc_rq99sRhzn",
        "outputId": "f0bf8478-9eab-4c60-bcf3-9ab33b7d6e7b"
      },
      "outputs": [
        {
          "output_type": "stream",
          "name": "stdout",
          "text": [
            "Model: \"sequential_4\"\n",
            "_________________________________________________________________\n",
            " Layer (type)                Output Shape              Param #   \n",
            "=================================================================\n",
            " dense_12 (Dense)            (None, 8)                 464       \n",
            "                                                                 \n",
            " dense_13 (Dense)            (None, 4)                 36        \n",
            "                                                                 \n",
            " dense_14 (Dense)            (None, 1)                 5         \n",
            "                                                                 \n",
            "=================================================================\n",
            "Total params: 505\n",
            "Trainable params: 505\n",
            "Non-trainable params: 0\n",
            "_________________________________________________________________\n"
          ]
        },
        {
          "output_type": "execute_result",
          "data": {
            "text/plain": [
              "<IPython.core.display.Image object>"
            ],
            "image/png": "[encoded data removed]"
          },
          "metadata": {},
          "execution_count": 15
        }
      ],
      "source": [
        "model = Sequential()\n",
        "model.add(Dense(8,activation='relu', input_shape=(X.shape[1],)))\n",
        "model.add(Dense(4,activation='relu'))\n",
        "model.add(Dense(1, activation='sigmoid'))\n",
        "model.compile(optimizer=Adam(learning_rate=0.001), loss='binary_crossentropy', metrics=['accuracy'])\n",
        "model.summary()\n",
        "utils.plot_model(model, show_shapes=True)"
      ]
    },
    {
      "cell_type": "code",
      "execution_count": 17,
      "metadata": {
        "pycharm": {
          "name": "#%%\n"
        },
        "colab": {
          "base_uri": "https://localhost:8080/",
          "height": 1000
        },
        "id": "k6yvAlVXRhzn",
        "outputId": "264fa39b-eb81-486e-8fa4-3537b36d5517"
      },
      "outputs": [
        {
          "output_type": "stream",
          "name": "stdout",
          "text": [
            "Epoch 1/100\n",
            "230/230 [==============================] - 3s 7ms/step - loss: 0.6222 - accuracy: 0.7022 - val_loss: 0.5016 - val_accuracy: 0.8371\n",
            "Epoch 2/100\n",
            "230/230 [==============================] - 1s 6ms/step - loss: 0.3965 - accuracy: 0.8758 - val_loss: 0.3084 - val_accuracy: 0.9066\n",
            "Epoch 3/100\n",
            "230/230 [==============================] - 1s 5ms/step - loss: 0.2843 - accuracy: 0.9022 - val_loss: 0.2559 - val_accuracy: 0.9240\n",
            "Epoch 4/100\n",
            "230/230 [==============================] - 1s 5ms/step - loss: 0.2501 - accuracy: 0.9136 - val_loss: 0.2358 - val_accuracy: 0.9316\n",
            "Epoch 5/100\n",
            "230/230 [==============================] - 1s 5ms/step - loss: 0.2327 - accuracy: 0.9158 - val_loss: 0.2240 - val_accuracy: 0.9327\n",
            "Epoch 6/100\n",
            "230/230 [==============================] - 1s 5ms/step - loss: 0.2216 - accuracy: 0.9185 - val_loss: 0.2185 - val_accuracy: 0.9349\n",
            "Epoch 7/100\n",
            "230/230 [==============================] - 1s 5ms/step - loss: 0.2122 - accuracy: 0.9234 - val_loss: 0.2139 - val_accuracy: 0.9359\n",
            "Epoch 8/100\n",
            "230/230 [==============================] - 1s 4ms/step - loss: 0.2052 - accuracy: 0.9250 - val_loss: 0.2070 - val_accuracy: 0.9294\n",
            "Epoch 9/100\n",
            "230/230 [==============================] - 1s 4ms/step - loss: 0.1995 - accuracy: 0.9285 - val_loss: 0.2035 - val_accuracy: 0.9370\n",
            "Epoch 10/100\n",
            "230/230 [==============================] - 1s 6ms/step - loss: 0.1943 - accuracy: 0.9312 - val_loss: 0.2025 - val_accuracy: 0.9359\n",
            "Epoch 11/100\n",
            "230/230 [==============================] - 1s 3ms/step - loss: 0.1910 - accuracy: 0.9321 - val_loss: 0.2009 - val_accuracy: 0.9359\n",
            "Epoch 12/100\n",
            "230/230 [==============================] - 1s 2ms/step - loss: 0.1876 - accuracy: 0.9329 - val_loss: 0.1969 - val_accuracy: 0.9403\n",
            "Epoch 13/100\n",
            "230/230 [==============================] - 1s 2ms/step - loss: 0.1843 - accuracy: 0.9337 - val_loss: 0.1970 - val_accuracy: 0.9381\n",
            "Epoch 14/100\n",
            "230/230 [==============================] - 1s 2ms/step - loss: 0.1815 - accuracy: 0.9364 - val_loss: 0.1939 - val_accuracy: 0.9392\n",
            "Epoch 15/100\n",
            "230/230 [==============================] - 1s 3ms/step - loss: 0.1787 - accuracy: 0.9353 - val_loss: 0.1941 - val_accuracy: 0.9381\n",
            "Epoch 16/100\n",
            "230/230 [==============================] - 1s 2ms/step - loss: 0.1778 - accuracy: 0.9348 - val_loss: 0.1921 - val_accuracy: 0.9435\n",
            "Epoch 17/100\n",
            "230/230 [==============================] - 1s 5ms/step - loss: 0.1755 - accuracy: 0.9408 - val_loss: 0.1918 - val_accuracy: 0.9392\n",
            "Epoch 18/100\n",
            "230/230 [==============================] - 1s 2ms/step - loss: 0.1743 - accuracy: 0.9394 - val_loss: 0.1909 - val_accuracy: 0.9370\n",
            "Epoch 19/100\n",
            "230/230 [==============================] - 1s 3ms/step - loss: 0.1723 - accuracy: 0.9391 - val_loss: 0.1895 - val_accuracy: 0.9435\n",
            "Epoch 20/100\n",
            "230/230 [==============================] - 1s 2ms/step - loss: 0.1708 - accuracy: 0.9394 - val_loss: 0.1888 - val_accuracy: 0.9392\n",
            "Epoch 21/100\n",
            "230/230 [==============================] - 1s 2ms/step - loss: 0.1697 - accuracy: 0.9397 - val_loss: 0.1883 - val_accuracy: 0.9425\n",
            "Epoch 22/100\n",
            "230/230 [==============================] - 1s 3ms/step - loss: 0.1676 - accuracy: 0.9408 - val_loss: 0.1884 - val_accuracy: 0.9403\n",
            "Epoch 23/100\n",
            "230/230 [==============================] - 1s 3ms/step - loss: 0.1670 - accuracy: 0.9424 - val_loss: 0.1879 - val_accuracy: 0.9381\n",
            "Epoch 24/100\n",
            "230/230 [==============================] - 1s 2ms/step - loss: 0.1657 - accuracy: 0.9429 - val_loss: 0.1873 - val_accuracy: 0.9414\n",
            "Epoch 25/100\n",
            "230/230 [==============================] - 1s 2ms/step - loss: 0.1641 - accuracy: 0.9429 - val_loss: 0.1872 - val_accuracy: 0.9425\n",
            "Epoch 26/100\n",
            "230/230 [==============================] - 1s 3ms/step - loss: 0.1636 - accuracy: 0.9418 - val_loss: 0.1880 - val_accuracy: 0.9414\n",
            "Epoch 27/100\n",
            "230/230 [==============================] - 1s 3ms/step - loss: 0.1624 - accuracy: 0.9440 - val_loss: 0.1875 - val_accuracy: 0.9425\n",
            "Epoch 28/100\n",
            "230/230 [==============================] - 2s 7ms/step - loss: 0.1612 - accuracy: 0.9446 - val_loss: 0.1864 - val_accuracy: 0.9435\n",
            "Epoch 29/100\n",
            "230/230 [==============================] - 1s 6ms/step - loss: 0.1607 - accuracy: 0.9443 - val_loss: 0.1868 - val_accuracy: 0.9425\n",
            "Epoch 30/100\n",
            "230/230 [==============================] - 1s 4ms/step - loss: 0.1598 - accuracy: 0.9448 - val_loss: 0.1864 - val_accuracy: 0.9435\n",
            "Epoch 31/100\n",
            "230/230 [==============================] - 1s 5ms/step - loss: 0.1585 - accuracy: 0.9443 - val_loss: 0.1847 - val_accuracy: 0.9435\n",
            "Epoch 32/100\n",
            "230/230 [==============================] - 1s 4ms/step - loss: 0.1577 - accuracy: 0.9446 - val_loss: 0.1841 - val_accuracy: 0.9425\n",
            "Epoch 33/100\n",
            "230/230 [==============================] - 1s 4ms/step - loss: 0.1563 - accuracy: 0.9457 - val_loss: 0.1854 - val_accuracy: 0.9435\n",
            "Epoch 34/100\n",
            "230/230 [==============================] - 1s 4ms/step - loss: 0.1553 - accuracy: 0.9446 - val_loss: 0.1830 - val_accuracy: 0.9414\n",
            "Epoch 35/100\n",
            "230/230 [==============================] - 1s 4ms/step - loss: 0.1543 - accuracy: 0.9462 - val_loss: 0.1851 - val_accuracy: 0.9425\n",
            "Epoch 36/100\n",
            "230/230 [==============================] - 1s 2ms/step - loss: 0.1538 - accuracy: 0.9459 - val_loss: 0.1824 - val_accuracy: 0.9435\n",
            "Epoch 37/100\n",
            "230/230 [==============================] - 1s 3ms/step - loss: 0.1526 - accuracy: 0.9467 - val_loss: 0.1822 - val_accuracy: 0.9435\n",
            "Epoch 38/100\n",
            "230/230 [==============================] - 1s 3ms/step - loss: 0.1517 - accuracy: 0.9473 - val_loss: 0.1832 - val_accuracy: 0.9446\n",
            "Epoch 39/100\n",
            "230/230 [==============================] - 1s 3ms/step - loss: 0.1514 - accuracy: 0.9459 - val_loss: 0.1826 - val_accuracy: 0.9446\n",
            "Epoch 40/100\n",
            "230/230 [==============================] - 1s 3ms/step - loss: 0.1500 - accuracy: 0.9489 - val_loss: 0.1816 - val_accuracy: 0.9435\n",
            "Epoch 41/100\n",
            "230/230 [==============================] - 1s 2ms/step - loss: 0.1490 - accuracy: 0.9486 - val_loss: 0.1826 - val_accuracy: 0.9457\n",
            "Epoch 42/100\n",
            "230/230 [==============================] - 1s 2ms/step - loss: 0.1479 - accuracy: 0.9484 - val_loss: 0.1816 - val_accuracy: 0.9446\n",
            "Epoch 43/100\n",
            "230/230 [==============================] - 1s 3ms/step - loss: 0.1475 - accuracy: 0.9476 - val_loss: 0.1822 - val_accuracy: 0.9446\n",
            "Epoch 44/100\n",
            "230/230 [==============================] - 1s 3ms/step - loss: 0.1464 - accuracy: 0.9465 - val_loss: 0.1842 - val_accuracy: 0.9446\n",
            "Epoch 45/100\n",
            "230/230 [==============================] - 1s 2ms/step - loss: 0.1462 - accuracy: 0.9486 - val_loss: 0.1830 - val_accuracy: 0.9446\n",
            "Epoch 46/100\n",
            "230/230 [==============================] - 1s 3ms/step - loss: 0.1456 - accuracy: 0.9481 - val_loss: 0.1820 - val_accuracy: 0.9446\n",
            "Epoch 47/100\n",
            "230/230 [==============================] - 1s 3ms/step - loss: 0.1448 - accuracy: 0.9481 - val_loss: 0.1827 - val_accuracy: 0.9435\n",
            "Epoch 48/100\n",
            "230/230 [==============================] - 1s 3ms/step - loss: 0.1441 - accuracy: 0.9481 - val_loss: 0.1811 - val_accuracy: 0.9435\n",
            "Epoch 49/100\n",
            "230/230 [==============================] - 1s 2ms/step - loss: 0.1431 - accuracy: 0.9470 - val_loss: 0.1810 - val_accuracy: 0.9435\n",
            "Epoch 50/100\n",
            "230/230 [==============================] - 1s 2ms/step - loss: 0.1424 - accuracy: 0.9489 - val_loss: 0.1809 - val_accuracy: 0.9435\n",
            "Epoch 51/100\n",
            "230/230 [==============================] - 1s 3ms/step - loss: 0.1413 - accuracy: 0.9516 - val_loss: 0.1830 - val_accuracy: 0.9414\n",
            "Epoch 52/100\n",
            "230/230 [==============================] - 1s 3ms/step - loss: 0.1414 - accuracy: 0.9503 - val_loss: 0.1811 - val_accuracy: 0.9446\n",
            "Epoch 53/100\n",
            "230/230 [==============================] - 1s 2ms/step - loss: 0.1396 - accuracy: 0.9497 - val_loss: 0.1853 - val_accuracy: 0.9403\n",
            "Epoch 54/100\n",
            "230/230 [==============================] - 1s 3ms/step - loss: 0.1393 - accuracy: 0.9500 - val_loss: 0.1821 - val_accuracy: 0.9446\n",
            "Epoch 55/100\n",
            "230/230 [==============================] - 1s 2ms/step - loss: 0.1389 - accuracy: 0.9489 - val_loss: 0.1815 - val_accuracy: 0.9457\n",
            "Epoch 56/100\n",
            "230/230 [==============================] - 1s 2ms/step - loss: 0.1382 - accuracy: 0.9476 - val_loss: 0.1828 - val_accuracy: 0.9457\n",
            "Epoch 57/100\n",
            "230/230 [==============================] - 1s 3ms/step - loss: 0.1372 - accuracy: 0.9489 - val_loss: 0.1817 - val_accuracy: 0.9446\n",
            "Epoch 58/100\n",
            "230/230 [==============================] - 1s 3ms/step - loss: 0.1361 - accuracy: 0.9505 - val_loss: 0.1835 - val_accuracy: 0.9446\n",
            "Epoch 59/100\n",
            "230/230 [==============================] - 1s 2ms/step - loss: 0.1361 - accuracy: 0.9489 - val_loss: 0.1816 - val_accuracy: 0.9446\n",
            "Epoch 60/100\n",
            "230/230 [==============================] - 1s 3ms/step - loss: 0.1364 - accuracy: 0.9484 - val_loss: 0.1814 - val_accuracy: 0.9446\n",
            "Epoch 61/100\n",
            "230/230 [==============================] - 1s 3ms/step - loss: 0.1349 - accuracy: 0.9519 - val_loss: 0.1819 - val_accuracy: 0.9446\n",
            "Epoch 62/100\n",
            "230/230 [==============================] - 1s 3ms/step - loss: 0.1344 - accuracy: 0.9503 - val_loss: 0.1840 - val_accuracy: 0.9425\n",
            "Epoch 63/100\n",
            "230/230 [==============================] - 1s 2ms/step - loss: 0.1346 - accuracy: 0.9503 - val_loss: 0.1816 - val_accuracy: 0.9446\n",
            "Epoch 64/100\n",
            "230/230 [==============================] - 1s 3ms/step - loss: 0.1314 - accuracy: 0.9519 - val_loss: 0.1836 - val_accuracy: 0.9435\n",
            "Epoch 65/100\n",
            "230/230 [==============================] - 1s 2ms/step - loss: 0.1328 - accuracy: 0.9516 - val_loss: 0.1827 - val_accuracy: 0.9425\n",
            "Epoch 66/100\n",
            "230/230 [==============================] - 1s 2ms/step - loss: 0.1320 - accuracy: 0.9530 - val_loss: 0.1821 - val_accuracy: 0.9446\n",
            "Epoch 67/100\n",
            "230/230 [==============================] - 1s 3ms/step - loss: 0.1313 - accuracy: 0.9519 - val_loss: 0.1822 - val_accuracy: 0.9446\n",
            "Epoch 68/100\n",
            "230/230 [==============================] - 1s 2ms/step - loss: 0.1307 - accuracy: 0.9516 - val_loss: 0.1806 - val_accuracy: 0.9457\n",
            "Epoch 69/100\n",
            "230/230 [==============================] - 1s 3ms/step - loss: 0.1302 - accuracy: 0.9514 - val_loss: 0.1813 - val_accuracy: 0.9457\n",
            "Epoch 70/100\n",
            "230/230 [==============================] - 1s 2ms/step - loss: 0.1300 - accuracy: 0.9503 - val_loss: 0.1818 - val_accuracy: 0.9435\n",
            "Epoch 71/100\n",
            "230/230 [==============================] - 1s 2ms/step - loss: 0.1288 - accuracy: 0.9530 - val_loss: 0.1814 - val_accuracy: 0.9446\n",
            "Epoch 72/100\n",
            "230/230 [==============================] - 1s 3ms/step - loss: 0.1284 - accuracy: 0.9538 - val_loss: 0.1813 - val_accuracy: 0.9446\n",
            "Epoch 73/100\n",
            "230/230 [==============================] - 1s 2ms/step - loss: 0.1278 - accuracy: 0.9533 - val_loss: 0.1818 - val_accuracy: 0.9425\n",
            "Epoch 74/100\n",
            "230/230 [==============================] - 1s 2ms/step - loss: 0.1279 - accuracy: 0.9522 - val_loss: 0.1808 - val_accuracy: 0.9457\n",
            "Epoch 75/100\n",
            "230/230 [==============================] - 1s 3ms/step - loss: 0.1271 - accuracy: 0.9546 - val_loss: 0.1816 - val_accuracy: 0.9457\n",
            "Epoch 76/100\n",
            "230/230 [==============================] - 1s 2ms/step - loss: 0.1260 - accuracy: 0.9519 - val_loss: 0.1815 - val_accuracy: 0.9457\n",
            "Epoch 77/100\n",
            "230/230 [==============================] - 1s 2ms/step - loss: 0.1262 - accuracy: 0.9543 - val_loss: 0.1813 - val_accuracy: 0.9435\n",
            "Epoch 78/100\n",
            "230/230 [==============================] - 1s 2ms/step - loss: 0.1255 - accuracy: 0.9527 - val_loss: 0.1796 - val_accuracy: 0.9435\n",
            "Epoch 79/100\n",
            "230/230 [==============================] - 1s 2ms/step - loss: 0.1252 - accuracy: 0.9546 - val_loss: 0.1809 - val_accuracy: 0.9468\n",
            "Epoch 80/100\n",
            "230/230 [==============================] - 1s 2ms/step - loss: 0.1248 - accuracy: 0.9552 - val_loss: 0.1803 - val_accuracy: 0.9435\n",
            "Epoch 81/100\n",
            "230/230 [==============================] - 1s 2ms/step - loss: 0.1240 - accuracy: 0.9533 - val_loss: 0.1809 - val_accuracy: 0.9446\n",
            "Epoch 82/100\n",
            "230/230 [==============================] - 1s 2ms/step - loss: 0.1234 - accuracy: 0.9549 - val_loss: 0.1837 - val_accuracy: 0.9403\n",
            "Epoch 83/100\n",
            "230/230 [==============================] - 1s 3ms/step - loss: 0.1230 - accuracy: 0.9543 - val_loss: 0.1811 - val_accuracy: 0.9457\n",
            "Epoch 84/100\n",
            "230/230 [==============================] - 1s 3ms/step - loss: 0.1235 - accuracy: 0.9546 - val_loss: 0.1815 - val_accuracy: 0.9414\n",
            "Epoch 85/100\n",
            "230/230 [==============================] - 1s 2ms/step - loss: 0.1230 - accuracy: 0.9552 - val_loss: 0.1871 - val_accuracy: 0.9316\n",
            "Epoch 86/100\n",
            "230/230 [==============================] - 1s 2ms/step - loss: 0.1221 - accuracy: 0.9541 - val_loss: 0.1806 - val_accuracy: 0.9435\n",
            "Epoch 87/100\n",
            "230/230 [==============================] - 1s 2ms/step - loss: 0.1214 - accuracy: 0.9549 - val_loss: 0.1818 - val_accuracy: 0.9435\n",
            "Epoch 88/100\n",
            "230/230 [==============================] - 1s 2ms/step - loss: 0.1225 - accuracy: 0.9549 - val_loss: 0.1824 - val_accuracy: 0.9370\n",
            "Epoch 89/100\n",
            "230/230 [==============================] - 1s 2ms/step - loss: 0.1206 - accuracy: 0.9554 - val_loss: 0.1817 - val_accuracy: 0.9425\n",
            "Epoch 90/100\n",
            "230/230 [==============================] - 1s 2ms/step - loss: 0.1209 - accuracy: 0.9560 - val_loss: 0.1818 - val_accuracy: 0.9414\n",
            "Epoch 91/100\n",
            "230/230 [==============================] - 1s 2ms/step - loss: 0.1205 - accuracy: 0.9560 - val_loss: 0.1813 - val_accuracy: 0.9446\n",
            "Epoch 92/100\n",
            "230/230 [==============================] - 1s 2ms/step - loss: 0.1195 - accuracy: 0.9565 - val_loss: 0.1825 - val_accuracy: 0.9403\n",
            "Epoch 93/100\n",
            "230/230 [==============================] - 1s 2ms/step - loss: 0.1195 - accuracy: 0.9552 - val_loss: 0.1833 - val_accuracy: 0.9392\n",
            "Epoch 94/100\n",
            "230/230 [==============================] - 1s 2ms/step - loss: 0.1198 - accuracy: 0.9560 - val_loss: 0.1825 - val_accuracy: 0.9414\n",
            "Epoch 95/100\n",
            "230/230 [==============================] - 1s 3ms/step - loss: 0.1187 - accuracy: 0.9557 - val_loss: 0.1816 - val_accuracy: 0.9446\n",
            "Epoch 96/100\n",
            "230/230 [==============================] - 1s 2ms/step - loss: 0.1179 - accuracy: 0.9552 - val_loss: 0.1852 - val_accuracy: 0.9392\n",
            "Epoch 97/100\n",
            "230/230 [==============================] - 1s 2ms/step - loss: 0.1185 - accuracy: 0.9576 - val_loss: 0.1843 - val_accuracy: 0.9425\n",
            "Epoch 98/100\n",
            "230/230 [==============================] - 1s 2ms/step - loss: 0.1173 - accuracy: 0.9571 - val_loss: 0.1837 - val_accuracy: 0.9425\n",
            "Epoch 99/100\n",
            "230/230 [==============================] - 1s 2ms/step - loss: 0.1172 - accuracy: 0.9576 - val_loss: 0.1888 - val_accuracy: 0.9327\n",
            "Epoch 100/100\n",
            "230/230 [==============================] - 1s 3ms/step - loss: 0.1172 - accuracy: 0.9565 - val_loss: 0.1826 - val_accuracy: 0.9403\n"
          ]
        },
        {
          "output_type": "display_data",
          "data": {
            "text/plain": [
              "<Figure size 432x288 with 1 Axes>"
            ],
            "image/png": "[encoded data removed]"
          },
          "metadata": {
            "needs_background": "light"
          }
        },
        {
          "output_type": "display_data",
          "data": {
            "text/plain": [
              "<Figure size 432x288 with 1 Axes>"
            ],
            "image/png": "[encoded data removed]"
          },
          "metadata": {
            "needs_background": "light"
          }
        }
      ],
      "source": [
        "history = model.fit(X_train, y_train, epochs=100, batch_size=16, validation_data=(X_test, y_test))\n",
        "plt.plot(history.history['loss'])\n",
        "plt.plot(history.history['val_loss'])\n",
        "plt.title('model loss')\n",
        "plt.ylabel('loss')\n",
        "plt.xlabel('epoch')\n",
        "plt.legend(['train', 'test'], loc='upper left')\n",
        "plt.show()\n",
        "\n",
        "plt.plot(history.history['accuracy'])\n",
        "plt.plot(history.history['val_accuracy'])\n",
        "plt.title('model accuracy')\n",
        "plt.ylabel('loss')\n",
        "plt.xlabel('epoch')\n",
        "plt.legend(['train', 'test'], loc='upper left')\n",
        "plt.show()"
      ]
    },
    {
      "cell_type": "markdown",
      "metadata": {
        "pycharm": {
          "name": "#%% md\n"
        },
        "id": "XmvjDYCWRhzo"
      },
      "source": [
        "# 4 random parameter"
      ]
    },
    {
      "cell_type": "markdown",
      "metadata": {
        "id": "ma64fkYfRhzo"
      },
      "source": [
        "### 4.1 add complexity"
      ]
    },
    {
      "cell_type": "code",
      "execution_count": 18,
      "metadata": {
        "pycharm": {
          "name": "#%%\n"
        },
        "colab": {
          "base_uri": "https://localhost:8080/",
          "height": 682
        },
        "id": "Nq1Q2refRhzo",
        "outputId": "9564290e-dcbc-4a6e-c921-43abf7aa6a59"
      },
      "outputs": [
        {
          "output_type": "stream",
          "name": "stdout",
          "text": [
            "Model: \"sequential_5\"\n",
            "_________________________________________________________________\n",
            " Layer (type)                Output Shape              Param #   \n",
            "=================================================================\n",
            " dense_15 (Dense)            (None, 128)               7424      \n",
            "                                                                 \n",
            " dense_16 (Dense)            (None, 32)                4128      \n",
            "                                                                 \n",
            " dense_17 (Dense)            (None, 1)                 33        \n",
            "                                                                 \n",
            "=================================================================\n",
            "Total params: 11,585\n",
            "Trainable params: 11,585\n",
            "Non-trainable params: 0\n",
            "_________________________________________________________________\n"
          ]
        },
        {
          "output_type": "execute_result",
          "data": {
            "text/plain": [
              "<IPython.core.display.Image object>"
            ],
            "image/png": "[encoded data removed]"
          },
          "metadata": {},
          "execution_count": 18
        }
      ],
      "source": [
        "model = Sequential()\n",
        "model.add(Dense(128,activation='relu', input_shape=(X.shape[1],)))\n",
        "model.add(Dense(32,activation='relu'))\n",
        "model.add(Dense(1, activation='sigmoid'))\n",
        "model.compile(optimizer=Adam(learning_rate=0.001), loss='binary_crossentropy', metrics=['accuracy'])\n",
        "model.summary()\n",
        "utils.plot_model(model, show_shapes=True)"
      ]
    },
    {
      "cell_type": "code",
      "execution_count": 19,
      "metadata": {
        "pycharm": {
          "name": "#%%\n"
        },
        "colab": {
          "base_uri": "https://localhost:8080/",
          "height": 1000
        },
        "id": "gjezb3IzRhzp",
        "outputId": "97636dea-af15-4e32-d5fc-738ab90ed663"
      },
      "outputs": [
        {
          "output_type": "stream",
          "name": "stdout",
          "text": [
            "Epoch 1/100\n",
            "230/230 [==============================] - 1s 4ms/step - loss: 0.3975 - accuracy: 0.8595 - val_loss: 0.2302 - val_accuracy: 0.9273\n",
            "Epoch 2/100\n",
            "230/230 [==============================] - 1s 3ms/step - loss: 0.2148 - accuracy: 0.9258 - val_loss: 0.2188 - val_accuracy: 0.9251\n",
            "Epoch 3/100\n",
            "230/230 [==============================] - 1s 2ms/step - loss: 0.1946 - accuracy: 0.9318 - val_loss: 0.1922 - val_accuracy: 0.9370\n",
            "Epoch 4/100\n",
            "230/230 [==============================] - 1s 3ms/step - loss: 0.1799 - accuracy: 0.9361 - val_loss: 0.1928 - val_accuracy: 0.9327\n",
            "Epoch 5/100\n",
            "230/230 [==============================] - 1s 3ms/step - loss: 0.1721 - accuracy: 0.9375 - val_loss: 0.1853 - val_accuracy: 0.9359\n",
            "Epoch 6/100\n",
            "230/230 [==============================] - 1s 3ms/step - loss: 0.1641 - accuracy: 0.9416 - val_loss: 0.1823 - val_accuracy: 0.9403\n",
            "Epoch 7/100\n",
            "230/230 [==============================] - 1s 3ms/step - loss: 0.1571 - accuracy: 0.9438 - val_loss: 0.1839 - val_accuracy: 0.9283\n",
            "Epoch 8/100\n",
            "230/230 [==============================] - 1s 2ms/step - loss: 0.1507 - accuracy: 0.9443 - val_loss: 0.1805 - val_accuracy: 0.9327\n",
            "Epoch 9/100\n",
            "230/230 [==============================] - 1s 3ms/step - loss: 0.1466 - accuracy: 0.9495 - val_loss: 0.1748 - val_accuracy: 0.9403\n",
            "Epoch 10/100\n",
            "230/230 [==============================] - 1s 3ms/step - loss: 0.1424 - accuracy: 0.9470 - val_loss: 0.1742 - val_accuracy: 0.9425\n",
            "Epoch 11/100\n",
            "230/230 [==============================] - 1s 3ms/step - loss: 0.1369 - accuracy: 0.9484 - val_loss: 0.1707 - val_accuracy: 0.9381\n",
            "Epoch 12/100\n",
            "230/230 [==============================] - 1s 2ms/step - loss: 0.1326 - accuracy: 0.9524 - val_loss: 0.1832 - val_accuracy: 0.9283\n",
            "Epoch 13/100\n",
            "230/230 [==============================] - 1s 2ms/step - loss: 0.1326 - accuracy: 0.9514 - val_loss: 0.1738 - val_accuracy: 0.9316\n",
            "Epoch 14/100\n",
            "230/230 [==============================] - 1s 2ms/step - loss: 0.1264 - accuracy: 0.9552 - val_loss: 0.1714 - val_accuracy: 0.9403\n",
            "Epoch 15/100\n",
            "230/230 [==============================] - 1s 3ms/step - loss: 0.1216 - accuracy: 0.9554 - val_loss: 0.1702 - val_accuracy: 0.9349\n",
            "Epoch 16/100\n",
            "230/230 [==============================] - 1s 3ms/step - loss: 0.1208 - accuracy: 0.9568 - val_loss: 0.1759 - val_accuracy: 0.9392\n",
            "Epoch 17/100\n",
            "230/230 [==============================] - 1s 3ms/step - loss: 0.1168 - accuracy: 0.9549 - val_loss: 0.1809 - val_accuracy: 0.9381\n",
            "Epoch 18/100\n",
            "230/230 [==============================] - 1s 2ms/step - loss: 0.1123 - accuracy: 0.9603 - val_loss: 0.1749 - val_accuracy: 0.9370\n",
            "Epoch 19/100\n",
            "230/230 [==============================] - 1s 3ms/step - loss: 0.1107 - accuracy: 0.9582 - val_loss: 0.1764 - val_accuracy: 0.9392\n",
            "Epoch 20/100\n",
            "230/230 [==============================] - 1s 3ms/step - loss: 0.1062 - accuracy: 0.9601 - val_loss: 0.1722 - val_accuracy: 0.9414\n",
            "Epoch 21/100\n",
            "230/230 [==============================] - 1s 3ms/step - loss: 0.1034 - accuracy: 0.9609 - val_loss: 0.1752 - val_accuracy: 0.9370\n",
            "Epoch 22/100\n",
            "230/230 [==============================] - 1s 2ms/step - loss: 0.1025 - accuracy: 0.9595 - val_loss: 0.1750 - val_accuracy: 0.9392\n",
            "Epoch 23/100\n",
            "230/230 [==============================] - 1s 2ms/step - loss: 0.0951 - accuracy: 0.9644 - val_loss: 0.1764 - val_accuracy: 0.9370\n",
            "Epoch 24/100\n",
            "230/230 [==============================] - 1s 3ms/step - loss: 0.0957 - accuracy: 0.9652 - val_loss: 0.1821 - val_accuracy: 0.9327\n",
            "Epoch 25/100\n",
            "230/230 [==============================] - 1s 3ms/step - loss: 0.0925 - accuracy: 0.9690 - val_loss: 0.1814 - val_accuracy: 0.9370\n",
            "Epoch 26/100\n",
            "230/230 [==============================] - 1s 3ms/step - loss: 0.0889 - accuracy: 0.9688 - val_loss: 0.1960 - val_accuracy: 0.9381\n",
            "Epoch 27/100\n",
            "230/230 [==============================] - 1s 2ms/step - loss: 0.0881 - accuracy: 0.9682 - val_loss: 0.1911 - val_accuracy: 0.9392\n",
            "Epoch 28/100\n",
            "230/230 [==============================] - 1s 3ms/step - loss: 0.0861 - accuracy: 0.9682 - val_loss: 0.1902 - val_accuracy: 0.9392\n",
            "Epoch 29/100\n",
            "230/230 [==============================] - 1s 3ms/step - loss: 0.0795 - accuracy: 0.9736 - val_loss: 0.1804 - val_accuracy: 0.9403\n",
            "Epoch 30/100\n",
            "230/230 [==============================] - 1s 3ms/step - loss: 0.0773 - accuracy: 0.9734 - val_loss: 0.1905 - val_accuracy: 0.9446\n",
            "Epoch 31/100\n",
            "230/230 [==============================] - 1s 2ms/step - loss: 0.0748 - accuracy: 0.9736 - val_loss: 0.1974 - val_accuracy: 0.9435\n",
            "Epoch 32/100\n",
            "230/230 [==============================] - 1s 3ms/step - loss: 0.0732 - accuracy: 0.9753 - val_loss: 0.2047 - val_accuracy: 0.9425\n",
            "Epoch 33/100\n",
            "230/230 [==============================] - 1s 3ms/step - loss: 0.0736 - accuracy: 0.9736 - val_loss: 0.1948 - val_accuracy: 0.9425\n",
            "Epoch 34/100\n",
            "230/230 [==============================] - 1s 3ms/step - loss: 0.0673 - accuracy: 0.9788 - val_loss: 0.2181 - val_accuracy: 0.9392\n",
            "Epoch 35/100\n",
            "230/230 [==============================] - 1s 3ms/step - loss: 0.0669 - accuracy: 0.9791 - val_loss: 0.2091 - val_accuracy: 0.9392\n",
            "Epoch 36/100\n",
            "230/230 [==============================] - 1s 2ms/step - loss: 0.0687 - accuracy: 0.9761 - val_loss: 0.2097 - val_accuracy: 0.9392\n",
            "Epoch 37/100\n",
            "230/230 [==============================] - 1s 2ms/step - loss: 0.0653 - accuracy: 0.9783 - val_loss: 0.2142 - val_accuracy: 0.9435\n",
            "Epoch 38/100\n",
            "230/230 [==============================] - 1s 3ms/step - loss: 0.0628 - accuracy: 0.9777 - val_loss: 0.2320 - val_accuracy: 0.9425\n",
            "Epoch 39/100\n",
            "230/230 [==============================] - 1s 3ms/step - loss: 0.0618 - accuracy: 0.9793 - val_loss: 0.2225 - val_accuracy: 0.9370\n",
            "Epoch 40/100\n",
            "230/230 [==============================] - 1s 3ms/step - loss: 0.0596 - accuracy: 0.9785 - val_loss: 0.2330 - val_accuracy: 0.9370\n",
            "Epoch 41/100\n",
            "230/230 [==============================] - 1s 3ms/step - loss: 0.0573 - accuracy: 0.9799 - val_loss: 0.2290 - val_accuracy: 0.9370\n",
            "Epoch 42/100\n",
            "230/230 [==============================] - 1s 3ms/step - loss: 0.0550 - accuracy: 0.9818 - val_loss: 0.2255 - val_accuracy: 0.9435\n",
            "Epoch 43/100\n",
            "230/230 [==============================] - 1s 3ms/step - loss: 0.0571 - accuracy: 0.9785 - val_loss: 0.2432 - val_accuracy: 0.9403\n",
            "Epoch 44/100\n",
            "230/230 [==============================] - 1s 2ms/step - loss: 0.0531 - accuracy: 0.9832 - val_loss: 0.2340 - val_accuracy: 0.9392\n",
            "Epoch 45/100\n",
            "230/230 [==============================] - 1s 3ms/step - loss: 0.0515 - accuracy: 0.9832 - val_loss: 0.2561 - val_accuracy: 0.9414\n",
            "Epoch 46/100\n",
            "230/230 [==============================] - 1s 3ms/step - loss: 0.0508 - accuracy: 0.9815 - val_loss: 0.2563 - val_accuracy: 0.9305\n",
            "Epoch 47/100\n",
            "230/230 [==============================] - 1s 2ms/step - loss: 0.0525 - accuracy: 0.9807 - val_loss: 0.2376 - val_accuracy: 0.9381\n",
            "Epoch 48/100\n",
            "230/230 [==============================] - 1s 2ms/step - loss: 0.0475 - accuracy: 0.9848 - val_loss: 0.2484 - val_accuracy: 0.9381\n",
            "Epoch 49/100\n",
            "230/230 [==============================] - 1s 3ms/step - loss: 0.0458 - accuracy: 0.9851 - val_loss: 0.2682 - val_accuracy: 0.9338\n",
            "Epoch 50/100\n",
            "230/230 [==============================] - 1s 5ms/step - loss: 0.0453 - accuracy: 0.9834 - val_loss: 0.2620 - val_accuracy: 0.9381\n",
            "Epoch 51/100\n",
            "230/230 [==============================] - 1s 3ms/step - loss: 0.0465 - accuracy: 0.9821 - val_loss: 0.2656 - val_accuracy: 0.9392\n",
            "Epoch 52/100\n",
            "230/230 [==============================] - 1s 3ms/step - loss: 0.0436 - accuracy: 0.9837 - val_loss: 0.2646 - val_accuracy: 0.9403\n",
            "Epoch 53/100\n",
            "230/230 [==============================] - 1s 3ms/step - loss: 0.0409 - accuracy: 0.9864 - val_loss: 0.2610 - val_accuracy: 0.9425\n",
            "Epoch 54/100\n",
            "230/230 [==============================] - 1s 2ms/step - loss: 0.0434 - accuracy: 0.9851 - val_loss: 0.3042 - val_accuracy: 0.9327\n",
            "Epoch 55/100\n",
            "230/230 [==============================] - 1s 3ms/step - loss: 0.0437 - accuracy: 0.9845 - val_loss: 0.2783 - val_accuracy: 0.9381\n",
            "Epoch 56/100\n",
            "230/230 [==============================] - 1s 2ms/step - loss: 0.0430 - accuracy: 0.9832 - val_loss: 0.2956 - val_accuracy: 0.9381\n",
            "Epoch 57/100\n",
            "230/230 [==============================] - 1s 3ms/step - loss: 0.0385 - accuracy: 0.9875 - val_loss: 0.2942 - val_accuracy: 0.9414\n",
            "Epoch 58/100\n",
            "230/230 [==============================] - 1s 3ms/step - loss: 0.0380 - accuracy: 0.9878 - val_loss: 0.3021 - val_accuracy: 0.9359\n",
            "Epoch 59/100\n",
            "230/230 [==============================] - 1s 2ms/step - loss: 0.0394 - accuracy: 0.9842 - val_loss: 0.2917 - val_accuracy: 0.9381\n",
            "Epoch 60/100\n",
            "230/230 [==============================] - 1s 2ms/step - loss: 0.0347 - accuracy: 0.9880 - val_loss: 0.3335 - val_accuracy: 0.9359\n",
            "Epoch 61/100\n",
            "230/230 [==============================] - 1s 3ms/step - loss: 0.0401 - accuracy: 0.9872 - val_loss: 0.2933 - val_accuracy: 0.9403\n",
            "Epoch 62/100\n",
            "230/230 [==============================] - 1s 3ms/step - loss: 0.0347 - accuracy: 0.9878 - val_loss: 0.3159 - val_accuracy: 0.9327\n",
            "Epoch 63/100\n",
            "230/230 [==============================] - 1s 3ms/step - loss: 0.0316 - accuracy: 0.9897 - val_loss: 0.3354 - val_accuracy: 0.9349\n",
            "Epoch 64/100\n",
            "230/230 [==============================] - 1s 3ms/step - loss: 0.0349 - accuracy: 0.9880 - val_loss: 0.3302 - val_accuracy: 0.9381\n",
            "Epoch 65/100\n",
            "230/230 [==============================] - 1s 2ms/step - loss: 0.0365 - accuracy: 0.9870 - val_loss: 0.3429 - val_accuracy: 0.9414\n",
            "Epoch 66/100\n",
            "230/230 [==============================] - 1s 2ms/step - loss: 0.0331 - accuracy: 0.9878 - val_loss: 0.3233 - val_accuracy: 0.9359\n",
            "Epoch 67/100\n",
            "230/230 [==============================] - 1s 3ms/step - loss: 0.0327 - accuracy: 0.9894 - val_loss: 0.3450 - val_accuracy: 0.9359\n",
            "Epoch 68/100\n",
            "230/230 [==============================] - 1s 3ms/step - loss: 0.0334 - accuracy: 0.9894 - val_loss: 0.3556 - val_accuracy: 0.9435\n",
            "Epoch 69/100\n",
            "230/230 [==============================] - 1s 2ms/step - loss: 0.0295 - accuracy: 0.9897 - val_loss: 0.3317 - val_accuracy: 0.9381\n",
            "Epoch 70/100\n",
            "230/230 [==============================] - 1s 2ms/step - loss: 0.0317 - accuracy: 0.9878 - val_loss: 0.3462 - val_accuracy: 0.9446\n",
            "Epoch 71/100\n",
            "230/230 [==============================] - 1s 2ms/step - loss: 0.0331 - accuracy: 0.9875 - val_loss: 0.3563 - val_accuracy: 0.9294\n",
            "Epoch 72/100\n",
            "230/230 [==============================] - 1s 2ms/step - loss: 0.0284 - accuracy: 0.9918 - val_loss: 0.3589 - val_accuracy: 0.9370\n",
            "Epoch 73/100\n",
            "230/230 [==============================] - 1s 2ms/step - loss: 0.0293 - accuracy: 0.9891 - val_loss: 0.3588 - val_accuracy: 0.9392\n",
            "Epoch 74/100\n",
            "230/230 [==============================] - 1s 2ms/step - loss: 0.0315 - accuracy: 0.9878 - val_loss: 0.3916 - val_accuracy: 0.9392\n",
            "Epoch 75/100\n",
            "230/230 [==============================] - 1s 2ms/step - loss: 0.0296 - accuracy: 0.9891 - val_loss: 0.3947 - val_accuracy: 0.9381\n",
            "Epoch 76/100\n",
            "230/230 [==============================] - 1s 2ms/step - loss: 0.0298 - accuracy: 0.9897 - val_loss: 0.4024 - val_accuracy: 0.9392\n",
            "Epoch 77/100\n",
            "230/230 [==============================] - 1s 3ms/step - loss: 0.0291 - accuracy: 0.9902 - val_loss: 0.3701 - val_accuracy: 0.9370\n",
            "Epoch 78/100\n",
            "230/230 [==============================] - 1s 3ms/step - loss: 0.0314 - accuracy: 0.9905 - val_loss: 0.3925 - val_accuracy: 0.9338\n",
            "Epoch 79/100\n",
            "230/230 [==============================] - 1s 3ms/step - loss: 0.0298 - accuracy: 0.9899 - val_loss: 0.3646 - val_accuracy: 0.9338\n",
            "Epoch 80/100\n",
            "230/230 [==============================] - 1s 2ms/step - loss: 0.0258 - accuracy: 0.9916 - val_loss: 0.4006 - val_accuracy: 0.9425\n",
            "Epoch 81/100\n",
            "230/230 [==============================] - 1s 2ms/step - loss: 0.0257 - accuracy: 0.9910 - val_loss: 0.4058 - val_accuracy: 0.9392\n",
            "Epoch 82/100\n",
            "230/230 [==============================] - 1s 3ms/step - loss: 0.0299 - accuracy: 0.9908 - val_loss: 0.4089 - val_accuracy: 0.9392\n",
            "Epoch 83/100\n",
            "230/230 [==============================] - 1s 3ms/step - loss: 0.0246 - accuracy: 0.9921 - val_loss: 0.4139 - val_accuracy: 0.9414\n",
            "Epoch 84/100\n",
            "230/230 [==============================] - 1s 3ms/step - loss: 0.0273 - accuracy: 0.9908 - val_loss: 0.4144 - val_accuracy: 0.9425\n",
            "Epoch 85/100\n",
            "230/230 [==============================] - 1s 3ms/step - loss: 0.0286 - accuracy: 0.9908 - val_loss: 0.3949 - val_accuracy: 0.9414\n",
            "Epoch 86/100\n",
            "230/230 [==============================] - 1s 2ms/step - loss: 0.0272 - accuracy: 0.9913 - val_loss: 0.4082 - val_accuracy: 0.9425\n",
            "Epoch 87/100\n",
            "230/230 [==============================] - 1s 2ms/step - loss: 0.0259 - accuracy: 0.9916 - val_loss: 0.4301 - val_accuracy: 0.9392\n",
            "Epoch 88/100\n",
            "230/230 [==============================] - 1s 2ms/step - loss: 0.0254 - accuracy: 0.9918 - val_loss: 0.4291 - val_accuracy: 0.9381\n",
            "Epoch 89/100\n",
            "230/230 [==============================] - 1s 2ms/step - loss: 0.0269 - accuracy: 0.9908 - val_loss: 0.4388 - val_accuracy: 0.9392\n",
            "Epoch 90/100\n",
            "230/230 [==============================] - 1s 2ms/step - loss: 0.0248 - accuracy: 0.9927 - val_loss: 0.4423 - val_accuracy: 0.9381\n",
            "Epoch 91/100\n",
            "230/230 [==============================] - 1s 2ms/step - loss: 0.0273 - accuracy: 0.9908 - val_loss: 0.4132 - val_accuracy: 0.9392\n",
            "Epoch 92/100\n",
            "230/230 [==============================] - 1s 2ms/step - loss: 0.0258 - accuracy: 0.9905 - val_loss: 0.4201 - val_accuracy: 0.9403\n",
            "Epoch 93/100\n",
            "230/230 [==============================] - 1s 2ms/step - loss: 0.0251 - accuracy: 0.9916 - val_loss: 0.4328 - val_accuracy: 0.9414\n",
            "Epoch 94/100\n",
            "230/230 [==============================] - 1s 3ms/step - loss: 0.0253 - accuracy: 0.9916 - val_loss: 0.4314 - val_accuracy: 0.9392\n",
            "Epoch 95/100\n",
            "230/230 [==============================] - 1s 3ms/step - loss: 0.0247 - accuracy: 0.9924 - val_loss: 0.4478 - val_accuracy: 0.9370\n",
            "Epoch 96/100\n",
            "230/230 [==============================] - 1s 2ms/step - loss: 0.0262 - accuracy: 0.9916 - val_loss: 0.4340 - val_accuracy: 0.9349\n",
            "Epoch 97/100\n",
            "230/230 [==============================] - 1s 3ms/step - loss: 0.0252 - accuracy: 0.9908 - val_loss: 0.4304 - val_accuracy: 0.9414\n",
            "Epoch 98/100\n",
            "230/230 [==============================] - 1s 3ms/step - loss: 0.0267 - accuracy: 0.9921 - val_loss: 0.4451 - val_accuracy: 0.9392\n",
            "Epoch 99/100\n",
            "230/230 [==============================] - 1s 2ms/step - loss: 0.0309 - accuracy: 0.9899 - val_loss: 0.4762 - val_accuracy: 0.9359\n",
            "Epoch 100/100\n",
            "230/230 [==============================] - 1s 2ms/step - loss: 0.0254 - accuracy: 0.9918 - val_loss: 0.4504 - val_accuracy: 0.9392\n"
          ]
        },
        {
          "output_type": "display_data",
          "data": {
            "text/plain": [
              "<Figure size 432x288 with 1 Axes>"
            ],
            "image/png": "[encoded data removed]"
          },
          "metadata": {
            "needs_background": "light"
          }
        },
        {
          "output_type": "display_data",
          "data": {
            "text/plain": [
              "<Figure size 432x288 with 1 Axes>"
            ],
            "image/png": "[encoded data removed]"
          },
          "metadata": {
            "needs_background": "light"
          }
        }
      ],
      "source": [
        "history = model.fit(X_train, y_train, epochs=100, batch_size=16, validation_data=(X_test, y_test))\n",
        "plt.plot(history.history['loss'])\n",
        "plt.plot(history.history['val_loss'])\n",
        "plt.title('model loss')\n",
        "plt.ylabel('loss')\n",
        "plt.xlabel('epoch')\n",
        "plt.legend(['train', 'test'], loc='upper left')\n",
        "plt.show()\n",
        "\n",
        "plt.plot(history.history['accuracy'])\n",
        "plt.plot(history.history['val_accuracy'])\n",
        "plt.title('model accuracy')\n",
        "plt.ylabel('loss')\n",
        "plt.xlabel('epoch')\n",
        "plt.legend(['train', 'test'], loc='upper left')\n",
        "plt.show()"
      ]
    },
    {
      "cell_type": "markdown",
      "metadata": {
        "id": "omxSrQB_Rhzp"
      },
      "source": [
        "### 4.2 minimize learing rate"
      ]
    },
    {
      "cell_type": "code",
      "execution_count": 20,
      "metadata": {
        "pycharm": {
          "name": "#%%\n"
        },
        "colab": {
          "base_uri": "https://localhost:8080/",
          "height": 682
        },
        "id": "2gXe4ENyRhzq",
        "outputId": "834d5979-9679-4b21-f14f-9ed775659aa7"
      },
      "outputs": [
        {
          "output_type": "stream",
          "name": "stdout",
          "text": [
            "Model: \"sequential_6\"\n",
            "_________________________________________________________________\n",
            " Layer (type)                Output Shape              Param #   \n",
            "=================================================================\n",
            " dense_18 (Dense)            (None, 8)                 464       \n",
            "                                                                 \n",
            " dense_19 (Dense)            (None, 4)                 36        \n",
            "                                                                 \n",
            " dense_20 (Dense)            (None, 1)                 5         \n",
            "                                                                 \n",
            "=================================================================\n",
            "Total params: 505\n",
            "Trainable params: 505\n",
            "Non-trainable params: 0\n",
            "_________________________________________________________________\n"
          ]
        },
        {
          "output_type": "execute_result",
          "data": {
            "text/plain": [
              "<IPython.core.display.Image object>"
            ],
            "image/png": "[encoded data removed]"
          },
          "metadata": {},
          "execution_count": 20
        }
      ],
      "source": [
        "model = Sequential()\n",
        "model.add(Dense(8,activation='relu', input_shape=(X.shape[1],)))\n",
        "model.add(Dense(4,activation='relu'))\n",
        "model.add(Dense(1, activation='sigmoid'))\n",
        "model.compile(optimizer=Adam(learning_rate=0.0001), loss='binary_crossentropy', metrics=['accuracy'])\n",
        "model.summary()\n",
        "utils.plot_model(model, show_shapes=True)"
      ]
    },
    {
      "cell_type": "code",
      "execution_count": 21,
      "metadata": {
        "pycharm": {
          "name": "#%%\n"
        },
        "colab": {
          "base_uri": "https://localhost:8080/",
          "height": 1000
        },
        "id": "5cUx0bqERhzq",
        "outputId": "30428924-0ffa-4611-b4b1-f148c35e0d8b"
      },
      "outputs": [
        {
          "output_type": "stream",
          "name": "stdout",
          "text": [
            "Epoch 1/100\n",
            "230/230 [==============================] - 1s 3ms/step - loss: 0.6836 - accuracy: 0.6190 - val_loss: 0.6777 - val_accuracy: 0.6536\n",
            "Epoch 2/100\n",
            "230/230 [==============================] - 1s 2ms/step - loss: 0.6720 - accuracy: 0.6788 - val_loss: 0.6654 - val_accuracy: 0.6916\n",
            "Epoch 3/100\n",
            "230/230 [==============================] - 1s 2ms/step - loss: 0.6588 - accuracy: 0.7111 - val_loss: 0.6512 - val_accuracy: 0.7210\n",
            "Epoch 4/100\n",
            "230/230 [==============================] - 1s 2ms/step - loss: 0.6438 - accuracy: 0.7437 - val_loss: 0.6351 - val_accuracy: 0.7470\n",
            "Epoch 5/100\n",
            "230/230 [==============================] - 1s 3ms/step - loss: 0.6267 - accuracy: 0.7652 - val_loss: 0.6164 - val_accuracy: 0.7720\n",
            "Epoch 6/100\n",
            "230/230 [==============================] - 1s 2ms/step - loss: 0.6070 - accuracy: 0.7935 - val_loss: 0.5950 - val_accuracy: 0.7904\n",
            "Epoch 7/100\n",
            "230/230 [==============================] - 1s 2ms/step - loss: 0.5850 - accuracy: 0.8084 - val_loss: 0.5713 - val_accuracy: 0.8089\n",
            "Epoch 8/100\n",
            "230/230 [==============================] - 0s 2ms/step - loss: 0.5613 - accuracy: 0.8174 - val_loss: 0.5463 - val_accuracy: 0.8198\n",
            "Epoch 9/100\n",
            "230/230 [==============================] - 1s 2ms/step - loss: 0.5372 - accuracy: 0.8296 - val_loss: 0.5215 - val_accuracy: 0.8404\n",
            "Epoch 10/100\n",
            "230/230 [==============================] - 1s 3ms/step - loss: 0.5136 - accuracy: 0.8345 - val_loss: 0.4977 - val_accuracy: 0.8458\n",
            "Epoch 11/100\n",
            "230/230 [==============================] - 1s 3ms/step - loss: 0.4911 - accuracy: 0.8418 - val_loss: 0.4750 - val_accuracy: 0.8567\n",
            "Epoch 12/100\n",
            "230/230 [==============================] - 1s 2ms/step - loss: 0.4698 - accuracy: 0.8495 - val_loss: 0.4539 - val_accuracy: 0.8610\n",
            "Epoch 13/100\n",
            "230/230 [==============================] - 1s 2ms/step - loss: 0.4501 - accuracy: 0.8552 - val_loss: 0.4345 - val_accuracy: 0.8664\n",
            "Epoch 14/100\n",
            "230/230 [==============================] - 0s 2ms/step - loss: 0.4321 - accuracy: 0.8598 - val_loss: 0.4167 - val_accuracy: 0.8751\n",
            "Epoch 15/100\n",
            "230/230 [==============================] - 1s 2ms/step - loss: 0.4157 - accuracy: 0.8628 - val_loss: 0.4006 - val_accuracy: 0.8838\n",
            "Epoch 16/100\n",
            "230/230 [==============================] - 0s 2ms/step - loss: 0.4006 - accuracy: 0.8674 - val_loss: 0.3860 - val_accuracy: 0.8871\n",
            "Epoch 17/100\n",
            "230/230 [==============================] - 1s 2ms/step - loss: 0.3871 - accuracy: 0.8731 - val_loss: 0.3728 - val_accuracy: 0.8893\n",
            "Epoch 18/100\n",
            "230/230 [==============================] - 1s 2ms/step - loss: 0.3747 - accuracy: 0.8753 - val_loss: 0.3608 - val_accuracy: 0.8936\n",
            "Epoch 19/100\n",
            "230/230 [==============================] - 1s 3ms/step - loss: 0.3635 - accuracy: 0.8802 - val_loss: 0.3498 - val_accuracy: 0.8936\n",
            "Epoch 20/100\n",
            "230/230 [==============================] - 0s 2ms/step - loss: 0.3533 - accuracy: 0.8815 - val_loss: 0.3402 - val_accuracy: 0.8969\n",
            "Epoch 21/100\n",
            "230/230 [==============================] - 1s 2ms/step - loss: 0.3441 - accuracy: 0.8823 - val_loss: 0.3313 - val_accuracy: 0.8990\n",
            "Epoch 22/100\n",
            "230/230 [==============================] - 1s 2ms/step - loss: 0.3356 - accuracy: 0.8856 - val_loss: 0.3232 - val_accuracy: 0.9001\n",
            "Epoch 23/100\n",
            "230/230 [==============================] - 1s 3ms/step - loss: 0.3281 - accuracy: 0.8867 - val_loss: 0.3160 - val_accuracy: 0.9066\n",
            "Epoch 24/100\n",
            "230/230 [==============================] - 1s 3ms/step - loss: 0.3212 - accuracy: 0.8897 - val_loss: 0.3094 - val_accuracy: 0.9110\n",
            "Epoch 25/100\n",
            "230/230 [==============================] - 1s 6ms/step - loss: 0.3148 - accuracy: 0.8940 - val_loss: 0.3034 - val_accuracy: 0.9131\n",
            "Epoch 26/100\n",
            "230/230 [==============================] - 1s 6ms/step - loss: 0.3090 - accuracy: 0.8959 - val_loss: 0.2978 - val_accuracy: 0.9131\n",
            "Epoch 27/100\n",
            "230/230 [==============================] - 1s 3ms/step - loss: 0.3035 - accuracy: 0.8976 - val_loss: 0.2928 - val_accuracy: 0.9131\n",
            "Epoch 28/100\n",
            "230/230 [==============================] - 1s 2ms/step - loss: 0.2986 - accuracy: 0.9000 - val_loss: 0.2881 - val_accuracy: 0.9142\n",
            "Epoch 29/100\n",
            "230/230 [==============================] - 1s 2ms/step - loss: 0.2940 - accuracy: 0.9022 - val_loss: 0.2838 - val_accuracy: 0.9153\n",
            "Epoch 30/100\n",
            "230/230 [==============================] - 1s 2ms/step - loss: 0.2898 - accuracy: 0.9030 - val_loss: 0.2798 - val_accuracy: 0.9153\n",
            "Epoch 31/100\n",
            "230/230 [==============================] - 1s 3ms/step - loss: 0.2857 - accuracy: 0.9041 - val_loss: 0.2760 - val_accuracy: 0.9153\n",
            "Epoch 32/100\n",
            "230/230 [==============================] - 1s 3ms/step - loss: 0.2820 - accuracy: 0.9043 - val_loss: 0.2725 - val_accuracy: 0.9164\n",
            "Epoch 33/100\n",
            "230/230 [==============================] - 1s 3ms/step - loss: 0.2784 - accuracy: 0.9052 - val_loss: 0.2692 - val_accuracy: 0.9197\n",
            "Epoch 34/100\n",
            "230/230 [==============================] - 1s 2ms/step - loss: 0.2751 - accuracy: 0.9065 - val_loss: 0.2662 - val_accuracy: 0.9207\n",
            "Epoch 35/100\n",
            "230/230 [==============================] - 1s 2ms/step - loss: 0.2719 - accuracy: 0.9065 - val_loss: 0.2633 - val_accuracy: 0.9207\n",
            "Epoch 36/100\n",
            "230/230 [==============================] - 1s 2ms/step - loss: 0.2689 - accuracy: 0.9068 - val_loss: 0.2606 - val_accuracy: 0.9229\n",
            "Epoch 37/100\n",
            "230/230 [==============================] - 1s 2ms/step - loss: 0.2662 - accuracy: 0.9082 - val_loss: 0.2582 - val_accuracy: 0.9229\n",
            "Epoch 38/100\n",
            "230/230 [==============================] - 1s 2ms/step - loss: 0.2636 - accuracy: 0.9076 - val_loss: 0.2559 - val_accuracy: 0.9229\n",
            "Epoch 39/100\n",
            "230/230 [==============================] - 1s 3ms/step - loss: 0.2611 - accuracy: 0.9090 - val_loss: 0.2537 - val_accuracy: 0.9262\n",
            "Epoch 40/100\n",
            "230/230 [==============================] - 1s 3ms/step - loss: 0.2587 - accuracy: 0.9090 - val_loss: 0.2516 - val_accuracy: 0.9262\n",
            "Epoch 41/100\n",
            "230/230 [==============================] - 1s 2ms/step - loss: 0.2565 - accuracy: 0.9095 - val_loss: 0.2497 - val_accuracy: 0.9251\n",
            "Epoch 42/100\n",
            "230/230 [==============================] - 1s 2ms/step - loss: 0.2544 - accuracy: 0.9103 - val_loss: 0.2479 - val_accuracy: 0.9251\n",
            "Epoch 43/100\n",
            "230/230 [==============================] - 1s 3ms/step - loss: 0.2524 - accuracy: 0.9098 - val_loss: 0.2462 - val_accuracy: 0.9251\n",
            "Epoch 44/100\n",
            "230/230 [==============================] - 1s 2ms/step - loss: 0.2506 - accuracy: 0.9103 - val_loss: 0.2446 - val_accuracy: 0.9251\n",
            "Epoch 45/100\n",
            "230/230 [==============================] - 1s 3ms/step - loss: 0.2487 - accuracy: 0.9103 - val_loss: 0.2431 - val_accuracy: 0.9251\n",
            "Epoch 46/100\n",
            "230/230 [==============================] - 1s 2ms/step - loss: 0.2470 - accuracy: 0.9101 - val_loss: 0.2416 - val_accuracy: 0.9251\n",
            "Epoch 47/100\n",
            "230/230 [==============================] - 1s 3ms/step - loss: 0.2454 - accuracy: 0.9106 - val_loss: 0.2402 - val_accuracy: 0.9251\n",
            "Epoch 48/100\n",
            "230/230 [==============================] - 1s 3ms/step - loss: 0.2438 - accuracy: 0.9111 - val_loss: 0.2388 - val_accuracy: 0.9251\n",
            "Epoch 49/100\n",
            "230/230 [==============================] - 1s 3ms/step - loss: 0.2422 - accuracy: 0.9117 - val_loss: 0.2376 - val_accuracy: 0.9262\n",
            "Epoch 50/100\n",
            "230/230 [==============================] - 1s 3ms/step - loss: 0.2408 - accuracy: 0.9120 - val_loss: 0.2364 - val_accuracy: 0.9262\n",
            "Epoch 51/100\n",
            "230/230 [==============================] - 1s 2ms/step - loss: 0.2394 - accuracy: 0.9125 - val_loss: 0.2352 - val_accuracy: 0.9273\n",
            "Epoch 52/100\n",
            "230/230 [==============================] - 1s 2ms/step - loss: 0.2380 - accuracy: 0.9133 - val_loss: 0.2341 - val_accuracy: 0.9273\n",
            "Epoch 53/100\n",
            "230/230 [==============================] - 0s 2ms/step - loss: 0.2367 - accuracy: 0.9133 - val_loss: 0.2330 - val_accuracy: 0.9294\n",
            "Epoch 54/100\n",
            "230/230 [==============================] - 1s 2ms/step - loss: 0.2354 - accuracy: 0.9130 - val_loss: 0.2321 - val_accuracy: 0.9305\n",
            "Epoch 55/100\n",
            "230/230 [==============================] - 1s 2ms/step - loss: 0.2341 - accuracy: 0.9139 - val_loss: 0.2308 - val_accuracy: 0.9305\n",
            "Epoch 56/100\n",
            "230/230 [==============================] - 1s 2ms/step - loss: 0.2328 - accuracy: 0.9136 - val_loss: 0.2297 - val_accuracy: 0.9294\n",
            "Epoch 57/100\n",
            "230/230 [==============================] - 1s 2ms/step - loss: 0.2315 - accuracy: 0.9152 - val_loss: 0.2288 - val_accuracy: 0.9294\n",
            "Epoch 58/100\n",
            "230/230 [==============================] - 1s 2ms/step - loss: 0.2303 - accuracy: 0.9152 - val_loss: 0.2277 - val_accuracy: 0.9283\n",
            "Epoch 59/100\n",
            "230/230 [==============================] - 1s 2ms/step - loss: 0.2291 - accuracy: 0.9166 - val_loss: 0.2268 - val_accuracy: 0.9294\n",
            "Epoch 60/100\n",
            "230/230 [==============================] - 1s 2ms/step - loss: 0.2280 - accuracy: 0.9171 - val_loss: 0.2258 - val_accuracy: 0.9283\n",
            "Epoch 61/100\n",
            "230/230 [==============================] - 1s 3ms/step - loss: 0.2270 - accuracy: 0.9171 - val_loss: 0.2250 - val_accuracy: 0.9294\n",
            "Epoch 62/100\n",
            "230/230 [==============================] - 1s 2ms/step - loss: 0.2258 - accuracy: 0.9168 - val_loss: 0.2241 - val_accuracy: 0.9294\n",
            "Epoch 63/100\n",
            "230/230 [==============================] - 1s 3ms/step - loss: 0.2247 - accuracy: 0.9182 - val_loss: 0.2232 - val_accuracy: 0.9294\n",
            "Epoch 64/100\n",
            "230/230 [==============================] - 1s 2ms/step - loss: 0.2237 - accuracy: 0.9185 - val_loss: 0.2225 - val_accuracy: 0.9305\n",
            "Epoch 65/100\n",
            "230/230 [==============================] - 1s 2ms/step - loss: 0.2227 - accuracy: 0.9177 - val_loss: 0.2216 - val_accuracy: 0.9294\n",
            "Epoch 66/100\n",
            "230/230 [==============================] - 1s 2ms/step - loss: 0.2217 - accuracy: 0.9187 - val_loss: 0.2209 - val_accuracy: 0.9294\n",
            "Epoch 67/100\n",
            "230/230 [==============================] - 1s 2ms/step - loss: 0.2207 - accuracy: 0.9187 - val_loss: 0.2202 - val_accuracy: 0.9305\n",
            "Epoch 68/100\n",
            "230/230 [==============================] - 1s 2ms/step - loss: 0.2198 - accuracy: 0.9190 - val_loss: 0.2194 - val_accuracy: 0.9316\n",
            "Epoch 69/100\n",
            "230/230 [==============================] - 1s 3ms/step - loss: 0.2189 - accuracy: 0.9187 - val_loss: 0.2187 - val_accuracy: 0.9316\n",
            "Epoch 70/100\n",
            "230/230 [==============================] - 1s 3ms/step - loss: 0.2180 - accuracy: 0.9196 - val_loss: 0.2180 - val_accuracy: 0.9305\n",
            "Epoch 71/100\n",
            "230/230 [==============================] - 1s 3ms/step - loss: 0.2171 - accuracy: 0.9193 - val_loss: 0.2173 - val_accuracy: 0.9305\n",
            "Epoch 72/100\n",
            "230/230 [==============================] - 1s 3ms/step - loss: 0.2162 - accuracy: 0.9198 - val_loss: 0.2167 - val_accuracy: 0.9316\n",
            "Epoch 73/100\n",
            "230/230 [==============================] - 1s 2ms/step - loss: 0.2154 - accuracy: 0.9198 - val_loss: 0.2159 - val_accuracy: 0.9305\n",
            "Epoch 74/100\n",
            "230/230 [==============================] - 1s 2ms/step - loss: 0.2144 - accuracy: 0.9204 - val_loss: 0.2151 - val_accuracy: 0.9316\n",
            "Epoch 75/100\n",
            "230/230 [==============================] - 1s 3ms/step - loss: 0.2135 - accuracy: 0.9212 - val_loss: 0.2144 - val_accuracy: 0.9327\n",
            "Epoch 76/100\n",
            "230/230 [==============================] - 1s 3ms/step - loss: 0.2126 - accuracy: 0.9215 - val_loss: 0.2138 - val_accuracy: 0.9305\n",
            "Epoch 77/100\n",
            "230/230 [==============================] - 1s 2ms/step - loss: 0.2117 - accuracy: 0.9215 - val_loss: 0.2131 - val_accuracy: 0.9316\n",
            "Epoch 78/100\n",
            "230/230 [==============================] - 1s 3ms/step - loss: 0.2109 - accuracy: 0.9217 - val_loss: 0.2125 - val_accuracy: 0.9305\n",
            "Epoch 79/100\n",
            "230/230 [==============================] - 1s 4ms/step - loss: 0.2100 - accuracy: 0.9212 - val_loss: 0.2118 - val_accuracy: 0.9305\n",
            "Epoch 80/100\n",
            "230/230 [==============================] - 1s 2ms/step - loss: 0.2092 - accuracy: 0.9228 - val_loss: 0.2113 - val_accuracy: 0.9305\n",
            "Epoch 81/100\n",
            "230/230 [==============================] - 1s 2ms/step - loss: 0.2085 - accuracy: 0.9215 - val_loss: 0.2107 - val_accuracy: 0.9305\n",
            "Epoch 82/100\n",
            "230/230 [==============================] - 1s 2ms/step - loss: 0.2077 - accuracy: 0.9223 - val_loss: 0.2102 - val_accuracy: 0.9294\n",
            "Epoch 83/100\n",
            "230/230 [==============================] - 1s 2ms/step - loss: 0.2070 - accuracy: 0.9228 - val_loss: 0.2097 - val_accuracy: 0.9294\n",
            "Epoch 84/100\n",
            "230/230 [==============================] - 1s 3ms/step - loss: 0.2062 - accuracy: 0.9228 - val_loss: 0.2092 - val_accuracy: 0.9294\n",
            "Epoch 85/100\n",
            "230/230 [==============================] - 1s 2ms/step - loss: 0.2056 - accuracy: 0.9250 - val_loss: 0.2088 - val_accuracy: 0.9294\n",
            "Epoch 86/100\n",
            "230/230 [==============================] - 1s 2ms/step - loss: 0.2048 - accuracy: 0.9242 - val_loss: 0.2083 - val_accuracy: 0.9294\n",
            "Epoch 87/100\n",
            "230/230 [==============================] - 1s 3ms/step - loss: 0.2042 - accuracy: 0.9247 - val_loss: 0.2079 - val_accuracy: 0.9294\n",
            "Epoch 88/100\n",
            "230/230 [==============================] - 1s 3ms/step - loss: 0.2035 - accuracy: 0.9247 - val_loss: 0.2074 - val_accuracy: 0.9294\n",
            "Epoch 89/100\n",
            "230/230 [==============================] - 1s 3ms/step - loss: 0.2028 - accuracy: 0.9264 - val_loss: 0.2070 - val_accuracy: 0.9316\n",
            "Epoch 90/100\n",
            "230/230 [==============================] - 1s 3ms/step - loss: 0.2021 - accuracy: 0.9280 - val_loss: 0.2066 - val_accuracy: 0.9316\n",
            "Epoch 91/100\n",
            "230/230 [==============================] - 1s 2ms/step - loss: 0.2015 - accuracy: 0.9277 - val_loss: 0.2063 - val_accuracy: 0.9327\n",
            "Epoch 92/100\n",
            "230/230 [==============================] - 1s 2ms/step - loss: 0.2008 - accuracy: 0.9291 - val_loss: 0.2059 - val_accuracy: 0.9327\n",
            "Epoch 93/100\n",
            "230/230 [==============================] - 1s 2ms/step - loss: 0.2002 - accuracy: 0.9299 - val_loss: 0.2055 - val_accuracy: 0.9338\n",
            "Epoch 94/100\n",
            "230/230 [==============================] - 1s 2ms/step - loss: 0.1995 - accuracy: 0.9288 - val_loss: 0.2053 - val_accuracy: 0.9359\n",
            "Epoch 95/100\n",
            "230/230 [==============================] - 1s 3ms/step - loss: 0.1989 - accuracy: 0.9318 - val_loss: 0.2049 - val_accuracy: 0.9349\n",
            "Epoch 96/100\n",
            "230/230 [==============================] - 1s 2ms/step - loss: 0.1982 - accuracy: 0.9312 - val_loss: 0.2046 - val_accuracy: 0.9349\n",
            "Epoch 97/100\n",
            "230/230 [==============================] - 1s 2ms/step - loss: 0.1976 - accuracy: 0.9302 - val_loss: 0.2043 - val_accuracy: 0.9370\n",
            "Epoch 98/100\n",
            "230/230 [==============================] - 1s 3ms/step - loss: 0.1971 - accuracy: 0.9312 - val_loss: 0.2040 - val_accuracy: 0.9381\n",
            "Epoch 99/100\n",
            "230/230 [==============================] - 1s 2ms/step - loss: 0.1965 - accuracy: 0.9323 - val_loss: 0.2037 - val_accuracy: 0.9381\n",
            "Epoch 100/100\n",
            "230/230 [==============================] - 1s 3ms/step - loss: 0.1960 - accuracy: 0.9318 - val_loss: 0.2034 - val_accuracy: 0.9370\n"
          ]
        },
        {
          "output_type": "display_data",
          "data": {
            "text/plain": [
              "<Figure size 432x288 with 1 Axes>"
            ],
            "image/png": "[encoded data removed]"
          },
          "metadata": {
            "needs_background": "light"
          }
        },
        {
          "output_type": "display_data",
          "data": {
            "text/plain": [
              "<Figure size 432x288 with 1 Axes>"
            ],
            "image/png": "[encoded data removed]"
          },
          "metadata": {
            "needs_background": "light"
          }
        }
      ],
      "source": [
        "history = model.fit(X_train, y_train, epochs=100, batch_size=16, validation_data=(X_test, y_test))\n",
        "plt.plot(history.history['loss'])\n",
        "plt.plot(history.history['val_loss'])\n",
        "plt.title('model loss')\n",
        "plt.ylabel('loss')\n",
        "plt.xlabel('epoch')\n",
        "plt.legend(['train', 'test'], loc='upper left')\n",
        "plt.show()\n",
        "\n",
        "plt.plot(history.history['accuracy'])\n",
        "plt.plot(history.history['val_accuracy'])\n",
        "plt.title('model accuracy')\n",
        "plt.ylabel('loss')\n",
        "plt.xlabel('epoch')\n",
        "plt.legend(['train', 'test'], loc='upper left')\n",
        "plt.show()"
      ]
    },
    {
      "cell_type": "markdown",
      "metadata": {
        "id": "VmWXWVhuRhzr"
      },
      "source": [
        "### 4.3 decrease epocs"
      ]
    },
    {
      "cell_type": "code",
      "execution_count": 22,
      "metadata": {
        "pycharm": {
          "name": "#%%\n"
        },
        "colab": {
          "base_uri": "https://localhost:8080/",
          "height": 1000
        },
        "id": "uk1dq4v2Rhzr",
        "outputId": "78feb82a-5214-4286-ffa8-8780fe39d225"
      },
      "outputs": [
        {
          "output_type": "stream",
          "name": "stdout",
          "text": [
            "Model: \"sequential_7\"\n",
            "_________________________________________________________________\n",
            " Layer (type)                Output Shape              Param #   \n",
            "=================================================================\n",
            " dense_21 (Dense)            (None, 8)                 464       \n",
            "                                                                 \n",
            " dense_22 (Dense)            (None, 4)                 36        \n",
            "                                                                 \n",
            " dense_23 (Dense)            (None, 1)                 5         \n",
            "                                                                 \n",
            "=================================================================\n",
            "Total params: 505\n",
            "Trainable params: 505\n",
            "Non-trainable params: 0\n",
            "_________________________________________________________________\n",
            "Epoch 1/50\n",
            "230/230 [==============================] - 1s 3ms/step - loss: 0.6713 - accuracy: 0.6209 - val_loss: 0.6217 - val_accuracy: 0.8024\n",
            "Epoch 2/50\n",
            "230/230 [==============================] - 1s 3ms/step - loss: 0.5195 - accuracy: 0.8535 - val_loss: 0.3972 - val_accuracy: 0.8958\n",
            "Epoch 3/50\n",
            "230/230 [==============================] - 1s 2ms/step - loss: 0.3400 - accuracy: 0.8946 - val_loss: 0.2854 - val_accuracy: 0.9121\n",
            "Epoch 4/50\n",
            "230/230 [==============================] - 1s 2ms/step - loss: 0.2713 - accuracy: 0.9071 - val_loss: 0.2473 - val_accuracy: 0.9229\n",
            "Epoch 5/50\n",
            "230/230 [==============================] - 1s 2ms/step - loss: 0.2420 - accuracy: 0.9147 - val_loss: 0.2279 - val_accuracy: 0.9338\n",
            "Epoch 6/50\n",
            "230/230 [==============================] - 1s 3ms/step - loss: 0.2262 - accuracy: 0.9207 - val_loss: 0.2171 - val_accuracy: 0.9370\n",
            "Epoch 7/50\n",
            "230/230 [==============================] - 1s 2ms/step - loss: 0.2147 - accuracy: 0.9245 - val_loss: 0.2115 - val_accuracy: 0.9327\n",
            "Epoch 8/50\n",
            "230/230 [==============================] - 1s 2ms/step - loss: 0.2078 - accuracy: 0.9261 - val_loss: 0.2075 - val_accuracy: 0.9349\n",
            "Epoch 9/50\n",
            "230/230 [==============================] - 1s 3ms/step - loss: 0.2018 - accuracy: 0.9288 - val_loss: 0.2038 - val_accuracy: 0.9327\n",
            "Epoch 10/50\n",
            "230/230 [==============================] - 1s 3ms/step - loss: 0.1971 - accuracy: 0.9296 - val_loss: 0.2020 - val_accuracy: 0.9338\n",
            "Epoch 11/50\n",
            "230/230 [==============================] - 1s 2ms/step - loss: 0.1941 - accuracy: 0.9293 - val_loss: 0.2008 - val_accuracy: 0.9414\n",
            "Epoch 12/50\n",
            "230/230 [==============================] - 1s 2ms/step - loss: 0.1912 - accuracy: 0.9312 - val_loss: 0.1992 - val_accuracy: 0.9403\n",
            "Epoch 13/50\n",
            "230/230 [==============================] - 1s 2ms/step - loss: 0.1887 - accuracy: 0.9326 - val_loss: 0.1977 - val_accuracy: 0.9403\n",
            "Epoch 14/50\n",
            "230/230 [==============================] - 1s 2ms/step - loss: 0.1864 - accuracy: 0.9315 - val_loss: 0.1970 - val_accuracy: 0.9392\n",
            "Epoch 15/50\n",
            "230/230 [==============================] - 1s 3ms/step - loss: 0.1841 - accuracy: 0.9326 - val_loss: 0.1972 - val_accuracy: 0.9403\n",
            "Epoch 16/50\n",
            "230/230 [==============================] - 1s 3ms/step - loss: 0.1828 - accuracy: 0.9348 - val_loss: 0.1943 - val_accuracy: 0.9403\n",
            "Epoch 17/50\n",
            "230/230 [==============================] - 1s 3ms/step - loss: 0.1806 - accuracy: 0.9337 - val_loss: 0.1938 - val_accuracy: 0.9392\n",
            "Epoch 18/50\n",
            "230/230 [==============================] - 1s 3ms/step - loss: 0.1778 - accuracy: 0.9364 - val_loss: 0.1934 - val_accuracy: 0.9392\n",
            "Epoch 19/50\n",
            "230/230 [==============================] - 1s 3ms/step - loss: 0.1765 - accuracy: 0.9361 - val_loss: 0.1918 - val_accuracy: 0.9381\n",
            "Epoch 20/50\n",
            "230/230 [==============================] - 1s 2ms/step - loss: 0.1758 - accuracy: 0.9359 - val_loss: 0.1917 - val_accuracy: 0.9392\n",
            "Epoch 21/50\n",
            "230/230 [==============================] - 1s 2ms/step - loss: 0.1727 - accuracy: 0.9364 - val_loss: 0.1915 - val_accuracy: 0.9381\n",
            "Epoch 22/50\n",
            "230/230 [==============================] - 1s 3ms/step - loss: 0.1717 - accuracy: 0.9389 - val_loss: 0.1909 - val_accuracy: 0.9403\n",
            "Epoch 23/50\n",
            "230/230 [==============================] - 1s 3ms/step - loss: 0.1702 - accuracy: 0.9372 - val_loss: 0.1936 - val_accuracy: 0.9359\n",
            "Epoch 24/50\n",
            "230/230 [==============================] - 1s 2ms/step - loss: 0.1684 - accuracy: 0.9402 - val_loss: 0.1912 - val_accuracy: 0.9392\n",
            "Epoch 25/50\n",
            "230/230 [==============================] - 1s 3ms/step - loss: 0.1671 - accuracy: 0.9399 - val_loss: 0.1929 - val_accuracy: 0.9370\n",
            "Epoch 26/50\n",
            "230/230 [==============================] - 1s 2ms/step - loss: 0.1653 - accuracy: 0.9424 - val_loss: 0.1930 - val_accuracy: 0.9370\n",
            "Epoch 27/50\n",
            "230/230 [==============================] - 1s 2ms/step - loss: 0.1644 - accuracy: 0.9408 - val_loss: 0.1917 - val_accuracy: 0.9403\n",
            "Epoch 28/50\n",
            "230/230 [==============================] - 1s 3ms/step - loss: 0.1630 - accuracy: 0.9383 - val_loss: 0.1924 - val_accuracy: 0.9392\n",
            "Epoch 29/50\n",
            "230/230 [==============================] - 1s 2ms/step - loss: 0.1618 - accuracy: 0.9418 - val_loss: 0.1914 - val_accuracy: 0.9381\n",
            "Epoch 30/50\n",
            "230/230 [==============================] - 1s 2ms/step - loss: 0.1612 - accuracy: 0.9429 - val_loss: 0.1931 - val_accuracy: 0.9359\n",
            "Epoch 31/50\n",
            "230/230 [==============================] - 1s 3ms/step - loss: 0.1602 - accuracy: 0.9410 - val_loss: 0.1920 - val_accuracy: 0.9403\n",
            "Epoch 32/50\n",
            "230/230 [==============================] - 1s 2ms/step - loss: 0.1582 - accuracy: 0.9421 - val_loss: 0.1925 - val_accuracy: 0.9392\n",
            "Epoch 33/50\n",
            "230/230 [==============================] - 1s 3ms/step - loss: 0.1578 - accuracy: 0.9416 - val_loss: 0.1922 - val_accuracy: 0.9392\n",
            "Epoch 34/50\n",
            "230/230 [==============================] - 1s 3ms/step - loss: 0.1567 - accuracy: 0.9438 - val_loss: 0.1921 - val_accuracy: 0.9381\n",
            "Epoch 35/50\n",
            "230/230 [==============================] - 1s 2ms/step - loss: 0.1560 - accuracy: 0.9438 - val_loss: 0.1942 - val_accuracy: 0.9370\n",
            "Epoch 36/50\n",
            "230/230 [==============================] - 1s 2ms/step - loss: 0.1558 - accuracy: 0.9448 - val_loss: 0.1934 - val_accuracy: 0.9403\n",
            "Epoch 37/50\n",
            "230/230 [==============================] - 1s 3ms/step - loss: 0.1554 - accuracy: 0.9457 - val_loss: 0.1936 - val_accuracy: 0.9414\n",
            "Epoch 38/50\n",
            "230/230 [==============================] - 1s 3ms/step - loss: 0.1532 - accuracy: 0.9435 - val_loss: 0.1924 - val_accuracy: 0.9381\n",
            "Epoch 39/50\n",
            "230/230 [==============================] - 1s 2ms/step - loss: 0.1521 - accuracy: 0.9443 - val_loss: 0.1935 - val_accuracy: 0.9359\n",
            "Epoch 40/50\n",
            "230/230 [==============================] - 1s 3ms/step - loss: 0.1525 - accuracy: 0.9451 - val_loss: 0.1918 - val_accuracy: 0.9403\n",
            "Epoch 41/50\n",
            "230/230 [==============================] - 1s 2ms/step - loss: 0.1510 - accuracy: 0.9467 - val_loss: 0.1925 - val_accuracy: 0.9381\n",
            "Epoch 42/50\n",
            "230/230 [==============================] - 1s 3ms/step - loss: 0.1501 - accuracy: 0.9457 - val_loss: 0.1955 - val_accuracy: 0.9316\n",
            "Epoch 43/50\n",
            "230/230 [==============================] - 1s 2ms/step - loss: 0.1479 - accuracy: 0.9446 - val_loss: 0.1928 - val_accuracy: 0.9403\n",
            "Epoch 44/50\n",
            "230/230 [==============================] - 1s 3ms/step - loss: 0.1480 - accuracy: 0.9446 - val_loss: 0.1910 - val_accuracy: 0.9403\n",
            "Epoch 45/50\n",
            "230/230 [==============================] - 1s 3ms/step - loss: 0.1473 - accuracy: 0.9465 - val_loss: 0.1921 - val_accuracy: 0.9392\n",
            "Epoch 46/50\n",
            "230/230 [==============================] - 1s 2ms/step - loss: 0.1470 - accuracy: 0.9465 - val_loss: 0.1925 - val_accuracy: 0.9370\n",
            "Epoch 47/50\n",
            "230/230 [==============================] - 1s 2ms/step - loss: 0.1467 - accuracy: 0.9446 - val_loss: 0.1906 - val_accuracy: 0.9392\n",
            "Epoch 48/50\n",
            "230/230 [==============================] - 1s 2ms/step - loss: 0.1449 - accuracy: 0.9481 - val_loss: 0.1923 - val_accuracy: 0.9370\n",
            "Epoch 49/50\n",
            "230/230 [==============================] - 1s 3ms/step - loss: 0.1446 - accuracy: 0.9473 - val_loss: 0.1915 - val_accuracy: 0.9359\n",
            "Epoch 50/50\n",
            "230/230 [==============================] - 1s 2ms/step - loss: 0.1433 - accuracy: 0.9478 - val_loss: 0.1914 - val_accuracy: 0.9370\n"
          ]
        },
        {
          "output_type": "display_data",
          "data": {
            "text/plain": [
              "<Figure size 432x288 with 1 Axes>"
            ],
            "image/png": "[encoded data removed]"
          },
          "metadata": {
            "needs_background": "light"
          }
        },
        {
          "output_type": "display_data",
          "data": {
            "text/plain": [
              "<Figure size 432x288 with 1 Axes>"
            ],
            "image/png": "[encoded data removed]"
          },
          "metadata": {
            "needs_background": "light"
          }
        }
      ],
      "source": [
        "model = Sequential()\n",
        "model.add(Dense(8,activation='relu', input_shape=(X.shape[1],)))\n",
        "model.add(Dense(4,activation='relu'))\n",
        "model.add(Dense(1, activation='sigmoid'))\n",
        "model.compile(optimizer=Adam(learning_rate=0.001), loss='binary_crossentropy', metrics=['accuracy'])\n",
        "model.summary()\n",
        "utils.plot_model(model, show_shapes=True)\n",
        "\n",
        "history = model.fit(X_train, y_train, epochs=50, batch_size=16, validation_data=(X_test, y_test))\n",
        "plt.plot(history.history['loss'])\n",
        "plt.plot(history.history['val_loss'])\n",
        "plt.title('model loss')\n",
        "plt.ylabel('loss')\n",
        "plt.xlabel('epoch')\n",
        "plt.legend(['train', 'test'], loc='upper left')\n",
        "plt.show()\n",
        "\n",
        "plt.plot(history.history['accuracy'])\n",
        "plt.plot(history.history['val_accuracy'])\n",
        "plt.title('model accuracy')\n",
        "plt.ylabel('loss')\n",
        "plt.xlabel('epoch')\n",
        "plt.legend(['train', 'test'], loc='upper left')\n",
        "plt.show()"
      ]
    },
    {
      "cell_type": "markdown",
      "metadata": {
        "pycharm": {
          "name": "#%%\n"
        },
        "id": "crjEDIMTRhzs"
      },
      "source": [
        "### 4.4 increase batch size"
      ]
    },
    {
      "cell_type": "code",
      "execution_count": 23,
      "metadata": {
        "pycharm": {
          "name": "#%%\n"
        },
        "colab": {
          "base_uri": "https://localhost:8080/",
          "height": 1000
        },
        "id": "-d9SG7AxRhzs",
        "outputId": "513e72a1-3bd4-41f7-d91b-3bb872f93216"
      },
      "outputs": [
        {
          "output_type": "stream",
          "name": "stdout",
          "text": [
            "Model: \"sequential_8\"\n",
            "_________________________________________________________________\n",
            " Layer (type)                Output Shape              Param #   \n",
            "=================================================================\n",
            " dense_24 (Dense)            (None, 8)                 464       \n",
            "                                                                 \n",
            " dense_25 (Dense)            (None, 4)                 36        \n",
            "                                                                 \n",
            " dense_26 (Dense)            (None, 1)                 5         \n",
            "                                                                 \n",
            "=================================================================\n",
            "Total params: 505\n",
            "Trainable params: 505\n",
            "Non-trainable params: 0\n",
            "_________________________________________________________________\n",
            "Epoch 1/100\n",
            "230/230 [==============================] - 1s 3ms/step - loss: 0.6516 - accuracy: 0.7063 - val_loss: 0.5730 - val_accuracy: 0.8035\n",
            "Epoch 2/100\n",
            "230/230 [==============================] - 1s 2ms/step - loss: 0.4589 - accuracy: 0.8511 - val_loss: 0.3613 - val_accuracy: 0.8860\n",
            "Epoch 3/100\n",
            "230/230 [==============================] - 1s 2ms/step - loss: 0.3246 - accuracy: 0.8872 - val_loss: 0.2921 - val_accuracy: 0.9153\n",
            "Epoch 4/100\n",
            "230/230 [==============================] - 1s 3ms/step - loss: 0.2811 - accuracy: 0.9019 - val_loss: 0.2656 - val_accuracy: 0.9207\n",
            "Epoch 5/100\n",
            "230/230 [==============================] - 1s 2ms/step - loss: 0.2598 - accuracy: 0.9095 - val_loss: 0.2505 - val_accuracy: 0.9251\n",
            "Epoch 6/100\n",
            "230/230 [==============================] - 1s 2ms/step - loss: 0.2453 - accuracy: 0.9130 - val_loss: 0.2398 - val_accuracy: 0.9251\n",
            "Epoch 7/100\n",
            "230/230 [==============================] - 1s 2ms/step - loss: 0.2344 - accuracy: 0.9141 - val_loss: 0.2279 - val_accuracy: 0.9305\n",
            "Epoch 8/100\n",
            "230/230 [==============================] - 1s 2ms/step - loss: 0.2238 - accuracy: 0.9190 - val_loss: 0.2197 - val_accuracy: 0.9305\n",
            "Epoch 9/100\n",
            "230/230 [==============================] - 1s 2ms/step - loss: 0.2164 - accuracy: 0.9207 - val_loss: 0.2145 - val_accuracy: 0.9338\n",
            "Epoch 10/100\n",
            "230/230 [==============================] - 1s 3ms/step - loss: 0.2109 - accuracy: 0.9245 - val_loss: 0.2107 - val_accuracy: 0.9349\n",
            "Epoch 11/100\n",
            "230/230 [==============================] - 1s 3ms/step - loss: 0.2056 - accuracy: 0.9266 - val_loss: 0.2078 - val_accuracy: 0.9359\n",
            "Epoch 12/100\n",
            "230/230 [==============================] - 1s 3ms/step - loss: 0.2018 - accuracy: 0.9274 - val_loss: 0.2061 - val_accuracy: 0.9316\n",
            "Epoch 13/100\n",
            "230/230 [==============================] - 1s 2ms/step - loss: 0.1974 - accuracy: 0.9293 - val_loss: 0.2040 - val_accuracy: 0.9338\n",
            "Epoch 14/100\n",
            "230/230 [==============================] - 1s 2ms/step - loss: 0.1940 - accuracy: 0.9302 - val_loss: 0.2027 - val_accuracy: 0.9349\n",
            "Epoch 15/100\n",
            "230/230 [==============================] - 1s 3ms/step - loss: 0.1912 - accuracy: 0.9307 - val_loss: 0.2009 - val_accuracy: 0.9338\n",
            "Epoch 16/100\n",
            "230/230 [==============================] - 1s 2ms/step - loss: 0.1888 - accuracy: 0.9321 - val_loss: 0.1998 - val_accuracy: 0.9338\n",
            "Epoch 17/100\n",
            "230/230 [==============================] - 1s 3ms/step - loss: 0.1854 - accuracy: 0.9351 - val_loss: 0.1981 - val_accuracy: 0.9349\n",
            "Epoch 18/100\n",
            "230/230 [==============================] - 1s 2ms/step - loss: 0.1832 - accuracy: 0.9359 - val_loss: 0.1967 - val_accuracy: 0.9349\n",
            "Epoch 19/100\n",
            "230/230 [==============================] - 0s 2ms/step - loss: 0.1808 - accuracy: 0.9361 - val_loss: 0.1952 - val_accuracy: 0.9349\n",
            "Epoch 20/100\n",
            "230/230 [==============================] - 1s 3ms/step - loss: 0.1783 - accuracy: 0.9367 - val_loss: 0.1950 - val_accuracy: 0.9338\n",
            "Epoch 21/100\n",
            "230/230 [==============================] - 1s 3ms/step - loss: 0.1766 - accuracy: 0.9370 - val_loss: 0.1942 - val_accuracy: 0.9349\n",
            "Epoch 22/100\n",
            "230/230 [==============================] - 1s 2ms/step - loss: 0.1749 - accuracy: 0.9397 - val_loss: 0.1945 - val_accuracy: 0.9359\n",
            "Epoch 23/100\n",
            "230/230 [==============================] - 1s 3ms/step - loss: 0.1731 - accuracy: 0.9416 - val_loss: 0.1929 - val_accuracy: 0.9381\n",
            "Epoch 24/100\n",
            "230/230 [==============================] - 1s 3ms/step - loss: 0.1714 - accuracy: 0.9405 - val_loss: 0.1915 - val_accuracy: 0.9370\n",
            "Epoch 25/100\n",
            "230/230 [==============================] - 1s 2ms/step - loss: 0.1698 - accuracy: 0.9399 - val_loss: 0.1958 - val_accuracy: 0.9327\n",
            "Epoch 26/100\n",
            "230/230 [==============================] - 1s 2ms/step - loss: 0.1688 - accuracy: 0.9410 - val_loss: 0.1909 - val_accuracy: 0.9359\n",
            "Epoch 27/100\n",
            "230/230 [==============================] - 1s 2ms/step - loss: 0.1674 - accuracy: 0.9416 - val_loss: 0.1904 - val_accuracy: 0.9359\n",
            "Epoch 28/100\n",
            "230/230 [==============================] - 1s 2ms/step - loss: 0.1664 - accuracy: 0.9418 - val_loss: 0.1922 - val_accuracy: 0.9370\n",
            "Epoch 29/100\n",
            "230/230 [==============================] - 1s 3ms/step - loss: 0.1648 - accuracy: 0.9446 - val_loss: 0.1905 - val_accuracy: 0.9392\n",
            "Epoch 30/100\n",
            "230/230 [==============================] - 1s 2ms/step - loss: 0.1644 - accuracy: 0.9443 - val_loss: 0.1892 - val_accuracy: 0.9370\n",
            "Epoch 31/100\n",
            "230/230 [==============================] - 1s 2ms/step - loss: 0.1630 - accuracy: 0.9440 - val_loss: 0.1902 - val_accuracy: 0.9349\n",
            "Epoch 32/100\n",
            "230/230 [==============================] - 1s 2ms/step - loss: 0.1621 - accuracy: 0.9424 - val_loss: 0.1902 - val_accuracy: 0.9359\n",
            "Epoch 33/100\n",
            "230/230 [==============================] - 1s 2ms/step - loss: 0.1613 - accuracy: 0.9432 - val_loss: 0.1929 - val_accuracy: 0.9370\n",
            "Epoch 34/100\n",
            "230/230 [==============================] - 1s 2ms/step - loss: 0.1607 - accuracy: 0.9438 - val_loss: 0.1897 - val_accuracy: 0.9370\n",
            "Epoch 35/100\n",
            "230/230 [==============================] - 1s 3ms/step - loss: 0.1598 - accuracy: 0.9438 - val_loss: 0.1893 - val_accuracy: 0.9392\n",
            "Epoch 36/100\n",
            "230/230 [==============================] - 1s 2ms/step - loss: 0.1583 - accuracy: 0.9438 - val_loss: 0.1912 - val_accuracy: 0.9381\n",
            "Epoch 37/100\n",
            "230/230 [==============================] - 1s 2ms/step - loss: 0.1571 - accuracy: 0.9438 - val_loss: 0.1901 - val_accuracy: 0.9392\n",
            "Epoch 38/100\n",
            "230/230 [==============================] - 1s 2ms/step - loss: 0.1562 - accuracy: 0.9465 - val_loss: 0.1904 - val_accuracy: 0.9425\n",
            "Epoch 39/100\n",
            "230/230 [==============================] - 1s 3ms/step - loss: 0.1560 - accuracy: 0.9448 - val_loss: 0.1909 - val_accuracy: 0.9392\n",
            "Epoch 40/100\n",
            "230/230 [==============================] - 1s 2ms/step - loss: 0.1551 - accuracy: 0.9440 - val_loss: 0.1909 - val_accuracy: 0.9414\n",
            "Epoch 41/100\n",
            "230/230 [==============================] - 1s 3ms/step - loss: 0.1544 - accuracy: 0.9451 - val_loss: 0.1921 - val_accuracy: 0.9392\n",
            "Epoch 42/100\n",
            "230/230 [==============================] - 1s 3ms/step - loss: 0.1538 - accuracy: 0.9454 - val_loss: 0.1916 - val_accuracy: 0.9414\n",
            "Epoch 43/100\n",
            "230/230 [==============================] - 1s 2ms/step - loss: 0.1525 - accuracy: 0.9457 - val_loss: 0.1938 - val_accuracy: 0.9381\n",
            "Epoch 44/100\n",
            "230/230 [==============================] - 1s 3ms/step - loss: 0.1523 - accuracy: 0.9462 - val_loss: 0.1924 - val_accuracy: 0.9403\n",
            "Epoch 45/100\n",
            "230/230 [==============================] - 1s 3ms/step - loss: 0.1515 - accuracy: 0.9454 - val_loss: 0.1934 - val_accuracy: 0.9403\n",
            "Epoch 46/100\n",
            "230/230 [==============================] - 1s 3ms/step - loss: 0.1507 - accuracy: 0.9462 - val_loss: 0.1935 - val_accuracy: 0.9414\n",
            "Epoch 47/100\n",
            "230/230 [==============================] - 1s 2ms/step - loss: 0.1500 - accuracy: 0.9459 - val_loss: 0.1948 - val_accuracy: 0.9381\n",
            "Epoch 48/100\n",
            "230/230 [==============================] - 1s 3ms/step - loss: 0.1495 - accuracy: 0.9454 - val_loss: 0.1932 - val_accuracy: 0.9403\n",
            "Epoch 49/100\n",
            "230/230 [==============================] - 1s 3ms/step - loss: 0.1485 - accuracy: 0.9465 - val_loss: 0.1941 - val_accuracy: 0.9403\n",
            "Epoch 50/100\n",
            "230/230 [==============================] - 1s 3ms/step - loss: 0.1484 - accuracy: 0.9462 - val_loss: 0.1936 - val_accuracy: 0.9403\n",
            "Epoch 51/100\n",
            "230/230 [==============================] - 1s 3ms/step - loss: 0.1471 - accuracy: 0.9476 - val_loss: 0.1933 - val_accuracy: 0.9403\n",
            "Epoch 52/100\n",
            "230/230 [==============================] - 1s 2ms/step - loss: 0.1468 - accuracy: 0.9467 - val_loss: 0.1933 - val_accuracy: 0.9403\n",
            "Epoch 53/100\n",
            "230/230 [==============================] - 1s 3ms/step - loss: 0.1460 - accuracy: 0.9486 - val_loss: 0.1937 - val_accuracy: 0.9392\n",
            "Epoch 54/100\n",
            "230/230 [==============================] - 1s 2ms/step - loss: 0.1452 - accuracy: 0.9484 - val_loss: 0.1930 - val_accuracy: 0.9425\n",
            "Epoch 55/100\n",
            "230/230 [==============================] - 1s 2ms/step - loss: 0.1443 - accuracy: 0.9478 - val_loss: 0.1945 - val_accuracy: 0.9403\n",
            "Epoch 56/100\n",
            "230/230 [==============================] - 1s 2ms/step - loss: 0.1434 - accuracy: 0.9495 - val_loss: 0.1939 - val_accuracy: 0.9403\n",
            "Epoch 57/100\n",
            "230/230 [==============================] - 1s 2ms/step - loss: 0.1427 - accuracy: 0.9497 - val_loss: 0.1925 - val_accuracy: 0.9403\n",
            "Epoch 58/100\n",
            "230/230 [==============================] - 1s 3ms/step - loss: 0.1426 - accuracy: 0.9500 - val_loss: 0.1924 - val_accuracy: 0.9392\n",
            "Epoch 59/100\n",
            "230/230 [==============================] - 1s 2ms/step - loss: 0.1419 - accuracy: 0.9492 - val_loss: 0.1930 - val_accuracy: 0.9403\n",
            "Epoch 60/100\n",
            "230/230 [==============================] - 1s 2ms/step - loss: 0.1408 - accuracy: 0.9478 - val_loss: 0.1928 - val_accuracy: 0.9403\n",
            "Epoch 61/100\n",
            "230/230 [==============================] - 1s 2ms/step - loss: 0.1403 - accuracy: 0.9495 - val_loss: 0.1925 - val_accuracy: 0.9392\n",
            "Epoch 62/100\n",
            "230/230 [==============================] - 0s 2ms/step - loss: 0.1392 - accuracy: 0.9489 - val_loss: 0.1942 - val_accuracy: 0.9414\n",
            "Epoch 63/100\n",
            "230/230 [==============================] - 1s 2ms/step - loss: 0.1393 - accuracy: 0.9481 - val_loss: 0.1948 - val_accuracy: 0.9403\n",
            "Epoch 64/100\n",
            "230/230 [==============================] - 0s 2ms/step - loss: 0.1383 - accuracy: 0.9486 - val_loss: 0.1938 - val_accuracy: 0.9381\n",
            "Epoch 65/100\n",
            "230/230 [==============================] - 1s 3ms/step - loss: 0.1376 - accuracy: 0.9492 - val_loss: 0.1955 - val_accuracy: 0.9403\n",
            "Epoch 66/100\n",
            "230/230 [==============================] - 1s 3ms/step - loss: 0.1369 - accuracy: 0.9503 - val_loss: 0.1928 - val_accuracy: 0.9403\n",
            "Epoch 67/100\n",
            "230/230 [==============================] - 1s 3ms/step - loss: 0.1363 - accuracy: 0.9503 - val_loss: 0.1940 - val_accuracy: 0.9349\n",
            "Epoch 68/100\n",
            "230/230 [==============================] - 1s 3ms/step - loss: 0.1360 - accuracy: 0.9503 - val_loss: 0.1940 - val_accuracy: 0.9392\n",
            "Epoch 69/100\n",
            "230/230 [==============================] - 1s 2ms/step - loss: 0.1352 - accuracy: 0.9497 - val_loss: 0.1951 - val_accuracy: 0.9403\n",
            "Epoch 70/100\n",
            "230/230 [==============================] - 1s 3ms/step - loss: 0.1346 - accuracy: 0.9511 - val_loss: 0.1946 - val_accuracy: 0.9392\n",
            "Epoch 71/100\n",
            "230/230 [==============================] - 1s 2ms/step - loss: 0.1334 - accuracy: 0.9505 - val_loss: 0.1953 - val_accuracy: 0.9403\n",
            "Epoch 72/100\n",
            "230/230 [==============================] - 1s 2ms/step - loss: 0.1332 - accuracy: 0.9514 - val_loss: 0.1956 - val_accuracy: 0.9370\n",
            "Epoch 73/100\n",
            "230/230 [==============================] - 1s 3ms/step - loss: 0.1327 - accuracy: 0.9511 - val_loss: 0.1969 - val_accuracy: 0.9392\n",
            "Epoch 74/100\n",
            "230/230 [==============================] - 1s 3ms/step - loss: 0.1320 - accuracy: 0.9514 - val_loss: 0.1963 - val_accuracy: 0.9370\n",
            "Epoch 75/100\n",
            "230/230 [==============================] - 1s 3ms/step - loss: 0.1326 - accuracy: 0.9514 - val_loss: 0.1967 - val_accuracy: 0.9392\n",
            "Epoch 76/100\n",
            "230/230 [==============================] - 1s 2ms/step - loss: 0.1310 - accuracy: 0.9524 - val_loss: 0.1972 - val_accuracy: 0.9392\n",
            "Epoch 77/100\n",
            "230/230 [==============================] - 1s 3ms/step - loss: 0.1303 - accuracy: 0.9530 - val_loss: 0.1972 - val_accuracy: 0.9370\n",
            "Epoch 78/100\n",
            "230/230 [==============================] - 1s 2ms/step - loss: 0.1297 - accuracy: 0.9524 - val_loss: 0.1982 - val_accuracy: 0.9359\n",
            "Epoch 79/100\n",
            "230/230 [==============================] - 1s 2ms/step - loss: 0.1294 - accuracy: 0.9527 - val_loss: 0.2010 - val_accuracy: 0.9338\n",
            "Epoch 80/100\n",
            "230/230 [==============================] - 1s 3ms/step - loss: 0.1288 - accuracy: 0.9524 - val_loss: 0.1975 - val_accuracy: 0.9403\n",
            "Epoch 81/100\n",
            "230/230 [==============================] - 1s 2ms/step - loss: 0.1283 - accuracy: 0.9538 - val_loss: 0.1980 - val_accuracy: 0.9392\n",
            "Epoch 82/100\n",
            "230/230 [==============================] - 1s 3ms/step - loss: 0.1279 - accuracy: 0.9514 - val_loss: 0.1998 - val_accuracy: 0.9359\n",
            "Epoch 83/100\n",
            "230/230 [==============================] - 1s 2ms/step - loss: 0.1276 - accuracy: 0.9541 - val_loss: 0.1985 - val_accuracy: 0.9403\n",
            "Epoch 84/100\n",
            "230/230 [==============================] - 1s 2ms/step - loss: 0.1265 - accuracy: 0.9535 - val_loss: 0.1990 - val_accuracy: 0.9392\n",
            "Epoch 85/100\n",
            "230/230 [==============================] - 1s 3ms/step - loss: 0.1257 - accuracy: 0.9538 - val_loss: 0.2000 - val_accuracy: 0.9381\n",
            "Epoch 86/100\n",
            "230/230 [==============================] - 1s 3ms/step - loss: 0.1254 - accuracy: 0.9541 - val_loss: 0.1985 - val_accuracy: 0.9392\n",
            "Epoch 87/100\n",
            "230/230 [==============================] - 1s 3ms/step - loss: 0.1247 - accuracy: 0.9549 - val_loss: 0.1983 - val_accuracy: 0.9381\n",
            "Epoch 88/100\n",
            "230/230 [==============================] - 1s 3ms/step - loss: 0.1237 - accuracy: 0.9557 - val_loss: 0.2035 - val_accuracy: 0.9359\n",
            "Epoch 89/100\n",
            "230/230 [==============================] - 1s 2ms/step - loss: 0.1238 - accuracy: 0.9560 - val_loss: 0.2026 - val_accuracy: 0.9359\n",
            "Epoch 90/100\n",
            "230/230 [==============================] - 1s 3ms/step - loss: 0.1230 - accuracy: 0.9546 - val_loss: 0.1985 - val_accuracy: 0.9381\n",
            "Epoch 91/100\n",
            "230/230 [==============================] - 1s 3ms/step - loss: 0.1219 - accuracy: 0.9568 - val_loss: 0.2018 - val_accuracy: 0.9370\n",
            "Epoch 92/100\n",
            "230/230 [==============================] - 1s 2ms/step - loss: 0.1218 - accuracy: 0.9563 - val_loss: 0.2000 - val_accuracy: 0.9381\n",
            "Epoch 93/100\n",
            "230/230 [==============================] - 1s 2ms/step - loss: 0.1208 - accuracy: 0.9573 - val_loss: 0.2014 - val_accuracy: 0.9381\n",
            "Epoch 94/100\n",
            "230/230 [==============================] - 1s 2ms/step - loss: 0.1216 - accuracy: 0.9573 - val_loss: 0.2009 - val_accuracy: 0.9392\n",
            "Epoch 95/100\n",
            "230/230 [==============================] - 1s 3ms/step - loss: 0.1200 - accuracy: 0.9565 - val_loss: 0.2025 - val_accuracy: 0.9381\n",
            "Epoch 96/100\n",
            "230/230 [==============================] - 1s 3ms/step - loss: 0.1191 - accuracy: 0.9571 - val_loss: 0.2021 - val_accuracy: 0.9381\n",
            "Epoch 97/100\n",
            "230/230 [==============================] - 1s 2ms/step - loss: 0.1187 - accuracy: 0.9576 - val_loss: 0.2017 - val_accuracy: 0.9370\n",
            "Epoch 98/100\n",
            "230/230 [==============================] - 1s 2ms/step - loss: 0.1182 - accuracy: 0.9573 - val_loss: 0.2055 - val_accuracy: 0.9370\n",
            "Epoch 99/100\n",
            "230/230 [==============================] - 1s 2ms/step - loss: 0.1176 - accuracy: 0.9573 - val_loss: 0.2034 - val_accuracy: 0.9359\n",
            "Epoch 100/100\n",
            "230/230 [==============================] - 1s 3ms/step - loss: 0.1171 - accuracy: 0.9582 - val_loss: 0.2027 - val_accuracy: 0.9370\n"
          ]
        },
        {
          "output_type": "display_data",
          "data": {
            "text/plain": [
              "<Figure size 432x288 with 1 Axes>"
            ],
            "image/png": "[encoded data removed]"
          },
          "metadata": {
            "needs_background": "light"
          }
        },
        {
          "output_type": "display_data",
          "data": {
            "text/plain": [
              "<Figure size 432x288 with 1 Axes>"
            ],
            "image/png": "[encoded data removed]"
          },
          "metadata": {
            "needs_background": "light"
          }
        }
      ],
      "source": [
        "model = Sequential()\n",
        "model.add(Dense(8,activation='relu', input_shape=(X.shape[1],)))\n",
        "model.add(Dense(4,activation='relu'))\n",
        "model.add(Dense(1, activation='sigmoid'))\n",
        "model.compile(optimizer=Adam(learning_rate=0.001), loss='binary_crossentropy', metrics=['accuracy'])\n",
        "model.summary()\n",
        "utils.plot_model(model, show_shapes=True)\n",
        "\n",
        "history = model.fit(X_train, y_train, epochs=100, batch_size=16, validation_data=(X_test, y_test))\n",
        "plt.plot(history.history['loss'])\n",
        "plt.plot(history.history['val_loss'])\n",
        "plt.title('model loss')\n",
        "plt.ylabel('loss')\n",
        "plt.xlabel('epoch')\n",
        "plt.legend(['train', 'test'], loc='upper left')\n",
        "plt.show()\n",
        "\n",
        "plt.plot(history.history['accuracy'])\n",
        "plt.plot(history.history['val_accuracy'])\n",
        "plt.title('model accuracy')\n",
        "plt.ylabel('loss')\n",
        "plt.xlabel('epoch')\n",
        "plt.legend(['train', 'test'], loc='upper left')\n",
        "plt.show()"
      ]
    }
  ],
  "metadata": {
    "kernelspec": {
      "display_name": "Python 3 (ipykernel)",
      "language": "python",
      "name": "python3"
    },
    "language_info": {
      "codemirror_mode": {
        "name": "ipython",
        "version": 3
      },
      "file_extension": ".py",
      "mimetype": "text/x-python",
      "name": "python",
      "nbconvert_exporter": "python",
      "pygments_lexer": "ipython3",
      "version": "3.9.10"
    },
    "colab": {
      "name": "project-final.ipynb",
      "provenance": [],
      "include_colab_link": true
    }
  },
  "nbformat": 4,
  "nbformat_minor": 0
}
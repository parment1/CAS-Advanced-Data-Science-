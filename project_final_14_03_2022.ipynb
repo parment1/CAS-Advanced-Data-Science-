{
  "cells": [
    {
      "cell_type": "markdown",
      "metadata": {
        "id": "view-in-github",
        "colab_type": "text"
      },
      "source": [
        "<a href=\"https://colab.research.google.com/github/parment1/CAS-Advanced-Data-Science-/blob/main/project_final_14_03_2022.ipynb\" target=\"_parent\"><img src=\"https://colab.research.google.com/assets/colab-badge.svg\" alt=\"Open In Colab\"/></a>"
      ]
    },
    {
      "cell_type": "markdown",
      "metadata": {
        "pycharm": {
          "name": "#%% md\n"
        },
        "id": "SkYri08JVzHr"
      },
      "source": [
        "## CAS ADS M6\n",
        "2022-03-14\n",
        "Stefan Reinhard\n",
        "Thomas Parmentier"
      ]
    },
    {
      "cell_type": "code",
      "execution_count": 56,
      "metadata": {
        "pycharm": {
          "name": "#%%\n"
        },
        "colab": {
          "base_uri": "https://localhost:8080/"
        },
        "id": "Qaj3c50QVzHu",
        "outputId": "1f71b03f-1175-4080-ef2e-1757ed66df10"
      },
      "outputs": [
        {
          "output_type": "stream",
          "name": "stdout",
          "text": [
            "x86_64\n",
            "TensorFlow has access to the following devices:\n",
            "[PhysicalDevice(name='/physical_device:CPU:0', device_type='CPU')]\n",
            "TensorFlow version: 2.8.0\n"
          ]
        }
      ],
      "source": [
        "import numpy as np\n",
        "import csv\n",
        "import pandas as pd\n",
        "import tensorflow as tf\n",
        "from sklearn.model_selection import GridSearchCV\n",
        "from keras.models import load_model\n",
        "from keras.models import Sequential\n",
        "from keras.layers import Dense\n",
        "from keras.wrappers.scikit_learn import KerasClassifier\n",
        "from sklearn.model_selection import train_test_split\n",
        "import matplotlib.pyplot as plt\n",
        "from tensorflow.keras.optimizers import Adam\n",
        "from tensorflow.keras import utils\n",
        "from tensorflow.keras import Model\n",
        "from tensorflow.keras.layers import Input\n",
        "from keras.layers import Dropout\n",
        "from keras.initializers import he_normal, normal\n",
        "from keras.callbacks import EarlyStopping\n",
        "from keras.callbacks import ModelCheckpoint\n",
        "import seaborn as sns\n",
        "import time\n",
        "import platform\n",
        "print (platform.machine())\n",
        "print(f\"TensorFlow has access to the following devices:\\n{tf.config.list_physical_devices()}\")\n",
        "print(f\"TensorFlow version: {tf.__version__}\")"
      ]
    },
    {
      "cell_type": "code",
      "execution_count": 57,
      "metadata": {
        "colab": {
          "base_uri": "https://localhost:8080/"
        },
        "id": "ga0D9aq3VzHx",
        "outputId": "94fc225f-91b3-426a-8087-39953f76d794"
      },
      "outputs": [
        {
          "output_type": "stream",
          "name": "stdout",
          "text": [
            "['word_freq_make', 'word_freq_address', 'word_freq_all', 'word_freq_3d', 'word_freq_our', 'word_freq_over', 'word_freq_remove', 'word_freq_internet', 'word_freq_order', 'word_freq_mail', 'word_freq_receive', 'word_freq_will', 'word_freq_people', 'word_freq_report', 'word_freq_addresses', 'word_freq_free', 'word_freq_business', 'word_freq_email', 'word_freq_you', 'word_freq_credit', 'word_freq_your', 'word_freq_font', 'word_freq_000', 'word_freq_money', 'word_freq_hp', 'word_freq_hpl', 'word_freq_george', 'word_freq_650', 'word_freq_lab', 'word_freq_labs', 'word_freq_telnet', 'word_freq_857', 'word_freq_data', 'word_freq_415', 'word_freq_85', 'word_freq_technology', 'word_freq_1999', 'word_freq_parts', 'word_freq_pm', 'word_freq_direct', 'word_freq_cs', 'word_freq_meeting', 'word_freq_original', 'word_freq_project', 'word_freq_re', 'word_freq_edu', 'word_freq_table', 'word_freq_conference', 'char_freq_;', 'char_freq_(', 'char_freq_[', 'char_freq_!', 'char_freq_$', 'char_freq_#', 'capital_run_length_average', 'capital_run_length_longest', 'capital_run_length_total', 'class']\n",
            "(4601, 57) (4601,)\n",
            "[[0.         0.04481793 0.12549019 ... 0.0034068  0.00610672 0.0175494 ]\n",
            " [0.04625551 0.01960784 0.09803922 ... 0.00463855 0.01011112 0.06489489]\n",
            " [0.01321586 0.         0.13921568 ... 0.00890794 0.04855341 0.14260463]\n",
            " ...\n",
            " [0.0660793  0.         0.05882353 ... 0.00127347 0.00060066 0.00744902]\n",
            " [0.21145374 0.         0.         ... 0.00104036 0.00050055 0.00492393]\n",
            " [0.         0.         0.12745097 ... 0.00113379 0.00050055 0.00252509]]\n"
          ]
        }
      ],
      "source": [
        "#setup data\n",
        "x = []\n",
        "y = []\n",
        "with open('spambase.data', 'rt') as csvfile:\n",
        "    data = csv.reader(csvfile, delimiter=',')\n",
        "    for raw in data:\n",
        "        x.append(np.array(raw[:-1], dtype=np.float32))\n",
        "        y.append(int(raw[-1]))\n",
        "\n",
        "X = np.array(x)\n",
        "y = np.array(y)\n",
        "\n",
        "#Importing columns names\n",
        "colums=[]\n",
        "\n",
        "with open('spambase.names',\"r\") as doc:\n",
        "    lines=doc.readlines()\n",
        "    for line in lines :\n",
        "        colums.append(line.split(\":\")[0])\n",
        "print(colums)\n",
        "\n",
        "n_ch = X.shape[-1]\n",
        "#normalize inputs\n",
        "for ch in range(n_ch):\n",
        "    ch_v = X[:, ch]\n",
        "    norm = ch_v.max()\n",
        "    X[:, ch] /= norm\n",
        "\n",
        "print(X.shape, y.shape)\n",
        "print(X)\n",
        "X_train, X_test, y_train, y_test = train_test_split(X, y, train_size=0.8, random_state=1, stratify=y, shuffle=True)"
      ]
    },
    {
      "cell_type": "code",
      "source": [
        "#Combined the data with labels, and check if there is any na / null\n",
        "\n",
        "df_combined=pd.read_csv('spambase.data',names=colums)\n",
        "df_describe = df_combined.describe().round(3)\n",
        "print(df_combined.isna().any().any())\n",
        "print(df_combined.isnull().any().any())\n",
        "for col in df_combined.columns:\n",
        "    print(col)"
      ],
      "metadata": {
        "colab": {
          "base_uri": "https://localhost:8080/"
        },
        "id": "zrJz9U9YZRhQ",
        "outputId": "3e25412a-449a-497e-b391-fac0cf3634a4"
      },
      "execution_count": 58,
      "outputs": [
        {
          "output_type": "stream",
          "name": "stdout",
          "text": [
            "False\n",
            "False\n",
            "word_freq_make\n",
            "word_freq_address\n",
            "word_freq_all\n",
            "word_freq_3d\n",
            "word_freq_our\n",
            "word_freq_over\n",
            "word_freq_remove\n",
            "word_freq_internet\n",
            "word_freq_order\n",
            "word_freq_mail\n",
            "word_freq_receive\n",
            "word_freq_will\n",
            "word_freq_people\n",
            "word_freq_report\n",
            "word_freq_addresses\n",
            "word_freq_free\n",
            "word_freq_business\n",
            "word_freq_email\n",
            "word_freq_you\n",
            "word_freq_credit\n",
            "word_freq_your\n",
            "word_freq_font\n",
            "word_freq_000\n",
            "word_freq_money\n",
            "word_freq_hp\n",
            "word_freq_hpl\n",
            "word_freq_george\n",
            "word_freq_650\n",
            "word_freq_lab\n",
            "word_freq_labs\n",
            "word_freq_telnet\n",
            "word_freq_857\n",
            "word_freq_data\n",
            "word_freq_415\n",
            "word_freq_85\n",
            "word_freq_technology\n",
            "word_freq_1999\n",
            "word_freq_parts\n",
            "word_freq_pm\n",
            "word_freq_direct\n",
            "word_freq_cs\n",
            "word_freq_meeting\n",
            "word_freq_original\n",
            "word_freq_project\n",
            "word_freq_re\n",
            "word_freq_edu\n",
            "word_freq_table\n",
            "word_freq_conference\n",
            "char_freq_;\n",
            "char_freq_(\n",
            "char_freq_[\n",
            "char_freq_!\n",
            "char_freq_$\n",
            "char_freq_#\n",
            "capital_run_length_average\n",
            "capital_run_length_longest\n",
            "capital_run_length_total\n",
            "class\n"
          ]
        }
      ]
    },
    {
      "cell_type": "code",
      "source": [
        "#have much higher values (means = 52, 283 etc.) than most other columns which represent fraction of word occurrences (no. of times word appears in email/total no. of words in email)\n",
        "df_combined.describe()"
      ],
      "metadata": {
        "colab": {
          "base_uri": "https://localhost:8080/",
          "height": 393
        },
        "id": "wFEUSv03ZRsY",
        "outputId": "8ae17957-7d39-4a48-ff72-50d159b836fc"
      },
      "execution_count": 59,
      "outputs": [
        {
          "output_type": "execute_result",
          "data": {
            "text/plain": [
              "       word_freq_make  word_freq_address  word_freq_all  word_freq_3d  \\\n",
              "count     4601.000000        4601.000000    4601.000000   4601.000000   \n",
              "mean         0.104553           0.213015       0.280656      0.065425   \n",
              "std          0.305358           1.290575       0.504143      1.395151   \n",
              "min          0.000000           0.000000       0.000000      0.000000   \n",
              "25%          0.000000           0.000000       0.000000      0.000000   \n",
              "50%          0.000000           0.000000       0.000000      0.000000   \n",
              "75%          0.000000           0.000000       0.420000      0.000000   \n",
              "max          4.540000          14.280000       5.100000     42.810000   \n",
              "\n",
              "       word_freq_our  word_freq_over  word_freq_remove  word_freq_internet  \\\n",
              "count    4601.000000     4601.000000       4601.000000         4601.000000   \n",
              "mean        0.312223        0.095901          0.114208            0.105295   \n",
              "std         0.672513        0.273824          0.391441            0.401071   \n",
              "min         0.000000        0.000000          0.000000            0.000000   \n",
              "25%         0.000000        0.000000          0.000000            0.000000   \n",
              "50%         0.000000        0.000000          0.000000            0.000000   \n",
              "75%         0.380000        0.000000          0.000000            0.000000   \n",
              "max        10.000000        5.880000          7.270000           11.110000   \n",
              "\n",
              "       word_freq_order  word_freq_mail  ...  char_freq_;  char_freq_(  \\\n",
              "count      4601.000000     4601.000000  ...  4601.000000  4601.000000   \n",
              "mean          0.090067        0.239413  ...     0.038575     0.139030   \n",
              "std           0.278616        0.644755  ...     0.243471     0.270355   \n",
              "min           0.000000        0.000000  ...     0.000000     0.000000   \n",
              "25%           0.000000        0.000000  ...     0.000000     0.000000   \n",
              "50%           0.000000        0.000000  ...     0.000000     0.065000   \n",
              "75%           0.000000        0.160000  ...     0.000000     0.188000   \n",
              "max           5.260000       18.180000  ...     4.385000     9.752000   \n",
              "\n",
              "       char_freq_[  char_freq_!  char_freq_$  char_freq_#  \\\n",
              "count  4601.000000  4601.000000  4601.000000  4601.000000   \n",
              "mean      0.016976     0.269071     0.075811     0.044238   \n",
              "std       0.109394     0.815672     0.245882     0.429342   \n",
              "min       0.000000     0.000000     0.000000     0.000000   \n",
              "25%       0.000000     0.000000     0.000000     0.000000   \n",
              "50%       0.000000     0.000000     0.000000     0.000000   \n",
              "75%       0.000000     0.315000     0.052000     0.000000   \n",
              "max       4.081000    32.478000     6.003000    19.829000   \n",
              "\n",
              "       capital_run_length_average  capital_run_length_longest  \\\n",
              "count                 4601.000000                 4601.000000   \n",
              "mean                     5.191515                   52.172789   \n",
              "std                     31.729449                  194.891310   \n",
              "min                      1.000000                    1.000000   \n",
              "25%                      1.588000                    6.000000   \n",
              "50%                      2.276000                   15.000000   \n",
              "75%                      3.706000                   43.000000   \n",
              "max                   1102.500000                 9989.000000   \n",
              "\n",
              "       capital_run_length_total        class  \n",
              "count               4601.000000  4601.000000  \n",
              "mean                 283.289285     0.394045  \n",
              "std                  606.347851     0.488698  \n",
              "min                    1.000000     0.000000  \n",
              "25%                   35.000000     0.000000  \n",
              "50%                   95.000000     0.000000  \n",
              "75%                  266.000000     1.000000  \n",
              "max                15841.000000     1.000000  \n",
              "\n",
              "[8 rows x 58 columns]"
            ],
            "text/html": [
              "\n",
              "  <div id=\"df-33e79568-792e-4e8c-8288-939ef7c698e0\">\n",
              "    <div class=\"colab-df-container\">\n",
              "      <div>\n",
              "<style scoped>\n",
              "    .dataframe tbody tr th:only-of-type {\n",
              "        vertical-align: middle;\n",
              "    }\n",
              "\n",
              "    .dataframe tbody tr th {\n",
              "        vertical-align: top;\n",
              "    }\n",
              "\n",
              "    .dataframe thead th {\n",
              "        text-align: right;\n",
              "    }\n",
              "</style>\n",
              "<table border=\"1\" class=\"dataframe\">\n",
              "  <thead>\n",
              "    <tr style=\"text-align: right;\">\n",
              "      <th></th>\n",
              "      <th>word_freq_make</th>\n",
              "      <th>word_freq_address</th>\n",
              "      <th>word_freq_all</th>\n",
              "      <th>word_freq_3d</th>\n",
              "      <th>word_freq_our</th>\n",
              "      <th>word_freq_over</th>\n",
              "      <th>word_freq_remove</th>\n",
              "      <th>word_freq_internet</th>\n",
              "      <th>word_freq_order</th>\n",
              "      <th>word_freq_mail</th>\n",
              "      <th>...</th>\n",
              "      <th>char_freq_;</th>\n",
              "      <th>char_freq_(</th>\n",
              "      <th>char_freq_[</th>\n",
              "      <th>char_freq_!</th>\n",
              "      <th>char_freq_$</th>\n",
              "      <th>char_freq_#</th>\n",
              "      <th>capital_run_length_average</th>\n",
              "      <th>capital_run_length_longest</th>\n",
              "      <th>capital_run_length_total</th>\n",
              "      <th>class</th>\n",
              "    </tr>\n",
              "  </thead>\n",
              "  <tbody>\n",
              "    <tr>\n",
              "      <th>count</th>\n",
              "      <td>4601.000000</td>\n",
              "      <td>4601.000000</td>\n",
              "      <td>4601.000000</td>\n",
              "      <td>4601.000000</td>\n",
              "      <td>4601.000000</td>\n",
              "      <td>4601.000000</td>\n",
              "      <td>4601.000000</td>\n",
              "      <td>4601.000000</td>\n",
              "      <td>4601.000000</td>\n",
              "      <td>4601.000000</td>\n",
              "      <td>...</td>\n",
              "      <td>4601.000000</td>\n",
              "      <td>4601.000000</td>\n",
              "      <td>4601.000000</td>\n",
              "      <td>4601.000000</td>\n",
              "      <td>4601.000000</td>\n",
              "      <td>4601.000000</td>\n",
              "      <td>4601.000000</td>\n",
              "      <td>4601.000000</td>\n",
              "      <td>4601.000000</td>\n",
              "      <td>4601.000000</td>\n",
              "    </tr>\n",
              "    <tr>\n",
              "      <th>mean</th>\n",
              "      <td>0.104553</td>\n",
              "      <td>0.213015</td>\n",
              "      <td>0.280656</td>\n",
              "      <td>0.065425</td>\n",
              "      <td>0.312223</td>\n",
              "      <td>0.095901</td>\n",
              "      <td>0.114208</td>\n",
              "      <td>0.105295</td>\n",
              "      <td>0.090067</td>\n",
              "      <td>0.239413</td>\n",
              "      <td>...</td>\n",
              "      <td>0.038575</td>\n",
              "      <td>0.139030</td>\n",
              "      <td>0.016976</td>\n",
              "      <td>0.269071</td>\n",
              "      <td>0.075811</td>\n",
              "      <td>0.044238</td>\n",
              "      <td>5.191515</td>\n",
              "      <td>52.172789</td>\n",
              "      <td>283.289285</td>\n",
              "      <td>0.394045</td>\n",
              "    </tr>\n",
              "    <tr>\n",
              "      <th>std</th>\n",
              "      <td>0.305358</td>\n",
              "      <td>1.290575</td>\n",
              "      <td>0.504143</td>\n",
              "      <td>1.395151</td>\n",
              "      <td>0.672513</td>\n",
              "      <td>0.273824</td>\n",
              "      <td>0.391441</td>\n",
              "      <td>0.401071</td>\n",
              "      <td>0.278616</td>\n",
              "      <td>0.644755</td>\n",
              "      <td>...</td>\n",
              "      <td>0.243471</td>\n",
              "      <td>0.270355</td>\n",
              "      <td>0.109394</td>\n",
              "      <td>0.815672</td>\n",
              "      <td>0.245882</td>\n",
              "      <td>0.429342</td>\n",
              "      <td>31.729449</td>\n",
              "      <td>194.891310</td>\n",
              "      <td>606.347851</td>\n",
              "      <td>0.488698</td>\n",
              "    </tr>\n",
              "    <tr>\n",
              "      <th>min</th>\n",
              "      <td>0.000000</td>\n",
              "      <td>0.000000</td>\n",
              "      <td>0.000000</td>\n",
              "      <td>0.000000</td>\n",
              "      <td>0.000000</td>\n",
              "      <td>0.000000</td>\n",
              "      <td>0.000000</td>\n",
              "      <td>0.000000</td>\n",
              "      <td>0.000000</td>\n",
              "      <td>0.000000</td>\n",
              "      <td>...</td>\n",
              "      <td>0.000000</td>\n",
              "      <td>0.000000</td>\n",
              "      <td>0.000000</td>\n",
              "      <td>0.000000</td>\n",
              "      <td>0.000000</td>\n",
              "      <td>0.000000</td>\n",
              "      <td>1.000000</td>\n",
              "      <td>1.000000</td>\n",
              "      <td>1.000000</td>\n",
              "      <td>0.000000</td>\n",
              "    </tr>\n",
              "    <tr>\n",
              "      <th>25%</th>\n",
              "      <td>0.000000</td>\n",
              "      <td>0.000000</td>\n",
              "      <td>0.000000</td>\n",
              "      <td>0.000000</td>\n",
              "      <td>0.000000</td>\n",
              "      <td>0.000000</td>\n",
              "      <td>0.000000</td>\n",
              "      <td>0.000000</td>\n",
              "      <td>0.000000</td>\n",
              "      <td>0.000000</td>\n",
              "      <td>...</td>\n",
              "      <td>0.000000</td>\n",
              "      <td>0.000000</td>\n",
              "      <td>0.000000</td>\n",
              "      <td>0.000000</td>\n",
              "      <td>0.000000</td>\n",
              "      <td>0.000000</td>\n",
              "      <td>1.588000</td>\n",
              "      <td>6.000000</td>\n",
              "      <td>35.000000</td>\n",
              "      <td>0.000000</td>\n",
              "    </tr>\n",
              "    <tr>\n",
              "      <th>50%</th>\n",
              "      <td>0.000000</td>\n",
              "      <td>0.000000</td>\n",
              "      <td>0.000000</td>\n",
              "      <td>0.000000</td>\n",
              "      <td>0.000000</td>\n",
              "      <td>0.000000</td>\n",
              "      <td>0.000000</td>\n",
              "      <td>0.000000</td>\n",
              "      <td>0.000000</td>\n",
              "      <td>0.000000</td>\n",
              "      <td>...</td>\n",
              "      <td>0.000000</td>\n",
              "      <td>0.065000</td>\n",
              "      <td>0.000000</td>\n",
              "      <td>0.000000</td>\n",
              "      <td>0.000000</td>\n",
              "      <td>0.000000</td>\n",
              "      <td>2.276000</td>\n",
              "      <td>15.000000</td>\n",
              "      <td>95.000000</td>\n",
              "      <td>0.000000</td>\n",
              "    </tr>\n",
              "    <tr>\n",
              "      <th>75%</th>\n",
              "      <td>0.000000</td>\n",
              "      <td>0.000000</td>\n",
              "      <td>0.420000</td>\n",
              "      <td>0.000000</td>\n",
              "      <td>0.380000</td>\n",
              "      <td>0.000000</td>\n",
              "      <td>0.000000</td>\n",
              "      <td>0.000000</td>\n",
              "      <td>0.000000</td>\n",
              "      <td>0.160000</td>\n",
              "      <td>...</td>\n",
              "      <td>0.000000</td>\n",
              "      <td>0.188000</td>\n",
              "      <td>0.000000</td>\n",
              "      <td>0.315000</td>\n",
              "      <td>0.052000</td>\n",
              "      <td>0.000000</td>\n",
              "      <td>3.706000</td>\n",
              "      <td>43.000000</td>\n",
              "      <td>266.000000</td>\n",
              "      <td>1.000000</td>\n",
              "    </tr>\n",
              "    <tr>\n",
              "      <th>max</th>\n",
              "      <td>4.540000</td>\n",
              "      <td>14.280000</td>\n",
              "      <td>5.100000</td>\n",
              "      <td>42.810000</td>\n",
              "      <td>10.000000</td>\n",
              "      <td>5.880000</td>\n",
              "      <td>7.270000</td>\n",
              "      <td>11.110000</td>\n",
              "      <td>5.260000</td>\n",
              "      <td>18.180000</td>\n",
              "      <td>...</td>\n",
              "      <td>4.385000</td>\n",
              "      <td>9.752000</td>\n",
              "      <td>4.081000</td>\n",
              "      <td>32.478000</td>\n",
              "      <td>6.003000</td>\n",
              "      <td>19.829000</td>\n",
              "      <td>1102.500000</td>\n",
              "      <td>9989.000000</td>\n",
              "      <td>15841.000000</td>\n",
              "      <td>1.000000</td>\n",
              "    </tr>\n",
              "  </tbody>\n",
              "</table>\n",
              "<p>8 rows × 58 columns</p>\n",
              "</div>\n",
              "      <button class=\"colab-df-convert\" onclick=\"convertToInteractive('df-33e79568-792e-4e8c-8288-939ef7c698e0')\"\n",
              "              title=\"Convert this dataframe to an interactive table.\"\n",
              "              style=\"display:none;\">\n",
              "        \n",
              "  <svg xmlns=\"http://www.w3.org/2000/svg\" height=\"24px\"viewBox=\"0 0 24 24\"\n",
              "       width=\"24px\">\n",
              "    <path d=\"M0 0h24v24H0V0z\" fill=\"none\"/>\n",
              "    <path d=\"M18.56 5.44l.94 2.06.94-2.06 2.06-.94-2.06-.94-.94-2.06-.94 2.06-2.06.94zm-11 1L8.5 8.5l.94-2.06 2.06-.94-2.06-.94L8.5 2.5l-.94 2.06-2.06.94zm10 10l.94 2.06.94-2.06 2.06-.94-2.06-.94-.94-2.06-.94 2.06-2.06.94z\"/><path d=\"M17.41 7.96l-1.37-1.37c-.4-.4-.92-.59-1.43-.59-.52 0-1.04.2-1.43.59L10.3 9.45l-7.72 7.72c-.78.78-.78 2.05 0 2.83L4 21.41c.39.39.9.59 1.41.59.51 0 1.02-.2 1.41-.59l7.78-7.78 2.81-2.81c.8-.78.8-2.07 0-2.86zM5.41 20L4 18.59l7.72-7.72 1.47 1.35L5.41 20z\"/>\n",
              "  </svg>\n",
              "      </button>\n",
              "      \n",
              "  <style>\n",
              "    .colab-df-container {\n",
              "      display:flex;\n",
              "      flex-wrap:wrap;\n",
              "      gap: 12px;\n",
              "    }\n",
              "\n",
              "    .colab-df-convert {\n",
              "      background-color: #E8F0FE;\n",
              "      border: none;\n",
              "      border-radius: 50%;\n",
              "      cursor: pointer;\n",
              "      display: none;\n",
              "      fill: #1967D2;\n",
              "      height: 32px;\n",
              "      padding: 0 0 0 0;\n",
              "      width: 32px;\n",
              "    }\n",
              "\n",
              "    .colab-df-convert:hover {\n",
              "      background-color: #E2EBFA;\n",
              "      box-shadow: 0px 1px 2px rgba(60, 64, 67, 0.3), 0px 1px 3px 1px rgba(60, 64, 67, 0.15);\n",
              "      fill: #174EA6;\n",
              "    }\n",
              "\n",
              "    [theme=dark] .colab-df-convert {\n",
              "      background-color: #3B4455;\n",
              "      fill: #D2E3FC;\n",
              "    }\n",
              "\n",
              "    [theme=dark] .colab-df-convert:hover {\n",
              "      background-color: #434B5C;\n",
              "      box-shadow: 0px 1px 3px 1px rgba(0, 0, 0, 0.15);\n",
              "      filter: drop-shadow(0px 1px 2px rgba(0, 0, 0, 0.3));\n",
              "      fill: #FFFFFF;\n",
              "    }\n",
              "  </style>\n",
              "\n",
              "      <script>\n",
              "        const buttonEl =\n",
              "          document.querySelector('#df-33e79568-792e-4e8c-8288-939ef7c698e0 button.colab-df-convert');\n",
              "        buttonEl.style.display =\n",
              "          google.colab.kernel.accessAllowed ? 'block' : 'none';\n",
              "\n",
              "        async function convertToInteractive(key) {\n",
              "          const element = document.querySelector('#df-33e79568-792e-4e8c-8288-939ef7c698e0');\n",
              "          const dataTable =\n",
              "            await google.colab.kernel.invokeFunction('convertToInteractive',\n",
              "                                                     [key], {});\n",
              "          if (!dataTable) return;\n",
              "\n",
              "          const docLinkHtml = 'Like what you see? Visit the ' +\n",
              "            '<a target=\"_blank\" href=https://colab.research.google.com/notebooks/data_table.ipynb>data table notebook</a>'\n",
              "            + ' to learn more about interactive tables.';\n",
              "          element.innerHTML = '';\n",
              "          dataTable['output_type'] = 'display_data';\n",
              "          await google.colab.output.renderOutput(dataTable, element);\n",
              "          const docLink = document.createElement('div');\n",
              "          docLink.innerHTML = docLinkHtml;\n",
              "          element.appendChild(docLink);\n",
              "        }\n",
              "      </script>\n",
              "    </div>\n",
              "  </div>\n",
              "  "
            ]
          },
          "metadata": {},
          "execution_count": 59
        }
      ]
    },
    {
      "cell_type": "code",
      "source": [
        "#To show the distribution of spam data\n",
        "f,ax=plt.subplots(1,2,figsize=(10,5))\n",
        "df_combined['class'].value_counts().plot.pie(explode=[0,0.1],autopct='%1.1f%%',ax=ax[0],shadow=True)\n",
        "ax[0].set_title('Category Spam / Non-spam')\n",
        "ax[0].set_ylabel('')\n",
        "sns.countplot('class',data=df_combined,ax=ax[1])\n",
        "ax[1].set_title('Category Spam / Non-spam')\n",
        "plt.show()"
      ],
      "metadata": {
        "colab": {
          "base_uri": "https://localhost:8080/",
          "height": 405
        },
        "id": "UJayVsbbZRyM",
        "outputId": "bf576525-d52d-46a4-ba34-7055993a0a3d"
      },
      "execution_count": 60,
      "outputs": [
        {
          "output_type": "stream",
          "name": "stderr",
          "text": [
            "/usr/local/lib/python3.7/dist-packages/seaborn/_decorators.py:43: FutureWarning: Pass the following variable as a keyword arg: x. From version 0.12, the only valid positional argument will be `data`, and passing other arguments without an explicit keyword will result in an error or misinterpretation.\n",
            "  FutureWarning\n"
          ]
        },
        {
          "output_type": "display_data",
          "data": {
            "text/plain": [
              "<Figure size 720x360 with 2 Axes>"
            ],
            "image/png": "[encoded data removed]"
          },
          "metadata": {
            "needs_background": "light"
          }
        }
      ]
    },
    {
      "cell_type": "code",
      "source": [
        "#chart showing the words that are the most frequent in a spam vs. the one less frenquent.\n",
        "#E.g. in spams we have a lot of chars and numbers\n",
        "pivot_class_freq=pd.pivot_table(df_combined,values=df_combined.drop([\"class\",\"capital_run_length_average\",\"capital_run_length_longest\",\"capital_run_length_total\"],axis=1),index='class',aggfunc=\"mean\")\n",
        "pivot_class_freq.loc['non-spam - spam'] = pivot_class_freq.loc[0] - pivot_class_freq.loc[1]\n",
        "pivot_class_freq_transposed = pivot_class_freq.T.reset_index()\n",
        "pivot_class_freq_transposed.head(5)\n",
        "\n",
        "nlargest = pivot_class_freq_transposed.nlargest(5, 'non-spam - spam')\n",
        "nsmallest = pivot_class_freq_transposed.nsmallest(5, 'non-spam - spam')\n",
        "df = pd.concat([nsmallest, nlargest], axis=0)\n",
        "df = df.sort_values(by='non-spam - spam')\n",
        "\n",
        "sns.color_palette(\"mako\", as_cmap=True)\n",
        "plt.figure(figsize=(9,7))\n",
        "plt.xticks(rotation=90)\n",
        "sns.barplot(x=df['non-spam - spam'],\n",
        "            y=df['index'],\n",
        "            palette=\"mako\").set(title=\"Non Spam minus Spam average word and char frequency\",ylabel=\"average frequency\")"
      ],
      "metadata": {
        "colab": {
          "base_uri": "https://localhost:8080/",
          "height": 508
        },
        "id": "6pPa4Jkhve0L",
        "outputId": "dd2f4be8-c02a-4377-dd07-793cb20aec96"
      },
      "execution_count": 61,
      "outputs": [
        {
          "output_type": "execute_result",
          "data": {
            "text/plain": [
              "[Text(0, 0.5, 'average frequency'),\n",
              " Text(0.5, 1.0, 'Non Spam minus Spam average word and char frequency')]"
            ]
          },
          "metadata": {},
          "execution_count": 61
        },
        {
          "output_type": "display_data",
          "data": {
            "text/plain": [
              "<Figure size 648x504 with 1 Axes>"
            ],
            "image/png": "[encoded data removed]"
          },
          "metadata": {
            "needs_background": "light"
          }
        }
      ]
    },
    {
      "cell_type": "markdown",
      "metadata": {
        "pycharm": {
          "name": "#%% md\n"
        },
        "id": "X3EYnGKXVzHx"
      },
      "source": [
        "# 1 Random model"
      ]
    },
    {
      "cell_type": "code",
      "execution_count": 62,
      "metadata": {
        "pycharm": {
          "name": "#%%\n"
        },
        "colab": {
          "base_uri": "https://localhost:8080/",
          "height": 690
        },
        "id": "kOk_J4xcVzHy",
        "outputId": "17ce103f-c3e0-4a3e-92dc-68d87ff18e29"
      },
      "outputs": [
        {
          "output_type": "stream",
          "name": "stdout",
          "text": [
            "Model: \"Sequential_model\"\n",
            "_________________________________________________________________\n",
            " Layer (type)                Output Shape              Param #   \n",
            "=================================================================\n",
            " Layer1 (Dense)              (None, 32)                1856      \n",
            "                                                                 \n",
            " Layer2 (Dense)              (None, 16)                528       \n",
            "                                                                 \n",
            " Output (Dense)              (None, 1)                 17        \n",
            "                                                                 \n",
            "=================================================================\n",
            "Total params: 2,401\n",
            "Trainable params: 2,401\n",
            "Non-trainable params: 0\n",
            "_________________________________________________________________\n"
          ]
        },
        {
          "output_type": "execute_result",
          "data": {
            "text/plain": [
              "<IPython.core.display.Image object>"
            ],
            "image/png": "[encoded data removed]"
          },
          "metadata": {},
          "execution_count": 62
        }
      ],
      "source": [
        "model = Sequential(name='Sequential_model')\n",
        "model.add(Dense(32,activation='relu',name='Layer1', input_shape=(X.shape[1],)))\n",
        "#model.add(Dropout(0.2))\n",
        "model.add(Dense(16,activation='relu',name='Layer2'))\n",
        "#model.add(Dropout(0.2))\n",
        "model.add(Dense(1, activation='sigmoid',name='Output'))\n",
        "model.compile(optimizer=Adam(learning_rate=0.1), loss='binary_crossentropy', metrics=['accuracy'])\n",
        "model.summary()\n",
        "utils.plot_model(model, show_shapes=True)"
      ]
    },
    {
      "cell_type": "code",
      "execution_count": 64,
      "metadata": {
        "pycharm": {
          "name": "#%%\n"
        },
        "scrolled": true,
        "colab": {
          "base_uri": "https://localhost:8080/",
          "height": 1000
        },
        "id": "U9Bt6UlkVzHy",
        "outputId": "175b315b-0d62-49ca-fad2-d56727c372b8"
      },
      "outputs": [
        {
          "output_type": "stream",
          "name": "stdout",
          "text": [
            "Epoch 1/20\n",
            "114/115 [============================>.] - ETA: 0s - loss: 0.2694 - accuracy: 0.8950\n",
            "Epoch 1: val_accuracy improved from -inf to 0.92725, saving model to Val_best_model.h5\n",
            "115/115 [==============================] - 1s 6ms/step - loss: 0.2704 - accuracy: 0.8943 - val_loss: 0.2242 - val_accuracy: 0.9273\n",
            "Epoch 2/20\n",
            "114/115 [============================>.] - ETA: 0s - loss: 0.2103 - accuracy: 0.9243\n",
            "Epoch 2: val_accuracy did not improve from 0.92725\n",
            "115/115 [==============================] - 0s 4ms/step - loss: 0.2122 - accuracy: 0.9236 - val_loss: 0.2542 - val_accuracy: 0.9077\n",
            "Epoch 3/20\n",
            "115/115 [==============================] - ETA: 0s - loss: 0.1885 - accuracy: 0.9334\n",
            "Epoch 3: val_accuracy improved from 0.92725 to 0.93160, saving model to Val_best_model.h5\n",
            "115/115 [==============================] - 0s 4ms/step - loss: 0.1885 - accuracy: 0.9334 - val_loss: 0.2118 - val_accuracy: 0.9316\n",
            "Epoch 4/20\n",
            "113/115 [============================>.] - ETA: 0s - loss: 0.1716 - accuracy: 0.9378\n",
            "Epoch 4: val_accuracy improved from 0.93160 to 0.93377, saving model to Val_best_model.h5\n",
            "115/115 [==============================] - 1s 6ms/step - loss: 0.1737 - accuracy: 0.9372 - val_loss: 0.1934 - val_accuracy: 0.9338\n",
            "Epoch 5/20\n",
            "115/115 [==============================] - ETA: 0s - loss: 0.1737 - accuracy: 0.9380\n",
            "Epoch 5: val_accuracy did not improve from 0.93377\n",
            "115/115 [==============================] - 0s 4ms/step - loss: 0.1737 - accuracy: 0.9380 - val_loss: 0.2178 - val_accuracy: 0.9316\n",
            "Epoch 6/20\n",
            "112/115 [============================>.] - ETA: 0s - loss: 0.1580 - accuracy: 0.9400\n",
            "Epoch 6: val_accuracy improved from 0.93377 to 0.93485, saving model to Val_best_model.h5\n",
            "115/115 [==============================] - 1s 5ms/step - loss: 0.1595 - accuracy: 0.9397 - val_loss: 0.1767 - val_accuracy: 0.9349\n",
            "Epoch 7/20\n",
            "111/115 [===========================>..] - ETA: 0s - loss: 0.1617 - accuracy: 0.9372\n",
            "Epoch 7: val_accuracy did not improve from 0.93485\n",
            "115/115 [==============================] - 0s 3ms/step - loss: 0.1592 - accuracy: 0.9383 - val_loss: 0.2332 - val_accuracy: 0.9338\n",
            "Epoch 8/20\n",
            "115/115 [==============================] - ETA: 0s - loss: 0.1538 - accuracy: 0.9427\n",
            "Epoch 8: val_accuracy did not improve from 0.93485\n",
            "115/115 [==============================] - 0s 2ms/step - loss: 0.1538 - accuracy: 0.9427 - val_loss: 0.1930 - val_accuracy: 0.9240\n",
            "Epoch 9/20\n",
            "113/115 [============================>.] - ETA: 0s - loss: 0.1536 - accuracy: 0.9419\n",
            "Epoch 9: val_accuracy did not improve from 0.93485\n",
            "115/115 [==============================] - 0s 3ms/step - loss: 0.1523 - accuracy: 0.9427 - val_loss: 0.2013 - val_accuracy: 0.9338\n",
            "Epoch 10/20\n",
            "114/115 [============================>.] - ETA: 0s - loss: 0.1511 - accuracy: 0.9430\n",
            "Epoch 10: val_accuracy did not improve from 0.93485\n",
            "115/115 [==============================] - 0s 3ms/step - loss: 0.1506 - accuracy: 0.9435 - val_loss: 0.1851 - val_accuracy: 0.9349\n",
            "Epoch 11/20\n",
            " 98/115 [========================>.....] - ETA: 0s - loss: 0.1494 - accuracy: 0.9429\n",
            "Epoch 11: val_accuracy did not improve from 0.93485\n",
            "115/115 [==============================] - 0s 3ms/step - loss: 0.1498 - accuracy: 0.9443 - val_loss: 0.1912 - val_accuracy: 0.9338\n",
            "Epoch 12/20\n",
            "108/115 [===========================>..] - ETA: 0s - loss: 0.1303 - accuracy: 0.9497\n",
            "Epoch 12: val_accuracy did not improve from 0.93485\n",
            "115/115 [==============================] - 0s 3ms/step - loss: 0.1320 - accuracy: 0.9500 - val_loss: 0.2387 - val_accuracy: 0.9262\n",
            "Epoch 13/20\n",
            "114/115 [============================>.] - ETA: 0s - loss: 0.1370 - accuracy: 0.9504\n",
            "Epoch 13: val_accuracy did not improve from 0.93485\n",
            "115/115 [==============================] - 0s 3ms/step - loss: 0.1368 - accuracy: 0.9503 - val_loss: 0.2269 - val_accuracy: 0.9207\n",
            "Epoch 14/20\n",
            "115/115 [==============================] - ETA: 0s - loss: 0.1393 - accuracy: 0.9448\n",
            "Epoch 14: val_accuracy did not improve from 0.93485\n",
            "115/115 [==============================] - 0s 3ms/step - loss: 0.1393 - accuracy: 0.9448 - val_loss: 0.1991 - val_accuracy: 0.9294\n",
            "Epoch 15/20\n",
            " 88/115 [=====================>........] - ETA: 0s - loss: 0.1371 - accuracy: 0.9485\n",
            "Epoch 15: val_accuracy did not improve from 0.93485\n",
            "115/115 [==============================] - 0s 2ms/step - loss: 0.1385 - accuracy: 0.9500 - val_loss: 0.2358 - val_accuracy: 0.9338\n",
            "Epoch 16/20\n",
            "113/115 [============================>.] - ETA: 0s - loss: 0.1277 - accuracy: 0.9494\n",
            "Epoch 16: val_accuracy did not improve from 0.93485\n",
            "115/115 [==============================] - 0s 3ms/step - loss: 0.1300 - accuracy: 0.9481 - val_loss: 0.2343 - val_accuracy: 0.9186\n",
            "Epoch 16: early stopping\n"
          ]
        },
        {
          "output_type": "display_data",
          "data": {
            "text/plain": [
              "<Figure size 432x288 with 1 Axes>"
            ],
            "image/png": "[encoded data removed]"
          },
          "metadata": {
            "needs_background": "light"
          }
        },
        {
          "output_type": "display_data",
          "data": {
            "text/plain": [
              "<Figure size 432x288 with 1 Axes>"
            ],
            "image/png": "[encoded data removed]"
          },
          "metadata": {
            "needs_background": "light"
          }
        },
        {
          "output_type": "stream",
          "name": "stdout",
          "text": [
            "CPU times: user 7 s, sys: 452 ms, total: 7.45 s\n",
            "Wall time: 7.53 s\n"
          ]
        }
      ],
      "source": [
        "%%time\n",
        "mc = ModelCheckpoint('Val_best_model.h5', monitor='val_accuracy', mode='max', verbose=1, save_best_only=True)\n",
        "es = EarlyStopping(monitor='val_loss', mode='min', verbose=1, patience=10)\n",
        "\n",
        "history = model.fit(X_train, y_train, epochs=20, batch_size=32, validation_data=(X_test, y_test),callbacks=[es,mc])\n",
        "plt.plot(history.history['loss'])\n",
        "plt.plot(history.history['val_loss'])\n",
        "plt.title('model loss')\n",
        "plt.ylabel('loss')\n",
        "plt.xlabel('epoch')\n",
        "plt.legend(['train', 'test'], loc='upper left')\n",
        "plt.show()\n",
        "\n",
        "plt.plot(history.history['accuracy'])\n",
        "plt.plot(history.history['val_accuracy'])\n",
        "plt.title('model accuracy')\n",
        "plt.ylabel('loss')\n",
        "plt.xlabel('epoch')\n",
        "plt.legend(['train', 'test'], loc='upper left')\n",
        "plt.show()\n"
      ]
    },
    {
      "cell_type": "code",
      "source": [
        "#functional classifier\n",
        "\n",
        "def classifier_functional(X, M):\n",
        "    N = X.shape[1]\n",
        "    layer1 = Input(shape = (N, ))\n",
        "    layer2 = Dense(M, activation='relu', name='Layer1')(layer1)\n",
        "    layer3 = Dense(M/2, activation='relu', name='Layer2')(layer2)\n",
        "    output = Dense(1, activation='sigmoid', name='Output')(layer3)\n",
        "    func_model = Model(inputs =layer1, outputs=output)   \n",
        "    func_model.compile(loss='binary_crossentropy', optimizer=Adam(learning_rate=0.1), metrics=['accuracy'])\n",
        "    func_model.summary()\n",
        "    return func_model\n",
        "\n",
        "def Plot(history):\n",
        "    plt.plot(history.history['accuracy'])\n",
        "    plt.plot(history.history['val_accuracy'])\n",
        "    plt.title('model accuracy')\n",
        "    plt.ylabel('accuracy')\n",
        "    plt.xlabel('epoch')\n",
        "    plt.legend(['train', 'test'], loc='upper left')\n",
        "    plt.show()\n",
        "\n",
        "    # summarize history for loss\n",
        "    plt.plot(history.history['loss'])\n",
        "    plt.plot(history.history['val_loss'])\n",
        "    plt.title('model loss')\n",
        "    plt.ylabel('loss')\n",
        "    plt.xlabel('epoch')\n",
        "    plt.legend(['train', 'test'], loc='upper left')\n",
        "    plt.show()\n",
        "\n",
        "M = 32\n",
        "model = classifier_functional(X, M)\n",
        "history = model.fit(X_train, y_train, epochs= 20, verbose=1, shuffle = False,validation_data=(X_test, y_test)) \n",
        "Plot(history)\n",
        "tf.keras.utils.plot_model(model, show_shapes=True)"
      ],
      "metadata": {
        "colab": {
          "base_uri": "https://localhost:8080/",
          "height": 1000
        },
        "id": "vIJT1gcwhWV8",
        "outputId": "c3c85183-8f52-4c0b-f849-9ac0f04df0d4"
      },
      "execution_count": 37,
      "outputs": [
        {
          "output_type": "stream",
          "name": "stdout",
          "text": [
            "Model: \"model_1\"\n",
            "_________________________________________________________________\n",
            " Layer (type)                Output Shape              Param #   \n",
            "=================================================================\n",
            " input_2 (InputLayer)        [(None, 57)]              0         \n",
            "                                                                 \n",
            " Layer1 (Dense)              (None, 32)                1856      \n",
            "                                                                 \n",
            " Layer2 (Dense)              (None, 16)                528       \n",
            "                                                                 \n",
            " Output (Dense)              (None, 1)                 17        \n",
            "                                                                 \n",
            "=================================================================\n",
            "Total params: 2,401\n",
            "Trainable params: 2,401\n",
            "Non-trainable params: 0\n",
            "_________________________________________________________________\n",
            "Epoch 1/20\n",
            "115/115 [==============================] - 1s 5ms/step - loss: 0.2840 - accuracy: 0.8861 - val_loss: 0.2185 - val_accuracy: 0.9283\n",
            "Epoch 2/20\n",
            "115/115 [==============================] - 0s 2ms/step - loss: 0.2000 - accuracy: 0.9285 - val_loss: 0.2189 - val_accuracy: 0.9251\n",
            "Epoch 3/20\n",
            "115/115 [==============================] - 0s 2ms/step - loss: 0.1845 - accuracy: 0.9367 - val_loss: 0.1992 - val_accuracy: 0.9370\n",
            "Epoch 4/20\n",
            "115/115 [==============================] - 0s 2ms/step - loss: 0.1735 - accuracy: 0.9397 - val_loss: 0.2198 - val_accuracy: 0.9327\n",
            "Epoch 5/20\n",
            "115/115 [==============================] - 0s 2ms/step - loss: 0.1672 - accuracy: 0.9418 - val_loss: 0.2091 - val_accuracy: 0.9327\n",
            "Epoch 6/20\n",
            "115/115 [==============================] - 0s 2ms/step - loss: 0.1705 - accuracy: 0.9405 - val_loss: 0.1909 - val_accuracy: 0.9305\n",
            "Epoch 7/20\n",
            "115/115 [==============================] - 0s 2ms/step - loss: 0.1648 - accuracy: 0.9432 - val_loss: 0.1898 - val_accuracy: 0.9349\n",
            "Epoch 8/20\n",
            "115/115 [==============================] - 0s 2ms/step - loss: 0.1530 - accuracy: 0.9465 - val_loss: 0.2105 - val_accuracy: 0.9359\n",
            "Epoch 9/20\n",
            "115/115 [==============================] - 0s 3ms/step - loss: 0.1612 - accuracy: 0.9416 - val_loss: 0.1936 - val_accuracy: 0.9273\n",
            "Epoch 10/20\n",
            "115/115 [==============================] - 0s 2ms/step - loss: 0.1434 - accuracy: 0.9470 - val_loss: 0.1901 - val_accuracy: 0.9338\n",
            "Epoch 11/20\n",
            "115/115 [==============================] - 0s 2ms/step - loss: 0.1404 - accuracy: 0.9484 - val_loss: 0.2009 - val_accuracy: 0.9381\n",
            "Epoch 12/20\n",
            "115/115 [==============================] - 0s 2ms/step - loss: 0.1359 - accuracy: 0.9484 - val_loss: 0.1906 - val_accuracy: 0.9305\n",
            "Epoch 13/20\n",
            "115/115 [==============================] - 0s 2ms/step - loss: 0.1360 - accuracy: 0.9486 - val_loss: 0.2393 - val_accuracy: 0.9240\n",
            "Epoch 14/20\n",
            "115/115 [==============================] - 0s 2ms/step - loss: 0.1330 - accuracy: 0.9519 - val_loss: 0.1930 - val_accuracy: 0.9316\n",
            "Epoch 15/20\n",
            "115/115 [==============================] - 0s 2ms/step - loss: 0.1605 - accuracy: 0.9435 - val_loss: 0.2068 - val_accuracy: 0.9273\n",
            "Epoch 16/20\n",
            "115/115 [==============================] - 0s 2ms/step - loss: 0.1309 - accuracy: 0.9519 - val_loss: 0.2273 - val_accuracy: 0.9240\n",
            "Epoch 17/20\n",
            "115/115 [==============================] - 0s 2ms/step - loss: 0.1280 - accuracy: 0.9503 - val_loss: 0.2212 - val_accuracy: 0.9316\n",
            "Epoch 18/20\n",
            "115/115 [==============================] - 0s 2ms/step - loss: 0.1238 - accuracy: 0.9527 - val_loss: 0.2432 - val_accuracy: 0.9273\n",
            "Epoch 19/20\n",
            "115/115 [==============================] - 0s 2ms/step - loss: 0.1212 - accuracy: 0.9524 - val_loss: 0.2491 - val_accuracy: 0.9338\n",
            "Epoch 20/20\n",
            "115/115 [==============================] - 0s 2ms/step - loss: 0.1159 - accuracy: 0.9541 - val_loss: 0.2509 - val_accuracy: 0.9273\n"
          ]
        },
        {
          "output_type": "display_data",
          "data": {
            "text/plain": [
              "<Figure size 432x288 with 1 Axes>"
            ],
            "image/png": "[encoded data removed]"
          },
          "metadata": {
            "needs_background": "light"
          }
        },
        {
          "output_type": "display_data",
          "data": {
            "text/plain": [
              "<Figure size 432x288 with 1 Axes>"
            ],
            "image/png": "[encoded data removed]"
          },
          "metadata": {
            "needs_background": "light"
          }
        },
        {
          "output_type": "execute_result",
          "data": {
            "text/plain": [
              "<IPython.core.display.Image object>"
            ],
            "image/png": "[encoded data removed]"
          },
          "metadata": {},
          "execution_count": 37
        }
      ]
    },
    {
      "cell_type": "code",
      "source": [
        "# load the saved model\n",
        "saved_model = load_model('Val_best_model.h5')\n",
        "# evaluate the model\n",
        "_, train_acc = saved_model.evaluate(X_train, y_train, verbose=0)\n",
        "_, test_acc = saved_model.evaluate(X_test, y_test, verbose=0)\n",
        "print('Train: %.3f, Test: %.3f' % (train_acc, test_acc))"
      ],
      "metadata": {
        "id": "LX53VAvTq1kq",
        "outputId": "a5973255-128a-4356-96d7-1a3e6685687d",
        "colab": {
          "base_uri": "https://localhost:8080/"
        }
      },
      "execution_count": 38,
      "outputs": [
        {
          "output_type": "stream",
          "name": "stdout",
          "text": [
            "Train: 0.938, Test: 0.940\n"
          ]
        }
      ]
    },
    {
      "cell_type": "markdown",
      "metadata": {
        "id": "d8DgCqCwVzHz"
      },
      "source": [
        "# 2 Grid search hyperparameter"
      ]
    },
    {
      "cell_type": "markdown",
      "metadata": {
        "id": "NWQcJAeeVzHz"
      },
      "source": [
        "## 2.1 Batch size and epochs\n",
        "https://machinelearningmastery.com/grid-search-hyperparameters-deep-learning-models-python-keras/"
      ]
    },
    {
      "cell_type": "code",
      "execution_count": 33,
      "metadata": {
        "pycharm": {
          "name": "#%%\n"
        },
        "colab": {
          "base_uri": "https://localhost:8080/"
        },
        "id": "ToZxTeHXVzH0",
        "outputId": "a7d63b04-d25e-49f3-fa7a-b10e83a3c903"
      },
      "outputs": [
        {
          "output_type": "stream",
          "name": "stderr",
          "text": [
            "/usr/local/lib/python3.7/dist-packages/ipykernel_launcher.py:11: DeprecationWarning: KerasClassifier is deprecated, use Sci-Keras (https://github.com/adriangb/scikeras) instead. See https://www.adriangb.com/scikeras/stable/migration.html for help migrating.\n",
            "  # This is added back by InteractiveShellApp.init_path()\n"
          ]
        },
        {
          "output_type": "stream",
          "name": "stdout",
          "text": [
            "Best: 0.941577 using {'batch_size': 64, 'epochs': 50}\n",
            "0.933153 (0.003513) with: {'batch_size': 16, 'epochs': 10}\n",
            "0.926087 (0.001366) with: {'batch_size': 16, 'epochs': 20}\n",
            "0.930432 (0.008398) with: {'batch_size': 16, 'epochs': 50}\n",
            "0.929076 (0.001752) with: {'batch_size': 16, 'epochs': 100}\n",
            "0.936412 (0.003069) with: {'batch_size': 32, 'epochs': 10}\n",
            "0.934782 (0.002911) with: {'batch_size': 32, 'epochs': 20}\n",
            "0.927718 (0.003777) with: {'batch_size': 32, 'epochs': 50}\n",
            "0.931793 (0.001696) with: {'batch_size': 32, 'epochs': 100}\n",
            "0.925541 (0.006215) with: {'batch_size': 64, 'epochs': 10}\n",
            "0.935053 (0.004457) with: {'batch_size': 64, 'epochs': 20}\n",
            "0.941577 (0.002750) with: {'batch_size': 64, 'epochs': 50}\n",
            "0.933697 (0.004048) with: {'batch_size': 64, 'epochs': 100}\n",
            "0.925815 (0.006104) with: {'batch_size': 128, 'epochs': 10}\n",
            "0.932064 (0.003163) with: {'batch_size': 128, 'epochs': 20}\n",
            "0.937499 (0.003297) with: {'batch_size': 128, 'epochs': 50}\n",
            "0.931518 (0.008733) with: {'batch_size': 128, 'epochs': 100}\n",
            "CPU times: user 9.95 s, sys: 858 ms, total: 10.8 s\n",
            "Wall time: 5min 55s\n"
          ]
        }
      ],
      "source": [
        "%%time\n",
        "# Function to create model, required for KerasClassifier\n",
        "def create_model():\n",
        "    # create model\n",
        "    model = Sequential()\n",
        "    model.add(Dense(32,activation='relu', input_shape=(X.shape[1],)))\n",
        "    model.add(Dense(16,activation='relu'))\n",
        "    model.add(Dense(1, activation='sigmoid'))\n",
        "    model.compile(optimizer=Adam(learning_rate=0.1), loss='binary_crossentropy', metrics=['accuracy'])\n",
        "    return model\n",
        "\n",
        "model = KerasClassifier(build_fn=create_model, verbose=0)\n",
        "# define the grid search parameters\n",
        "batch_size = [16,32,64,128]\n",
        "epochs = [10,20, 50, 100]\n",
        "param_grid = dict(batch_size=batch_size, epochs=epochs)\n",
        "grid = GridSearchCV(estimator=model, param_grid=param_grid, n_jobs=-1, cv=3)\n",
        "grid_result = grid.fit(X_train, y_train, validation_data=(X_test, y_test))\n",
        "grid_result1 = grid_result\n",
        "# summarize results\n",
        "print(\"Best: %f using %s\" % (grid_result.best_score_, grid_result.best_params_))\n",
        "means = grid_result.cv_results_['mean_test_score']\n",
        "stds = grid_result.cv_results_['std_test_score']\n",
        "params = grid_result.cv_results_['params']\n",
        "for mean, stdev, param in zip(means, stds, params):\n",
        "    print(\"%f (%f) with: %r\" % (mean, stdev, param))"
      ]
    },
    {
      "cell_type": "markdown",
      "metadata": {
        "id": "Txs_ZP4vVzH1"
      },
      "source": [
        "## 2.2  Optimizer"
      ]
    },
    {
      "cell_type": "code",
      "execution_count": 34,
      "metadata": {
        "pycharm": {
          "name": "#%%\n"
        },
        "colab": {
          "base_uri": "https://localhost:8080/"
        },
        "id": "bRFflau9VzH1",
        "outputId": "6a615fa6-a26c-4172-a1dd-53a649bc0150"
      },
      "outputs": [
        {
          "output_type": "stream",
          "name": "stderr",
          "text": [
            "/usr/local/lib/python3.7/dist-packages/ipykernel_launcher.py:9: DeprecationWarning: KerasClassifier is deprecated, use Sci-Keras (https://github.com/adriangb/scikeras) instead. See https://www.adriangb.com/scikeras/stable/migration.html for help migrating.\n",
            "  if __name__ == '__main__':\n"
          ]
        },
        {
          "output_type": "stream",
          "name": "stdout",
          "text": [
            "Best: 0.932064 using {'optimizer': 'Adam'}\n",
            "0.607610 (0.007325) with: {'optimizer': 'SGD'}\n",
            "0.932064 (0.006056) with: {'optimizer': 'Adam'}\n",
            "CPU times: user 3.66 s, sys: 264 ms, total: 3.92 s\n",
            "Wall time: 16.6 s\n"
          ]
        }
      ],
      "source": [
        "%%time\n",
        "def create_model(optimizer='adam'):\n",
        "    # create model\n",
        "    model = Sequential()\n",
        "    model.add(Dense(32,activation='relu', input_shape=(X.shape[1],)))\n",
        "    model.add(Dense(16,activation='relu'))\n",
        "    model.add(Dense(1, activation='sigmoid'))\n",
        "    model.compile(optimizer=optimizer, loss='binary_crossentropy', metrics=['accuracy'])\n",
        "    return model\n",
        "model = KerasClassifier(build_fn=create_model, verbose=0)\n",
        "# define the grid search parameters\n",
        "optimizer = ['SGD', 'Adam']\n",
        "param_grid = dict(optimizer=optimizer)\n",
        "grid = GridSearchCV(estimator=model, param_grid=param_grid, n_jobs=-1, cv=3)\n",
        "grid_result = grid.fit(X_train, y_train, epochs=20, batch_size=64, validation_data=(X_test, y_test))\n",
        "grid_result2 = grid_result\n",
        "# summarize results\n",
        "print(\"Best: %f using %s\" % (grid_result.best_score_, grid_result.best_params_))\n",
        "means = grid_result.cv_results_['mean_test_score']\n",
        "stds = grid_result.cv_results_['std_test_score']\n",
        "params = grid_result.cv_results_['params']\n",
        "for mean, stdev, param in zip(means, stds, params):\n",
        "    print(\"%f (%f) with: %r\" % (mean, stdev, param))"
      ]
    },
    {
      "cell_type": "markdown",
      "metadata": {
        "id": "MZnc4obqVzH2"
      },
      "source": [
        " ## 2.3 Learning Rate\n",
        "\n"
      ]
    },
    {
      "cell_type": "code",
      "execution_count": null,
      "metadata": {
        "pycharm": {
          "name": "#%%\n"
        },
        "id": "iSm0GhQIVzH2"
      },
      "outputs": [],
      "source": [
        "%%time\n",
        "def create_model(learn_rate=0.01):\n",
        "    # create model\n",
        "    model = Sequential()\n",
        "    model.add(Dense(8,activation='relu', input_shape=(X.shape[1],)))\n",
        "    model.add(Dense(16,activation='relu'))\n",
        "    model.add(Dense(1, activation='sigmoid'))\n",
        "    optimizer = Adam(learning_rate=learn_rate)\n",
        "    model.compile(optimizer=optimizer, loss='binary_crossentropy', metrics=['accuracy'])\n",
        "    return model\n",
        "model = KerasClassifier(build_fn=create_model, verbose=0)\n",
        "# define the grid search parameters\n",
        "learn_rate = [0.0001, 0.001, 0.01, 0.1, 0.2, 0.3]\n",
        "param_grid = dict(learn_rate=learn_rate)\n",
        "grid = GridSearchCV(estimator=model, param_grid=param_grid, n_jobs=-1, cv=3)\n",
        "grid_result = grid.fit(X_train, y_train,epochs=20, batch_size=64, validation_data=(X_test, y_test))\n",
        "grid_result3 = grid_result\n",
        "# summarize results\n",
        "print(\"Best: %f using %s\" % (grid_result.best_score_, grid_result.best_params_))\n",
        "means = grid_result.cv_results_['mean_test_score']\n",
        "stds = grid_result.cv_results_['std_test_score']\n",
        "params = grid_result.cv_results_['params']\n",
        "for mean, stdev, param in zip(means, stds, params):\n",
        "    print(\"%f (%f) with: %r\" % (mean, stdev, param))"
      ]
    },
    {
      "cell_type": "code",
      "execution_count": null,
      "metadata": {
        "pycharm": {
          "name": "#%%\n"
        },
        "id": "y4l4gDA6VzH3"
      },
      "outputs": [],
      "source": [
        "print(\"Best: %f using %s\" % (grid_result1.best_score_, grid_result1.best_params_))\n",
        "print(\"Best: %f using %s\" % (grid_result2.best_score_, grid_result2.best_params_))\n",
        "print(\"Best: %f using %s\" % (grid_result3.best_score_, grid_result3.best_params_))"
      ]
    },
    {
      "cell_type": "markdown",
      "metadata": {
        "id": "U2XO2zNiVzH3"
      },
      "source": [
        "## 2.4 Tuned model"
      ]
    },
    {
      "cell_type": "code",
      "execution_count": null,
      "metadata": {
        "pycharm": {
          "name": "#%%\n"
        },
        "id": "9m_hdWlGVzH4"
      },
      "outputs": [],
      "source": [
        "model = Sequential()\n",
        "model.add(Dense(32,activation='relu', input_shape=(X.shape[1],)))\n",
        "model.add(Dense(16,activation='relu'))\n",
        "model.add(Dense(1, activation='sigmoid'))\n",
        "model.compile(optimizer=Adam(learning_rate=0.001), loss='binary_crossentropy', metrics=['accuracy'])\n",
        "model.summary()\n",
        "utils.plot_model(model, show_shapes=True)"
      ]
    },
    {
      "cell_type": "code",
      "execution_count": null,
      "metadata": {
        "pycharm": {
          "name": "#%%\n"
        },
        "id": "OLcTLBiKVzH5"
      },
      "outputs": [],
      "source": [
        "history = model.fit(X_train, y_train, epochs=20, batch_size=64, validation_data=(X_test, y_test))\n",
        "plt.plot(history.history['loss'])\n",
        "plt.plot(history.history['val_loss'])\n",
        "plt.title('model loss')\n",
        "plt.ylabel('loss')\n",
        "plt.xlabel('epoch')\n",
        "plt.legend(['train', 'test'], loc='upper left')\n",
        "plt.show()\n",
        "\n",
        "plt.plot(history.history['accuracy'])\n",
        "plt.plot(history.history['val_accuracy'])\n",
        "plt.title('model accuracy')\n",
        "plt.ylabel('loss')\n",
        "plt.xlabel('epoch')\n",
        "plt.legend(['train', 'test'], loc='upper left')\n",
        "plt.show()"
      ]
    },
    {
      "cell_type": "markdown",
      "metadata": {
        "pycharm": {
          "name": "#%% md\n"
        },
        "id": "f2eWESp7VzH5"
      },
      "source": [
        "# 3 random parameter"
      ]
    },
    {
      "cell_type": "markdown",
      "metadata": {
        "id": "o6RqgHREVzH5"
      },
      "source": [
        "## 3.1 add complexity"
      ]
    },
    {
      "cell_type": "code",
      "execution_count": null,
      "metadata": {
        "pycharm": {
          "name": "#%%\n"
        },
        "id": "0qvrdM4eVzH6"
      },
      "outputs": [],
      "source": [
        "model = Sequential()\n",
        "model.add(Dense(128,activation='relu', input_shape=(X.shape[1],)))\n",
        "model.add(Dense(32,activation='relu'))\n",
        "model.add(Dense(16,activation='relu'))\n",
        "model.add(Dense(1, activation='sigmoid'))\n",
        "model.compile(optimizer=Adam(learning_rate=0.001), loss='binary_crossentropy', metrics=['accuracy'])\n",
        "model.summary()\n",
        "utils.plot_model(model, show_shapes=True)"
      ]
    },
    {
      "cell_type": "code",
      "execution_count": null,
      "metadata": {
        "pycharm": {
          "name": "#%%\n"
        },
        "id": "Fcm0amjPVzH6"
      },
      "outputs": [],
      "source": [
        "history = model.fit(X_train, y_train, epochs=20, batch_size=64, validation_data=(X_test, y_test))\n",
        "plt.plot(history.history['loss'])\n",
        "plt.plot(history.history['val_loss'])\n",
        "plt.title('model loss')\n",
        "plt.ylabel('loss')\n",
        "plt.xlabel('epoch')\n",
        "plt.legend(['train', 'test'], loc='upper left')\n",
        "plt.show()\n",
        "\n",
        "plt.plot(history.history['accuracy'])\n",
        "plt.plot(history.history['val_accuracy'])\n",
        "plt.title('model accuracy')\n",
        "plt.ylabel('loss')\n",
        "plt.xlabel('epoch')\n",
        "plt.legend(['train', 'test'], loc='upper left')\n",
        "plt.show()"
      ]
    },
    {
      "cell_type": "code",
      "execution_count": null,
      "metadata": {
        "id": "oihQ1lHOVzH7"
      },
      "outputs": [],
      "source": [
        ""
      ]
    },
    {
      "cell_type": "raw",
      "metadata": {
        "id": "GQibUUaRVzH7"
      },
      "source": [
        "## 3.2 increase learing rate"
      ]
    },
    {
      "cell_type": "code",
      "execution_count": null,
      "metadata": {
        "pycharm": {
          "name": "#%%\n"
        },
        "id": "8U3JPIt_VzH7"
      },
      "outputs": [],
      "source": [
        "model = Sequential()\n",
        "model.add(Dense(32,activation='relu', input_shape=(X.shape[1],)))\n",
        "model.add(Dense(16,activation='relu'))\n",
        "model.add(Dense(1, activation='sigmoid'))\n",
        "model.compile(optimizer=Adam(learning_rate=0.02), loss='binary_crossentropy', metrics=['accuracy'])\n",
        "model.summary()\n",
        "utils.plot_model(model, show_shapes=True)"
      ]
    },
    {
      "cell_type": "code",
      "execution_count": null,
      "metadata": {
        "pycharm": {
          "name": "#%%\n"
        },
        "id": "_qLjTcWpVzH8"
      },
      "outputs": [],
      "source": [
        "history = model.fit(X_train, y_train, epochs=20, batch_size=64, validation_data=(X_test, y_test))\n",
        "plt.plot(history.history['loss'])\n",
        "plt.plot(history.history['val_loss'])\n",
        "plt.title('model loss')\n",
        "plt.ylabel('loss')\n",
        "plt.xlabel('epoch')\n",
        "plt.legend(['train', 'test'], loc='upper left')\n",
        "plt.show()\n",
        "\n",
        "plt.plot(history.history['accuracy'])\n",
        "plt.plot(history.history['val_accuracy'])\n",
        "plt.title('model accuracy')\n",
        "plt.ylabel('loss')\n",
        "plt.xlabel('epoch')\n",
        "plt.legend(['train', 'test'], loc='upper left')\n",
        "plt.show()"
      ]
    },
    {
      "cell_type": "markdown",
      "metadata": {
        "id": "QkJBMGESVzH8"
      },
      "source": [
        "## 3.3 increase epocs"
      ]
    },
    {
      "cell_type": "code",
      "execution_count": null,
      "metadata": {
        "pycharm": {
          "name": "#%%\n"
        },
        "id": "1jz5b59qVzH8"
      },
      "outputs": [],
      "source": [
        "model = Sequential()\n",
        "model.add(Dense(32,activation='relu', input_shape=(X.shape[1],)))\n",
        "model.add(Dense(16,activation='relu'))\n",
        "model.add(Dense(1, activation='sigmoid'))\n",
        "model.compile(optimizer=Adam(learning_rate=0.001), loss='binary_crossentropy', metrics=['accuracy'])\n",
        "model.summary()\n",
        "utils.plot_model(model, show_shapes=True)\n",
        "\n",
        "history = model.fit(X_train, y_train, epochs=60, batch_size=64, validation_data=(X_test, y_test))\n",
        "plt.plot(history.history['loss'])\n",
        "plt.plot(history.history['val_loss'])\n",
        "plt.title('model loss')\n",
        "plt.ylabel('loss')\n",
        "plt.xlabel('epoch')\n",
        "plt.legend(['train', 'test'], loc='upper left')\n",
        "plt.show()\n",
        "\n",
        "plt.plot(history.history['accuracy'])\n",
        "plt.plot(history.history['val_accuracy'])\n",
        "plt.title('model accuracy')\n",
        "plt.ylabel('loss')\n",
        "plt.xlabel('epoch')\n",
        "plt.legend(['train', 'test'], loc='upper left')\n",
        "plt.show()"
      ]
    },
    {
      "cell_type": "markdown",
      "metadata": {
        "pycharm": {
          "name": "#%%\n"
        },
        "id": "fQOs410wVzH9"
      },
      "source": [
        "## 3.4 decrease batch size"
      ]
    },
    {
      "cell_type": "code",
      "execution_count": null,
      "metadata": {
        "pycharm": {
          "name": "#%%\n"
        },
        "id": "YzJXDvWpVzH9"
      },
      "outputs": [],
      "source": [
        "model = Sequential()\n",
        "model.add(Dense(32,activation='relu', input_shape=(X.shape[1],)))\n",
        "model.add(Dense(16,activation='relu'))\n",
        "model.add(Dense(1, activation='sigmoid'))\n",
        "model.compile(optimizer=Adam(learning_rate=0.001), loss='binary_crossentropy', metrics=['accuracy'])\n",
        "model.summary()\n",
        "utils.plot_model(model, show_shapes=True)\n",
        "\n",
        "history = model.fit(X_train, y_train, epochs=20, batch_size=8, validation_data=(X_test, y_test))\n",
        "plt.plot(history.history['loss'])\n",
        "plt.plot(history.history['val_loss'])\n",
        "plt.title('model loss')\n",
        "plt.ylabel('loss')\n",
        "plt.xlabel('epoch')\n",
        "plt.legend(['train', 'test'], loc='upper left')\n",
        "plt.show()\n",
        "\n",
        "plt.plot(history.history['accuracy'])\n",
        "plt.plot(history.history['val_accuracy'])\n",
        "plt.title('model accuracy')\n",
        "plt.ylabel('loss')\n",
        "plt.xlabel('epoch')\n",
        "plt.legend(['train', 'test'], loc='upper left')\n",
        "plt.show()"
      ]
    },
    {
      "cell_type": "code",
      "execution_count": null,
      "metadata": {
        "id": "fPHqooV5VzH-"
      },
      "outputs": [],
      "source": [
        ""
      ]
    }
  ],
  "metadata": {
    "kernelspec": {
      "display_name": "Python 3 (ipykernel)",
      "language": "python",
      "name": "python3"
    },
    "language_info": {
      "codemirror_mode": {
        "name": "ipython",
        "version": 3
      },
      "file_extension": ".py",
      "mimetype": "text/x-python",
      "name": "python",
      "nbconvert_exporter": "python",
      "pygments_lexer": "ipython3",
      "version": "3.9.10"
    },
    "colab": {
      "name": "project_final_13.03.2022.ipynb",
      "provenance": [],
      "collapsed_sections": [],
      "include_colab_link": true
    }
  },
  "nbformat": 4,
  "nbformat_minor": 0
}